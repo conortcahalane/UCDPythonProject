{
 "cells": [
  {
   "cell_type": "code",
   "execution_count": 58,
   "id": "684d5ee6",
   "metadata": {},
   "outputs": [
    {
     "data": {
      "text/html": [
       "<div>\n",
       "<style scoped>\n",
       "    .dataframe tbody tr th:only-of-type {\n",
       "        vertical-align: middle;\n",
       "    }\n",
       "\n",
       "    .dataframe tbody tr th {\n",
       "        vertical-align: top;\n",
       "    }\n",
       "\n",
       "    .dataframe thead th {\n",
       "        text-align: right;\n",
       "    }\n",
       "</style>\n",
       "<table border=\"1\" class=\"dataframe\">\n",
       "  <thead>\n",
       "    <tr style=\"text-align: right;\">\n",
       "      <th></th>\n",
       "      <th>Pos</th>\n",
       "      <th>Team</th>\n",
       "      <th>Pld</th>\n",
       "      <th>W</th>\n",
       "      <th>D</th>\n",
       "      <th>L</th>\n",
       "      <th>GF</th>\n",
       "      <th>GA</th>\n",
       "      <th>GD</th>\n",
       "      <th>Pts</th>\n",
       "      <th>Qualification or relegation</th>\n",
       "    </tr>\n",
       "    <tr>\n",
       "      <th>Season</th>\n",
       "      <th></th>\n",
       "      <th></th>\n",
       "      <th></th>\n",
       "      <th></th>\n",
       "      <th></th>\n",
       "      <th></th>\n",
       "      <th></th>\n",
       "      <th></th>\n",
       "      <th></th>\n",
       "      <th></th>\n",
       "      <th></th>\n",
       "    </tr>\n",
       "  </thead>\n",
       "  <tbody>\n",
       "    <tr>\n",
       "      <th>2000-01</th>\n",
       "      <td>1</td>\n",
       "      <td>Manchester United</td>\n",
       "      <td>38</td>\n",
       "      <td>24</td>\n",
       "      <td>8</td>\n",
       "      <td>6</td>\n",
       "      <td>79</td>\n",
       "      <td>31</td>\n",
       "      <td>48</td>\n",
       "      <td>80</td>\n",
       "      <td>Qualification for the Champions League first g...</td>\n",
       "    </tr>\n",
       "    <tr>\n",
       "      <th>2000-01</th>\n",
       "      <td>2</td>\n",
       "      <td>Arsenal</td>\n",
       "      <td>38</td>\n",
       "      <td>20</td>\n",
       "      <td>10</td>\n",
       "      <td>8</td>\n",
       "      <td>63</td>\n",
       "      <td>38</td>\n",
       "      <td>25</td>\n",
       "      <td>70</td>\n",
       "      <td>Qualification for the Champions League first g...</td>\n",
       "    </tr>\n",
       "    <tr>\n",
       "      <th>2000-01</th>\n",
       "      <td>3</td>\n",
       "      <td>Liverpool</td>\n",
       "      <td>38</td>\n",
       "      <td>20</td>\n",
       "      <td>9</td>\n",
       "      <td>9</td>\n",
       "      <td>71</td>\n",
       "      <td>39</td>\n",
       "      <td>32</td>\n",
       "      <td>69</td>\n",
       "      <td>Qualification for the Champions League third q...</td>\n",
       "    </tr>\n",
       "    <tr>\n",
       "      <th>2000-01</th>\n",
       "      <td>4</td>\n",
       "      <td>Leeds United</td>\n",
       "      <td>38</td>\n",
       "      <td>20</td>\n",
       "      <td>8</td>\n",
       "      <td>10</td>\n",
       "      <td>64</td>\n",
       "      <td>43</td>\n",
       "      <td>21</td>\n",
       "      <td>68</td>\n",
       "      <td>Qualification for the UEFA Cup first round[a]</td>\n",
       "    </tr>\n",
       "    <tr>\n",
       "      <th>2000-01</th>\n",
       "      <td>5</td>\n",
       "      <td>Ipswich Town</td>\n",
       "      <td>38</td>\n",
       "      <td>20</td>\n",
       "      <td>6</td>\n",
       "      <td>12</td>\n",
       "      <td>57</td>\n",
       "      <td>42</td>\n",
       "      <td>15</td>\n",
       "      <td>66</td>\n",
       "      <td>Qualification for the UEFA Cup first round[a]</td>\n",
       "    </tr>\n",
       "    <tr>\n",
       "      <th>...</th>\n",
       "      <td>...</td>\n",
       "      <td>...</td>\n",
       "      <td>...</td>\n",
       "      <td>...</td>\n",
       "      <td>...</td>\n",
       "      <td>...</td>\n",
       "      <td>...</td>\n",
       "      <td>...</td>\n",
       "      <td>...</td>\n",
       "      <td>...</td>\n",
       "      <td>...</td>\n",
       "    </tr>\n",
       "    <tr>\n",
       "      <th>2021-22</th>\n",
       "      <td>16</td>\n",
       "      <td>Everton</td>\n",
       "      <td>38</td>\n",
       "      <td>11</td>\n",
       "      <td>6</td>\n",
       "      <td>21</td>\n",
       "      <td>43</td>\n",
       "      <td>66</td>\n",
       "      <td>-23</td>\n",
       "      <td>39</td>\n",
       "      <td>Not Applicable</td>\n",
       "    </tr>\n",
       "    <tr>\n",
       "      <th>2021-22</th>\n",
       "      <td>17</td>\n",
       "      <td>Leeds United</td>\n",
       "      <td>38</td>\n",
       "      <td>9</td>\n",
       "      <td>11</td>\n",
       "      <td>18</td>\n",
       "      <td>42</td>\n",
       "      <td>79</td>\n",
       "      <td>-37</td>\n",
       "      <td>38</td>\n",
       "      <td>Not Applicable</td>\n",
       "    </tr>\n",
       "    <tr>\n",
       "      <th>2021-22</th>\n",
       "      <td>18</td>\n",
       "      <td>Burnley</td>\n",
       "      <td>38</td>\n",
       "      <td>7</td>\n",
       "      <td>14</td>\n",
       "      <td>17</td>\n",
       "      <td>34</td>\n",
       "      <td>53</td>\n",
       "      <td>-19</td>\n",
       "      <td>35</td>\n",
       "      <td>Relegation to the EFL Championship</td>\n",
       "    </tr>\n",
       "    <tr>\n",
       "      <th>2021-22</th>\n",
       "      <td>19</td>\n",
       "      <td>Watford</td>\n",
       "      <td>38</td>\n",
       "      <td>6</td>\n",
       "      <td>5</td>\n",
       "      <td>27</td>\n",
       "      <td>34</td>\n",
       "      <td>77</td>\n",
       "      <td>-43</td>\n",
       "      <td>23</td>\n",
       "      <td>Relegation to the EFL Championship</td>\n",
       "    </tr>\n",
       "    <tr>\n",
       "      <th>2021-22</th>\n",
       "      <td>20</td>\n",
       "      <td>Norwich City</td>\n",
       "      <td>38</td>\n",
       "      <td>5</td>\n",
       "      <td>7</td>\n",
       "      <td>26</td>\n",
       "      <td>23</td>\n",
       "      <td>84</td>\n",
       "      <td>-61</td>\n",
       "      <td>22</td>\n",
       "      <td>Relegation to the EFL Championship</td>\n",
       "    </tr>\n",
       "  </tbody>\n",
       "</table>\n",
       "<p>440 rows × 11 columns</p>\n",
       "</div>"
      ],
      "text/plain": [
       "         Pos               Team  Pld   W   D   L  GF  GA  GD  Pts  \\\n",
       "Season                                                              \n",
       "2000-01    1  Manchester United   38  24   8   6  79  31  48   80   \n",
       "2000-01    2            Arsenal   38  20  10   8  63  38  25   70   \n",
       "2000-01    3          Liverpool   38  20   9   9  71  39  32   69   \n",
       "2000-01    4       Leeds United   38  20   8  10  64  43  21   68   \n",
       "2000-01    5       Ipswich Town   38  20   6  12  57  42  15   66   \n",
       "...      ...                ...  ...  ..  ..  ..  ..  ..  ..  ...   \n",
       "2021-22   16            Everton   38  11   6  21  43  66 -23   39   \n",
       "2021-22   17       Leeds United   38   9  11  18  42  79 -37   38   \n",
       "2021-22   18            Burnley   38   7  14  17  34  53 -19   35   \n",
       "2021-22   19            Watford   38   6   5  27  34  77 -43   23   \n",
       "2021-22   20       Norwich City   38   5   7  26  23  84 -61   22   \n",
       "\n",
       "                               Qualification or relegation  \n",
       "Season                                                      \n",
       "2000-01  Qualification for the Champions League first g...  \n",
       "2000-01  Qualification for the Champions League first g...  \n",
       "2000-01  Qualification for the Champions League third q...  \n",
       "2000-01      Qualification for the UEFA Cup first round[a]  \n",
       "2000-01      Qualification for the UEFA Cup first round[a]  \n",
       "...                                                    ...  \n",
       "2021-22                                     Not Applicable  \n",
       "2021-22                                     Not Applicable  \n",
       "2021-22                 Relegation to the EFL Championship  \n",
       "2021-22                 Relegation to the EFL Championship  \n",
       "2021-22                 Relegation to the EFL Championship  \n",
       "\n",
       "[440 rows x 11 columns]"
      ]
     },
     "execution_count": 58,
     "metadata": {},
     "output_type": "execute_result"
    }
   ],
   "source": [
    "#Pulls from dataset \"EPL Standings 2000-2022.csv\" and converts it into a dataframe\n",
    "#This is a dataset of all the English Premier League standings from 2000 - 2022\n",
    "#We import pandas for our use of dataframes\n",
    "#The creation of the class colour will be referenced in instances where we need to call upon difference CSS colours in \n",
    "#order to better convey our analysis\n",
    "\n",
    "import pandas as pd\n",
    "import numpy as np\n",
    "\n",
    "class colour:\n",
    "   PURPLE = '\\033[95m'\n",
    "   CYAN = '\\033[96m'\n",
    "   DARKCYAN = '\\033[36m'\n",
    "   BLUE = '\\033[94m'\n",
    "   GREEN = '\\033[92m'\n",
    "   YELLOW = '\\033[93m'\n",
    "   RED = '\\033[91m'\n",
    "   BOLD = '\\033[1m'\n",
    "   UNDERLINE = '\\033[4m'\n",
    "   END = '\\033[0m'\n",
    "\n",
    "PL = pd.read_csv(\"EPL Standings 2000-2022.csv\",index_col = 0)\n",
    "PL"
   ]
  },
  {
   "cell_type": "code",
   "execution_count": 3,
   "id": "d5a9ea1f",
   "metadata": {},
   "outputs": [
    {
     "name": "stdout",
     "output_type": "stream",
     "text": [
      "         Pos               Team  Pld   W   D   L  GF  GA  GD  Pts  \\\n",
      "Season                                                              \n",
      "2000-01    1  Manchester United   38  24   8   6  79  31  48   80   \n",
      "2000-01    2            Arsenal   38  20  10   8  63  38  25   70   \n",
      "2000-01    3          Liverpool   38  20   9   9  71  39  32   69   \n",
      "2000-01    4       Leeds United   38  20   8  10  64  43  21   68   \n",
      "2000-01    5       Ipswich Town   38  20   6  12  57  42  15   66   \n",
      "\n",
      "                               Qualification or relegation  \n",
      "Season                                                      \n",
      "2000-01  Qualification for the Champions League first g...  \n",
      "2000-01  Qualification for the Champions League first g...  \n",
      "2000-01  Qualification for the Champions League third q...  \n",
      "2000-01      Qualification for the UEFA Cup first round[a]  \n",
      "2000-01      Qualification for the UEFA Cup first round[a]  \n"
     ]
    }
   ],
   "source": [
    "#View of the dataframe\n",
    "\n",
    "print(PL.head())"
   ]
  },
  {
   "cell_type": "code",
   "execution_count": 4,
   "id": "9a32ee50",
   "metadata": {},
   "outputs": [
    {
     "name": "stdout",
     "output_type": "stream",
     "text": [
      "(440, 11)\n"
     ]
    }
   ],
   "source": [
    "#Count of rows and columns\n",
    "\n",
    "print(PL.shape)"
   ]
  },
  {
   "cell_type": "code",
   "execution_count": 5,
   "id": "6fed23af",
   "metadata": {},
   "outputs": [
    {
     "name": "stdout",
     "output_type": "stream",
     "text": [
      "Pos                            0\n",
      "Team                           0\n",
      "Pld                            0\n",
      "W                              0\n",
      "D                              0\n",
      "L                              0\n",
      "GF                             0\n",
      "GA                             0\n",
      "GD                             0\n",
      "Pts                            0\n",
      "Qualification or relegation    0\n",
      "dtype: int64\n"
     ]
    }
   ],
   "source": [
    "#Checking if there are any data gaps\n",
    "\n",
    "missing_values_count = PL.isnull().sum()\n",
    "print(missing_values_count[0:11])\n"
   ]
  },
  {
   "cell_type": "code",
   "execution_count": 6,
   "id": "0eb023dc",
   "metadata": {},
   "outputs": [
    {
     "name": "stdout",
     "output_type": "stream",
     "text": [
      "(440, 11) (440, 11)\n"
     ]
    }
   ],
   "source": [
    "#Data Cleaning\n",
    "#Drop any rows that are duplicates\n",
    "\n",
    "drop_duplicates= PL.drop_duplicates()\n",
    "print(PL.shape,drop_duplicates.shape)"
   ]
  },
  {
   "cell_type": "code",
   "execution_count": 7,
   "id": "3dbd075e",
   "metadata": {},
   "outputs": [
    {
     "name": "stdout",
     "output_type": "stream",
     "text": [
      "         Pos               Team  Pld   W   D   L  GF  GA  GD  Pts  \\\n",
      "Season                                                              \n",
      "2000-01    1  Manchester United   38  24   8   6  79  31  48   80   \n",
      "2000-01    2            Arsenal   38  20  10   8  63  38  25   70   \n",
      "2000-01    3          Liverpool   38  20   9   9  71  39  32   69   \n",
      "2000-01    4       Leeds United   38  20   8  10  64  43  21   68   \n",
      "2000-01    5       Ipswich Town   38  20   6  12  57  42  15   66   \n",
      "...      ...                ...  ...  ..  ..  ..  ..  ..  ..  ...   \n",
      "2021-22   16            Everton   38  11   6  21  43  66 -23   39   \n",
      "2021-22   17       Leeds United   38   9  11  18  42  79 -37   38   \n",
      "2021-22   18            Burnley   38   7  14  17  34  53 -19   35   \n",
      "2021-22   19            Watford   38   6   5  27  34  77 -43   23   \n",
      "2021-22   20       Norwich City   38   5   7  26  23  84 -61   22   \n",
      "\n",
      "                               Qualification or relegation  \n",
      "Season                                                      \n",
      "2000-01  Qualification for the Champions League first g...  \n",
      "2000-01  Qualification for the Champions League first g...  \n",
      "2000-01  Qualification for the Champions League third q...  \n",
      "2000-01      Qualification for the UEFA Cup first round[a]  \n",
      "2000-01      Qualification for the UEFA Cup first round[a]  \n",
      "...                                                    ...  \n",
      "2021-22                                     Not Applicable  \n",
      "2021-22                                     Not Applicable  \n",
      "2021-22                 Relegation to the EFL Championship  \n",
      "2021-22                 Relegation to the EFL Championship  \n",
      "2021-22                 Relegation to the EFL Championship  \n",
      "\n",
      "[440 rows x 11 columns]\n"
     ]
    }
   ],
   "source": [
    "#Sorting & Filtering\n",
    "#Making a duplicate of the PL dataframe using the copy function in order to still keep the original \n",
    "#also be able to alter PL_Seasons without fear of any data loss\n",
    "\n",
    "\n",
    "PL_Seasons = PL.copy()\n",
    "print(PL_Seasons)"
   ]
  },
  {
   "cell_type": "code",
   "execution_count": 8,
   "id": "d2c3b19c",
   "metadata": {},
   "outputs": [
    {
     "name": "stdout",
     "output_type": "stream",
     "text": [
      "First Season of the DataFrame:\n",
      "         Pos               Team  Pld   W   D   L  GF  GA  GD  Pts  \\\n",
      "Season                                                              \n",
      "2000-01    1  Manchester United   38  24   8   6  79  31  48   80   \n",
      "2000-01    2            Arsenal   38  20  10   8  63  38  25   70   \n",
      "2000-01    3          Liverpool   38  20   9   9  71  39  32   69   \n",
      "2000-01    4       Leeds United   38  20   8  10  64  43  21   68   \n",
      "2000-01    5       Ipswich Town   38  20   6  12  57  42  15   66   \n",
      "2000-01    6            Chelsea   38  17  10  11  68  45  23   61   \n",
      "2000-01    7         Sunderland   38  15  12  11  46  41   5   57   \n",
      "2000-01    8        Aston Villa   38  13  15  10  46  43   3   54   \n",
      "2000-01    9  Charlton Athletic   38  14  10  14  50  57  -7   52   \n",
      "2000-01   10        Southampton   38  14  10  14  40  48  -8   52   \n",
      "2000-01   11   Newcastle United   38  14   9  15  44  50  -6   51   \n",
      "2000-01   12  Tottenham Hotspur   38  13  10  15  47  54  -7   49   \n",
      "2000-01   13     Leicester City   38  14   6  18  39  51 -12   48   \n",
      "2000-01   14      Middlesbrough   38   9  15  14  44  44   0   42   \n",
      "2000-01   15    West Ham United   38  10  12  16  45  50  -5   42   \n",
      "2000-01   16            Everton   38  11   9  18  45  59 -14   42   \n",
      "2000-01   17       Derby County   38  10  12  16  37  59 -22   42   \n",
      "2000-01   18    Manchester City   38   8  10  20  41  65 -24   34   \n",
      "2000-01   19      Coventry City   38   8  10  20  36  63 -27   34   \n",
      "2000-01   20      Bradford City   38   5  11  22  30  70 -40   26   \n",
      "\n",
      "                               Qualification or relegation  \n",
      "Season                                                      \n",
      "2000-01  Qualification for the Champions League first g...  \n",
      "2000-01  Qualification for the Champions League first g...  \n",
      "2000-01  Qualification for the Champions League third q...  \n",
      "2000-01      Qualification for the UEFA Cup first round[a]  \n",
      "2000-01      Qualification for the UEFA Cup first round[a]  \n",
      "2000-01      Qualification for the UEFA Cup first round[a]  \n",
      "2000-01                                     Not Applicable  \n",
      "2000-01    Qualification for the Intertoto Cup third round  \n",
      "2000-01                                     Not Applicable  \n",
      "2000-01                                     Not Applicable  \n",
      "2000-01    Qualification for the Intertoto Cup third round  \n",
      "2000-01                                     Not Applicable  \n",
      "2000-01                                     Not Applicable  \n",
      "2000-01                                     Not Applicable  \n",
      "2000-01                                     Not Applicable  \n",
      "2000-01                                     Not Applicable  \n",
      "2000-01                                     Not Applicable  \n",
      "2000-01   Relegation to the Football League First Division  \n",
      "2000-01   Relegation to the Football League First Division  \n",
      "2000-01   Relegation to the Football League First Division  \n"
     ]
    }
   ],
   "source": [
    "#Simple way of pulling the first season out of the dataframe\n",
    "\n",
    "result = PL_Seasons.head(20)\n",
    "print(\"First Season of the DataFrame:\")\n",
    "print(result)"
   ]
  },
  {
   "cell_type": "code",
   "execution_count": 9,
   "id": "2d84d2d7",
   "metadata": {},
   "outputs": [
    {
     "data": {
      "text/html": [
       "<div>\n",
       "<style scoped>\n",
       "    .dataframe tbody tr th:only-of-type {\n",
       "        vertical-align: middle;\n",
       "    }\n",
       "\n",
       "    .dataframe tbody tr th {\n",
       "        vertical-align: top;\n",
       "    }\n",
       "\n",
       "    .dataframe thead th {\n",
       "        text-align: right;\n",
       "    }\n",
       "</style>\n",
       "<table border=\"1\" class=\"dataframe\">\n",
       "  <thead>\n",
       "    <tr style=\"text-align: right;\">\n",
       "      <th></th>\n",
       "      <th>GA</th>\n",
       "    </tr>\n",
       "    <tr>\n",
       "      <th>Season</th>\n",
       "      <th></th>\n",
       "    </tr>\n",
       "  </thead>\n",
       "  <tbody>\n",
       "    <tr>\n",
       "      <th>2000-01</th>\n",
       "      <td>43</td>\n",
       "    </tr>\n",
       "  </tbody>\n",
       "</table>\n",
       "</div>"
      ],
      "text/plain": [
       "         GA\n",
       "Season     \n",
       "2000-01  43"
      ]
     },
     "execution_count": 9,
     "metadata": {},
     "output_type": "execute_result"
    }
   ],
   "source": [
    "#Selecting by position\n",
    "#Select single value by row & column\n",
    "\n",
    "PL_Seasons.iloc[[7],[7]] "
   ]
  },
  {
   "cell_type": "code",
   "execution_count": 10,
   "id": "8bdbca4a",
   "metadata": {},
   "outputs": [
    {
     "data": {
      "text/plain": [
       "Season\n",
       "2000-01    Manchester United\n",
       "2000-01              Arsenal\n",
       "2000-01            Liverpool\n",
       "2000-01         Leeds United\n",
       "2000-01         Ipswich Town\n",
       "                 ...        \n",
       "2021-22              Everton\n",
       "2021-22         Leeds United\n",
       "2021-22              Burnley\n",
       "2021-22              Watford\n",
       "2021-22         Norwich City\n",
       "Name: Team, Length: 440, dtype: object"
      ]
     },
     "execution_count": 10,
     "metadata": {},
     "output_type": "execute_result"
    }
   ],
   "source": [
    "#Selecting by Label & Position\n",
    "#The below code gives a list of all the teams in each season of the dataframe.\n",
    "\n",
    "PL_Seasons.iloc[:, 1]"
   ]
  },
  {
   "cell_type": "code",
   "execution_count": 11,
   "id": "8ead7513",
   "metadata": {},
   "outputs": [
    {
     "data": {
      "text/html": [
       "<div>\n",
       "<style scoped>\n",
       "    .dataframe tbody tr th:only-of-type {\n",
       "        vertical-align: middle;\n",
       "    }\n",
       "\n",
       "    .dataframe tbody tr th {\n",
       "        vertical-align: top;\n",
       "    }\n",
       "\n",
       "    .dataframe thead th {\n",
       "        text-align: right;\n",
       "    }\n",
       "</style>\n",
       "<table border=\"1\" class=\"dataframe\">\n",
       "  <thead>\n",
       "    <tr style=\"text-align: right;\">\n",
       "      <th></th>\n",
       "      <th>Pos</th>\n",
       "      <th>Team</th>\n",
       "      <th>Pld</th>\n",
       "      <th>W</th>\n",
       "      <th>D</th>\n",
       "      <th>L</th>\n",
       "      <th>GF</th>\n",
       "      <th>GA</th>\n",
       "      <th>GD</th>\n",
       "      <th>Pts</th>\n",
       "      <th>Qualification or relegation</th>\n",
       "    </tr>\n",
       "    <tr>\n",
       "      <th>Season</th>\n",
       "      <th></th>\n",
       "      <th></th>\n",
       "      <th></th>\n",
       "      <th></th>\n",
       "      <th></th>\n",
       "      <th></th>\n",
       "      <th></th>\n",
       "      <th></th>\n",
       "      <th></th>\n",
       "      <th></th>\n",
       "      <th></th>\n",
       "    </tr>\n",
       "  </thead>\n",
       "  <tbody>\n",
       "    <tr>\n",
       "      <th>2004-05</th>\n",
       "      <td>1</td>\n",
       "      <td>Chelsea</td>\n",
       "      <td>38</td>\n",
       "      <td>29</td>\n",
       "      <td>8</td>\n",
       "      <td>1</td>\n",
       "      <td>72</td>\n",
       "      <td>15</td>\n",
       "      <td>57</td>\n",
       "      <td>95</td>\n",
       "      <td>Qualification for the Champions League group s...</td>\n",
       "    </tr>\n",
       "    <tr>\n",
       "      <th>2005-06</th>\n",
       "      <td>1</td>\n",
       "      <td>Chelsea</td>\n",
       "      <td>38</td>\n",
       "      <td>29</td>\n",
       "      <td>4</td>\n",
       "      <td>5</td>\n",
       "      <td>72</td>\n",
       "      <td>22</td>\n",
       "      <td>50</td>\n",
       "      <td>91</td>\n",
       "      <td>Qualification for the Champions League group s...</td>\n",
       "    </tr>\n",
       "    <tr>\n",
       "      <th>2016-17</th>\n",
       "      <td>1</td>\n",
       "      <td>Chelsea</td>\n",
       "      <td>38</td>\n",
       "      <td>30</td>\n",
       "      <td>3</td>\n",
       "      <td>5</td>\n",
       "      <td>85</td>\n",
       "      <td>33</td>\n",
       "      <td>52</td>\n",
       "      <td>93</td>\n",
       "      <td>Qualification for the Champions League group s...</td>\n",
       "    </tr>\n",
       "    <tr>\n",
       "      <th>2017-18</th>\n",
       "      <td>1</td>\n",
       "      <td>Manchester City</td>\n",
       "      <td>38</td>\n",
       "      <td>32</td>\n",
       "      <td>4</td>\n",
       "      <td>2</td>\n",
       "      <td>106</td>\n",
       "      <td>27</td>\n",
       "      <td>79</td>\n",
       "      <td>100</td>\n",
       "      <td>Qualification for the Champions League group s...</td>\n",
       "    </tr>\n",
       "    <tr>\n",
       "      <th>2018-19</th>\n",
       "      <td>1</td>\n",
       "      <td>Manchester City</td>\n",
       "      <td>38</td>\n",
       "      <td>32</td>\n",
       "      <td>2</td>\n",
       "      <td>4</td>\n",
       "      <td>95</td>\n",
       "      <td>23</td>\n",
       "      <td>72</td>\n",
       "      <td>98</td>\n",
       "      <td>Qualification for the Champions League group s...</td>\n",
       "    </tr>\n",
       "    <tr>\n",
       "      <th>2018-19</th>\n",
       "      <td>2</td>\n",
       "      <td>Liverpool</td>\n",
       "      <td>38</td>\n",
       "      <td>30</td>\n",
       "      <td>7</td>\n",
       "      <td>1</td>\n",
       "      <td>89</td>\n",
       "      <td>22</td>\n",
       "      <td>67</td>\n",
       "      <td>97</td>\n",
       "      <td>Qualification for the Champions League group s...</td>\n",
       "    </tr>\n",
       "    <tr>\n",
       "      <th>2019-20</th>\n",
       "      <td>1</td>\n",
       "      <td>Liverpool</td>\n",
       "      <td>38</td>\n",
       "      <td>32</td>\n",
       "      <td>3</td>\n",
       "      <td>3</td>\n",
       "      <td>85</td>\n",
       "      <td>33</td>\n",
       "      <td>52</td>\n",
       "      <td>99</td>\n",
       "      <td>Qualification for the Champions League group s...</td>\n",
       "    </tr>\n",
       "    <tr>\n",
       "      <th>2021-22</th>\n",
       "      <td>1</td>\n",
       "      <td>Manchester City</td>\n",
       "      <td>38</td>\n",
       "      <td>29</td>\n",
       "      <td>6</td>\n",
       "      <td>3</td>\n",
       "      <td>99</td>\n",
       "      <td>26</td>\n",
       "      <td>73</td>\n",
       "      <td>93</td>\n",
       "      <td>Qualification for the Champions League group s...</td>\n",
       "    </tr>\n",
       "    <tr>\n",
       "      <th>2021-22</th>\n",
       "      <td>2</td>\n",
       "      <td>Liverpool</td>\n",
       "      <td>38</td>\n",
       "      <td>28</td>\n",
       "      <td>8</td>\n",
       "      <td>2</td>\n",
       "      <td>94</td>\n",
       "      <td>26</td>\n",
       "      <td>68</td>\n",
       "      <td>92</td>\n",
       "      <td>Qualification for the Champions League group s...</td>\n",
       "    </tr>\n",
       "  </tbody>\n",
       "</table>\n",
       "</div>"
      ],
      "text/plain": [
       "         Pos             Team  Pld   W  D  L   GF  GA  GD  Pts  \\\n",
       "Season                                                           \n",
       "2004-05    1          Chelsea   38  29  8  1   72  15  57   95   \n",
       "2005-06    1          Chelsea   38  29  4  5   72  22  50   91   \n",
       "2016-17    1          Chelsea   38  30  3  5   85  33  52   93   \n",
       "2017-18    1  Manchester City   38  32  4  2  106  27  79  100   \n",
       "2018-19    1  Manchester City   38  32  2  4   95  23  72   98   \n",
       "2018-19    2        Liverpool   38  30  7  1   89  22  67   97   \n",
       "2019-20    1        Liverpool   38  32  3  3   85  33  52   99   \n",
       "2021-22    1  Manchester City   38  29  6  3   99  26  73   93   \n",
       "2021-22    2        Liverpool   38  28  8  2   94  26  68   92   \n",
       "\n",
       "                               Qualification or relegation  \n",
       "Season                                                      \n",
       "2004-05  Qualification for the Champions League group s...  \n",
       "2005-06  Qualification for the Champions League group s...  \n",
       "2016-17  Qualification for the Champions League group s...  \n",
       "2017-18  Qualification for the Champions League group s...  \n",
       "2018-19  Qualification for the Champions League group s...  \n",
       "2018-19  Qualification for the Champions League group s...  \n",
       "2019-20  Qualification for the Champions League group s...  \n",
       "2021-22  Qualification for the Champions League group s...  \n",
       "2021-22  Qualification for the Champions League group s...  "
      ]
     },
     "execution_count": 11,
     "metadata": {},
     "output_type": "execute_result"
    }
   ],
   "source": [
    "#A view of every team that finished the season with over 90 points.\n",
    "#This method of selecting is a form of Boolean Indexing\n",
    "\n",
    "PL_Seasons[PL_Seasons['Pts']>90]"
   ]
  },
  {
   "cell_type": "code",
   "execution_count": 46,
   "id": "9349e78d",
   "metadata": {},
   "outputs": [
    {
     "name": "stdout",
     "output_type": "stream",
     "text": [
      "W    14\n",
      "dtype: int32\n"
     ]
    }
   ],
   "source": [
    "# This returns the mean of values\n",
    "# Here we use the mean function to find out the mean of the Points and Goals against columns \n",
    "\n",
    "PL_Average_W = PL_Seasons[[\"W\"]].mean().astype(int)\n",
    "\n",
    "print(PL_Average_W)\n"
   ]
  },
  {
   "cell_type": "code",
   "execution_count": 13,
   "id": "25e05ae6",
   "metadata": {},
   "outputs": [
    {
     "data": {
      "text/plain": [
       "Pts    48.0\n",
       "GA     51.0\n",
       "dtype: float64"
      ]
     },
     "execution_count": 13,
     "metadata": {},
     "output_type": "execute_result"
    }
   ],
   "source": [
    "# Here we are using the median function to compare the difference between the results for mean and median\n",
    "\n",
    "PL_Seasons[[\"Pts\",\"GA\"]].median()"
   ]
  },
  {
   "cell_type": "code",
   "execution_count": 14,
   "id": "61778752",
   "metadata": {},
   "outputs": [
    {
     "name": "stdout",
     "output_type": "stream",
     "text": [
      "Chelseas total Premier League points scoring tally from 2000-2022: 1665 pts\n"
     ]
    }
   ],
   "source": [
    "#Below we use Boolean indexing and the sum function to determine how much points Chelsea have amounted in the last 22 years.\n",
    "\n",
    "ChelseaTotalPoints = PL_Seasons.loc[PL_Seasons['Team'] == 'Chelsea', 'Pts'].sum()\n",
    "print(\"Chelseas total Premier League points scoring tally from 2000-2022:\",ChelseaTotalPoints,\"pts\")"
   ]
  },
  {
   "cell_type": "code",
   "execution_count": 15,
   "id": "b4c793a1",
   "metadata": {},
   "outputs": [
    {
     "name": "stdout",
     "output_type": "stream",
     "text": [
      "Liverpool's lowest points scoring season: 52 pts\n",
      "Liverpool's lowest points scoring season: 99 pts\n"
     ]
    }
   ],
   "source": [
    "#Below we use Boolean indexing and the sum function to determine how much points Chelsea have amounted in the last 22 years.\n",
    "liverpoolmin = PL_Seasons.loc[PL_Seasons['Team'] == 'Liverpool', 'Pts'].min()\n",
    "liverpoolmax = PL_Seasons.loc[PL_Seasons['Team'] == 'Liverpool', 'Pts'].max()\n",
    "print(\"Liverpool's lowest points scoring season:\",liverpoolmin,\"pts\")\n",
    "print(\"Liverpool's lowest points scoring season:\",liverpoolmax,\"pts\")"
   ]
  },
  {
   "cell_type": "code",
   "execution_count": 16,
   "id": "8e49ee3f",
   "metadata": {},
   "outputs": [
    {
     "data": {
      "text/html": [
       "<div>\n",
       "<style scoped>\n",
       "    .dataframe tbody tr th:only-of-type {\n",
       "        vertical-align: middle;\n",
       "    }\n",
       "\n",
       "    .dataframe tbody tr th {\n",
       "        vertical-align: top;\n",
       "    }\n",
       "\n",
       "    .dataframe thead th {\n",
       "        text-align: right;\n",
       "    }\n",
       "</style>\n",
       "<table border=\"1\" class=\"dataframe\">\n",
       "  <thead>\n",
       "    <tr style=\"text-align: right;\">\n",
       "      <th></th>\n",
       "      <th>Pos</th>\n",
       "      <th>Pld</th>\n",
       "      <th>W</th>\n",
       "      <th>D</th>\n",
       "      <th>L</th>\n",
       "      <th>GF</th>\n",
       "      <th>GA</th>\n",
       "      <th>GD</th>\n",
       "      <th>Pts</th>\n",
       "    </tr>\n",
       "  </thead>\n",
       "  <tbody>\n",
       "    <tr>\n",
       "      <th>count</th>\n",
       "      <td>440.000000</td>\n",
       "      <td>440.0</td>\n",
       "      <td>440.000000</td>\n",
       "      <td>440.000000</td>\n",
       "      <td>440.000000</td>\n",
       "      <td>440.000000</td>\n",
       "      <td>440.000000</td>\n",
       "      <td>440.00000</td>\n",
       "      <td>440.000000</td>\n",
       "    </tr>\n",
       "    <tr>\n",
       "      <th>mean</th>\n",
       "      <td>10.500000</td>\n",
       "      <td>38.0</td>\n",
       "      <td>14.261364</td>\n",
       "      <td>9.477273</td>\n",
       "      <td>14.261364</td>\n",
       "      <td>50.863636</td>\n",
       "      <td>50.863636</td>\n",
       "      <td>0.00000</td>\n",
       "      <td>52.240909</td>\n",
       "    </tr>\n",
       "    <tr>\n",
       "      <th>std</th>\n",
       "      <td>5.772845</td>\n",
       "      <td>0.0</td>\n",
       "      <td>5.987638</td>\n",
       "      <td>2.856385</td>\n",
       "      <td>5.548080</td>\n",
       "      <td>15.778205</td>\n",
       "      <td>12.893450</td>\n",
       "      <td>26.02627</td>\n",
       "      <td>17.097234</td>\n",
       "    </tr>\n",
       "    <tr>\n",
       "      <th>min</th>\n",
       "      <td>1.000000</td>\n",
       "      <td>38.0</td>\n",
       "      <td>1.000000</td>\n",
       "      <td>2.000000</td>\n",
       "      <td>0.000000</td>\n",
       "      <td>20.000000</td>\n",
       "      <td>15.000000</td>\n",
       "      <td>-69.00000</td>\n",
       "      <td>11.000000</td>\n",
       "    </tr>\n",
       "    <tr>\n",
       "      <th>25%</th>\n",
       "      <td>5.750000</td>\n",
       "      <td>38.0</td>\n",
       "      <td>10.000000</td>\n",
       "      <td>7.000000</td>\n",
       "      <td>10.000000</td>\n",
       "      <td>40.000000</td>\n",
       "      <td>42.000000</td>\n",
       "      <td>-19.00000</td>\n",
       "      <td>40.750000</td>\n",
       "    </tr>\n",
       "    <tr>\n",
       "      <th>50%</th>\n",
       "      <td>10.500000</td>\n",
       "      <td>38.0</td>\n",
       "      <td>13.000000</td>\n",
       "      <td>9.000000</td>\n",
       "      <td>15.000000</td>\n",
       "      <td>47.000000</td>\n",
       "      <td>51.000000</td>\n",
       "      <td>-6.00000</td>\n",
       "      <td>48.000000</td>\n",
       "    </tr>\n",
       "    <tr>\n",
       "      <th>75%</th>\n",
       "      <td>15.250000</td>\n",
       "      <td>38.0</td>\n",
       "      <td>18.000000</td>\n",
       "      <td>11.000000</td>\n",
       "      <td>18.000000</td>\n",
       "      <td>60.000000</td>\n",
       "      <td>59.000000</td>\n",
       "      <td>16.00000</td>\n",
       "      <td>63.250000</td>\n",
       "    </tr>\n",
       "    <tr>\n",
       "      <th>max</th>\n",
       "      <td>20.000000</td>\n",
       "      <td>38.0</td>\n",
       "      <td>32.000000</td>\n",
       "      <td>17.000000</td>\n",
       "      <td>29.000000</td>\n",
       "      <td>106.000000</td>\n",
       "      <td>89.000000</td>\n",
       "      <td>79.00000</td>\n",
       "      <td>100.000000</td>\n",
       "    </tr>\n",
       "  </tbody>\n",
       "</table>\n",
       "</div>"
      ],
      "text/plain": [
       "              Pos    Pld           W           D           L          GF  \\\n",
       "count  440.000000  440.0  440.000000  440.000000  440.000000  440.000000   \n",
       "mean    10.500000   38.0   14.261364    9.477273   14.261364   50.863636   \n",
       "std      5.772845    0.0    5.987638    2.856385    5.548080   15.778205   \n",
       "min      1.000000   38.0    1.000000    2.000000    0.000000   20.000000   \n",
       "25%      5.750000   38.0   10.000000    7.000000   10.000000   40.000000   \n",
       "50%     10.500000   38.0   13.000000    9.000000   15.000000   47.000000   \n",
       "75%     15.250000   38.0   18.000000   11.000000   18.000000   60.000000   \n",
       "max     20.000000   38.0   32.000000   17.000000   29.000000  106.000000   \n",
       "\n",
       "               GA         GD         Pts  \n",
       "count  440.000000  440.00000  440.000000  \n",
       "mean    50.863636    0.00000   52.240909  \n",
       "std     12.893450   26.02627   17.097234  \n",
       "min     15.000000  -69.00000   11.000000  \n",
       "25%     42.000000  -19.00000   40.750000  \n",
       "50%     51.000000   -6.00000   48.000000  \n",
       "75%     59.000000   16.00000   63.250000  \n",
       "max     89.000000   79.00000  100.000000  "
      ]
     },
     "execution_count": 16,
     "metadata": {},
     "output_type": "execute_result"
    }
   ],
   "source": [
    "#.describe() can be used by data analysts to give a summary of statistics in a dataframe\n",
    "\n",
    "PL_Seasons.describe()"
   ]
  },
  {
   "cell_type": "code",
   "execution_count": 17,
   "id": "dea0b8bd",
   "metadata": {},
   "outputs": [
    {
     "name": "stdout",
     "output_type": "stream",
     "text": [
      "      Season  Pos               Team  Pld   W   D   L  GF  GA  GD  Pts  \\\n",
      "0    2000-01    1  Manchester United   38  24   8   6  79  31  48   80   \n",
      "1    2000-01    2            Arsenal   38  20  10   8  63  38  25   70   \n",
      "2    2000-01    3          Liverpool   38  20   9   9  71  39  32   69   \n",
      "3    2000-01    4       Leeds United   38  20   8  10  64  43  21   68   \n",
      "4    2000-01    5       Ipswich Town   38  20   6  12  57  42  15   66   \n",
      "..       ...  ...                ...  ...  ..  ..  ..  ..  ..  ..  ...   \n",
      "435  2021-22   16            Everton   38  11   6  21  43  66 -23   39   \n",
      "436  2021-22   17       Leeds United   38   9  11  18  42  79 -37   38   \n",
      "437  2021-22   18            Burnley   38   7  14  17  34  53 -19   35   \n",
      "438  2021-22   19            Watford   38   6   5  27  34  77 -43   23   \n",
      "439  2021-22   20       Norwich City   38   5   7  26  23  84 -61   22   \n",
      "\n",
      "                           Qualification or relegation  \n",
      "0    Qualification for the Champions League first g...  \n",
      "1    Qualification for the Champions League first g...  \n",
      "2    Qualification for the Champions League third q...  \n",
      "3        Qualification for the UEFA Cup first round[a]  \n",
      "4        Qualification for the UEFA Cup first round[a]  \n",
      "..                                                 ...  \n",
      "435                                     Not Applicable  \n",
      "436                                     Not Applicable  \n",
      "437                 Relegation to the EFL Championship  \n",
      "438                 Relegation to the EFL Championship  \n",
      "439                 Relegation to the EFL Championship  \n",
      "\n",
      "[440 rows x 12 columns]\n"
     ]
    }
   ],
   "source": [
    "#In order to alter the season column (which is set to index on default) then we must use the .reset_index() function.\n",
    "#This will create a new index column called 'index' and number each row sequentially to the length of the dataframe.\n",
    "#This will make Season now column 0\n",
    "\n",
    "PL_Seasons.reset_index(inplace=True)\n",
    "\n",
    "#PL_Seasons.iat[0,0]=2000\n",
    "print(PL_Seasons)"
   ]
  },
  {
   "cell_type": "code",
   "execution_count": 23,
   "id": "d96fa38e",
   "metadata": {
    "scrolled": false
   },
   "outputs": [
    {
     "name": "stdout",
     "output_type": "stream",
     "text": [
      "    Season  Pos               Team  Pld   W   D   L  GF  GA  GD  Pts  \\\n",
      "0     2000    1  Manchester United   38  24   8   6  79  31  48   80   \n",
      "1     2000    2            Arsenal   38  20  10   8  63  38  25   70   \n",
      "2     2000    3          Liverpool   38  20   9   9  71  39  32   69   \n",
      "3     2000    4       Leeds United   38  20   8  10  64  43  21   68   \n",
      "4     2000    5       Ipswich Town   38  20   6  12  57  42  15   66   \n",
      "..     ...  ...                ...  ...  ..  ..  ..  ..  ..  ..  ...   \n",
      "435   2021   16            Everton   38  11   6  21  43  66 -23   39   \n",
      "436   2021   17       Leeds United   38   9  11  18  42  79 -37   38   \n",
      "437   2021   18            Burnley   38   7  14  17  34  53 -19   35   \n",
      "438   2021   19            Watford   38   6   5  27  34  77 -43   23   \n",
      "439   2021   20       Norwich City   38   5   7  26  23  84 -61   22   \n",
      "\n",
      "                           Qualification or relegation  \n",
      "0    Qualification for the Champions League first g...  \n",
      "1    Qualification for the Champions League first g...  \n",
      "2    Qualification for the Champions League third q...  \n",
      "3        Qualification for the UEFA Cup first round[a]  \n",
      "4        Qualification for the UEFA Cup first round[a]  \n",
      "..                                                 ...  \n",
      "435                                     Not Applicable  \n",
      "436                                     Not Applicable  \n",
      "437                 Relegation to the EFL Championship  \n",
      "438                 Relegation to the EFL Championship  \n",
      "439                 Relegation to the EFL Championship  \n",
      "\n",
      "[440 rows x 12 columns]\n"
     ]
    }
   ],
   "source": [
    "\n",
    "#Using .loc we can change the values of all the year (which were strings) to integer equivalents.\n",
    "\n",
    "PL_Seasons.loc[PL_Seasons['Season'] == '2000-01', 'Season'] = 2000\n",
    "PL_Seasons.loc[PL_Seasons['Season'] == '2001-02', 'Season'] = 2001\n",
    "PL_Seasons.loc[PL_Seasons['Season'] == '2002-03', 'Season'] = 2002\n",
    "PL_Seasons.loc[PL_Seasons['Season'] == '2003-04', 'Season'] = 2003\n",
    "PL_Seasons.loc[PL_Seasons['Season'] == '2004-05', 'Season'] = 2004\n",
    "PL_Seasons.loc[PL_Seasons['Season'] == '2005-06', 'Season'] = 2005\n",
    "PL_Seasons.loc[PL_Seasons['Season'] == '2006-07', 'Season'] = 2006\n",
    "PL_Seasons.loc[PL_Seasons['Season'] == '2007-08', 'Season'] = 2007\n",
    "PL_Seasons.loc[PL_Seasons['Season'] == '2008-09', 'Season'] = 2008\n",
    "PL_Seasons.loc[PL_Seasons['Season'] == '2009-10', 'Season'] = 2009\n",
    "PL_Seasons.loc[PL_Seasons['Season'] == '2010-11', 'Season'] = 2010\n",
    "PL_Seasons.loc[PL_Seasons['Season'] == '2011-12', 'Season'] = 2011\n",
    "PL_Seasons.loc[PL_Seasons['Season'] == '2012-13', 'Season'] = 2012\n",
    "PL_Seasons.loc[PL_Seasons['Season'] == '2013-14', 'Season'] = 2013\n",
    "PL_Seasons.loc[PL_Seasons['Season'] == '2014-15', 'Season'] = 2014\n",
    "PL_Seasons.loc[PL_Seasons['Season'] == '2015-16', 'Season'] = 2015\n",
    "PL_Seasons.loc[PL_Seasons['Season'] == '2016-17', 'Season'] = 2016\n",
    "PL_Seasons.loc[PL_Seasons['Season'] == '2017-18', 'Season'] = 2017\n",
    "PL_Seasons.loc[PL_Seasons['Season'] == '2018-19', 'Season'] = 2018\n",
    "PL_Seasons.loc[PL_Seasons['Season'] == '2019-20', 'Season'] = 2019\n",
    "PL_Seasons.loc[PL_Seasons['Season'] == '2020-21', 'Season'] = 2020\n",
    "PL_Seasons.loc[PL_Seasons['Season'] == '2021-22', 'Season'] = 2021\n",
    "print(PL_Seasons)"
   ]
  },
  {
   "cell_type": "code",
   "execution_count": 26,
   "id": "5dc300be",
   "metadata": {},
   "outputs": [
    {
     "data": {
      "text/html": [
       "<div>\n",
       "<style scoped>\n",
       "    .dataframe tbody tr th:only-of-type {\n",
       "        vertical-align: middle;\n",
       "    }\n",
       "\n",
       "    .dataframe tbody tr th {\n",
       "        vertical-align: top;\n",
       "    }\n",
       "\n",
       "    .dataframe thead th {\n",
       "        text-align: right;\n",
       "    }\n",
       "</style>\n",
       "<table border=\"1\" class=\"dataframe\">\n",
       "  <thead>\n",
       "    <tr style=\"text-align: right;\">\n",
       "      <th></th>\n",
       "      <th>Season</th>\n",
       "      <th>Pos</th>\n",
       "      <th>Team</th>\n",
       "      <th>Pld</th>\n",
       "      <th>W</th>\n",
       "      <th>D</th>\n",
       "      <th>L</th>\n",
       "      <th>GF</th>\n",
       "      <th>GA</th>\n",
       "      <th>GD</th>\n",
       "      <th>Pts</th>\n",
       "      <th>Qualification or relegation</th>\n",
       "    </tr>\n",
       "  </thead>\n",
       "  <tbody>\n",
       "    <tr>\n",
       "      <th>160</th>\n",
       "      <td>2008</td>\n",
       "      <td>1</td>\n",
       "      <td>Manchester United</td>\n",
       "      <td>38</td>\n",
       "      <td>28</td>\n",
       "      <td>6</td>\n",
       "      <td>4</td>\n",
       "      <td>68</td>\n",
       "      <td>24</td>\n",
       "      <td>44</td>\n",
       "      <td>90</td>\n",
       "      <td>Qualification for the Champions League group s...</td>\n",
       "    </tr>\n",
       "    <tr>\n",
       "      <th>181</th>\n",
       "      <td>2009</td>\n",
       "      <td>2</td>\n",
       "      <td>Manchester United</td>\n",
       "      <td>38</td>\n",
       "      <td>27</td>\n",
       "      <td>4</td>\n",
       "      <td>7</td>\n",
       "      <td>86</td>\n",
       "      <td>28</td>\n",
       "      <td>58</td>\n",
       "      <td>85</td>\n",
       "      <td>Qualification for the Champions League group s...</td>\n",
       "    </tr>\n",
       "    <tr>\n",
       "      <th>200</th>\n",
       "      <td>2010</td>\n",
       "      <td>1</td>\n",
       "      <td>Manchester United</td>\n",
       "      <td>38</td>\n",
       "      <td>23</td>\n",
       "      <td>11</td>\n",
       "      <td>4</td>\n",
       "      <td>78</td>\n",
       "      <td>37</td>\n",
       "      <td>41</td>\n",
       "      <td>80</td>\n",
       "      <td>Qualification for the Champions League group s...</td>\n",
       "    </tr>\n",
       "    <tr>\n",
       "      <th>221</th>\n",
       "      <td>2011</td>\n",
       "      <td>2</td>\n",
       "      <td>Manchester United</td>\n",
       "      <td>38</td>\n",
       "      <td>28</td>\n",
       "      <td>5</td>\n",
       "      <td>5</td>\n",
       "      <td>89</td>\n",
       "      <td>33</td>\n",
       "      <td>56</td>\n",
       "      <td>89</td>\n",
       "      <td>Qualification for the Champions League group s...</td>\n",
       "    </tr>\n",
       "  </tbody>\n",
       "</table>\n",
       "</div>"
      ],
      "text/plain": [
       "    Season  Pos               Team  Pld   W   D  L  GF  GA  GD  Pts  \\\n",
       "160   2008    1  Manchester United   38  28   6  4  68  24  44   90   \n",
       "181   2009    2  Manchester United   38  27   4  7  86  28  58   85   \n",
       "200   2010    1  Manchester United   38  23  11  4  78  37  41   80   \n",
       "221   2011    2  Manchester United   38  28   5  5  89  33  56   89   \n",
       "\n",
       "                           Qualification or relegation  \n",
       "160  Qualification for the Champions League group s...  \n",
       "181  Qualification for the Champions League group s...  \n",
       "200  Qualification for the Champions League group s...  \n",
       "221  Qualification for the Champions League group s...  "
      ]
     },
     "execution_count": 26,
     "metadata": {},
     "output_type": "execute_result"
    }
   ],
   "source": [
    "#Now we can use the integers in 'Season' to pick and choose which years we want to view.\n",
    "#As seen below being integers we can now use them in conjunction with > < >= <= etc to pull mulitple years.\n",
    "#In the below example we pull the data from Manchester United's 2008-2011 seasons.\n",
    "\n",
    "PL_Seasons[(PL_Seasons['Season'] <= 2011) & (PL_Seasons['Season'] >= 2008)& (PL_Seasons['Team'] == 'Manchester United')]"
   ]
  },
  {
   "cell_type": "code",
   "execution_count": 63,
   "id": "830359ef",
   "metadata": {},
   "outputs": [
    {
     "data": {
      "text/html": [
       "<div>\n",
       "<style scoped>\n",
       "    .dataframe tbody tr th:only-of-type {\n",
       "        vertical-align: middle;\n",
       "    }\n",
       "\n",
       "    .dataframe tbody tr th {\n",
       "        vertical-align: top;\n",
       "    }\n",
       "\n",
       "    .dataframe thead th {\n",
       "        text-align: right;\n",
       "    }\n",
       "</style>\n",
       "<table border=\"1\" class=\"dataframe\">\n",
       "  <thead>\n",
       "    <tr style=\"text-align: right;\">\n",
       "      <th></th>\n",
       "      <th>Pos</th>\n",
       "      <th>Pld</th>\n",
       "      <th>W</th>\n",
       "      <th>D</th>\n",
       "      <th>L</th>\n",
       "      <th>GF</th>\n",
       "      <th>GA</th>\n",
       "      <th>GD</th>\n",
       "      <th>Pts</th>\n",
       "    </tr>\n",
       "    <tr>\n",
       "      <th>Team</th>\n",
       "      <th></th>\n",
       "      <th></th>\n",
       "      <th></th>\n",
       "      <th></th>\n",
       "      <th></th>\n",
       "      <th></th>\n",
       "      <th></th>\n",
       "      <th></th>\n",
       "      <th></th>\n",
       "    </tr>\n",
       "  </thead>\n",
       "  <tbody>\n",
       "    <tr>\n",
       "      <th>Arsenal</th>\n",
       "      <td>3.772727</td>\n",
       "      <td>38.0</td>\n",
       "      <td>21.363636</td>\n",
       "      <td>8.772727</td>\n",
       "      <td>7.863636</td>\n",
       "      <td>70.954545</td>\n",
       "      <td>39.818182</td>\n",
       "      <td>31.136364</td>\n",
       "      <td>72.863636</td>\n",
       "    </tr>\n",
       "    <tr>\n",
       "      <th>Aston Villa</th>\n",
       "      <td>11.947368</td>\n",
       "      <td>38.0</td>\n",
       "      <td>11.842105</td>\n",
       "      <td>11.052632</td>\n",
       "      <td>15.105263</td>\n",
       "      <td>45.578947</td>\n",
       "      <td>53.105263</td>\n",
       "      <td>-7.526316</td>\n",
       "      <td>46.578947</td>\n",
       "    </tr>\n",
       "    <tr>\n",
       "      <th>Birmingham City</th>\n",
       "      <td>14.142857</td>\n",
       "      <td>38.0</td>\n",
       "      <td>10.428571</td>\n",
       "      <td>11.714286</td>\n",
       "      <td>15.857143</td>\n",
       "      <td>39.000000</td>\n",
       "      <td>51.428571</td>\n",
       "      <td>-12.428571</td>\n",
       "      <td>43.000000</td>\n",
       "    </tr>\n",
       "    <tr>\n",
       "      <th>Blackburn Rovers</th>\n",
       "      <td>11.636364</td>\n",
       "      <td>38.0</td>\n",
       "      <td>12.727273</td>\n",
       "      <td>10.000000</td>\n",
       "      <td>15.272727</td>\n",
       "      <td>47.090909</td>\n",
       "      <td>53.818182</td>\n",
       "      <td>-6.727273</td>\n",
       "      <td>48.181818</td>\n",
       "    </tr>\n",
       "    <tr>\n",
       "      <th>Blackpool</th>\n",
       "      <td>19.000000</td>\n",
       "      <td>38.0</td>\n",
       "      <td>10.000000</td>\n",
       "      <td>9.000000</td>\n",
       "      <td>19.000000</td>\n",
       "      <td>55.000000</td>\n",
       "      <td>78.000000</td>\n",
       "      <td>-23.000000</td>\n",
       "      <td>39.000000</td>\n",
       "    </tr>\n",
       "    <tr>\n",
       "      <th>Bolton Wanderers</th>\n",
       "      <td>12.454545</td>\n",
       "      <td>38.0</td>\n",
       "      <td>12.000000</td>\n",
       "      <td>10.000000</td>\n",
       "      <td>16.000000</td>\n",
       "      <td>45.000000</td>\n",
       "      <td>55.727273</td>\n",
       "      <td>-10.727273</td>\n",
       "      <td>46.000000</td>\n",
       "    </tr>\n",
       "    <tr>\n",
       "      <th>Bournemouth</th>\n",
       "      <td>13.800000</td>\n",
       "      <td>38.0</td>\n",
       "      <td>11.200000</td>\n",
       "      <td>8.600000</td>\n",
       "      <td>18.200000</td>\n",
       "      <td>48.200000</td>\n",
       "      <td>66.000000</td>\n",
       "      <td>-17.800000</td>\n",
       "      <td>42.200000</td>\n",
       "    </tr>\n",
       "    <tr>\n",
       "      <th>Bradford City</th>\n",
       "      <td>20.000000</td>\n",
       "      <td>38.0</td>\n",
       "      <td>5.000000</td>\n",
       "      <td>11.000000</td>\n",
       "      <td>22.000000</td>\n",
       "      <td>30.000000</td>\n",
       "      <td>70.000000</td>\n",
       "      <td>-40.000000</td>\n",
       "      <td>26.000000</td>\n",
       "    </tr>\n",
       "    <tr>\n",
       "      <th>Brentford</th>\n",
       "      <td>13.000000</td>\n",
       "      <td>38.0</td>\n",
       "      <td>13.000000</td>\n",
       "      <td>7.000000</td>\n",
       "      <td>18.000000</td>\n",
       "      <td>48.000000</td>\n",
       "      <td>56.000000</td>\n",
       "      <td>-8.000000</td>\n",
       "      <td>46.000000</td>\n",
       "    </tr>\n",
       "    <tr>\n",
       "      <th>Brighton &amp; Hove Albion</th>\n",
       "      <td>14.400000</td>\n",
       "      <td>38.0</td>\n",
       "      <td>9.600000</td>\n",
       "      <td>13.000000</td>\n",
       "      <td>15.400000</td>\n",
       "      <td>38.000000</td>\n",
       "      <td>51.600000</td>\n",
       "      <td>-13.600000</td>\n",
       "      <td>41.800000</td>\n",
       "    </tr>\n",
       "    <tr>\n",
       "      <th>Burnley</th>\n",
       "      <td>15.000000</td>\n",
       "      <td>38.0</td>\n",
       "      <td>10.375000</td>\n",
       "      <td>9.500000</td>\n",
       "      <td>18.125000</td>\n",
       "      <td>37.500000</td>\n",
       "      <td>56.875000</td>\n",
       "      <td>-19.375000</td>\n",
       "      <td>40.625000</td>\n",
       "    </tr>\n",
       "    <tr>\n",
       "      <th>Cardiff City</th>\n",
       "      <td>19.000000</td>\n",
       "      <td>38.0</td>\n",
       "      <td>8.500000</td>\n",
       "      <td>6.500000</td>\n",
       "      <td>23.000000</td>\n",
       "      <td>33.000000</td>\n",
       "      <td>71.500000</td>\n",
       "      <td>-38.500000</td>\n",
       "      <td>32.000000</td>\n",
       "    </tr>\n",
       "    <tr>\n",
       "      <th>Charlton Athletic</th>\n",
       "      <td>12.142857</td>\n",
       "      <td>38.0</td>\n",
       "      <td>12.142857</td>\n",
       "      <td>10.000000</td>\n",
       "      <td>15.857143</td>\n",
       "      <td>43.000000</td>\n",
       "      <td>55.142857</td>\n",
       "      <td>-12.142857</td>\n",
       "      <td>46.428571</td>\n",
       "    </tr>\n",
       "    <tr>\n",
       "      <th>Chelsea</th>\n",
       "      <td>3.318182</td>\n",
       "      <td>38.0</td>\n",
       "      <td>22.363636</td>\n",
       "      <td>8.590909</td>\n",
       "      <td>7.045455</td>\n",
       "      <td>69.909091</td>\n",
       "      <td>34.409091</td>\n",
       "      <td>35.500000</td>\n",
       "      <td>75.681818</td>\n",
       "    </tr>\n",
       "    <tr>\n",
       "      <th>Coventry City</th>\n",
       "      <td>19.000000</td>\n",
       "      <td>38.0</td>\n",
       "      <td>8.000000</td>\n",
       "      <td>10.000000</td>\n",
       "      <td>20.000000</td>\n",
       "      <td>36.000000</td>\n",
       "      <td>63.000000</td>\n",
       "      <td>-27.000000</td>\n",
       "      <td>34.000000</td>\n",
       "    </tr>\n",
       "    <tr>\n",
       "      <th>Crystal Palace</th>\n",
       "      <td>13.100000</td>\n",
       "      <td>38.0</td>\n",
       "      <td>11.500000</td>\n",
       "      <td>9.200000</td>\n",
       "      <td>17.300000</td>\n",
       "      <td>42.800000</td>\n",
       "      <td>54.500000</td>\n",
       "      <td>-11.700000</td>\n",
       "      <td>43.700000</td>\n",
       "    </tr>\n",
       "    <tr>\n",
       "      <th>Derby County</th>\n",
       "      <td>18.666667</td>\n",
       "      <td>38.0</td>\n",
       "      <td>6.333333</td>\n",
       "      <td>8.666667</td>\n",
       "      <td>23.000000</td>\n",
       "      <td>30.000000</td>\n",
       "      <td>70.333333</td>\n",
       "      <td>-40.333333</td>\n",
       "      <td>27.666667</td>\n",
       "    </tr>\n",
       "    <tr>\n",
       "      <th>Everton</th>\n",
       "      <td>9.181818</td>\n",
       "      <td>38.0</td>\n",
       "      <td>14.590909</td>\n",
       "      <td>10.363636</td>\n",
       "      <td>13.045455</td>\n",
       "      <td>50.090909</td>\n",
       "      <td>48.136364</td>\n",
       "      <td>1.954545</td>\n",
       "      <td>54.136364</td>\n",
       "    </tr>\n",
       "    <tr>\n",
       "      <th>Fulham</th>\n",
       "      <td>13.200000</td>\n",
       "      <td>38.0</td>\n",
       "      <td>10.800000</td>\n",
       "      <td>10.266667</td>\n",
       "      <td>16.933333</td>\n",
       "      <td>42.066667</td>\n",
       "      <td>55.400000</td>\n",
       "      <td>-13.333333</td>\n",
       "      <td>42.666667</td>\n",
       "    </tr>\n",
       "    <tr>\n",
       "      <th>Huddersfield Town</th>\n",
       "      <td>18.000000</td>\n",
       "      <td>38.0</td>\n",
       "      <td>6.000000</td>\n",
       "      <td>8.500000</td>\n",
       "      <td>23.500000</td>\n",
       "      <td>25.000000</td>\n",
       "      <td>67.000000</td>\n",
       "      <td>-42.000000</td>\n",
       "      <td>26.500000</td>\n",
       "    </tr>\n",
       "    <tr>\n",
       "      <th>Hull City</th>\n",
       "      <td>17.600000</td>\n",
       "      <td>38.0</td>\n",
       "      <td>8.200000</td>\n",
       "      <td>9.600000</td>\n",
       "      <td>20.200000</td>\n",
       "      <td>36.200000</td>\n",
       "      <td>64.600000</td>\n",
       "      <td>-28.400000</td>\n",
       "      <td>34.200000</td>\n",
       "    </tr>\n",
       "    <tr>\n",
       "      <th>Ipswich Town</th>\n",
       "      <td>11.500000</td>\n",
       "      <td>38.0</td>\n",
       "      <td>14.500000</td>\n",
       "      <td>7.500000</td>\n",
       "      <td>16.000000</td>\n",
       "      <td>49.000000</td>\n",
       "      <td>53.000000</td>\n",
       "      <td>-4.000000</td>\n",
       "      <td>51.000000</td>\n",
       "    </tr>\n",
       "    <tr>\n",
       "      <th>Leeds United</th>\n",
       "      <td>11.500000</td>\n",
       "      <td>38.0</td>\n",
       "      <td>14.500000</td>\n",
       "      <td>8.333333</td>\n",
       "      <td>15.166667</td>\n",
       "      <td>53.166667</td>\n",
       "      <td>58.166667</td>\n",
       "      <td>-5.000000</td>\n",
       "      <td>51.833333</td>\n",
       "    </tr>\n",
       "    <tr>\n",
       "      <th>Leicester City</th>\n",
       "      <td>10.363636</td>\n",
       "      <td>38.0</td>\n",
       "      <td>13.636364</td>\n",
       "      <td>9.454545</td>\n",
       "      <td>14.909091</td>\n",
       "      <td>53.000000</td>\n",
       "      <td>53.818182</td>\n",
       "      <td>-0.818182</td>\n",
       "      <td>50.363636</td>\n",
       "    </tr>\n",
       "    <tr>\n",
       "      <th>Liverpool</th>\n",
       "      <td>4.136364</td>\n",
       "      <td>38.0</td>\n",
       "      <td>21.090909</td>\n",
       "      <td>9.045455</td>\n",
       "      <td>7.863636</td>\n",
       "      <td>68.909091</td>\n",
       "      <td>36.727273</td>\n",
       "      <td>32.181818</td>\n",
       "      <td>72.318182</td>\n",
       "    </tr>\n",
       "    <tr>\n",
       "      <th>Manchester City</th>\n",
       "      <td>6.000000</td>\n",
       "      <td>38.0</td>\n",
       "      <td>20.380952</td>\n",
       "      <td>7.428571</td>\n",
       "      <td>10.190476</td>\n",
       "      <td>70.380952</td>\n",
       "      <td>40.285714</td>\n",
       "      <td>30.095238</td>\n",
       "      <td>68.571429</td>\n",
       "    </tr>\n",
       "    <tr>\n",
       "      <th>Manchester United</th>\n",
       "      <td>2.863636</td>\n",
       "      <td>38.0</td>\n",
       "      <td>23.045455</td>\n",
       "      <td>8.045455</td>\n",
       "      <td>6.909091</td>\n",
       "      <td>71.000000</td>\n",
       "      <td>35.545455</td>\n",
       "      <td>35.454545</td>\n",
       "      <td>77.181818</td>\n",
       "    </tr>\n",
       "    <tr>\n",
       "      <th>Middlesbrough</th>\n",
       "      <td>13.200000</td>\n",
       "      <td>38.0</td>\n",
       "      <td>10.700000</td>\n",
       "      <td>11.100000</td>\n",
       "      <td>16.200000</td>\n",
       "      <td>41.400000</td>\n",
       "      <td>50.300000</td>\n",
       "      <td>-8.900000</td>\n",
       "      <td>43.200000</td>\n",
       "    </tr>\n",
       "    <tr>\n",
       "      <th>Newcastle United</th>\n",
       "      <td>11.100000</td>\n",
       "      <td>38.0</td>\n",
       "      <td>13.000000</td>\n",
       "      <td>9.650000</td>\n",
       "      <td>15.350000</td>\n",
       "      <td>47.150000</td>\n",
       "      <td>55.000000</td>\n",
       "      <td>-7.850000</td>\n",
       "      <td>48.650000</td>\n",
       "    </tr>\n",
       "    <tr>\n",
       "      <th>Norwich City</th>\n",
       "      <td>17.000000</td>\n",
       "      <td>38.0</td>\n",
       "      <td>8.000000</td>\n",
       "      <td>9.428571</td>\n",
       "      <td>20.571429</td>\n",
       "      <td>35.857143</td>\n",
       "      <td>69.857143</td>\n",
       "      <td>-34.000000</td>\n",
       "      <td>33.428571</td>\n",
       "    </tr>\n",
       "    <tr>\n",
       "      <th>Portsmouth</th>\n",
       "      <td>13.857143</td>\n",
       "      <td>38.0</td>\n",
       "      <td>11.285714</td>\n",
       "      <td>9.285714</td>\n",
       "      <td>17.428571</td>\n",
       "      <td>41.714286</td>\n",
       "      <td>54.285714</td>\n",
       "      <td>-12.571429</td>\n",
       "      <td>41.857143</td>\n",
       "    </tr>\n",
       "    <tr>\n",
       "      <th>Queens Park Rangers</th>\n",
       "      <td>19.000000</td>\n",
       "      <td>38.0</td>\n",
       "      <td>7.333333</td>\n",
       "      <td>8.666667</td>\n",
       "      <td>22.000000</td>\n",
       "      <td>38.333333</td>\n",
       "      <td>66.333333</td>\n",
       "      <td>-28.000000</td>\n",
       "      <td>30.666667</td>\n",
       "    </tr>\n",
       "    <tr>\n",
       "      <th>Reading</th>\n",
       "      <td>15.000000</td>\n",
       "      <td>38.0</td>\n",
       "      <td>10.666667</td>\n",
       "      <td>7.666667</td>\n",
       "      <td>19.666667</td>\n",
       "      <td>45.333333</td>\n",
       "      <td>62.000000</td>\n",
       "      <td>-16.666667</td>\n",
       "      <td>39.666667</td>\n",
       "    </tr>\n",
       "    <tr>\n",
       "      <th>Sheffield United</th>\n",
       "      <td>15.666667</td>\n",
       "      <td>38.0</td>\n",
       "      <td>10.333333</td>\n",
       "      <td>7.333333</td>\n",
       "      <td>20.333333</td>\n",
       "      <td>30.333333</td>\n",
       "      <td>52.333333</td>\n",
       "      <td>-22.000000</td>\n",
       "      <td>38.333333</td>\n",
       "    </tr>\n",
       "    <tr>\n",
       "      <th>Southampton</th>\n",
       "      <td>11.866667</td>\n",
       "      <td>38.0</td>\n",
       "      <td>12.066667</td>\n",
       "      <td>10.733333</td>\n",
       "      <td>15.200000</td>\n",
       "      <td>46.533333</td>\n",
       "      <td>53.533333</td>\n",
       "      <td>-7.000000</td>\n",
       "      <td>46.933333</td>\n",
       "    </tr>\n",
       "    <tr>\n",
       "      <th>Stoke City</th>\n",
       "      <td>12.200000</td>\n",
       "      <td>38.0</td>\n",
       "      <td>11.600000</td>\n",
       "      <td>10.900000</td>\n",
       "      <td>15.500000</td>\n",
       "      <td>39.800000</td>\n",
       "      <td>52.500000</td>\n",
       "      <td>-12.700000</td>\n",
       "      <td>45.700000</td>\n",
       "    </tr>\n",
       "    <tr>\n",
       "      <th>Sunderland</th>\n",
       "      <td>15.357143</td>\n",
       "      <td>38.0</td>\n",
       "      <td>9.071429</td>\n",
       "      <td>9.928571</td>\n",
       "      <td>19.000000</td>\n",
       "      <td>37.142857</td>\n",
       "      <td>56.785714</td>\n",
       "      <td>-19.642857</td>\n",
       "      <td>37.142857</td>\n",
       "    </tr>\n",
       "    <tr>\n",
       "      <th>Swansea City</th>\n",
       "      <td>12.142857</td>\n",
       "      <td>38.0</td>\n",
       "      <td>11.714286</td>\n",
       "      <td>9.428571</td>\n",
       "      <td>16.857143</td>\n",
       "      <td>43.714286</td>\n",
       "      <td>54.714286</td>\n",
       "      <td>-11.000000</td>\n",
       "      <td>44.571429</td>\n",
       "    </tr>\n",
       "    <tr>\n",
       "      <th>Tottenham Hotspur</th>\n",
       "      <td>6.409091</td>\n",
       "      <td>38.0</td>\n",
       "      <td>17.863636</td>\n",
       "      <td>8.681818</td>\n",
       "      <td>11.454545</td>\n",
       "      <td>60.136364</td>\n",
       "      <td>45.954545</td>\n",
       "      <td>14.181818</td>\n",
       "      <td>62.272727</td>\n",
       "    </tr>\n",
       "    <tr>\n",
       "      <th>Watford</th>\n",
       "      <td>16.142857</td>\n",
       "      <td>38.0</td>\n",
       "      <td>9.571429</td>\n",
       "      <td>8.571429</td>\n",
       "      <td>19.857143</td>\n",
       "      <td>39.285714</td>\n",
       "      <td>63.000000</td>\n",
       "      <td>-23.714286</td>\n",
       "      <td>37.285714</td>\n",
       "    </tr>\n",
       "    <tr>\n",
       "      <th>West Bromwich Albion</th>\n",
       "      <td>15.153846</td>\n",
       "      <td>38.0</td>\n",
       "      <td>9.000000</td>\n",
       "      <td>10.692308</td>\n",
       "      <td>18.307692</td>\n",
       "      <td>39.230769</td>\n",
       "      <td>59.384615</td>\n",
       "      <td>-20.153846</td>\n",
       "      <td>37.692308</td>\n",
       "    </tr>\n",
       "    <tr>\n",
       "      <th>West Ham United</th>\n",
       "      <td>11.842105</td>\n",
       "      <td>38.0</td>\n",
       "      <td>12.526316</td>\n",
       "      <td>9.526316</td>\n",
       "      <td>15.947368</td>\n",
       "      <td>47.789474</td>\n",
       "      <td>55.789474</td>\n",
       "      <td>-8.000000</td>\n",
       "      <td>47.105263</td>\n",
       "    </tr>\n",
       "    <tr>\n",
       "      <th>Wigan Athletic</th>\n",
       "      <td>14.625000</td>\n",
       "      <td>38.0</td>\n",
       "      <td>10.625000</td>\n",
       "      <td>9.500000</td>\n",
       "      <td>17.875000</td>\n",
       "      <td>39.500000</td>\n",
       "      <td>60.250000</td>\n",
       "      <td>-20.750000</td>\n",
       "      <td>41.375000</td>\n",
       "    </tr>\n",
       "    <tr>\n",
       "      <th>Wolverhampton Wanderers</th>\n",
       "      <td>13.625000</td>\n",
       "      <td>38.0</td>\n",
       "      <td>11.250000</td>\n",
       "      <td>9.750000</td>\n",
       "      <td>17.000000</td>\n",
       "      <td>41.000000</td>\n",
       "      <td>57.750000</td>\n",
       "      <td>-16.750000</td>\n",
       "      <td>43.500000</td>\n",
       "    </tr>\n",
       "  </tbody>\n",
       "</table>\n",
       "</div>"
      ],
      "text/plain": [
       "                               Pos   Pld          W          D          L  \\\n",
       "Team                                                                        \n",
       "Arsenal                   3.772727  38.0  21.363636   8.772727   7.863636   \n",
       "Aston Villa              11.947368  38.0  11.842105  11.052632  15.105263   \n",
       "Birmingham City          14.142857  38.0  10.428571  11.714286  15.857143   \n",
       "Blackburn Rovers         11.636364  38.0  12.727273  10.000000  15.272727   \n",
       "Blackpool                19.000000  38.0  10.000000   9.000000  19.000000   \n",
       "Bolton Wanderers         12.454545  38.0  12.000000  10.000000  16.000000   \n",
       "Bournemouth              13.800000  38.0  11.200000   8.600000  18.200000   \n",
       "Bradford City            20.000000  38.0   5.000000  11.000000  22.000000   \n",
       "Brentford                13.000000  38.0  13.000000   7.000000  18.000000   \n",
       "Brighton & Hove Albion   14.400000  38.0   9.600000  13.000000  15.400000   \n",
       "Burnley                  15.000000  38.0  10.375000   9.500000  18.125000   \n",
       "Cardiff City             19.000000  38.0   8.500000   6.500000  23.000000   \n",
       "Charlton Athletic        12.142857  38.0  12.142857  10.000000  15.857143   \n",
       "Chelsea                   3.318182  38.0  22.363636   8.590909   7.045455   \n",
       "Coventry City            19.000000  38.0   8.000000  10.000000  20.000000   \n",
       "Crystal Palace           13.100000  38.0  11.500000   9.200000  17.300000   \n",
       "Derby County             18.666667  38.0   6.333333   8.666667  23.000000   \n",
       "Everton                   9.181818  38.0  14.590909  10.363636  13.045455   \n",
       "Fulham                   13.200000  38.0  10.800000  10.266667  16.933333   \n",
       "Huddersfield Town        18.000000  38.0   6.000000   8.500000  23.500000   \n",
       "Hull City                17.600000  38.0   8.200000   9.600000  20.200000   \n",
       "Ipswich Town             11.500000  38.0  14.500000   7.500000  16.000000   \n",
       "Leeds United             11.500000  38.0  14.500000   8.333333  15.166667   \n",
       "Leicester City           10.363636  38.0  13.636364   9.454545  14.909091   \n",
       "Liverpool                 4.136364  38.0  21.090909   9.045455   7.863636   \n",
       "Manchester City           6.000000  38.0  20.380952   7.428571  10.190476   \n",
       "Manchester United         2.863636  38.0  23.045455   8.045455   6.909091   \n",
       "Middlesbrough            13.200000  38.0  10.700000  11.100000  16.200000   \n",
       "Newcastle United         11.100000  38.0  13.000000   9.650000  15.350000   \n",
       "Norwich City             17.000000  38.0   8.000000   9.428571  20.571429   \n",
       "Portsmouth               13.857143  38.0  11.285714   9.285714  17.428571   \n",
       "Queens Park Rangers      19.000000  38.0   7.333333   8.666667  22.000000   \n",
       "Reading                  15.000000  38.0  10.666667   7.666667  19.666667   \n",
       "Sheffield United         15.666667  38.0  10.333333   7.333333  20.333333   \n",
       "Southampton              11.866667  38.0  12.066667  10.733333  15.200000   \n",
       "Stoke City               12.200000  38.0  11.600000  10.900000  15.500000   \n",
       "Sunderland               15.357143  38.0   9.071429   9.928571  19.000000   \n",
       "Swansea City             12.142857  38.0  11.714286   9.428571  16.857143   \n",
       "Tottenham Hotspur         6.409091  38.0  17.863636   8.681818  11.454545   \n",
       "Watford                  16.142857  38.0   9.571429   8.571429  19.857143   \n",
       "West Bromwich Albion     15.153846  38.0   9.000000  10.692308  18.307692   \n",
       "West Ham United          11.842105  38.0  12.526316   9.526316  15.947368   \n",
       "Wigan Athletic           14.625000  38.0  10.625000   9.500000  17.875000   \n",
       "Wolverhampton Wanderers  13.625000  38.0  11.250000   9.750000  17.000000   \n",
       "\n",
       "                                GF         GA         GD        Pts  \n",
       "Team                                                                 \n",
       "Arsenal                  70.954545  39.818182  31.136364  72.863636  \n",
       "Aston Villa              45.578947  53.105263  -7.526316  46.578947  \n",
       "Birmingham City          39.000000  51.428571 -12.428571  43.000000  \n",
       "Blackburn Rovers         47.090909  53.818182  -6.727273  48.181818  \n",
       "Blackpool                55.000000  78.000000 -23.000000  39.000000  \n",
       "Bolton Wanderers         45.000000  55.727273 -10.727273  46.000000  \n",
       "Bournemouth              48.200000  66.000000 -17.800000  42.200000  \n",
       "Bradford City            30.000000  70.000000 -40.000000  26.000000  \n",
       "Brentford                48.000000  56.000000  -8.000000  46.000000  \n",
       "Brighton & Hove Albion   38.000000  51.600000 -13.600000  41.800000  \n",
       "Burnley                  37.500000  56.875000 -19.375000  40.625000  \n",
       "Cardiff City             33.000000  71.500000 -38.500000  32.000000  \n",
       "Charlton Athletic        43.000000  55.142857 -12.142857  46.428571  \n",
       "Chelsea                  69.909091  34.409091  35.500000  75.681818  \n",
       "Coventry City            36.000000  63.000000 -27.000000  34.000000  \n",
       "Crystal Palace           42.800000  54.500000 -11.700000  43.700000  \n",
       "Derby County             30.000000  70.333333 -40.333333  27.666667  \n",
       "Everton                  50.090909  48.136364   1.954545  54.136364  \n",
       "Fulham                   42.066667  55.400000 -13.333333  42.666667  \n",
       "Huddersfield Town        25.000000  67.000000 -42.000000  26.500000  \n",
       "Hull City                36.200000  64.600000 -28.400000  34.200000  \n",
       "Ipswich Town             49.000000  53.000000  -4.000000  51.000000  \n",
       "Leeds United             53.166667  58.166667  -5.000000  51.833333  \n",
       "Leicester City           53.000000  53.818182  -0.818182  50.363636  \n",
       "Liverpool                68.909091  36.727273  32.181818  72.318182  \n",
       "Manchester City          70.380952  40.285714  30.095238  68.571429  \n",
       "Manchester United        71.000000  35.545455  35.454545  77.181818  \n",
       "Middlesbrough            41.400000  50.300000  -8.900000  43.200000  \n",
       "Newcastle United         47.150000  55.000000  -7.850000  48.650000  \n",
       "Norwich City             35.857143  69.857143 -34.000000  33.428571  \n",
       "Portsmouth               41.714286  54.285714 -12.571429  41.857143  \n",
       "Queens Park Rangers      38.333333  66.333333 -28.000000  30.666667  \n",
       "Reading                  45.333333  62.000000 -16.666667  39.666667  \n",
       "Sheffield United         30.333333  52.333333 -22.000000  38.333333  \n",
       "Southampton              46.533333  53.533333  -7.000000  46.933333  \n",
       "Stoke City               39.800000  52.500000 -12.700000  45.700000  \n",
       "Sunderland               37.142857  56.785714 -19.642857  37.142857  \n",
       "Swansea City             43.714286  54.714286 -11.000000  44.571429  \n",
       "Tottenham Hotspur        60.136364  45.954545  14.181818  62.272727  \n",
       "Watford                  39.285714  63.000000 -23.714286  37.285714  \n",
       "West Bromwich Albion     39.230769  59.384615 -20.153846  37.692308  \n",
       "West Ham United          47.789474  55.789474  -8.000000  47.105263  \n",
       "Wigan Athletic           39.500000  60.250000 -20.750000  41.375000  \n",
       "Wolverhampton Wanderers  41.000000  57.750000 -16.750000  43.500000  "
      ]
     },
     "execution_count": 63,
     "metadata": {},
     "output_type": "execute_result"
    }
   ],
   "source": [
    "#Using the .groupby() function we can get the mean of each teams data over the 22 years and present it consisely\n",
    "\n",
    "Teams_Grouped = PL_Seasons.groupby([\"Team\"]).mean()\n",
    "Teams_Grouped"
   ]
  },
  {
   "cell_type": "code",
   "execution_count": 66,
   "id": "b152aadd",
   "metadata": {},
   "outputs": [
    {
     "data": {
      "text/html": [
       "<div>\n",
       "<style scoped>\n",
       "    .dataframe tbody tr th:only-of-type {\n",
       "        vertical-align: middle;\n",
       "    }\n",
       "\n",
       "    .dataframe tbody tr th {\n",
       "        vertical-align: top;\n",
       "    }\n",
       "\n",
       "    .dataframe thead th {\n",
       "        text-align: right;\n",
       "    }\n",
       "</style>\n",
       "<table border=\"1\" class=\"dataframe\">\n",
       "  <thead>\n",
       "    <tr style=\"text-align: right;\">\n",
       "      <th></th>\n",
       "      <th>Team</th>\n",
       "      <th>Season</th>\n",
       "      <th>Pos</th>\n",
       "    </tr>\n",
       "  </thead>\n",
       "  <tbody>\n",
       "    <tr>\n",
       "      <th>429</th>\n",
       "      <td>Wolverhampton Wanderers</td>\n",
       "      <td>2021</td>\n",
       "      <td>10</td>\n",
       "    </tr>\n",
       "    <tr>\n",
       "      <th>412</th>\n",
       "      <td>Wolverhampton Wanderers</td>\n",
       "      <td>2020</td>\n",
       "      <td>13</td>\n",
       "    </tr>\n",
       "    <tr>\n",
       "      <th>386</th>\n",
       "      <td>Wolverhampton Wanderers</td>\n",
       "      <td>2019</td>\n",
       "      <td>7</td>\n",
       "    </tr>\n",
       "    <tr>\n",
       "      <th>366</th>\n",
       "      <td>Wolverhampton Wanderers</td>\n",
       "      <td>2018</td>\n",
       "      <td>7</td>\n",
       "    </tr>\n",
       "    <tr>\n",
       "      <th>239</th>\n",
       "      <td>Wolverhampton Wanderers</td>\n",
       "      <td>2011</td>\n",
       "      <td>20</td>\n",
       "    </tr>\n",
       "    <tr>\n",
       "      <th>...</th>\n",
       "      <td>...</td>\n",
       "      <td>...</td>\n",
       "      <td>...</td>\n",
       "    </tr>\n",
       "    <tr>\n",
       "      <th>81</th>\n",
       "      <td>Arsenal</td>\n",
       "      <td>2004</td>\n",
       "      <td>2</td>\n",
       "    </tr>\n",
       "    <tr>\n",
       "      <th>60</th>\n",
       "      <td>Arsenal</td>\n",
       "      <td>2003</td>\n",
       "      <td>1</td>\n",
       "    </tr>\n",
       "    <tr>\n",
       "      <th>41</th>\n",
       "      <td>Arsenal</td>\n",
       "      <td>2002</td>\n",
       "      <td>2</td>\n",
       "    </tr>\n",
       "    <tr>\n",
       "      <th>20</th>\n",
       "      <td>Arsenal</td>\n",
       "      <td>2001</td>\n",
       "      <td>1</td>\n",
       "    </tr>\n",
       "    <tr>\n",
       "      <th>1</th>\n",
       "      <td>Arsenal</td>\n",
       "      <td>2000</td>\n",
       "      <td>2</td>\n",
       "    </tr>\n",
       "  </tbody>\n",
       "</table>\n",
       "<p>440 rows × 3 columns</p>\n",
       "</div>"
      ],
      "text/plain": [
       "                        Team Season  Pos\n",
       "429  Wolverhampton Wanderers   2021   10\n",
       "412  Wolverhampton Wanderers   2020   13\n",
       "386  Wolverhampton Wanderers   2019    7\n",
       "366  Wolverhampton Wanderers   2018    7\n",
       "239  Wolverhampton Wanderers   2011   20\n",
       "..                       ...    ...  ...\n",
       "81                   Arsenal   2004    2\n",
       "60                   Arsenal   2003    1\n",
       "41                   Arsenal   2002    2\n",
       "20                   Arsenal   2001    1\n",
       "1                    Arsenal   2000    2\n",
       "\n",
       "[440 rows x 3 columns]"
      ]
     },
     "execution_count": 66,
     "metadata": {},
     "output_type": "execute_result"
    }
   ],
   "source": [
    "#The below code sorts every team in descending order with the priority of columns being team then season then league position.\n",
    "\n",
    "PL_Seasons.sort_values(\n",
    "     by=[\"Team\", \"Season\",\"Pos\"],\n",
    "     ascending=False\n",
    " )[[\"Team\", \"Season\",\"Pos\"]]"
   ]
  },
  {
   "cell_type": "code",
   "execution_count": 71,
   "id": "96489ddb",
   "metadata": {},
   "outputs": [
    {
     "data": {
      "text/html": [
       "<div>\n",
       "<style scoped>\n",
       "    .dataframe tbody tr th:only-of-type {\n",
       "        vertical-align: middle;\n",
       "    }\n",
       "\n",
       "    .dataframe tbody tr th {\n",
       "        vertical-align: top;\n",
       "    }\n",
       "\n",
       "    .dataframe thead th {\n",
       "        text-align: right;\n",
       "    }\n",
       "</style>\n",
       "<table border=\"1\" class=\"dataframe\">\n",
       "  <thead>\n",
       "    <tr style=\"text-align: right;\">\n",
       "      <th></th>\n",
       "      <th>Name</th>\n",
       "      <th>Age</th>\n",
       "      <th>Team</th>\n",
       "    </tr>\n",
       "  </thead>\n",
       "  <tbody>\n",
       "    <tr>\n",
       "      <th>0</th>\n",
       "      <td>David De Gea</td>\n",
       "      <td>31</td>\n",
       "      <td>Manchester United</td>\n",
       "    </tr>\n",
       "    <tr>\n",
       "      <th>1</th>\n",
       "      <td>Harry Maguire</td>\n",
       "      <td>29</td>\n",
       "      <td>Manchester United</td>\n",
       "    </tr>\n",
       "    <tr>\n",
       "      <th>2</th>\n",
       "      <td>Victor Lindelof</td>\n",
       "      <td>28</td>\n",
       "      <td>Manchester United</td>\n",
       "    </tr>\n",
       "    <tr>\n",
       "      <th>3</th>\n",
       "      <td>Luke Shaw</td>\n",
       "      <td>27</td>\n",
       "      <td>Manchester United</td>\n",
       "    </tr>\n",
       "    <tr>\n",
       "      <th>4</th>\n",
       "      <td>Diogo Dalot</td>\n",
       "      <td>23</td>\n",
       "      <td>Manchester United</td>\n",
       "    </tr>\n",
       "    <tr>\n",
       "      <th>5</th>\n",
       "      <td>Fred</td>\n",
       "      <td>29</td>\n",
       "      <td>Manchester United</td>\n",
       "    </tr>\n",
       "    <tr>\n",
       "      <th>6</th>\n",
       "      <td>Scott McTominay</td>\n",
       "      <td>25</td>\n",
       "      <td>Manchester United</td>\n",
       "    </tr>\n",
       "    <tr>\n",
       "      <th>7</th>\n",
       "      <td>Bruno Fernandes</td>\n",
       "      <td>27</td>\n",
       "      <td>Manchester United</td>\n",
       "    </tr>\n",
       "    <tr>\n",
       "      <th>8</th>\n",
       "      <td>Cristiano Ronaldo</td>\n",
       "      <td>37</td>\n",
       "      <td>Manchester United</td>\n",
       "    </tr>\n",
       "    <tr>\n",
       "      <th>9</th>\n",
       "      <td>Marcus Rashford</td>\n",
       "      <td>24</td>\n",
       "      <td>Manchester United</td>\n",
       "    </tr>\n",
       "    <tr>\n",
       "      <th>10</th>\n",
       "      <td>Jadon Sancho</td>\n",
       "      <td>22</td>\n",
       "      <td>Manchester United</td>\n",
       "    </tr>\n",
       "  </tbody>\n",
       "</table>\n",
       "</div>"
      ],
      "text/plain": [
       "                 Name  Age               Team\n",
       "0        David De Gea   31  Manchester United\n",
       "1       Harry Maguire   29  Manchester United\n",
       "2     Victor Lindelof   28  Manchester United\n",
       "3           Luke Shaw   27  Manchester United\n",
       "4         Diogo Dalot   23  Manchester United\n",
       "5                Fred   29  Manchester United\n",
       "6     Scott McTominay   25  Manchester United\n",
       "7     Bruno Fernandes   27  Manchester United\n",
       "8   Cristiano Ronaldo   37  Manchester United\n",
       "9     Marcus Rashford   24  Manchester United\n",
       "10       Jadon Sancho   22  Manchester United"
      ]
     },
     "execution_count": 71,
     "metadata": {},
     "output_type": "execute_result"
    }
   ],
   "source": [
    "#Manually creating a dataframe using lists of the Manchester United starting 11 squad.\n",
    "\n",
    "# initialize data of lists.\n",
    "MU_Player_data = {'Name': ['David De Gea', 'Harry Maguire', 'Victor Lindelof', 'Luke Shaw',\n",
    "                        'Diogo Dalot', 'Fred', 'Scott McTominay', 'Bruno Fernandes',\n",
    "                       'Cristiano Ronaldo', 'Marcus Rashford', 'Jadon Sancho'],\n",
    "                'Age': [31, 29, 28, 27,\n",
    "                       23, 29, 25, 27,\n",
    "                       37, 24, 22],\n",
    "                 'Team': ['Manchester United','Manchester United','Manchester United','Manchester United',\n",
    "                         'Manchester United','Manchester United','Manchester United','Manchester United',\n",
    "                         'Manchester United','Manchester United','Manchester United']}\n",
    "# Create DataFrame\n",
    "MU_Player = pd.DataFrame(MU_Player_data)\n",
    "\n",
    "# Print the output.\n",
    "MU_Player"
   ]
  },
  {
   "cell_type": "code",
   "execution_count": 75,
   "id": "dba18035",
   "metadata": {
    "scrolled": true
   },
   "outputs": [
    {
     "data": {
      "text/html": [
       "<div>\n",
       "<style scoped>\n",
       "    .dataframe tbody tr th:only-of-type {\n",
       "        vertical-align: middle;\n",
       "    }\n",
       "\n",
       "    .dataframe tbody tr th {\n",
       "        vertical-align: top;\n",
       "    }\n",
       "\n",
       "    .dataframe thead th {\n",
       "        text-align: right;\n",
       "    }\n",
       "</style>\n",
       "<table border=\"1\" class=\"dataframe\">\n",
       "  <thead>\n",
       "    <tr style=\"text-align: right;\">\n",
       "      <th></th>\n",
       "      <th>Season</th>\n",
       "      <th>Pos</th>\n",
       "      <th>Team</th>\n",
       "      <th>Pld</th>\n",
       "      <th>W</th>\n",
       "      <th>D</th>\n",
       "      <th>L</th>\n",
       "      <th>GF</th>\n",
       "      <th>GA</th>\n",
       "      <th>GD</th>\n",
       "      <th>Pts</th>\n",
       "      <th>Qualification or relegation</th>\n",
       "      <th>Name</th>\n",
       "      <th>Age</th>\n",
       "    </tr>\n",
       "  </thead>\n",
       "  <tbody>\n",
       "    <tr>\n",
       "      <th>0</th>\n",
       "      <td>2000</td>\n",
       "      <td>1</td>\n",
       "      <td>Manchester United</td>\n",
       "      <td>38</td>\n",
       "      <td>24</td>\n",
       "      <td>8</td>\n",
       "      <td>6</td>\n",
       "      <td>79</td>\n",
       "      <td>31</td>\n",
       "      <td>48</td>\n",
       "      <td>80</td>\n",
       "      <td>Qualification for the Champions League first g...</td>\n",
       "      <td>David De Gea</td>\n",
       "      <td>31</td>\n",
       "    </tr>\n",
       "    <tr>\n",
       "      <th>1</th>\n",
       "      <td>2000</td>\n",
       "      <td>1</td>\n",
       "      <td>Manchester United</td>\n",
       "      <td>38</td>\n",
       "      <td>24</td>\n",
       "      <td>8</td>\n",
       "      <td>6</td>\n",
       "      <td>79</td>\n",
       "      <td>31</td>\n",
       "      <td>48</td>\n",
       "      <td>80</td>\n",
       "      <td>Qualification for the Champions League first g...</td>\n",
       "      <td>Harry Maguire</td>\n",
       "      <td>29</td>\n",
       "    </tr>\n",
       "    <tr>\n",
       "      <th>2</th>\n",
       "      <td>2000</td>\n",
       "      <td>1</td>\n",
       "      <td>Manchester United</td>\n",
       "      <td>38</td>\n",
       "      <td>24</td>\n",
       "      <td>8</td>\n",
       "      <td>6</td>\n",
       "      <td>79</td>\n",
       "      <td>31</td>\n",
       "      <td>48</td>\n",
       "      <td>80</td>\n",
       "      <td>Qualification for the Champions League first g...</td>\n",
       "      <td>Victor Lindelof</td>\n",
       "      <td>28</td>\n",
       "    </tr>\n",
       "    <tr>\n",
       "      <th>3</th>\n",
       "      <td>2000</td>\n",
       "      <td>1</td>\n",
       "      <td>Manchester United</td>\n",
       "      <td>38</td>\n",
       "      <td>24</td>\n",
       "      <td>8</td>\n",
       "      <td>6</td>\n",
       "      <td>79</td>\n",
       "      <td>31</td>\n",
       "      <td>48</td>\n",
       "      <td>80</td>\n",
       "      <td>Qualification for the Champions League first g...</td>\n",
       "      <td>Luke Shaw</td>\n",
       "      <td>27</td>\n",
       "    </tr>\n",
       "    <tr>\n",
       "      <th>4</th>\n",
       "      <td>2000</td>\n",
       "      <td>1</td>\n",
       "      <td>Manchester United</td>\n",
       "      <td>38</td>\n",
       "      <td>24</td>\n",
       "      <td>8</td>\n",
       "      <td>6</td>\n",
       "      <td>79</td>\n",
       "      <td>31</td>\n",
       "      <td>48</td>\n",
       "      <td>80</td>\n",
       "      <td>Qualification for the Champions League first g...</td>\n",
       "      <td>Diogo Dalot</td>\n",
       "      <td>23</td>\n",
       "    </tr>\n",
       "    <tr>\n",
       "      <th>...</th>\n",
       "      <td>...</td>\n",
       "      <td>...</td>\n",
       "      <td>...</td>\n",
       "      <td>...</td>\n",
       "      <td>...</td>\n",
       "      <td>...</td>\n",
       "      <td>...</td>\n",
       "      <td>...</td>\n",
       "      <td>...</td>\n",
       "      <td>...</td>\n",
       "      <td>...</td>\n",
       "      <td>...</td>\n",
       "      <td>...</td>\n",
       "      <td>...</td>\n",
       "    </tr>\n",
       "    <tr>\n",
       "      <th>237</th>\n",
       "      <td>2021</td>\n",
       "      <td>6</td>\n",
       "      <td>Manchester United</td>\n",
       "      <td>38</td>\n",
       "      <td>16</td>\n",
       "      <td>10</td>\n",
       "      <td>12</td>\n",
       "      <td>57</td>\n",
       "      <td>57</td>\n",
       "      <td>0</td>\n",
       "      <td>58</td>\n",
       "      <td>Qualification for the Europa League group stag...</td>\n",
       "      <td>Scott McTominay</td>\n",
       "      <td>25</td>\n",
       "    </tr>\n",
       "    <tr>\n",
       "      <th>238</th>\n",
       "      <td>2021</td>\n",
       "      <td>6</td>\n",
       "      <td>Manchester United</td>\n",
       "      <td>38</td>\n",
       "      <td>16</td>\n",
       "      <td>10</td>\n",
       "      <td>12</td>\n",
       "      <td>57</td>\n",
       "      <td>57</td>\n",
       "      <td>0</td>\n",
       "      <td>58</td>\n",
       "      <td>Qualification for the Europa League group stag...</td>\n",
       "      <td>Bruno Fernandes</td>\n",
       "      <td>27</td>\n",
       "    </tr>\n",
       "    <tr>\n",
       "      <th>239</th>\n",
       "      <td>2021</td>\n",
       "      <td>6</td>\n",
       "      <td>Manchester United</td>\n",
       "      <td>38</td>\n",
       "      <td>16</td>\n",
       "      <td>10</td>\n",
       "      <td>12</td>\n",
       "      <td>57</td>\n",
       "      <td>57</td>\n",
       "      <td>0</td>\n",
       "      <td>58</td>\n",
       "      <td>Qualification for the Europa League group stag...</td>\n",
       "      <td>Cristiano Ronaldo</td>\n",
       "      <td>37</td>\n",
       "    </tr>\n",
       "    <tr>\n",
       "      <th>240</th>\n",
       "      <td>2021</td>\n",
       "      <td>6</td>\n",
       "      <td>Manchester United</td>\n",
       "      <td>38</td>\n",
       "      <td>16</td>\n",
       "      <td>10</td>\n",
       "      <td>12</td>\n",
       "      <td>57</td>\n",
       "      <td>57</td>\n",
       "      <td>0</td>\n",
       "      <td>58</td>\n",
       "      <td>Qualification for the Europa League group stag...</td>\n",
       "      <td>Marcus Rashford</td>\n",
       "      <td>24</td>\n",
       "    </tr>\n",
       "    <tr>\n",
       "      <th>241</th>\n",
       "      <td>2021</td>\n",
       "      <td>6</td>\n",
       "      <td>Manchester United</td>\n",
       "      <td>38</td>\n",
       "      <td>16</td>\n",
       "      <td>10</td>\n",
       "      <td>12</td>\n",
       "      <td>57</td>\n",
       "      <td>57</td>\n",
       "      <td>0</td>\n",
       "      <td>58</td>\n",
       "      <td>Qualification for the Europa League group stag...</td>\n",
       "      <td>Jadon Sancho</td>\n",
       "      <td>22</td>\n",
       "    </tr>\n",
       "  </tbody>\n",
       "</table>\n",
       "<p>242 rows × 14 columns</p>\n",
       "</div>"
      ],
      "text/plain": [
       "    Season  Pos               Team  Pld   W   D   L  GF  GA  GD  Pts  \\\n",
       "0     2000    1  Manchester United   38  24   8   6  79  31  48   80   \n",
       "1     2000    1  Manchester United   38  24   8   6  79  31  48   80   \n",
       "2     2000    1  Manchester United   38  24   8   6  79  31  48   80   \n",
       "3     2000    1  Manchester United   38  24   8   6  79  31  48   80   \n",
       "4     2000    1  Manchester United   38  24   8   6  79  31  48   80   \n",
       "..     ...  ...                ...  ...  ..  ..  ..  ..  ..  ..  ...   \n",
       "237   2021    6  Manchester United   38  16  10  12  57  57   0   58   \n",
       "238   2021    6  Manchester United   38  16  10  12  57  57   0   58   \n",
       "239   2021    6  Manchester United   38  16  10  12  57  57   0   58   \n",
       "240   2021    6  Manchester United   38  16  10  12  57  57   0   58   \n",
       "241   2021    6  Manchester United   38  16  10  12  57  57   0   58   \n",
       "\n",
       "                           Qualification or relegation               Name  Age  \n",
       "0    Qualification for the Champions League first g...       David De Gea   31  \n",
       "1    Qualification for the Champions League first g...      Harry Maguire   29  \n",
       "2    Qualification for the Champions League first g...    Victor Lindelof   28  \n",
       "3    Qualification for the Champions League first g...          Luke Shaw   27  \n",
       "4    Qualification for the Champions League first g...        Diogo Dalot   23  \n",
       "..                                                 ...                ...  ...  \n",
       "237  Qualification for the Europa League group stag...    Scott McTominay   25  \n",
       "238  Qualification for the Europa League group stag...    Bruno Fernandes   27  \n",
       "239  Qualification for the Europa League group stag...  Cristiano Ronaldo   37  \n",
       "240  Qualification for the Europa League group stag...    Marcus Rashford   24  \n",
       "241  Qualification for the Europa League group stag...       Jadon Sancho   22  \n",
       "\n",
       "[242 rows x 14 columns]"
      ]
     },
     "execution_count": 75,
     "metadata": {},
     "output_type": "execute_result"
    }
   ],
   "source": [
    "#In the below code we can see an inner merge being used with its default arguments, which results in an inner join.\n",
    "#In an innner join you lose rows that don't match in the other DataFrame's key column\n",
    "#This results in showing the full team for each season Manchester United played.\n",
    "\n",
    "MU_inner_merged = pd.merge(PL_Seasons, MU_Player)\n",
    "MU_inner_merged"
   ]
  },
  {
   "cell_type": "code",
   "execution_count": 74,
   "id": "37ebe5c3",
   "metadata": {},
   "outputs": [
    {
     "data": {
      "text/html": [
       "<div>\n",
       "<style scoped>\n",
       "    .dataframe tbody tr th:only-of-type {\n",
       "        vertical-align: middle;\n",
       "    }\n",
       "\n",
       "    .dataframe tbody tr th {\n",
       "        vertical-align: top;\n",
       "    }\n",
       "\n",
       "    .dataframe thead th {\n",
       "        text-align: right;\n",
       "    }\n",
       "</style>\n",
       "<table border=\"1\" class=\"dataframe\">\n",
       "  <thead>\n",
       "    <tr style=\"text-align: right;\">\n",
       "      <th></th>\n",
       "      <th>Season</th>\n",
       "      <th>Pos</th>\n",
       "      <th>Team</th>\n",
       "      <th>Pld</th>\n",
       "      <th>W</th>\n",
       "      <th>D</th>\n",
       "      <th>L</th>\n",
       "      <th>GF</th>\n",
       "      <th>GA</th>\n",
       "      <th>GD</th>\n",
       "      <th>Pts</th>\n",
       "      <th>Qualification or relegation</th>\n",
       "      <th>Name</th>\n",
       "      <th>Age</th>\n",
       "    </tr>\n",
       "  </thead>\n",
       "  <tbody>\n",
       "    <tr>\n",
       "      <th>0</th>\n",
       "      <td>2000</td>\n",
       "      <td>1</td>\n",
       "      <td>Manchester United</td>\n",
       "      <td>38</td>\n",
       "      <td>24</td>\n",
       "      <td>8</td>\n",
       "      <td>6</td>\n",
       "      <td>79</td>\n",
       "      <td>31</td>\n",
       "      <td>48</td>\n",
       "      <td>80</td>\n",
       "      <td>Qualification for the Champions League first g...</td>\n",
       "      <td>David De Gea</td>\n",
       "      <td>31.0</td>\n",
       "    </tr>\n",
       "    <tr>\n",
       "      <th>1</th>\n",
       "      <td>2000</td>\n",
       "      <td>1</td>\n",
       "      <td>Manchester United</td>\n",
       "      <td>38</td>\n",
       "      <td>24</td>\n",
       "      <td>8</td>\n",
       "      <td>6</td>\n",
       "      <td>79</td>\n",
       "      <td>31</td>\n",
       "      <td>48</td>\n",
       "      <td>80</td>\n",
       "      <td>Qualification for the Champions League first g...</td>\n",
       "      <td>Harry Maguire</td>\n",
       "      <td>29.0</td>\n",
       "    </tr>\n",
       "    <tr>\n",
       "      <th>2</th>\n",
       "      <td>2000</td>\n",
       "      <td>1</td>\n",
       "      <td>Manchester United</td>\n",
       "      <td>38</td>\n",
       "      <td>24</td>\n",
       "      <td>8</td>\n",
       "      <td>6</td>\n",
       "      <td>79</td>\n",
       "      <td>31</td>\n",
       "      <td>48</td>\n",
       "      <td>80</td>\n",
       "      <td>Qualification for the Champions League first g...</td>\n",
       "      <td>Victor Lindelof</td>\n",
       "      <td>28.0</td>\n",
       "    </tr>\n",
       "    <tr>\n",
       "      <th>3</th>\n",
       "      <td>2000</td>\n",
       "      <td>1</td>\n",
       "      <td>Manchester United</td>\n",
       "      <td>38</td>\n",
       "      <td>24</td>\n",
       "      <td>8</td>\n",
       "      <td>6</td>\n",
       "      <td>79</td>\n",
       "      <td>31</td>\n",
       "      <td>48</td>\n",
       "      <td>80</td>\n",
       "      <td>Qualification for the Champions League first g...</td>\n",
       "      <td>Luke Shaw</td>\n",
       "      <td>27.0</td>\n",
       "    </tr>\n",
       "    <tr>\n",
       "      <th>4</th>\n",
       "      <td>2000</td>\n",
       "      <td>1</td>\n",
       "      <td>Manchester United</td>\n",
       "      <td>38</td>\n",
       "      <td>24</td>\n",
       "      <td>8</td>\n",
       "      <td>6</td>\n",
       "      <td>79</td>\n",
       "      <td>31</td>\n",
       "      <td>48</td>\n",
       "      <td>80</td>\n",
       "      <td>Qualification for the Champions League first g...</td>\n",
       "      <td>Diogo Dalot</td>\n",
       "      <td>23.0</td>\n",
       "    </tr>\n",
       "    <tr>\n",
       "      <th>...</th>\n",
       "      <td>...</td>\n",
       "      <td>...</td>\n",
       "      <td>...</td>\n",
       "      <td>...</td>\n",
       "      <td>...</td>\n",
       "      <td>...</td>\n",
       "      <td>...</td>\n",
       "      <td>...</td>\n",
       "      <td>...</td>\n",
       "      <td>...</td>\n",
       "      <td>...</td>\n",
       "      <td>...</td>\n",
       "      <td>...</td>\n",
       "      <td>...</td>\n",
       "    </tr>\n",
       "    <tr>\n",
       "      <th>655</th>\n",
       "      <td>2020</td>\n",
       "      <td>16</td>\n",
       "      <td>Brighton &amp; Hove Albion</td>\n",
       "      <td>38</td>\n",
       "      <td>9</td>\n",
       "      <td>14</td>\n",
       "      <td>15</td>\n",
       "      <td>40</td>\n",
       "      <td>46</td>\n",
       "      <td>-6</td>\n",
       "      <td>41</td>\n",
       "      <td>Not Applicable</td>\n",
       "      <td>NaN</td>\n",
       "      <td>NaN</td>\n",
       "    </tr>\n",
       "    <tr>\n",
       "      <th>656</th>\n",
       "      <td>2021</td>\n",
       "      <td>9</td>\n",
       "      <td>Brighton &amp; Hove Albion</td>\n",
       "      <td>38</td>\n",
       "      <td>12</td>\n",
       "      <td>15</td>\n",
       "      <td>11</td>\n",
       "      <td>42</td>\n",
       "      <td>44</td>\n",
       "      <td>-2</td>\n",
       "      <td>51</td>\n",
       "      <td>Not Applicable</td>\n",
       "      <td>NaN</td>\n",
       "      <td>NaN</td>\n",
       "    </tr>\n",
       "    <tr>\n",
       "      <th>657</th>\n",
       "      <td>2017</td>\n",
       "      <td>16</td>\n",
       "      <td>Huddersfield Town</td>\n",
       "      <td>38</td>\n",
       "      <td>9</td>\n",
       "      <td>10</td>\n",
       "      <td>19</td>\n",
       "      <td>28</td>\n",
       "      <td>58</td>\n",
       "      <td>-30</td>\n",
       "      <td>37</td>\n",
       "      <td>Not Applicable</td>\n",
       "      <td>NaN</td>\n",
       "      <td>NaN</td>\n",
       "    </tr>\n",
       "    <tr>\n",
       "      <th>658</th>\n",
       "      <td>2018</td>\n",
       "      <td>20</td>\n",
       "      <td>Huddersfield Town</td>\n",
       "      <td>38</td>\n",
       "      <td>3</td>\n",
       "      <td>7</td>\n",
       "      <td>28</td>\n",
       "      <td>22</td>\n",
       "      <td>76</td>\n",
       "      <td>-54</td>\n",
       "      <td>16</td>\n",
       "      <td>Relegation to the EFL Championship</td>\n",
       "      <td>NaN</td>\n",
       "      <td>NaN</td>\n",
       "    </tr>\n",
       "    <tr>\n",
       "      <th>659</th>\n",
       "      <td>2021</td>\n",
       "      <td>13</td>\n",
       "      <td>Brentford</td>\n",
       "      <td>38</td>\n",
       "      <td>13</td>\n",
       "      <td>7</td>\n",
       "      <td>18</td>\n",
       "      <td>48</td>\n",
       "      <td>56</td>\n",
       "      <td>-8</td>\n",
       "      <td>46</td>\n",
       "      <td>Not Applicable</td>\n",
       "      <td>NaN</td>\n",
       "      <td>NaN</td>\n",
       "    </tr>\n",
       "  </tbody>\n",
       "</table>\n",
       "<p>660 rows × 14 columns</p>\n",
       "</div>"
      ],
      "text/plain": [
       "    Season  Pos                    Team  Pld   W   D   L  GF  GA  GD  Pts  \\\n",
       "0     2000    1       Manchester United   38  24   8   6  79  31  48   80   \n",
       "1     2000    1       Manchester United   38  24   8   6  79  31  48   80   \n",
       "2     2000    1       Manchester United   38  24   8   6  79  31  48   80   \n",
       "3     2000    1       Manchester United   38  24   8   6  79  31  48   80   \n",
       "4     2000    1       Manchester United   38  24   8   6  79  31  48   80   \n",
       "..     ...  ...                     ...  ...  ..  ..  ..  ..  ..  ..  ...   \n",
       "655   2020   16  Brighton & Hove Albion   38   9  14  15  40  46  -6   41   \n",
       "656   2021    9  Brighton & Hove Albion   38  12  15  11  42  44  -2   51   \n",
       "657   2017   16       Huddersfield Town   38   9  10  19  28  58 -30   37   \n",
       "658   2018   20       Huddersfield Town   38   3   7  28  22  76 -54   16   \n",
       "659   2021   13               Brentford   38  13   7  18  48  56  -8   46   \n",
       "\n",
       "                           Qualification or relegation             Name   Age  \n",
       "0    Qualification for the Champions League first g...     David De Gea  31.0  \n",
       "1    Qualification for the Champions League first g...    Harry Maguire  29.0  \n",
       "2    Qualification for the Champions League first g...  Victor Lindelof  28.0  \n",
       "3    Qualification for the Champions League first g...        Luke Shaw  27.0  \n",
       "4    Qualification for the Champions League first g...      Diogo Dalot  23.0  \n",
       "..                                                 ...              ...   ...  \n",
       "655                                     Not Applicable              NaN   NaN  \n",
       "656                                     Not Applicable              NaN   NaN  \n",
       "657                                     Not Applicable              NaN   NaN  \n",
       "658                 Relegation to the EFL Championship              NaN   NaN  \n",
       "659                                     Not Applicable              NaN   NaN  \n",
       "\n",
       "[660 rows x 14 columns]"
      ]
     },
     "execution_count": 74,
     "metadata": {},
     "output_type": "execute_result"
    }
   ],
   "source": [
    "#In the below code we can see an outer merge being used with the how parameter, which results in an full outer join.\n",
    "#In an outer join all rows from both DataFrames will be present in the new DataFrame.\n",
    "#This results in showing the full team for each season Manchester United played and also all the other teams, with their\n",
    "#player information showing NaN (Not a Number)\n",
    "#No rows are lost in an outer join, even when they don’t have a match in the other DataFrame.\n",
    "\n",
    "MU_outer_merged = pd.merge(\n",
    "     PL_Seasons, MU_Player, how=\"outer\", on=[\"Team\"]\n",
    " )\n",
    "MU_outer_merged"
   ]
  },
  {
   "cell_type": "code",
   "execution_count": 60,
   "id": "3395f605",
   "metadata": {
    "scrolled": true
   },
   "outputs": [
    {
     "name": "stdout",
     "output_type": "stream",
     "text": [
      "In 2000 Manchester United won  \u001b[92m\u001b[1m\u001b[4mmore\u001b[0m  games than the 22 year Premier League average.\n",
      "In 2000 Arsenal won  \u001b[92m\u001b[1m\u001b[4mmore\u001b[0m  games than the 22 year Premier League average.\n",
      "In 2000 Liverpool won  \u001b[92m\u001b[1m\u001b[4mmore\u001b[0m  games than the 22 year Premier League average.\n",
      "In 2000 Leeds United won  \u001b[92m\u001b[1m\u001b[4mmore\u001b[0m  games than the 22 year Premier League average.\n",
      "In 2000 Ipswich Town won  \u001b[92m\u001b[1m\u001b[4mmore\u001b[0m  games than the 22 year Premier League average.\n",
      "In 2000 Chelsea won  \u001b[92m\u001b[1m\u001b[4mmore\u001b[0m  games than the 22 year Premier League average.\n",
      "In 2000 Sunderland won  \u001b[92m\u001b[1m\u001b[4mmore\u001b[0m  games than the 22 year Premier League average.\n",
      "In 2000 Aston Villa won  \u001b[91m\u001b[1m\u001b[4mless\u001b[0m  games than the 22 year Premier League average.\n",
      "In 2000 Tottenham Hotspur won  \u001b[91m\u001b[1m\u001b[4mless\u001b[0m  games than the 22 year Premier League average.\n",
      "In 2000 Middlesbrough won  \u001b[91m\u001b[1m\u001b[4mless\u001b[0m  games than the 22 year Premier League average.\n",
      "In 2000 West Ham United won  \u001b[91m\u001b[1m\u001b[4mless\u001b[0m  games than the 22 year Premier League average.\n",
      "In 2000 Everton won  \u001b[91m\u001b[1m\u001b[4mless\u001b[0m  games than the 22 year Premier League average.\n",
      "In 2000 Derby County won  \u001b[91m\u001b[1m\u001b[4mless\u001b[0m  games than the 22 year Premier League average.\n",
      "In 2000 Manchester City won  \u001b[91m\u001b[1m\u001b[4mless\u001b[0m  games than the 22 year Premier League average.\n",
      "In 2000 Coventry City won  \u001b[91m\u001b[1m\u001b[4mless\u001b[0m  games than the 22 year Premier League average.\n",
      "In 2000 Bradford City won  \u001b[91m\u001b[1m\u001b[4mless\u001b[0m  games than the 22 year Premier League average.\n",
      "In 2001 Arsenal won  \u001b[92m\u001b[1m\u001b[4mmore\u001b[0m  games than the 22 year Premier League average.\n",
      "In 2001 Liverpool won  \u001b[92m\u001b[1m\u001b[4mmore\u001b[0m  games than the 22 year Premier League average.\n",
      "In 2001 Manchester United won  \u001b[92m\u001b[1m\u001b[4mmore\u001b[0m  games than the 22 year Premier League average.\n",
      "In 2001 Newcastle United won  \u001b[92m\u001b[1m\u001b[4mmore\u001b[0m  games than the 22 year Premier League average.\n",
      "In 2001 Leeds United won  \u001b[92m\u001b[1m\u001b[4mmore\u001b[0m  games than the 22 year Premier League average.\n",
      "In 2001 Chelsea won  \u001b[92m\u001b[1m\u001b[4mmore\u001b[0m  games than the 22 year Premier League average.\n",
      "In 2001 West Ham United won  \u001b[92m\u001b[1m\u001b[4mmore\u001b[0m  games than the 22 year Premier League average.\n",
      "In 2001 Aston Villa won  \u001b[91m\u001b[1m\u001b[4mless\u001b[0m  games than the 22 year Premier League average.\n",
      "In 2001 Blackburn Rovers won  \u001b[91m\u001b[1m\u001b[4mless\u001b[0m  games than the 22 year Premier League average.\n",
      "In 2001 Southampton won  \u001b[91m\u001b[1m\u001b[4mless\u001b[0m  games than the 22 year Premier League average.\n",
      "In 2001 Middlesbrough won  \u001b[91m\u001b[1m\u001b[4mless\u001b[0m  games than the 22 year Premier League average.\n",
      "In 2001 Fulham won  \u001b[91m\u001b[1m\u001b[4mless\u001b[0m  games than the 22 year Premier League average.\n",
      "In 2001 Charlton Athletic won  \u001b[91m\u001b[1m\u001b[4mless\u001b[0m  games than the 22 year Premier League average.\n",
      "In 2001 Everton won  \u001b[91m\u001b[1m\u001b[4mless\u001b[0m  games than the 22 year Premier League average.\n",
      "In 2001 Bolton Wanderers won  \u001b[91m\u001b[1m\u001b[4mless\u001b[0m  games than the 22 year Premier League average.\n",
      "In 2001 Sunderland won  \u001b[91m\u001b[1m\u001b[4mless\u001b[0m  games than the 22 year Premier League average.\n",
      "In 2001 Ipswich Town won  \u001b[91m\u001b[1m\u001b[4mless\u001b[0m  games than the 22 year Premier League average.\n",
      "In 2001 Derby County won  \u001b[91m\u001b[1m\u001b[4mless\u001b[0m  games than the 22 year Premier League average.\n",
      "In 2001 Leicester City won  \u001b[91m\u001b[1m\u001b[4mless\u001b[0m  games than the 22 year Premier League average.\n",
      "In 2002 Manchester United won  \u001b[92m\u001b[1m\u001b[4mmore\u001b[0m  games than the 22 year Premier League average.\n",
      "In 2002 Arsenal won  \u001b[92m\u001b[1m\u001b[4mmore\u001b[0m  games than the 22 year Premier League average.\n",
      "In 2002 Newcastle United won  \u001b[92m\u001b[1m\u001b[4mmore\u001b[0m  games than the 22 year Premier League average.\n",
      "In 2002 Chelsea won  \u001b[92m\u001b[1m\u001b[4mmore\u001b[0m  games than the 22 year Premier League average.\n",
      "In 2002 Liverpool won  \u001b[92m\u001b[1m\u001b[4mmore\u001b[0m  games than the 22 year Premier League average.\n",
      "In 2002 Blackburn Rovers won  \u001b[92m\u001b[1m\u001b[4mmore\u001b[0m  games than the 22 year Premier League average.\n",
      "In 2002 Everton won  \u001b[92m\u001b[1m\u001b[4mmore\u001b[0m  games than the 22 year Premier League average.\n",
      "In 2002 Southampton won  \u001b[91m\u001b[1m\u001b[4mless\u001b[0m  games than the 22 year Premier League average.\n",
      "In 2002 Manchester City won  \u001b[92m\u001b[1m\u001b[4mmore\u001b[0m  games than the 22 year Premier League average.\n",
      "In 2002 Middlesbrough won  \u001b[91m\u001b[1m\u001b[4mless\u001b[0m  games than the 22 year Premier League average.\n",
      "In 2002 Birmingham City won  \u001b[91m\u001b[1m\u001b[4mless\u001b[0m  games than the 22 year Premier League average.\n",
      "In 2002 Fulham won  \u001b[91m\u001b[1m\u001b[4mless\u001b[0m  games than the 22 year Premier League average.\n",
      "In 2002 Aston Villa won  \u001b[91m\u001b[1m\u001b[4mless\u001b[0m  games than the 22 year Premier League average.\n",
      "In 2002 Bolton Wanderers won  \u001b[91m\u001b[1m\u001b[4mless\u001b[0m  games than the 22 year Premier League average.\n",
      "In 2002 West Ham United won  \u001b[91m\u001b[1m\u001b[4mless\u001b[0m  games than the 22 year Premier League average.\n",
      "In 2002 West Bromwich Albion won  \u001b[91m\u001b[1m\u001b[4mless\u001b[0m  games than the 22 year Premier League average.\n",
      "In 2002 Sunderland won  \u001b[91m\u001b[1m\u001b[4mless\u001b[0m  games than the 22 year Premier League average.\n",
      "In 2003 Arsenal won  \u001b[92m\u001b[1m\u001b[4mmore\u001b[0m  games than the 22 year Premier League average.\n",
      "In 2003 Chelsea won  \u001b[92m\u001b[1m\u001b[4mmore\u001b[0m  games than the 22 year Premier League average.\n",
      "In 2003 Manchester United won  \u001b[92m\u001b[1m\u001b[4mmore\u001b[0m  games than the 22 year Premier League average.\n",
      "In 2003 Liverpool won  \u001b[92m\u001b[1m\u001b[4mmore\u001b[0m  games than the 22 year Premier League average.\n",
      "In 2003 Newcastle United won  \u001b[91m\u001b[1m\u001b[4mless\u001b[0m  games than the 22 year Premier League average.\n",
      "In 2003 Aston Villa won  \u001b[92m\u001b[1m\u001b[4mmore\u001b[0m  games than the 22 year Premier League average.\n",
      "In 2003 Birmingham City won  \u001b[91m\u001b[1m\u001b[4mless\u001b[0m  games than the 22 year Premier League average.\n",
      "In 2003 Middlesbrough won  \u001b[91m\u001b[1m\u001b[4mless\u001b[0m  games than the 22 year Premier League average.\n",
      "In 2003 Southampton won  \u001b[91m\u001b[1m\u001b[4mless\u001b[0m  games than the 22 year Premier League average.\n",
      "In 2003 Portsmouth won  \u001b[91m\u001b[1m\u001b[4mless\u001b[0m  games than the 22 year Premier League average.\n",
      "In 2003 Tottenham Hotspur won  \u001b[91m\u001b[1m\u001b[4mless\u001b[0m  games than the 22 year Premier League average.\n",
      "In 2003 Blackburn Rovers won  \u001b[91m\u001b[1m\u001b[4mless\u001b[0m  games than the 22 year Premier League average.\n",
      "In 2003 Manchester City won  \u001b[91m\u001b[1m\u001b[4mless\u001b[0m  games than the 22 year Premier League average.\n",
      "In 2003 Everton won  \u001b[91m\u001b[1m\u001b[4mless\u001b[0m  games than the 22 year Premier League average.\n",
      "In 2003 Leicester City won  \u001b[91m\u001b[1m\u001b[4mless\u001b[0m  games than the 22 year Premier League average.\n",
      "In 2003 Leeds United won  \u001b[91m\u001b[1m\u001b[4mless\u001b[0m  games than the 22 year Premier League average.\n",
      "In 2003 Wolverhampton Wanderers won  \u001b[91m\u001b[1m\u001b[4mless\u001b[0m  games than the 22 year Premier League average.\n",
      "In 2004 Chelsea won  \u001b[92m\u001b[1m\u001b[4mmore\u001b[0m  games than the 22 year Premier League average.\n",
      "In 2004 Arsenal won  \u001b[92m\u001b[1m\u001b[4mmore\u001b[0m  games than the 22 year Premier League average.\n",
      "In 2004 Manchester United won  \u001b[92m\u001b[1m\u001b[4mmore\u001b[0m  games than the 22 year Premier League average.\n",
      "In 2004 Everton won  \u001b[92m\u001b[1m\u001b[4mmore\u001b[0m  games than the 22 year Premier League average.\n",
      "In 2004 Liverpool won  \u001b[92m\u001b[1m\u001b[4mmore\u001b[0m  games than the 22 year Premier League average.\n",
      "In 2004 Bolton Wanderers won  \u001b[92m\u001b[1m\u001b[4mmore\u001b[0m  games than the 22 year Premier League average.\n",
      "In 2004 Manchester City won  \u001b[91m\u001b[1m\u001b[4mless\u001b[0m  games than the 22 year Premier League average.\n",
      "In 2004 Aston Villa won  \u001b[91m\u001b[1m\u001b[4mless\u001b[0m  games than the 22 year Premier League average.\n",
      "In 2004 Charlton Athletic won  \u001b[91m\u001b[1m\u001b[4mless\u001b[0m  games than the 22 year Premier League average.\n",
      "In 2004 Birmingham City won  \u001b[91m\u001b[1m\u001b[4mless\u001b[0m  games than the 22 year Premier League average.\n",
      "In 2004 Fulham won  \u001b[91m\u001b[1m\u001b[4mless\u001b[0m  games than the 22 year Premier League average.\n",
      "In 2004 Newcastle United won  \u001b[91m\u001b[1m\u001b[4mless\u001b[0m  games than the 22 year Premier League average.\n",
      "In 2004 Blackburn Rovers won  \u001b[91m\u001b[1m\u001b[4mless\u001b[0m  games than the 22 year Premier League average.\n",
      "In 2004 Portsmouth won  \u001b[91m\u001b[1m\u001b[4mless\u001b[0m  games than the 22 year Premier League average.\n",
      "In 2004 West Bromwich Albion won  \u001b[91m\u001b[1m\u001b[4mless\u001b[0m  games than the 22 year Premier League average.\n",
      "In 2004 Crystal Palace won  \u001b[91m\u001b[1m\u001b[4mless\u001b[0m  games than the 22 year Premier League average.\n",
      "In 2004 Norwich City won  \u001b[91m\u001b[1m\u001b[4mless\u001b[0m  games than the 22 year Premier League average.\n",
      "In 2004 Southampton won  \u001b[91m\u001b[1m\u001b[4mless\u001b[0m  games than the 22 year Premier League average.\n",
      "In 2005 Chelsea won  \u001b[92m\u001b[1m\u001b[4mmore\u001b[0m  games than the 22 year Premier League average.\n",
      "In 2005 Manchester United won  \u001b[92m\u001b[1m\u001b[4mmore\u001b[0m  games than the 22 year Premier League average.\n",
      "In 2005 Liverpool won  \u001b[92m\u001b[1m\u001b[4mmore\u001b[0m  games than the 22 year Premier League average.\n",
      "In 2005 Arsenal won  \u001b[92m\u001b[1m\u001b[4mmore\u001b[0m  games than the 22 year Premier League average.\n",
      "In 2005 Tottenham Hotspur won  \u001b[92m\u001b[1m\u001b[4mmore\u001b[0m  games than the 22 year Premier League average.\n",
      "In 2005 Blackburn Rovers won  \u001b[92m\u001b[1m\u001b[4mmore\u001b[0m  games than the 22 year Premier League average.\n",
      "In 2005 Newcastle United won  \u001b[92m\u001b[1m\u001b[4mmore\u001b[0m  games than the 22 year Premier League average.\n",
      "In 2005 Bolton Wanderers won  \u001b[92m\u001b[1m\u001b[4mmore\u001b[0m  games than the 22 year Premier League average.\n",
      "In 2005 West Ham United won  \u001b[92m\u001b[1m\u001b[4mmore\u001b[0m  games than the 22 year Premier League average.\n",
      "In 2005 Wigan Athletic won  \u001b[92m\u001b[1m\u001b[4mmore\u001b[0m  games than the 22 year Premier League average.\n",
      "In 2005 Charlton Athletic won  \u001b[91m\u001b[1m\u001b[4mless\u001b[0m  games than the 22 year Premier League average.\n",
      "In 2005 Middlesbrough won  \u001b[91m\u001b[1m\u001b[4mless\u001b[0m  games than the 22 year Premier League average.\n",
      "In 2005 Manchester City won  \u001b[91m\u001b[1m\u001b[4mless\u001b[0m  games than the 22 year Premier League average.\n",
      "In 2005 Aston Villa won  \u001b[91m\u001b[1m\u001b[4mless\u001b[0m  games than the 22 year Premier League average.\n",
      "In 2005 Portsmouth won  \u001b[91m\u001b[1m\u001b[4mless\u001b[0m  games than the 22 year Premier League average.\n",
      "In 2005 Birmingham City won  \u001b[91m\u001b[1m\u001b[4mless\u001b[0m  games than the 22 year Premier League average.\n",
      "In 2005 West Bromwich Albion won  \u001b[91m\u001b[1m\u001b[4mless\u001b[0m  games than the 22 year Premier League average.\n",
      "In 2005 Sunderland won  \u001b[91m\u001b[1m\u001b[4mless\u001b[0m  games than the 22 year Premier League average.\n",
      "In 2006 Manchester United won  \u001b[92m\u001b[1m\u001b[4mmore\u001b[0m  games than the 22 year Premier League average.\n",
      "In 2006 Chelsea won  \u001b[92m\u001b[1m\u001b[4mmore\u001b[0m  games than the 22 year Premier League average.\n",
      "In 2006 Liverpool won  \u001b[92m\u001b[1m\u001b[4mmore\u001b[0m  games than the 22 year Premier League average.\n",
      "In 2006 Arsenal won  \u001b[92m\u001b[1m\u001b[4mmore\u001b[0m  games than the 22 year Premier League average.\n",
      "In 2006 Tottenham Hotspur won  \u001b[92m\u001b[1m\u001b[4mmore\u001b[0m  games than the 22 year Premier League average.\n",
      "In 2006 Everton won  \u001b[92m\u001b[1m\u001b[4mmore\u001b[0m  games than the 22 year Premier League average.\n",
      "In 2006 Bolton Wanderers won  \u001b[92m\u001b[1m\u001b[4mmore\u001b[0m  games than the 22 year Premier League average.\n",
      "In 2006 Reading won  \u001b[92m\u001b[1m\u001b[4mmore\u001b[0m  games than the 22 year Premier League average.\n",
      "In 2006 Blackburn Rovers won  \u001b[92m\u001b[1m\u001b[4mmore\u001b[0m  games than the 22 year Premier League average.\n",
      "In 2006 Aston Villa won  \u001b[91m\u001b[1m\u001b[4mless\u001b[0m  games than the 22 year Premier League average.\n",
      "In 2006 Middlesbrough won  \u001b[91m\u001b[1m\u001b[4mless\u001b[0m  games than the 22 year Premier League average.\n",
      "In 2006 Newcastle United won  \u001b[91m\u001b[1m\u001b[4mless\u001b[0m  games than the 22 year Premier League average.\n",
      "In 2006 Manchester City won  \u001b[91m\u001b[1m\u001b[4mless\u001b[0m  games than the 22 year Premier League average.\n",
      "In 2006 West Ham United won  \u001b[91m\u001b[1m\u001b[4mless\u001b[0m  games than the 22 year Premier League average.\n",
      "In 2006 Fulham won  \u001b[91m\u001b[1m\u001b[4mless\u001b[0m  games than the 22 year Premier League average.\n",
      "In 2006 Wigan Athletic won  \u001b[91m\u001b[1m\u001b[4mless\u001b[0m  games than the 22 year Premier League average.\n",
      "In 2006 Sheffield United won  \u001b[91m\u001b[1m\u001b[4mless\u001b[0m  games than the 22 year Premier League average.\n",
      "In 2006 Charlton Athletic won  \u001b[91m\u001b[1m\u001b[4mless\u001b[0m  games than the 22 year Premier League average.\n",
      "In 2006 Watford won  \u001b[91m\u001b[1m\u001b[4mless\u001b[0m  games than the 22 year Premier League average.\n",
      "In 2007 Manchester United won  \u001b[92m\u001b[1m\u001b[4mmore\u001b[0m  games than the 22 year Premier League average.\n",
      "In 2007 Chelsea won  \u001b[92m\u001b[1m\u001b[4mmore\u001b[0m  games than the 22 year Premier League average.\n",
      "In 2007 Arsenal won  \u001b[92m\u001b[1m\u001b[4mmore\u001b[0m  games than the 22 year Premier League average.\n",
      "In 2007 Liverpool won  \u001b[92m\u001b[1m\u001b[4mmore\u001b[0m  games than the 22 year Premier League average.\n",
      "In 2007 Everton won  \u001b[92m\u001b[1m\u001b[4mmore\u001b[0m  games than the 22 year Premier League average.\n",
      "In 2007 Aston Villa won  \u001b[92m\u001b[1m\u001b[4mmore\u001b[0m  games than the 22 year Premier League average.\n",
      "In 2007 Blackburn Rovers won  \u001b[92m\u001b[1m\u001b[4mmore\u001b[0m  games than the 22 year Premier League average.\n",
      "In 2007 Portsmouth won  \u001b[92m\u001b[1m\u001b[4mmore\u001b[0m  games than the 22 year Premier League average.\n",
      "In 2007 Manchester City won  \u001b[92m\u001b[1m\u001b[4mmore\u001b[0m  games than the 22 year Premier League average.\n"
     ]
    },
    {
     "name": "stdout",
     "output_type": "stream",
     "text": [
      "In 2007 West Ham United won  \u001b[91m\u001b[1m\u001b[4mless\u001b[0m  games than the 22 year Premier League average.\n",
      "In 2007 Tottenham Hotspur won  \u001b[91m\u001b[1m\u001b[4mless\u001b[0m  games than the 22 year Premier League average.\n",
      "In 2007 Newcastle United won  \u001b[91m\u001b[1m\u001b[4mless\u001b[0m  games than the 22 year Premier League average.\n",
      "In 2007 Middlesbrough won  \u001b[91m\u001b[1m\u001b[4mless\u001b[0m  games than the 22 year Premier League average.\n",
      "In 2007 Wigan Athletic won  \u001b[91m\u001b[1m\u001b[4mless\u001b[0m  games than the 22 year Premier League average.\n",
      "In 2007 Sunderland won  \u001b[91m\u001b[1m\u001b[4mless\u001b[0m  games than the 22 year Premier League average.\n",
      "In 2007 Bolton Wanderers won  \u001b[91m\u001b[1m\u001b[4mless\u001b[0m  games than the 22 year Premier League average.\n",
      "In 2007 Fulham won  \u001b[91m\u001b[1m\u001b[4mless\u001b[0m  games than the 22 year Premier League average.\n",
      "In 2007 Reading won  \u001b[91m\u001b[1m\u001b[4mless\u001b[0m  games than the 22 year Premier League average.\n",
      "In 2007 Birmingham City won  \u001b[91m\u001b[1m\u001b[4mless\u001b[0m  games than the 22 year Premier League average.\n",
      "In 2007 Derby County won  \u001b[91m\u001b[1m\u001b[4mless\u001b[0m  games than the 22 year Premier League average.\n",
      "In 2008 Manchester United won  \u001b[92m\u001b[1m\u001b[4mmore\u001b[0m  games than the 22 year Premier League average.\n",
      "In 2008 Liverpool won  \u001b[92m\u001b[1m\u001b[4mmore\u001b[0m  games than the 22 year Premier League average.\n",
      "In 2008 Chelsea won  \u001b[92m\u001b[1m\u001b[4mmore\u001b[0m  games than the 22 year Premier League average.\n",
      "In 2008 Arsenal won  \u001b[92m\u001b[1m\u001b[4mmore\u001b[0m  games than the 22 year Premier League average.\n",
      "In 2008 Everton won  \u001b[92m\u001b[1m\u001b[4mmore\u001b[0m  games than the 22 year Premier League average.\n",
      "In 2008 Aston Villa won  \u001b[92m\u001b[1m\u001b[4mmore\u001b[0m  games than the 22 year Premier League average.\n",
      "In 2008 Manchester City won  \u001b[92m\u001b[1m\u001b[4mmore\u001b[0m  games than the 22 year Premier League average.\n",
      "In 2008 Wigan Athletic won  \u001b[91m\u001b[1m\u001b[4mless\u001b[0m  games than the 22 year Premier League average.\n",
      "In 2008 Stoke City won  \u001b[91m\u001b[1m\u001b[4mless\u001b[0m  games than the 22 year Premier League average.\n",
      "In 2008 Bolton Wanderers won  \u001b[91m\u001b[1m\u001b[4mless\u001b[0m  games than the 22 year Premier League average.\n",
      "In 2008 Portsmouth won  \u001b[91m\u001b[1m\u001b[4mless\u001b[0m  games than the 22 year Premier League average.\n",
      "In 2008 Blackburn Rovers won  \u001b[91m\u001b[1m\u001b[4mless\u001b[0m  games than the 22 year Premier League average.\n",
      "In 2008 Sunderland won  \u001b[91m\u001b[1m\u001b[4mless\u001b[0m  games than the 22 year Premier League average.\n",
      "In 2008 Hull City won  \u001b[91m\u001b[1m\u001b[4mless\u001b[0m  games than the 22 year Premier League average.\n",
      "In 2008 Newcastle United won  \u001b[91m\u001b[1m\u001b[4mless\u001b[0m  games than the 22 year Premier League average.\n",
      "In 2008 Middlesbrough won  \u001b[91m\u001b[1m\u001b[4mless\u001b[0m  games than the 22 year Premier League average.\n",
      "In 2008 West Bromwich Albion won  \u001b[91m\u001b[1m\u001b[4mless\u001b[0m  games than the 22 year Premier League average.\n",
      "In 2009 Chelsea won  \u001b[92m\u001b[1m\u001b[4mmore\u001b[0m  games than the 22 year Premier League average.\n",
      "In 2009 Manchester United won  \u001b[92m\u001b[1m\u001b[4mmore\u001b[0m  games than the 22 year Premier League average.\n",
      "In 2009 Arsenal won  \u001b[92m\u001b[1m\u001b[4mmore\u001b[0m  games than the 22 year Premier League average.\n",
      "In 2009 Tottenham Hotspur won  \u001b[92m\u001b[1m\u001b[4mmore\u001b[0m  games than the 22 year Premier League average.\n",
      "In 2009 Manchester City won  \u001b[92m\u001b[1m\u001b[4mmore\u001b[0m  games than the 22 year Premier League average.\n",
      "In 2009 Aston Villa won  \u001b[92m\u001b[1m\u001b[4mmore\u001b[0m  games than the 22 year Premier League average.\n",
      "In 2009 Liverpool won  \u001b[92m\u001b[1m\u001b[4mmore\u001b[0m  games than the 22 year Premier League average.\n",
      "In 2009 Everton won  \u001b[92m\u001b[1m\u001b[4mmore\u001b[0m  games than the 22 year Premier League average.\n",
      "In 2009 Birmingham City won  \u001b[91m\u001b[1m\u001b[4mless\u001b[0m  games than the 22 year Premier League average.\n",
      "In 2009 Blackburn Rovers won  \u001b[91m\u001b[1m\u001b[4mless\u001b[0m  games than the 22 year Premier League average.\n",
      "In 2009 Stoke City won  \u001b[91m\u001b[1m\u001b[4mless\u001b[0m  games than the 22 year Premier League average.\n",
      "In 2009 Fulham won  \u001b[91m\u001b[1m\u001b[4mless\u001b[0m  games than the 22 year Premier League average.\n",
      "In 2009 Sunderland won  \u001b[91m\u001b[1m\u001b[4mless\u001b[0m  games than the 22 year Premier League average.\n",
      "In 2009 Bolton Wanderers won  \u001b[91m\u001b[1m\u001b[4mless\u001b[0m  games than the 22 year Premier League average.\n",
      "In 2009 Wolverhampton Wanderers won  \u001b[91m\u001b[1m\u001b[4mless\u001b[0m  games than the 22 year Premier League average.\n",
      "In 2009 Wigan Athletic won  \u001b[91m\u001b[1m\u001b[4mless\u001b[0m  games than the 22 year Premier League average.\n",
      "In 2009 West Ham United won  \u001b[91m\u001b[1m\u001b[4mless\u001b[0m  games than the 22 year Premier League average.\n",
      "In 2009 Burnley won  \u001b[91m\u001b[1m\u001b[4mless\u001b[0m  games than the 22 year Premier League average.\n",
      "In 2009 Hull City won  \u001b[91m\u001b[1m\u001b[4mless\u001b[0m  games than the 22 year Premier League average.\n",
      "In 2009 Portsmouth won  \u001b[91m\u001b[1m\u001b[4mless\u001b[0m  games than the 22 year Premier League average.\n",
      "In 2010 Manchester United won  \u001b[92m\u001b[1m\u001b[4mmore\u001b[0m  games than the 22 year Premier League average.\n",
      "In 2010 Chelsea won  \u001b[92m\u001b[1m\u001b[4mmore\u001b[0m  games than the 22 year Premier League average.\n",
      "In 2010 Manchester City won  \u001b[92m\u001b[1m\u001b[4mmore\u001b[0m  games than the 22 year Premier League average.\n",
      "In 2010 Arsenal won  \u001b[92m\u001b[1m\u001b[4mmore\u001b[0m  games than the 22 year Premier League average.\n",
      "In 2010 Tottenham Hotspur won  \u001b[92m\u001b[1m\u001b[4mmore\u001b[0m  games than the 22 year Premier League average.\n",
      "In 2010 Liverpool won  \u001b[92m\u001b[1m\u001b[4mmore\u001b[0m  games than the 22 year Premier League average.\n",
      "In 2010 Everton won  \u001b[91m\u001b[1m\u001b[4mless\u001b[0m  games than the 22 year Premier League average.\n",
      "In 2010 Fulham won  \u001b[91m\u001b[1m\u001b[4mless\u001b[0m  games than the 22 year Premier League average.\n",
      "In 2010 Aston Villa won  \u001b[91m\u001b[1m\u001b[4mless\u001b[0m  games than the 22 year Premier League average.\n",
      "In 2010 Sunderland won  \u001b[91m\u001b[1m\u001b[4mless\u001b[0m  games than the 22 year Premier League average.\n",
      "In 2010 West Bromwich Albion won  \u001b[91m\u001b[1m\u001b[4mless\u001b[0m  games than the 22 year Premier League average.\n",
      "In 2010 Newcastle United won  \u001b[91m\u001b[1m\u001b[4mless\u001b[0m  games than the 22 year Premier League average.\n",
      "In 2010 Stoke City won  \u001b[91m\u001b[1m\u001b[4mless\u001b[0m  games than the 22 year Premier League average.\n",
      "In 2010 Bolton Wanderers won  \u001b[91m\u001b[1m\u001b[4mless\u001b[0m  games than the 22 year Premier League average.\n",
      "In 2010 Blackburn Rovers won  \u001b[91m\u001b[1m\u001b[4mless\u001b[0m  games than the 22 year Premier League average.\n",
      "In 2010 Wigan Athletic won  \u001b[91m\u001b[1m\u001b[4mless\u001b[0m  games than the 22 year Premier League average.\n",
      "In 2010 Wolverhampton Wanderers won  \u001b[91m\u001b[1m\u001b[4mless\u001b[0m  games than the 22 year Premier League average.\n",
      "In 2010 Birmingham City won  \u001b[91m\u001b[1m\u001b[4mless\u001b[0m  games than the 22 year Premier League average.\n",
      "In 2010 Blackpool won  \u001b[91m\u001b[1m\u001b[4mless\u001b[0m  games than the 22 year Premier League average.\n",
      "In 2010 West Ham United won  \u001b[91m\u001b[1m\u001b[4mless\u001b[0m  games than the 22 year Premier League average.\n",
      "In 2011 Manchester City won  \u001b[92m\u001b[1m\u001b[4mmore\u001b[0m  games than the 22 year Premier League average.\n",
      "In 2011 Manchester United won  \u001b[92m\u001b[1m\u001b[4mmore\u001b[0m  games than the 22 year Premier League average.\n",
      "In 2011 Arsenal won  \u001b[92m\u001b[1m\u001b[4mmore\u001b[0m  games than the 22 year Premier League average.\n",
      "In 2011 Tottenham Hotspur won  \u001b[92m\u001b[1m\u001b[4mmore\u001b[0m  games than the 22 year Premier League average.\n",
      "In 2011 Newcastle United won  \u001b[92m\u001b[1m\u001b[4mmore\u001b[0m  games than the 22 year Premier League average.\n",
      "In 2011 Chelsea won  \u001b[92m\u001b[1m\u001b[4mmore\u001b[0m  games than the 22 year Premier League average.\n",
      "In 2011 Everton won  \u001b[92m\u001b[1m\u001b[4mmore\u001b[0m  games than the 22 year Premier League average.\n",
      "In 2011 West Bromwich Albion won  \u001b[91m\u001b[1m\u001b[4mless\u001b[0m  games than the 22 year Premier League average.\n",
      "In 2011 Swansea City won  \u001b[91m\u001b[1m\u001b[4mless\u001b[0m  games than the 22 year Premier League average.\n",
      "In 2011 Norwich City won  \u001b[91m\u001b[1m\u001b[4mless\u001b[0m  games than the 22 year Premier League average.\n",
      "In 2011 Sunderland won  \u001b[91m\u001b[1m\u001b[4mless\u001b[0m  games than the 22 year Premier League average.\n",
      "In 2011 Stoke City won  \u001b[91m\u001b[1m\u001b[4mless\u001b[0m  games than the 22 year Premier League average.\n",
      "In 2011 Wigan Athletic won  \u001b[91m\u001b[1m\u001b[4mless\u001b[0m  games than the 22 year Premier League average.\n",
      "In 2011 Aston Villa won  \u001b[91m\u001b[1m\u001b[4mless\u001b[0m  games than the 22 year Premier League average.\n",
      "In 2011 Queens Park Rangers won  \u001b[91m\u001b[1m\u001b[4mless\u001b[0m  games than the 22 year Premier League average.\n",
      "In 2011 Bolton Wanderers won  \u001b[91m\u001b[1m\u001b[4mless\u001b[0m  games than the 22 year Premier League average.\n",
      "In 2011 Blackburn Rovers won  \u001b[91m\u001b[1m\u001b[4mless\u001b[0m  games than the 22 year Premier League average.\n",
      "In 2011 Wolverhampton Wanderers won  \u001b[91m\u001b[1m\u001b[4mless\u001b[0m  games than the 22 year Premier League average.\n",
      "In 2012 Manchester United won  \u001b[92m\u001b[1m\u001b[4mmore\u001b[0m  games than the 22 year Premier League average.\n",
      "In 2012 Manchester City won  \u001b[92m\u001b[1m\u001b[4mmore\u001b[0m  games than the 22 year Premier League average.\n",
      "In 2012 Chelsea won  \u001b[92m\u001b[1m\u001b[4mmore\u001b[0m  games than the 22 year Premier League average.\n",
      "In 2012 Arsenal won  \u001b[92m\u001b[1m\u001b[4mmore\u001b[0m  games than the 22 year Premier League average.\n",
      "In 2012 Tottenham Hotspur won  \u001b[92m\u001b[1m\u001b[4mmore\u001b[0m  games than the 22 year Premier League average.\n",
      "In 2012 Everton won  \u001b[92m\u001b[1m\u001b[4mmore\u001b[0m  games than the 22 year Premier League average.\n",
      "In 2012 Liverpool won  \u001b[92m\u001b[1m\u001b[4mmore\u001b[0m  games than the 22 year Premier League average.\n",
      "In 2012 Swansea City won  \u001b[91m\u001b[1m\u001b[4mless\u001b[0m  games than the 22 year Premier League average.\n",
      "In 2012 West Ham United won  \u001b[91m\u001b[1m\u001b[4mless\u001b[0m  games than the 22 year Premier League average.\n",
      "In 2012 Norwich City won  \u001b[91m\u001b[1m\u001b[4mless\u001b[0m  games than the 22 year Premier League average.\n",
      "In 2012 Fulham won  \u001b[91m\u001b[1m\u001b[4mless\u001b[0m  games than the 22 year Premier League average.\n",
      "In 2012 Stoke City won  \u001b[91m\u001b[1m\u001b[4mless\u001b[0m  games than the 22 year Premier League average.\n",
      "In 2012 Southampton won  \u001b[91m\u001b[1m\u001b[4mless\u001b[0m  games than the 22 year Premier League average.\n",
      "In 2012 Aston Villa won  \u001b[91m\u001b[1m\u001b[4mless\u001b[0m  games than the 22 year Premier League average.\n",
      "In 2012 Newcastle United won  \u001b[91m\u001b[1m\u001b[4mless\u001b[0m  games than the 22 year Premier League average.\n",
      "In 2012 Sunderland won  \u001b[91m\u001b[1m\u001b[4mless\u001b[0m  games than the 22 year Premier League average.\n",
      "In 2012 Wigan Athletic won  \u001b[91m\u001b[1m\u001b[4mless\u001b[0m  games than the 22 year Premier League average.\n",
      "In 2012 Reading won  \u001b[91m\u001b[1m\u001b[4mless\u001b[0m  games than the 22 year Premier League average.\n",
      "In 2012 Queens Park Rangers won  \u001b[91m\u001b[1m\u001b[4mless\u001b[0m  games than the 22 year Premier League average.\n",
      "In 2013 Manchester City won  \u001b[92m\u001b[1m\u001b[4mmore\u001b[0m  games than the 22 year Premier League average.\n",
      "In 2013 Liverpool won  \u001b[92m\u001b[1m\u001b[4mmore\u001b[0m  games than the 22 year Premier League average.\n",
      "In 2013 Chelsea won  \u001b[92m\u001b[1m\u001b[4mmore\u001b[0m  games than the 22 year Premier League average.\n",
      "In 2013 Arsenal won  \u001b[92m\u001b[1m\u001b[4mmore\u001b[0m  games than the 22 year Premier League average.\n",
      "In 2013 Everton won  \u001b[92m\u001b[1m\u001b[4mmore\u001b[0m  games than the 22 year Premier League average.\n",
      "In 2013 Tottenham Hotspur won  \u001b[92m\u001b[1m\u001b[4mmore\u001b[0m  games than the 22 year Premier League average.\n",
      "In 2013 Manchester United won  \u001b[92m\u001b[1m\u001b[4mmore\u001b[0m  games than the 22 year Premier League average.\n",
      "In 2013 Southampton won  \u001b[92m\u001b[1m\u001b[4mmore\u001b[0m  games than the 22 year Premier League average.\n",
      "In 2013 Stoke City won  \u001b[91m\u001b[1m\u001b[4mless\u001b[0m  games than the 22 year Premier League average.\n",
      "In 2013 Newcastle United won  \u001b[92m\u001b[1m\u001b[4mmore\u001b[0m  games than the 22 year Premier League average.\n",
      "In 2013 Crystal Palace won  \u001b[91m\u001b[1m\u001b[4mless\u001b[0m  games than the 22 year Premier League average.\n",
      "In 2013 Swansea City won  \u001b[91m\u001b[1m\u001b[4mless\u001b[0m  games than the 22 year Premier League average.\n",
      "In 2013 West Ham United won  \u001b[91m\u001b[1m\u001b[4mless\u001b[0m  games than the 22 year Premier League average.\n",
      "In 2013 Sunderland won  \u001b[91m\u001b[1m\u001b[4mless\u001b[0m  games than the 22 year Premier League average.\n",
      "In 2013 Aston Villa won  \u001b[91m\u001b[1m\u001b[4mless\u001b[0m  games than the 22 year Premier League average.\n",
      "In 2013 Hull City won  \u001b[91m\u001b[1m\u001b[4mless\u001b[0m  games than the 22 year Premier League average.\n",
      "In 2013 West Bromwich Albion won  \u001b[91m\u001b[1m\u001b[4mless\u001b[0m  games than the 22 year Premier League average.\n",
      "In 2013 Norwich City won  \u001b[91m\u001b[1m\u001b[4mless\u001b[0m  games than the 22 year Premier League average.\n",
      "In 2013 Fulham won  \u001b[91m\u001b[1m\u001b[4mless\u001b[0m  games than the 22 year Premier League average.\n",
      "In 2013 Cardiff City won  \u001b[91m\u001b[1m\u001b[4mless\u001b[0m  games than the 22 year Premier League average.\n",
      "In 2014 Chelsea won  \u001b[92m\u001b[1m\u001b[4mmore\u001b[0m  games than the 22 year Premier League average.\n",
      "In 2014 Manchester City won  \u001b[92m\u001b[1m\u001b[4mmore\u001b[0m  games than the 22 year Premier League average.\n",
      "In 2014 Arsenal won  \u001b[92m\u001b[1m\u001b[4mmore\u001b[0m  games than the 22 year Premier League average.\n",
      "In 2014 Manchester United won  \u001b[92m\u001b[1m\u001b[4mmore\u001b[0m  games than the 22 year Premier League average.\n",
      "In 2014 Tottenham Hotspur won  \u001b[92m\u001b[1m\u001b[4mmore\u001b[0m  games than the 22 year Premier League average.\n",
      "In 2014 Liverpool won  \u001b[92m\u001b[1m\u001b[4mmore\u001b[0m  games than the 22 year Premier League average.\n"
     ]
    },
    {
     "name": "stdout",
     "output_type": "stream",
     "text": [
      "In 2014 Southampton won  \u001b[92m\u001b[1m\u001b[4mmore\u001b[0m  games than the 22 year Premier League average.\n",
      "In 2014 Swansea City won  \u001b[92m\u001b[1m\u001b[4mmore\u001b[0m  games than the 22 year Premier League average.\n",
      "In 2014 Stoke City won  \u001b[92m\u001b[1m\u001b[4mmore\u001b[0m  games than the 22 year Premier League average.\n",
      "In 2014 Crystal Palace won  \u001b[91m\u001b[1m\u001b[4mless\u001b[0m  games than the 22 year Premier League average.\n",
      "In 2014 Everton won  \u001b[91m\u001b[1m\u001b[4mless\u001b[0m  games than the 22 year Premier League average.\n",
      "In 2014 West Ham United won  \u001b[91m\u001b[1m\u001b[4mless\u001b[0m  games than the 22 year Premier League average.\n",
      "In 2014 West Bromwich Albion won  \u001b[91m\u001b[1m\u001b[4mless\u001b[0m  games than the 22 year Premier League average.\n",
      "In 2014 Leicester City won  \u001b[91m\u001b[1m\u001b[4mless\u001b[0m  games than the 22 year Premier League average.\n",
      "In 2014 Newcastle United won  \u001b[91m\u001b[1m\u001b[4mless\u001b[0m  games than the 22 year Premier League average.\n",
      "In 2014 Sunderland won  \u001b[91m\u001b[1m\u001b[4mless\u001b[0m  games than the 22 year Premier League average.\n",
      "In 2014 Aston Villa won  \u001b[91m\u001b[1m\u001b[4mless\u001b[0m  games than the 22 year Premier League average.\n",
      "In 2014 Hull City won  \u001b[91m\u001b[1m\u001b[4mless\u001b[0m  games than the 22 year Premier League average.\n",
      "In 2014 Burnley won  \u001b[91m\u001b[1m\u001b[4mless\u001b[0m  games than the 22 year Premier League average.\n",
      "In 2014 Queens Park Rangers won  \u001b[91m\u001b[1m\u001b[4mless\u001b[0m  games than the 22 year Premier League average.\n",
      "In 2015 Leicester City won  \u001b[92m\u001b[1m\u001b[4mmore\u001b[0m  games than the 22 year Premier League average.\n",
      "In 2015 Arsenal won  \u001b[92m\u001b[1m\u001b[4mmore\u001b[0m  games than the 22 year Premier League average.\n",
      "In 2015 Tottenham Hotspur won  \u001b[92m\u001b[1m\u001b[4mmore\u001b[0m  games than the 22 year Premier League average.\n",
      "In 2015 Manchester City won  \u001b[92m\u001b[1m\u001b[4mmore\u001b[0m  games than the 22 year Premier League average.\n",
      "In 2015 Manchester United won  \u001b[92m\u001b[1m\u001b[4mmore\u001b[0m  games than the 22 year Premier League average.\n",
      "In 2015 Southampton won  \u001b[92m\u001b[1m\u001b[4mmore\u001b[0m  games than the 22 year Premier League average.\n",
      "In 2015 West Ham United won  \u001b[92m\u001b[1m\u001b[4mmore\u001b[0m  games than the 22 year Premier League average.\n",
      "In 2015 Liverpool won  \u001b[92m\u001b[1m\u001b[4mmore\u001b[0m  games than the 22 year Premier League average.\n",
      "In 2015 Chelsea won  \u001b[91m\u001b[1m\u001b[4mless\u001b[0m  games than the 22 year Premier League average.\n",
      "In 2015 Everton won  \u001b[91m\u001b[1m\u001b[4mless\u001b[0m  games than the 22 year Premier League average.\n",
      "In 2015 Swansea City won  \u001b[91m\u001b[1m\u001b[4mless\u001b[0m  games than the 22 year Premier League average.\n",
      "In 2015 Watford won  \u001b[91m\u001b[1m\u001b[4mless\u001b[0m  games than the 22 year Premier League average.\n",
      "In 2015 West Bromwich Albion won  \u001b[91m\u001b[1m\u001b[4mless\u001b[0m  games than the 22 year Premier League average.\n",
      "In 2015 Crystal Palace won  \u001b[91m\u001b[1m\u001b[4mless\u001b[0m  games than the 22 year Premier League average.\n",
      "In 2015 Bournemouth won  \u001b[91m\u001b[1m\u001b[4mless\u001b[0m  games than the 22 year Premier League average.\n",
      "In 2015 Sunderland won  \u001b[91m\u001b[1m\u001b[4mless\u001b[0m  games than the 22 year Premier League average.\n",
      "In 2015 Newcastle United won  \u001b[91m\u001b[1m\u001b[4mless\u001b[0m  games than the 22 year Premier League average.\n",
      "In 2015 Norwich City won  \u001b[91m\u001b[1m\u001b[4mless\u001b[0m  games than the 22 year Premier League average.\n",
      "In 2015 Aston Villa won  \u001b[91m\u001b[1m\u001b[4mless\u001b[0m  games than the 22 year Premier League average.\n",
      "In 2016 Chelsea won  \u001b[92m\u001b[1m\u001b[4mmore\u001b[0m  games than the 22 year Premier League average.\n",
      "In 2016 Tottenham Hotspur won  \u001b[92m\u001b[1m\u001b[4mmore\u001b[0m  games than the 22 year Premier League average.\n",
      "In 2016 Manchester City won  \u001b[92m\u001b[1m\u001b[4mmore\u001b[0m  games than the 22 year Premier League average.\n",
      "In 2016 Liverpool won  \u001b[92m\u001b[1m\u001b[4mmore\u001b[0m  games than the 22 year Premier League average.\n",
      "In 2016 Arsenal won  \u001b[92m\u001b[1m\u001b[4mmore\u001b[0m  games than the 22 year Premier League average.\n",
      "In 2016 Manchester United won  \u001b[92m\u001b[1m\u001b[4mmore\u001b[0m  games than the 22 year Premier League average.\n",
      "In 2016 Everton won  \u001b[92m\u001b[1m\u001b[4mmore\u001b[0m  games than the 22 year Premier League average.\n",
      "In 2016 Southampton won  \u001b[91m\u001b[1m\u001b[4mless\u001b[0m  games than the 22 year Premier League average.\n",
      "In 2016 Bournemouth won  \u001b[91m\u001b[1m\u001b[4mless\u001b[0m  games than the 22 year Premier League average.\n",
      "In 2016 West Bromwich Albion won  \u001b[91m\u001b[1m\u001b[4mless\u001b[0m  games than the 22 year Premier League average.\n",
      "In 2016 West Ham United won  \u001b[91m\u001b[1m\u001b[4mless\u001b[0m  games than the 22 year Premier League average.\n",
      "In 2016 Leicester City won  \u001b[91m\u001b[1m\u001b[4mless\u001b[0m  games than the 22 year Premier League average.\n",
      "In 2016 Stoke City won  \u001b[91m\u001b[1m\u001b[4mless\u001b[0m  games than the 22 year Premier League average.\n",
      "In 2016 Crystal Palace won  \u001b[91m\u001b[1m\u001b[4mless\u001b[0m  games than the 22 year Premier League average.\n",
      "In 2016 Swansea City won  \u001b[91m\u001b[1m\u001b[4mless\u001b[0m  games than the 22 year Premier League average.\n",
      "In 2016 Burnley won  \u001b[91m\u001b[1m\u001b[4mless\u001b[0m  games than the 22 year Premier League average.\n",
      "In 2016 Watford won  \u001b[91m\u001b[1m\u001b[4mless\u001b[0m  games than the 22 year Premier League average.\n",
      "In 2016 Hull City won  \u001b[91m\u001b[1m\u001b[4mless\u001b[0m  games than the 22 year Premier League average.\n",
      "In 2016 Middlesbrough won  \u001b[91m\u001b[1m\u001b[4mless\u001b[0m  games than the 22 year Premier League average.\n",
      "In 2016 Sunderland won  \u001b[91m\u001b[1m\u001b[4mless\u001b[0m  games than the 22 year Premier League average.\n",
      "In 2017 Manchester City won  \u001b[92m\u001b[1m\u001b[4mmore\u001b[0m  games than the 22 year Premier League average.\n",
      "In 2017 Manchester United won  \u001b[92m\u001b[1m\u001b[4mmore\u001b[0m  games than the 22 year Premier League average.\n",
      "In 2017 Tottenham Hotspur won  \u001b[92m\u001b[1m\u001b[4mmore\u001b[0m  games than the 22 year Premier League average.\n",
      "In 2017 Liverpool won  \u001b[92m\u001b[1m\u001b[4mmore\u001b[0m  games than the 22 year Premier League average.\n",
      "In 2017 Chelsea won  \u001b[92m\u001b[1m\u001b[4mmore\u001b[0m  games than the 22 year Premier League average.\n",
      "In 2017 Arsenal won  \u001b[92m\u001b[1m\u001b[4mmore\u001b[0m  games than the 22 year Premier League average.\n",
      "In 2017 Everton won  \u001b[91m\u001b[1m\u001b[4mless\u001b[0m  games than the 22 year Premier League average.\n",
      "In 2017 Leicester City won  \u001b[91m\u001b[1m\u001b[4mless\u001b[0m  games than the 22 year Premier League average.\n",
      "In 2017 Newcastle United won  \u001b[91m\u001b[1m\u001b[4mless\u001b[0m  games than the 22 year Premier League average.\n",
      "In 2017 Crystal Palace won  \u001b[91m\u001b[1m\u001b[4mless\u001b[0m  games than the 22 year Premier League average.\n",
      "In 2017 Bournemouth won  \u001b[91m\u001b[1m\u001b[4mless\u001b[0m  games than the 22 year Premier League average.\n",
      "In 2017 West Ham United won  \u001b[91m\u001b[1m\u001b[4mless\u001b[0m  games than the 22 year Premier League average.\n",
      "In 2017 Watford won  \u001b[91m\u001b[1m\u001b[4mless\u001b[0m  games than the 22 year Premier League average.\n",
      "In 2017 Brighton & Hove Albion won  \u001b[91m\u001b[1m\u001b[4mless\u001b[0m  games than the 22 year Premier League average.\n",
      "In 2017 Huddersfield Town won  \u001b[91m\u001b[1m\u001b[4mless\u001b[0m  games than the 22 year Premier League average.\n",
      "In 2017 Southampton won  \u001b[91m\u001b[1m\u001b[4mless\u001b[0m  games than the 22 year Premier League average.\n",
      "In 2017 Swansea City won  \u001b[91m\u001b[1m\u001b[4mless\u001b[0m  games than the 22 year Premier League average.\n",
      "In 2017 Stoke City won  \u001b[91m\u001b[1m\u001b[4mless\u001b[0m  games than the 22 year Premier League average.\n",
      "In 2017 West Bromwich Albion won  \u001b[91m\u001b[1m\u001b[4mless\u001b[0m  games than the 22 year Premier League average.\n",
      "In 2018 Manchester City won  \u001b[92m\u001b[1m\u001b[4mmore\u001b[0m  games than the 22 year Premier League average.\n",
      "In 2018 Liverpool won  \u001b[92m\u001b[1m\u001b[4mmore\u001b[0m  games than the 22 year Premier League average.\n",
      "In 2018 Chelsea won  \u001b[92m\u001b[1m\u001b[4mmore\u001b[0m  games than the 22 year Premier League average.\n",
      "In 2018 Tottenham Hotspur won  \u001b[92m\u001b[1m\u001b[4mmore\u001b[0m  games than the 22 year Premier League average.\n",
      "In 2018 Arsenal won  \u001b[92m\u001b[1m\u001b[4mmore\u001b[0m  games than the 22 year Premier League average.\n",
      "In 2018 Manchester United won  \u001b[92m\u001b[1m\u001b[4mmore\u001b[0m  games than the 22 year Premier League average.\n",
      "In 2018 Wolverhampton Wanderers won  \u001b[92m\u001b[1m\u001b[4mmore\u001b[0m  games than the 22 year Premier League average.\n",
      "In 2018 Everton won  \u001b[92m\u001b[1m\u001b[4mmore\u001b[0m  games than the 22 year Premier League average.\n",
      "In 2018 Leicester City won  \u001b[92m\u001b[1m\u001b[4mmore\u001b[0m  games than the 22 year Premier League average.\n",
      "In 2018 West Ham United won  \u001b[92m\u001b[1m\u001b[4mmore\u001b[0m  games than the 22 year Premier League average.\n",
      "In 2018 Newcastle United won  \u001b[91m\u001b[1m\u001b[4mless\u001b[0m  games than the 22 year Premier League average.\n",
      "In 2018 Bournemouth won  \u001b[91m\u001b[1m\u001b[4mless\u001b[0m  games than the 22 year Premier League average.\n",
      "In 2018 Burnley won  \u001b[91m\u001b[1m\u001b[4mless\u001b[0m  games than the 22 year Premier League average.\n",
      "In 2018 Southampton won  \u001b[91m\u001b[1m\u001b[4mless\u001b[0m  games than the 22 year Premier League average.\n",
      "In 2018 Brighton & Hove Albion won  \u001b[91m\u001b[1m\u001b[4mless\u001b[0m  games than the 22 year Premier League average.\n",
      "In 2018 Cardiff City won  \u001b[91m\u001b[1m\u001b[4mless\u001b[0m  games than the 22 year Premier League average.\n",
      "In 2018 Fulham won  \u001b[91m\u001b[1m\u001b[4mless\u001b[0m  games than the 22 year Premier League average.\n",
      "In 2018 Huddersfield Town won  \u001b[91m\u001b[1m\u001b[4mless\u001b[0m  games than the 22 year Premier League average.\n",
      "In 2019 Liverpool won  \u001b[92m\u001b[1m\u001b[4mmore\u001b[0m  games than the 22 year Premier League average.\n",
      "In 2019 Manchester City won  \u001b[92m\u001b[1m\u001b[4mmore\u001b[0m  games than the 22 year Premier League average.\n",
      "In 2019 Manchester United won  \u001b[92m\u001b[1m\u001b[4mmore\u001b[0m  games than the 22 year Premier League average.\n",
      "In 2019 Chelsea won  \u001b[92m\u001b[1m\u001b[4mmore\u001b[0m  games than the 22 year Premier League average.\n",
      "In 2019 Leicester City won  \u001b[92m\u001b[1m\u001b[4mmore\u001b[0m  games than the 22 year Premier League average.\n",
      "In 2019 Tottenham Hotspur won  \u001b[92m\u001b[1m\u001b[4mmore\u001b[0m  games than the 22 year Premier League average.\n",
      "In 2019 Wolverhampton Wanderers won  \u001b[92m\u001b[1m\u001b[4mmore\u001b[0m  games than the 22 year Premier League average.\n",
      "In 2019 Burnley won  \u001b[92m\u001b[1m\u001b[4mmore\u001b[0m  games than the 22 year Premier League average.\n",
      "In 2019 Southampton won  \u001b[92m\u001b[1m\u001b[4mmore\u001b[0m  games than the 22 year Premier League average.\n",
      "In 2019 Everton won  \u001b[91m\u001b[1m\u001b[4mless\u001b[0m  games than the 22 year Premier League average.\n",
      "In 2019 Newcastle United won  \u001b[91m\u001b[1m\u001b[4mless\u001b[0m  games than the 22 year Premier League average.\n",
      "In 2019 Crystal Palace won  \u001b[91m\u001b[1m\u001b[4mless\u001b[0m  games than the 22 year Premier League average.\n",
      "In 2019 Brighton & Hove Albion won  \u001b[91m\u001b[1m\u001b[4mless\u001b[0m  games than the 22 year Premier League average.\n",
      "In 2019 West Ham United won  \u001b[91m\u001b[1m\u001b[4mless\u001b[0m  games than the 22 year Premier League average.\n",
      "In 2019 Aston Villa won  \u001b[91m\u001b[1m\u001b[4mless\u001b[0m  games than the 22 year Premier League average.\n",
      "In 2019 Bournemouth won  \u001b[91m\u001b[1m\u001b[4mless\u001b[0m  games than the 22 year Premier League average.\n",
      "In 2019 Watford won  \u001b[91m\u001b[1m\u001b[4mless\u001b[0m  games than the 22 year Premier League average.\n",
      "In 2019 Norwich City won  \u001b[91m\u001b[1m\u001b[4mless\u001b[0m  games than the 22 year Premier League average.\n",
      "In 2020 Manchester City won  \u001b[92m\u001b[1m\u001b[4mmore\u001b[0m  games than the 22 year Premier League average.\n",
      "In 2020 Manchester United won  \u001b[92m\u001b[1m\u001b[4mmore\u001b[0m  games than the 22 year Premier League average.\n",
      "In 2020 Liverpool won  \u001b[92m\u001b[1m\u001b[4mmore\u001b[0m  games than the 22 year Premier League average.\n",
      "In 2020 Chelsea won  \u001b[92m\u001b[1m\u001b[4mmore\u001b[0m  games than the 22 year Premier League average.\n",
      "In 2020 Leicester City won  \u001b[92m\u001b[1m\u001b[4mmore\u001b[0m  games than the 22 year Premier League average.\n",
      "In 2020 West Ham United won  \u001b[92m\u001b[1m\u001b[4mmore\u001b[0m  games than the 22 year Premier League average.\n",
      "In 2020 Tottenham Hotspur won  \u001b[92m\u001b[1m\u001b[4mmore\u001b[0m  games than the 22 year Premier League average.\n",
      "In 2020 Arsenal won  \u001b[92m\u001b[1m\u001b[4mmore\u001b[0m  games than the 22 year Premier League average.\n",
      "In 2020 Leeds United won  \u001b[92m\u001b[1m\u001b[4mmore\u001b[0m  games than the 22 year Premier League average.\n",
      "In 2020 Everton won  \u001b[92m\u001b[1m\u001b[4mmore\u001b[0m  games than the 22 year Premier League average.\n",
      "In 2020 Aston Villa won  \u001b[92m\u001b[1m\u001b[4mmore\u001b[0m  games than the 22 year Premier League average.\n",
      "In 2020 Newcastle United won  \u001b[91m\u001b[1m\u001b[4mless\u001b[0m  games than the 22 year Premier League average.\n",
      "In 2020 Wolverhampton Wanderers won  \u001b[91m\u001b[1m\u001b[4mless\u001b[0m  games than the 22 year Premier League average.\n",
      "In 2020 Crystal Palace won  \u001b[91m\u001b[1m\u001b[4mless\u001b[0m  games than the 22 year Premier League average.\n",
      "In 2020 Southampton won  \u001b[91m\u001b[1m\u001b[4mless\u001b[0m  games than the 22 year Premier League average.\n",
      "In 2020 Brighton & Hove Albion won  \u001b[91m\u001b[1m\u001b[4mless\u001b[0m  games than the 22 year Premier League average.\n",
      "In 2020 Burnley won  \u001b[91m\u001b[1m\u001b[4mless\u001b[0m  games than the 22 year Premier League average.\n",
      "In 2020 Fulham won  \u001b[91m\u001b[1m\u001b[4mless\u001b[0m  games than the 22 year Premier League average.\n",
      "In 2020 West Bromwich Albion won  \u001b[91m\u001b[1m\u001b[4mless\u001b[0m  games than the 22 year Premier League average.\n",
      "In 2020 Sheffield United won  \u001b[91m\u001b[1m\u001b[4mless\u001b[0m  games than the 22 year Premier League average.\n",
      "In 2021 Manchester City won  \u001b[92m\u001b[1m\u001b[4mmore\u001b[0m  games than the 22 year Premier League average.\n",
      "In 2021 Liverpool won  \u001b[92m\u001b[1m\u001b[4mmore\u001b[0m  games than the 22 year Premier League average.\n",
      "In 2021 Chelsea won  \u001b[92m\u001b[1m\u001b[4mmore\u001b[0m  games than the 22 year Premier League average.\n",
      "In 2021 Tottenham Hotspur won  \u001b[92m\u001b[1m\u001b[4mmore\u001b[0m  games than the 22 year Premier League average.\n",
      "In 2021 Arsenal won  \u001b[92m\u001b[1m\u001b[4mmore\u001b[0m  games than the 22 year Premier League average.\n",
      "In 2021 Manchester United won  \u001b[92m\u001b[1m\u001b[4mmore\u001b[0m  games than the 22 year Premier League average.\n",
      "In 2021 West Ham United won  \u001b[92m\u001b[1m\u001b[4mmore\u001b[0m  games than the 22 year Premier League average.\n",
      "In 2021 Brighton & Hove Albion won  \u001b[91m\u001b[1m\u001b[4mless\u001b[0m  games than the 22 year Premier League average.\n",
      "In 2021 Wolverhampton Wanderers won  \u001b[92m\u001b[1m\u001b[4mmore\u001b[0m  games than the 22 year Premier League average.\n",
      "In 2021 Newcastle United won  \u001b[91m\u001b[1m\u001b[4mless\u001b[0m  games than the 22 year Premier League average.\n",
      "In 2021 Crystal Palace won  \u001b[91m\u001b[1m\u001b[4mless\u001b[0m  games than the 22 year Premier League average.\n",
      "In 2021 Brentford won  \u001b[91m\u001b[1m\u001b[4mless\u001b[0m  games than the 22 year Premier League average.\n",
      "In 2021 Aston Villa won  \u001b[91m\u001b[1m\u001b[4mless\u001b[0m  games than the 22 year Premier League average.\n",
      "In 2021 Southampton won  \u001b[91m\u001b[1m\u001b[4mless\u001b[0m  games than the 22 year Premier League average.\n",
      "In 2021 Everton won  \u001b[91m\u001b[1m\u001b[4mless\u001b[0m  games than the 22 year Premier League average.\n",
      "In 2021 Leeds United won  \u001b[91m\u001b[1m\u001b[4mless\u001b[0m  games than the 22 year Premier League average.\n",
      "In 2021 Burnley won  \u001b[91m\u001b[1m\u001b[4mless\u001b[0m  games than the 22 year Premier League average.\n",
      "In 2021 Watford won  \u001b[91m\u001b[1m\u001b[4mless\u001b[0m  games than the 22 year Premier League average.\n",
      "In 2021 Norwich City won  \u001b[91m\u001b[1m\u001b[4mless\u001b[0m  games than the 22 year Premier League average.\n"
     ]
    }
   ],
   "source": [
    "#Below we introduce a for loop which will help minimise the amount of code needed in the analysis.\n",
    "#This for loop will loop continuously through the amount of values in the 'Wins' column until it has passed through them all\n",
    "#For each row of the dataframe the for loop will check using the condition statement if and elif\n",
    "#whether the teams wins that year were above the 22 year PL average.\n",
    "#This PL win average was defined earlier in the project as an integer and is now being called back here as it is relevent.\n",
    "#If the team had above average wins that year then the loop will return a sentence stating the year, team name and \n",
    "#that they have won more than the PL average, else it will return that they won less games than the average.\n",
    "#The colour class is also used in the return to emphasise the result and help the readability of the sentence.\n",
    "#The NumPy function .any() is used here to test whether any array element along a given axis evaluates to True.\n",
    "#Without this function the loop would return a error saying a series cannot be used.\n",
    "\n",
    "for i in range(len(PL_Seasons['W'])):\n",
    "    if (PL_Seasons['W'][i] > PL_Average_W).any():\n",
    "        print(\"In\",PL_Seasons['Season'][i],PL_Seasons['Team'][i],\"won \",colour.GREEN + color.BOLD + colour.UNDERLINE +\"more\"+ colour.END,\" games than the 22 year Premier League average.\")\n",
    "    elif (PL_Seasons['W'][i] < PL_Average_W).any():\n",
    "        print(\"In\",PL_Seasons['Season'][i],PL_Seasons['Team'][i],\"won \",colour.RED + color.BOLD+ colour.UNDERLINE +\"less\"+ colour.END,\" games than the 22 year Premier League average.\")"
   ]
  },
  {
   "cell_type": "code",
   "execution_count": 76,
   "id": "13705ecf",
   "metadata": {},
   "outputs": [
    {
     "name": "stdout",
     "output_type": "stream",
     "text": [
      "{'Meta Data': {'1. Information': 'Intraday (5min) open, high, low, close prices and volume', '2. Symbol': 'MANU', '3. Last Refreshed': '2022-07-19 16:05:00', '4. Interval': '5min', '5. Output Size': 'Compact', '6. Time Zone': 'US/Eastern'}, 'Time Series (5min)': {'2022-07-19 16:05:00': {'1. open': '11.1600', '2. high': '11.1600', '3. low': '11.1600', '4. close': '11.1600', '5. volume': '883'}, '2022-07-19 16:00:00': {'1. open': '11.1800', '2. high': '11.1800', '3. low': '11.1300', '4. close': '11.1600', '5. volume': '44937'}, '2022-07-19 15:55:00': {'1. open': '11.1700', '2. high': '11.1800', '3. low': '11.1600', '4. close': '11.1800', '5. volume': '6854'}, '2022-07-19 15:50:00': {'1. open': '11.1700', '2. high': '11.1750', '3. low': '11.1650', '4. close': '11.1700', '5. volume': '3645'}, '2022-07-19 15:45:00': {'1. open': '11.1800', '2. high': '11.1850', '3. low': '11.1700', '4. close': '11.1750', '5. volume': '4014'}, '2022-07-19 15:40:00': {'1. open': '11.1750', '2. high': '11.1750', '3. low': '11.1500', '4. close': '11.1750', '5. volume': '20774'}, '2022-07-19 15:35:00': {'1. open': '11.1750', '2. high': '11.1750', '3. low': '11.1700', '4. close': '11.1750', '5. volume': '1980'}, '2022-07-19 15:30:00': {'1. open': '11.1800', '2. high': '11.1800', '3. low': '11.1750', '4. close': '11.1750', '5. volume': '1411'}, '2022-07-19 15:25:00': {'1. open': '11.1750', '2. high': '11.1800', '3. low': '11.1750', '4. close': '11.1792', '5. volume': '1827'}, '2022-07-19 15:20:00': {'1. open': '11.1750', '2. high': '11.1800', '3. low': '11.1700', '4. close': '11.1700', '5. volume': '2448'}, '2022-07-19 15:15:00': {'1. open': '11.1750', '2. high': '11.1800', '3. low': '11.1700', '4. close': '11.1800', '5. volume': '1574'}, '2022-07-19 15:10:00': {'1. open': '11.1750', '2. high': '11.1800', '3. low': '11.1701', '4. close': '11.1750', '5. volume': '5583'}, '2022-07-19 15:05:00': {'1. open': '11.1750', '2. high': '11.1750', '3. low': '11.1700', '4. close': '11.1750', '5. volume': '892'}, '2022-07-19 15:00:00': {'1. open': '11.1750', '2. high': '11.1750', '3. low': '11.1750', '4. close': '11.1750', '5. volume': '484'}, '2022-07-19 14:55:00': {'1. open': '11.1750', '2. high': '11.1750', '3. low': '11.1700', '4. close': '11.1750', '5. volume': '1482'}, '2022-07-19 14:50:00': {'1. open': '11.1950', '2. high': '11.1950', '3. low': '11.1750', '4. close': '11.1750', '5. volume': '3494'}, '2022-07-19 14:45:00': {'1. open': '11.1950', '2. high': '11.1950', '3. low': '11.1950', '4. close': '11.1950', '5. volume': '906'}, '2022-07-19 14:40:00': {'1. open': '11.1950', '2. high': '11.1950', '3. low': '11.1950', '4. close': '11.1950', '5. volume': '1211'}, '2022-07-19 14:35:00': {'1. open': '11.1850', '2. high': '11.1950', '3. low': '11.1850', '4. close': '11.1950', '5. volume': '592'}, '2022-07-19 14:30:00': {'1. open': '11.2000', '2. high': '11.2000', '3. low': '11.1950', '4. close': '11.1950', '5. volume': '623'}, '2022-07-19 14:25:00': {'1. open': '11.2200', '2. high': '11.2200', '3. low': '11.2000', '4. close': '11.2000', '5. volume': '1860'}, '2022-07-19 14:20:00': {'1. open': '11.2200', '2. high': '11.2300', '3. low': '11.2200', '4. close': '11.2200', '5. volume': '1093'}, '2022-07-19 14:15:00': {'1. open': '11.2300', '2. high': '11.2300', '3. low': '11.2150', '4. close': '11.2150', '5. volume': '2275'}, '2022-07-19 14:10:00': {'1. open': '11.2100', '2. high': '11.2300', '3. low': '11.2100', '4. close': '11.2300', '5. volume': '1133'}, '2022-07-19 14:05:00': {'1. open': '11.1850', '2. high': '11.2050', '3. low': '11.1820', '4. close': '11.2000', '5. volume': '3760'}, '2022-07-19 14:00:00': {'1. open': '11.1750', '2. high': '11.1800', '3. low': '11.1750', '4. close': '11.1800', '5. volume': '3159'}, '2022-07-19 13:55:00': {'1. open': '11.1850', '2. high': '11.1850', '3. low': '11.1700', '4. close': '11.1800', '5. volume': '1223'}, '2022-07-19 13:50:00': {'1. open': '11.1700', '2. high': '11.1800', '3. low': '11.1700', '4. close': '11.1800', '5. volume': '962'}, '2022-07-19 13:45:00': {'1. open': '11.1100', '2. high': '11.1600', '3. low': '11.1100', '4. close': '11.1600', '5. volume': '5123'}, '2022-07-19 13:40:00': {'1. open': '11.1100', '2. high': '11.1100', '3. low': '11.1100', '4. close': '11.1100', '5. volume': '578'}, '2022-07-19 13:35:00': {'1. open': '11.0900', '2. high': '11.1100', '3. low': '11.0800', '4. close': '11.1100', '5. volume': '8245'}, '2022-07-19 13:30:00': {'1. open': '11.1100', '2. high': '11.1100', '3. low': '11.0800', '4. close': '11.0800', '5. volume': '5287'}, '2022-07-19 13:25:00': {'1. open': '11.1050', '2. high': '11.1050', '3. low': '11.1000', '4. close': '11.1050', '5. volume': '605'}, '2022-07-19 13:20:00': {'1. open': '11.1000', '2. high': '11.1050', '3. low': '11.1000', '4. close': '11.1050', '5. volume': '609'}, '2022-07-19 13:15:00': {'1. open': '11.1000', '2. high': '11.1000', '3. low': '11.1000', '4. close': '11.1000', '5. volume': '103'}, '2022-07-19 13:00:00': {'1. open': '11.1100', '2. high': '11.1100', '3. low': '11.1000', '4. close': '11.1000', '5. volume': '2592'}, '2022-07-19 12:55:00': {'1. open': '11.1060', '2. high': '11.1060', '3. low': '11.1060', '4. close': '11.1060', '5. volume': '151'}, '2022-07-19 12:50:00': {'1. open': '11.1000', '2. high': '11.1100', '3. low': '11.1000', '4. close': '11.1000', '5. volume': '617'}, '2022-07-19 12:45:00': {'1. open': '11.0900', '2. high': '11.1100', '3. low': '11.0900', '4. close': '11.1075', '5. volume': '3316'}, '2022-07-19 12:40:00': {'1. open': '11.0900', '2. high': '11.0900', '3. low': '11.0900', '4. close': '11.0900', '5. volume': '170'}, '2022-07-19 12:35:00': {'1. open': '11.0900', '2. high': '11.0950', '3. low': '11.0900', '4. close': '11.0900', '5. volume': '1576'}, '2022-07-19 12:30:00': {'1. open': '11.1000', '2. high': '11.1000', '3. low': '11.0850', '4. close': '11.0900', '5. volume': '5633'}, '2022-07-19 12:25:00': {'1. open': '11.1000', '2. high': '11.1000', '3. low': '11.0900', '4. close': '11.0950', '5. volume': '1590'}, '2022-07-19 12:20:00': {'1. open': '11.0950', '2. high': '11.0950', '3. low': '11.0950', '4. close': '11.0950', '5. volume': '113'}, '2022-07-19 12:15:00': {'1. open': '11.1000', '2. high': '11.1000', '3. low': '11.1000', '4. close': '11.1000', '5. volume': '1420'}, '2022-07-19 12:05:00': {'1. open': '11.1100', '2. high': '11.1100', '3. low': '11.1000', '4. close': '11.1000', '5. volume': '516'}, '2022-07-19 12:00:00': {'1. open': '11.1100', '2. high': '11.1300', '3. low': '11.1100', '4. close': '11.1150', '5. volume': '2133'}, '2022-07-19 11:55:00': {'1. open': '11.1000', '2. high': '11.1050', '3. low': '11.0950', '4. close': '11.1000', '5. volume': '1094'}, '2022-07-19 11:50:00': {'1. open': '11.1090', '2. high': '11.1090', '3. low': '11.1050', '4. close': '11.1050', '5. volume': '596'}, '2022-07-19 11:45:00': {'1. open': '11.1100', '2. high': '11.1100', '3. low': '11.1000', '4. close': '11.1000', '5. volume': '1186'}, '2022-07-19 11:40:00': {'1. open': '11.1240', '2. high': '11.1240', '3. low': '11.1200', '4. close': '11.1200', '5. volume': '1642'}, '2022-07-19 11:35:00': {'1. open': '11.1250', '2. high': '11.1350', '3. low': '11.1200', '4. close': '11.1250', '5. volume': '3939'}, '2022-07-19 11:30:00': {'1. open': '11.1400', '2. high': '11.1500', '3. low': '11.1250', '4. close': '11.1300', '5. volume': '8146'}, '2022-07-19 11:25:00': {'1. open': '11.1300', '2. high': '11.1300', '3. low': '11.1250', '4. close': '11.1300', '5. volume': '2820'}, '2022-07-19 11:20:00': {'1. open': '11.1400', '2. high': '11.1400', '3. low': '11.1300', '4. close': '11.1300', '5. volume': '1058'}, '2022-07-19 11:10:00': {'1. open': '11.1650', '2. high': '11.1650', '3. low': '11.1300', '4. close': '11.1400', '5. volume': '5177'}, '2022-07-19 11:05:00': {'1. open': '11.1500', '2. high': '11.1600', '3. low': '11.1500', '4. close': '11.1600', '5. volume': '1478'}, '2022-07-19 11:00:00': {'1. open': '11.1700', '2. high': '11.1700', '3. low': '11.1500', '4. close': '11.1500', '5. volume': '1383'}, '2022-07-19 10:55:00': {'1. open': '11.1700', '2. high': '11.1750', '3. low': '11.1650', '4. close': '11.1750', '5. volume': '759'}, '2022-07-19 10:50:00': {'1. open': '11.1400', '2. high': '11.1600', '3. low': '11.1400', '4. close': '11.1600', '5. volume': '914'}, '2022-07-19 10:45:00': {'1. open': '11.1400', '2. high': '11.1400', '3. low': '11.1400', '4. close': '11.1400', '5. volume': '125'}, '2022-07-19 10:40:00': {'1. open': '11.1350', '2. high': '11.1400', '3. low': '11.1350', '4. close': '11.1400', '5. volume': '338'}, '2022-07-19 10:35:00': {'1. open': '11.1500', '2. high': '11.1500', '3. low': '11.1400', '4. close': '11.1400', '5. volume': '1373'}, '2022-07-19 10:30:00': {'1. open': '11.1200', '2. high': '11.1500', '3. low': '11.1200', '4. close': '11.1500', '5. volume': '2045'}, '2022-07-19 10:25:00': {'1. open': '11.1500', '2. high': '11.1600', '3. low': '11.1100', '4. close': '11.1100', '5. volume': '4777'}, '2022-07-19 10:20:00': {'1. open': '11.1300', '2. high': '11.1400', '3. low': '11.1300', '4. close': '11.1400', '5. volume': '1405'}, '2022-07-19 10:15:00': {'1. open': '11.1400', '2. high': '11.1500', '3. low': '11.1400', '4. close': '11.1500', '5. volume': '869'}, '2022-07-19 10:10:00': {'1. open': '11.1500', '2. high': '11.1500', '3. low': '11.1200', '4. close': '11.1400', '5. volume': '1952'}, '2022-07-19 10:05:00': {'1. open': '11.1500', '2. high': '11.1500', '3. low': '11.1500', '4. close': '11.1500', '5. volume': '700'}, '2022-07-19 10:00:00': {'1. open': '11.1500', '2. high': '11.1500', '3. low': '11.1400', '4. close': '11.1400', '5. volume': '630'}, '2022-07-19 09:55:00': {'1. open': '11.1600', '2. high': '11.1750', '3. low': '11.1300', '4. close': '11.1500', '5. volume': '6269'}, '2022-07-19 09:50:00': {'1. open': '11.1700', '2. high': '11.1900', '3. low': '11.1700', '4. close': '11.1900', '5. volume': '1926'}, '2022-07-19 09:45:00': {'1. open': '11.2200', '2. high': '11.2200', '3. low': '11.1900', '4. close': '11.2088', '5. volume': '1203'}, '2022-07-19 09:40:00': {'1. open': '11.1600', '2. high': '11.2000', '3. low': '11.1600', '4. close': '11.2000', '5. volume': '737'}, '2022-07-19 09:35:00': {'1. open': '11.1300', '2. high': '11.1700', '3. low': '11.0900', '4. close': '11.0900', '5. volume': '1851'}, '2022-07-18 16:05:00': {'1. open': '11.0200', '2. high': '11.0200', '3. low': '11.0200', '4. close': '11.0200', '5. volume': '183'}, '2022-07-18 16:00:00': {'1. open': '11.0700', '2. high': '11.0700', '3. low': '11.0100', '4. close': '11.0200', '5. volume': '19253'}, '2022-07-18 15:55:00': {'1. open': '11.0600', '2. high': '11.0750', '3. low': '11.0600', '4. close': '11.0750', '5. volume': '3545'}, '2022-07-18 15:50:00': {'1. open': '11.0700', '2. high': '11.0700', '3. low': '11.0500', '4. close': '11.0600', '5. volume': '4301'}, '2022-07-18 15:45:00': {'1. open': '11.0850', '2. high': '11.0900', '3. low': '11.0700', '4. close': '11.0700', '5. volume': '2496'}, '2022-07-18 15:40:00': {'1. open': '11.0900', '2. high': '11.0900', '3. low': '11.0800', '4. close': '11.0850', '5. volume': '1462'}, '2022-07-18 15:35:00': {'1. open': '11.0950', '2. high': '11.0950', '3. low': '11.0950', '4. close': '11.0950', '5. volume': '1382'}, '2022-07-18 15:30:00': {'1. open': '11.1050', '2. high': '11.1050', '3. low': '11.0950', '4. close': '11.0950', '5. volume': '795'}, '2022-07-18 15:25:00': {'1. open': '11.1000', '2. high': '11.1050', '3. low': '11.1000', '4. close': '11.1050', '5. volume': '699'}, '2022-07-18 15:20:00': {'1. open': '11.0900', '2. high': '11.1000', '3. low': '11.0884', '4. close': '11.0884', '5. volume': '593'}, '2022-07-18 15:15:00': {'1. open': '11.1000', '2. high': '11.1000', '3. low': '11.0800', '4. close': '11.1000', '5. volume': '894'}, '2022-07-18 15:10:00': {'1. open': '11.0600', '2. high': '11.0800', '3. low': '11.0600', '4. close': '11.0800', '5. volume': '894'}, '2022-07-18 15:05:00': {'1. open': '11.0700', '2. high': '11.0700', '3. low': '11.0650', '4. close': '11.0700', '5. volume': '996'}, '2022-07-18 15:00:00': {'1. open': '11.0500', '2. high': '11.0700', '3. low': '11.0500', '4. close': '11.0700', '5. volume': '676'}, '2022-07-18 14:55:00': {'1. open': '11.0700', '2. high': '11.0800', '3. low': '11.0600', '4. close': '11.0600', '5. volume': '2866'}, '2022-07-18 14:50:00': {'1. open': '11.0600', '2. high': '11.0600', '3. low': '11.0450', '4. close': '11.0600', '5. volume': '2098'}, '2022-07-18 14:45:00': {'1. open': '11.0800', '2. high': '11.0800', '3. low': '11.0550', '4. close': '11.0550', '5. volume': '877'}, '2022-07-18 14:40:00': {'1. open': '11.0400', '2. high': '11.0800', '3. low': '11.0400', '4. close': '11.0800', '5. volume': '799'}, '2022-07-18 14:35:00': {'1. open': '11.0200', '2. high': '11.0350', '3. low': '11.0200', '4. close': '11.0350', '5. volume': '3074'}, '2022-07-18 14:30:00': {'1. open': '11.0250', '2. high': '11.0250', '3. low': '11.0200', '4. close': '11.0200', '5. volume': '3242'}, '2022-07-18 14:25:00': {'1. open': '11.0350', '2. high': '11.0350', '3. low': '11.0300', '4. close': '11.0300', '5. volume': '1363'}, '2022-07-18 14:20:00': {'1. open': '11.0300', '2. high': '11.0350', '3. low': '11.0280', '4. close': '11.0350', '5. volume': '2130'}, '2022-07-18 14:15:00': {'1. open': '11.0300', '2. high': '11.0300', '3. low': '11.0250', '4. close': '11.0250', '5. volume': '710'}, '2022-07-18 14:10:00': {'1. open': '11.0750', '2. high': '11.0750', '3. low': '11.0300', '4. close': '11.0300', '5. volume': '6231'}, '2022-07-18 14:05:00': {'1. open': '11.0739', '2. high': '11.0739', '3. low': '11.0739', '4. close': '11.0739', '5. volume': '500'}}}\n"
     ]
    }
   ],
   "source": [
    "#XGA4O6I3IUUXDA1P - API Key\n",
    "#Here we use alphavantage in order to retrieve live data from their online API\n",
    "#In this example we are pulling the stock information of the ticker symbol MANU\n",
    "#This ticker symbol is Manchester United's stock price, which at the time of writing this was 11.16 USD\n",
    "\n",
    "import requests \n",
    "\n",
    "url = 'https://www.alphavantage.co/query?function=TIME_SERIES_INTRADAY&symbol=MANU&interval=5min&apikey=XGA4O6I3IUUXDA1P'\n",
    "r = requests.get(url)\n",
    "data = r.json()\n",
    "\n",
    "print(data)"
   ]
  },
  {
   "cell_type": "code",
   "execution_count": 192,
   "id": "dc695921",
   "metadata": {},
   "outputs": [],
   "source": [
    "#This user defined function checks to see if the team typed into the function played in the premier league.\n",
    "#This function uses the conditional statement if to check the dataframe for the function's argument\n",
    "\n",
    "def print_player_names(i):\n",
    "    if (i == PL_Seasons['Team']).any():\n",
    "        print(\"This team\", colour.GREEN + color.BOLD + \"did\" + colour.END, \"play in the premier league.\")\n",
    "    else:\n",
    "        print(\"This team\", colour.RED + color.BOLD + \"didn't\" + colour.END, \"play in the premier league.\")\n",
    "    \n",
    "    "
   ]
  },
  {
   "cell_type": "code",
   "execution_count": 193,
   "id": "04546603",
   "metadata": {
    "scrolled": true
   },
   "outputs": [
    {
     "name": "stdout",
     "output_type": "stream",
     "text": [
      "This team \u001b[92m\u001b[1mdid\u001b[0m play in the premier league.\n"
     ]
    }
   ],
   "source": [
    "#An example of a team that is in the premier league\n",
    "print_player_names('Chelsea')"
   ]
  },
  {
   "cell_type": "code",
   "execution_count": 194,
   "id": "4af3a626",
   "metadata": {},
   "outputs": [
    {
     "name": "stdout",
     "output_type": "stream",
     "text": [
      "This team \u001b[91m\u001b[1mdidn't\u001b[0m play in the premier league.\n"
     ]
    }
   ],
   "source": [
    "#An example of a team that isn't in the premier league\n",
    "print_player_names('Barcelona')"
   ]
  },
  {
   "cell_type": "code",
   "execution_count": 202,
   "id": "64a8cee5",
   "metadata": {},
   "outputs": [
    {
     "data": {
      "application/vnd.plotly.v1+json": {
       "config": {
        "plotlyServerURL": "https://plot.ly"
       },
       "data": [
        {
         "alignmentgroup": "True",
         "bingroup": "x",
         "histfunc": "sum",
         "hovertemplate": "Team=%{x}<br>sum of W=%{y}<extra></extra>",
         "legendgroup": "",
         "marker": {
          "color": "#636efa",
          "pattern": {
           "shape": ""
          }
         },
         "name": "",
         "nbinsx": 20,
         "offsetgroup": "",
         "orientation": "v",
         "showlegend": false,
         "type": "histogram",
         "x": [
          "Manchester United",
          "Arsenal",
          "Liverpool",
          "Leeds United",
          "Ipswich Town",
          "Chelsea",
          "Sunderland",
          "Aston Villa",
          "Charlton Athletic",
          "Southampton",
          "Newcastle United",
          "Tottenham Hotspur",
          "Leicester City",
          "Middlesbrough",
          "West Ham United",
          "Everton",
          "Derby County",
          "Manchester City",
          "Coventry City",
          "Bradford City",
          "Arsenal",
          "Liverpool",
          "Manchester United",
          "Newcastle United",
          "Leeds United",
          "Chelsea",
          "West Ham United",
          "Aston Villa",
          "Tottenham Hotspur",
          "Blackburn Rovers",
          "Southampton",
          "Middlesbrough",
          "Fulham",
          "Charlton Athletic",
          "Everton",
          "Bolton Wanderers",
          "Sunderland",
          "Ipswich Town",
          "Derby County",
          "Leicester City",
          "Manchester United",
          "Arsenal",
          "Newcastle United",
          "Chelsea",
          "Liverpool",
          "Blackburn Rovers",
          "Everton",
          "Southampton",
          "Manchester City",
          "Tottenham Hotspur",
          "Middlesbrough",
          "Charlton Athletic",
          "Birmingham City",
          "Fulham",
          "Leeds United",
          "Aston Villa",
          "Bolton Wanderers",
          "West Ham United",
          "West Bromwich Albion",
          "Sunderland",
          "Arsenal",
          "Chelsea",
          "Manchester United",
          "Liverpool",
          "Newcastle United",
          "Aston Villa",
          "Charlton Athletic",
          "Bolton Wanderers",
          "Fulham",
          "Birmingham City",
          "Middlesbrough",
          "Southampton",
          "Portsmouth",
          "Tottenham Hotspur",
          "Blackburn Rovers",
          "Manchester City",
          "Everton",
          "Leicester City",
          "Leeds United",
          "Wolverhampton Wanderers",
          "Chelsea",
          "Arsenal",
          "Manchester United",
          "Everton",
          "Liverpool",
          "Bolton Wanderers",
          "Middlesbrough",
          "Manchester City",
          "Tottenham Hotspur",
          "Aston Villa",
          "Charlton Athletic",
          "Birmingham City",
          "Fulham",
          "Newcastle United",
          "Blackburn Rovers",
          "Portsmouth",
          "West Bromwich Albion",
          "Crystal Palace",
          "Norwich City",
          "Southampton",
          "Chelsea",
          "Manchester United",
          "Liverpool",
          "Arsenal",
          "Tottenham Hotspur",
          "Blackburn Rovers",
          "Newcastle United",
          "Bolton Wanderers",
          "West Ham United",
          "Wigan Athletic",
          "Everton",
          "Fulham",
          "Charlton Athletic",
          "Middlesbrough",
          "Manchester City",
          "Aston Villa",
          "Portsmouth",
          "Birmingham City",
          "West Bromwich Albion",
          "Sunderland",
          "Manchester United",
          "Chelsea",
          "Liverpool",
          "Arsenal",
          "Tottenham Hotspur",
          "Everton",
          "Bolton Wanderers",
          "Reading",
          "Portsmouth",
          "Blackburn Rovers",
          "Aston Villa",
          "Middlesbrough",
          "Newcastle United",
          "Manchester City",
          "West Ham United",
          "Fulham",
          "Wigan Athletic",
          "Sheffield United",
          "Charlton Athletic",
          "Watford",
          "Manchester United",
          "Chelsea",
          "Arsenal",
          "Liverpool",
          "Everton",
          "Aston Villa",
          "Blackburn Rovers",
          "Portsmouth",
          "Manchester City",
          "West Ham United",
          "Tottenham Hotspur",
          "Newcastle United",
          "Middlesbrough",
          "Wigan Athletic",
          "Sunderland",
          "Bolton Wanderers",
          "Fulham",
          "Reading",
          "Birmingham City",
          "Derby County",
          "Manchester United",
          "Liverpool",
          "Chelsea",
          "Arsenal",
          "Everton",
          "Aston Villa",
          "Fulham",
          "Tottenham Hotspur",
          "West Ham United",
          "Manchester City",
          "Wigan Athletic",
          "Stoke City",
          "Bolton Wanderers",
          "Portsmouth",
          "Blackburn Rovers",
          "Sunderland",
          "Hull City",
          "Newcastle United",
          "Middlesbrough",
          "West Bromwich Albion",
          "Chelsea",
          "Manchester United",
          "Arsenal",
          "Tottenham Hotspur",
          "Manchester City",
          "Aston Villa",
          "Liverpool",
          "Everton",
          "Birmingham City",
          "Blackburn Rovers",
          "Stoke City",
          "Fulham",
          "Sunderland",
          "Bolton Wanderers",
          "Wolverhampton Wanderers",
          "Wigan Athletic",
          "West Ham United",
          "Burnley",
          "Hull City",
          "Portsmouth",
          "Manchester United",
          "Chelsea",
          "Manchester City",
          "Arsenal",
          "Tottenham Hotspur",
          "Liverpool",
          "Everton",
          "Fulham",
          "Aston Villa",
          "Sunderland",
          "West Bromwich Albion",
          "Newcastle United",
          "Stoke City",
          "Bolton Wanderers",
          "Blackburn Rovers",
          "Wigan Athletic",
          "Wolverhampton Wanderers",
          "Birmingham City",
          "Blackpool",
          "West Ham United",
          "Manchester City",
          "Manchester United",
          "Arsenal",
          "Tottenham Hotspur",
          "Newcastle United",
          "Chelsea",
          "Everton",
          "Liverpool",
          "Fulham",
          "West Bromwich Albion",
          "Swansea City",
          "Norwich City",
          "Sunderland",
          "Stoke City",
          "Wigan Athletic",
          "Aston Villa",
          "Queens Park Rangers",
          "Bolton Wanderers",
          "Blackburn Rovers",
          "Wolverhampton Wanderers",
          "Manchester United",
          "Manchester City",
          "Chelsea",
          "Arsenal",
          "Tottenham Hotspur",
          "Everton",
          "Liverpool",
          "West Bromwich Albion",
          "Swansea City",
          "West Ham United",
          "Norwich City",
          "Fulham",
          "Stoke City",
          "Southampton",
          "Aston Villa",
          "Newcastle United",
          "Sunderland",
          "Wigan Athletic",
          "Reading",
          "Queens Park Rangers",
          "Manchester City",
          "Liverpool",
          "Chelsea",
          "Arsenal",
          "Everton",
          "Tottenham Hotspur",
          "Manchester United",
          "Southampton",
          "Stoke City",
          "Newcastle United",
          "Crystal Palace",
          "Swansea City",
          "West Ham United",
          "Sunderland",
          "Aston Villa",
          "Hull City",
          "West Bromwich Albion",
          "Norwich City",
          "Fulham",
          "Cardiff City",
          "Chelsea",
          "Manchester City",
          "Arsenal",
          "Manchester United",
          "Tottenham Hotspur",
          "Liverpool",
          "Southampton",
          "Swansea City",
          "Stoke City",
          "Crystal Palace",
          "Everton",
          "West Ham United",
          "West Bromwich Albion",
          "Leicester City",
          "Newcastle United",
          "Sunderland",
          "Aston Villa",
          "Hull City",
          "Burnley",
          "Queens Park Rangers",
          "Leicester City",
          "Arsenal",
          "Tottenham Hotspur",
          "Manchester City",
          "Manchester United",
          "Southampton",
          "West Ham United",
          "Liverpool",
          "Stoke City",
          "Chelsea",
          "Everton",
          "Swansea City",
          "Watford",
          "West Bromwich Albion",
          "Crystal Palace",
          "Bournemouth",
          "Sunderland",
          "Newcastle United",
          "Norwich City",
          "Aston Villa",
          "Chelsea",
          "Tottenham Hotspur",
          "Manchester City",
          "Liverpool",
          "Arsenal",
          "Manchester United",
          "Everton",
          "Southampton",
          "Bournemouth",
          "West Bromwich Albion",
          "West Ham United",
          "Leicester City",
          "Stoke City",
          "Crystal Palace",
          "Swansea City",
          "Burnley",
          "Watford",
          "Hull City",
          "Middlesbrough",
          "Sunderland",
          "Manchester City",
          "Manchester United",
          "Tottenham Hotspur",
          "Liverpool",
          "Chelsea",
          "Arsenal",
          "Burnley",
          "Everton",
          "Leicester City",
          "Newcastle United",
          "Crystal Palace",
          "Bournemouth",
          "West Ham United",
          "Watford",
          "Brighton & Hove Albion",
          "Huddersfield Town",
          "Southampton",
          "Swansea City",
          "Stoke City",
          "West Bromwich Albion",
          "Manchester City",
          "Liverpool",
          "Chelsea",
          "Tottenham Hotspur",
          "Arsenal",
          "Manchester United",
          "Wolverhampton Wanderers",
          "Everton",
          "Leicester City",
          "West Ham United",
          "Watford",
          "Crystal Palace",
          "Newcastle United",
          "Bournemouth",
          "Burnley",
          "Southampton",
          "Brighton & Hove Albion",
          "Cardiff City",
          "Fulham",
          "Huddersfield Town",
          "Liverpool",
          "Manchester City",
          "Manchester United",
          "Chelsea",
          "Leicester City",
          "Tottenham Hotspur",
          "Wolverhampton Wanderers",
          "Arsenal",
          "Sheffield United",
          "Burnley",
          "Southampton",
          "Everton",
          "Newcastle United",
          "Crystal Palace",
          "Brighton & Hove Albion",
          "West Ham United",
          "Aston Villa",
          "Bournemouth",
          "Watford",
          "Norwich City",
          "Manchester City",
          "Manchester United",
          "Liverpool",
          "Chelsea",
          "Leicester City",
          "West Ham United",
          "Tottenham Hotspur",
          "Arsenal",
          "Leeds United",
          "Everton",
          "Aston Villa",
          "Newcastle United",
          "Wolverhampton Wanderers",
          "Crystal Palace",
          "Southampton",
          "Brighton & Hove Albion",
          "Burnley",
          "Fulham",
          "West Bromwich Albion",
          "Sheffield United",
          "Manchester City",
          "Liverpool",
          "Chelsea",
          "Tottenham Hotspur",
          "Arsenal",
          "Manchester United",
          "West Ham United",
          "Leicester City",
          "Brighton & Hove Albion",
          "Wolverhampton Wanderers",
          "Newcastle United",
          "Crystal Palace",
          "Brentford",
          "Aston Villa",
          "Southampton",
          "Everton",
          "Leeds United",
          "Burnley",
          "Watford",
          "Norwich City"
         ],
         "xaxis": "x",
         "y": [
          24,
          20,
          20,
          20,
          20,
          17,
          15,
          13,
          14,
          14,
          14,
          13,
          14,
          9,
          10,
          11,
          10,
          8,
          8,
          5,
          26,
          24,
          24,
          21,
          18,
          17,
          15,
          12,
          14,
          12,
          12,
          12,
          10,
          10,
          11,
          9,
          10,
          9,
          8,
          5,
          25,
          23,
          21,
          19,
          18,
          16,
          17,
          13,
          15,
          14,
          13,
          14,
          13,
          13,
          14,
          12,
          10,
          10,
          6,
          4,
          26,
          24,
          23,
          16,
          13,
          15,
          14,
          14,
          14,
          12,
          13,
          12,
          12,
          13,
          12,
          9,
          9,
          6,
          8,
          7,
          29,
          25,
          22,
          18,
          17,
          16,
          14,
          13,
          14,
          12,
          12,
          11,
          12,
          10,
          9,
          10,
          6,
          7,
          7,
          6,
          29,
          25,
          25,
          20,
          18,
          19,
          17,
          15,
          16,
          15,
          14,
          14,
          13,
          12,
          13,
          10,
          10,
          8,
          7,
          3,
          28,
          24,
          20,
          19,
          17,
          15,
          16,
          16,
          14,
          15,
          11,
          12,
          11,
          11,
          12,
          8,
          10,
          10,
          8,
          5,
          27,
          25,
          24,
          21,
          19,
          16,
          15,
          16,
          15,
          13,
          11,
          11,
          10,
          10,
          11,
          9,
          8,
          10,
          8,
          1,
          28,
          25,
          25,
          20,
          17,
          17,
          14,
          14,
          14,
          15,
          12,
          12,
          11,
          10,
          10,
          9,
          8,
          7,
          7,
          8,
          27,
          27,
          23,
          21,
          18,
          17,
          18,
          16,
          13,
          13,
          11,
          12,
          11,
          10,
          9,
          9,
          8,
          8,
          6,
          7,
          23,
          21,
          21,
          19,
          16,
          17,
          13,
          11,
          12,
          12,
          12,
          11,
          13,
          12,
          11,
          9,
          11,
          8,
          10,
          7,
          28,
          28,
          21,
          20,
          19,
          18,
          15,
          14,
          14,
          13,
          12,
          12,
          11,
          11,
          11,
          7,
          10,
          10,
          8,
          5,
          28,
          23,
          22,
          21,
          21,
          16,
          16,
          14,
          11,
          12,
          10,
          11,
          9,
          9,
          10,
          11,
          9,
          9,
          6,
          4,
          27,
          26,
          25,
          24,
          21,
          21,
          19,
          15,
          13,
          15,
          13,
          11,
          11,
          10,
          10,
          10,
          7,
          8,
          9,
          7,
          26,
          24,
          22,
          20,
          19,
          18,
          18,
          16,
          15,
          13,
          12,
          12,
          11,
          11,
          10,
          7,
          10,
          8,
          7,
          8,
          23,
          20,
          19,
          19,
          19,
          18,
          16,
          16,
          14,
          12,
          11,
          12,
          12,
          10,
          11,
          11,
          9,
          9,
          9,
          3,
          30,
          26,
          23,
          22,
          23,
          18,
          17,
          12,
          12,
          12,
          12,
          12,
          11,
          12,
          12,
          11,
          11,
          9,
          5,
          6,
          32,
          25,
          23,
          21,
          21,
          19,
          14,
          13,
          12,
          12,
          11,
          11,
          10,
          11,
          9,
          9,
          7,
          8,
          7,
          6,
          32,
          30,
          21,
          23,
          21,
          19,
          16,
          15,
          15,
          15,
          14,
          14,
          12,
          13,
          11,
          9,
          9,
          10,
          7,
          3,
          32,
          26,
          18,
          20,
          18,
          16,
          15,
          14,
          14,
          15,
          15,
          13,
          11,
          11,
          9,
          10,
          9,
          9,
          8,
          5,
          27,
          21,
          20,
          19,
          20,
          19,
          18,
          18,
          18,
          17,
          16,
          12,
          12,
          12,
          12,
          9,
          10,
          5,
          5,
          7,
          29,
          28,
          21,
          22,
          22,
          16,
          16,
          14,
          12,
          15,
          13,
          11,
          13,
          13,
          9,
          11,
          9,
          7,
          6,
          5
         ],
         "yaxis": "y"
        }
       ],
       "layout": {
        "barmode": "relative",
        "legend": {
         "tracegroupgap": 0
        },
        "margin": {
         "t": 60
        },
        "template": {
         "data": {
          "bar": [
           {
            "error_x": {
             "color": "#2a3f5f"
            },
            "error_y": {
             "color": "#2a3f5f"
            },
            "marker": {
             "line": {
              "color": "#E5ECF6",
              "width": 0.5
             },
             "pattern": {
              "fillmode": "overlay",
              "size": 10,
              "solidity": 0.2
             }
            },
            "type": "bar"
           }
          ],
          "barpolar": [
           {
            "marker": {
             "line": {
              "color": "#E5ECF6",
              "width": 0.5
             },
             "pattern": {
              "fillmode": "overlay",
              "size": 10,
              "solidity": 0.2
             }
            },
            "type": "barpolar"
           }
          ],
          "carpet": [
           {
            "aaxis": {
             "endlinecolor": "#2a3f5f",
             "gridcolor": "white",
             "linecolor": "white",
             "minorgridcolor": "white",
             "startlinecolor": "#2a3f5f"
            },
            "baxis": {
             "endlinecolor": "#2a3f5f",
             "gridcolor": "white",
             "linecolor": "white",
             "minorgridcolor": "white",
             "startlinecolor": "#2a3f5f"
            },
            "type": "carpet"
           }
          ],
          "choropleth": [
           {
            "colorbar": {
             "outlinewidth": 0,
             "ticks": ""
            },
            "type": "choropleth"
           }
          ],
          "contour": [
           {
            "colorbar": {
             "outlinewidth": 0,
             "ticks": ""
            },
            "colorscale": [
             [
              0,
              "#0d0887"
             ],
             [
              0.1111111111111111,
              "#46039f"
             ],
             [
              0.2222222222222222,
              "#7201a8"
             ],
             [
              0.3333333333333333,
              "#9c179e"
             ],
             [
              0.4444444444444444,
              "#bd3786"
             ],
             [
              0.5555555555555556,
              "#d8576b"
             ],
             [
              0.6666666666666666,
              "#ed7953"
             ],
             [
              0.7777777777777778,
              "#fb9f3a"
             ],
             [
              0.8888888888888888,
              "#fdca26"
             ],
             [
              1,
              "#f0f921"
             ]
            ],
            "type": "contour"
           }
          ],
          "contourcarpet": [
           {
            "colorbar": {
             "outlinewidth": 0,
             "ticks": ""
            },
            "type": "contourcarpet"
           }
          ],
          "heatmap": [
           {
            "colorbar": {
             "outlinewidth": 0,
             "ticks": ""
            },
            "colorscale": [
             [
              0,
              "#0d0887"
             ],
             [
              0.1111111111111111,
              "#46039f"
             ],
             [
              0.2222222222222222,
              "#7201a8"
             ],
             [
              0.3333333333333333,
              "#9c179e"
             ],
             [
              0.4444444444444444,
              "#bd3786"
             ],
             [
              0.5555555555555556,
              "#d8576b"
             ],
             [
              0.6666666666666666,
              "#ed7953"
             ],
             [
              0.7777777777777778,
              "#fb9f3a"
             ],
             [
              0.8888888888888888,
              "#fdca26"
             ],
             [
              1,
              "#f0f921"
             ]
            ],
            "type": "heatmap"
           }
          ],
          "heatmapgl": [
           {
            "colorbar": {
             "outlinewidth": 0,
             "ticks": ""
            },
            "colorscale": [
             [
              0,
              "#0d0887"
             ],
             [
              0.1111111111111111,
              "#46039f"
             ],
             [
              0.2222222222222222,
              "#7201a8"
             ],
             [
              0.3333333333333333,
              "#9c179e"
             ],
             [
              0.4444444444444444,
              "#bd3786"
             ],
             [
              0.5555555555555556,
              "#d8576b"
             ],
             [
              0.6666666666666666,
              "#ed7953"
             ],
             [
              0.7777777777777778,
              "#fb9f3a"
             ],
             [
              0.8888888888888888,
              "#fdca26"
             ],
             [
              1,
              "#f0f921"
             ]
            ],
            "type": "heatmapgl"
           }
          ],
          "histogram": [
           {
            "marker": {
             "pattern": {
              "fillmode": "overlay",
              "size": 10,
              "solidity": 0.2
             }
            },
            "type": "histogram"
           }
          ],
          "histogram2d": [
           {
            "colorbar": {
             "outlinewidth": 0,
             "ticks": ""
            },
            "colorscale": [
             [
              0,
              "#0d0887"
             ],
             [
              0.1111111111111111,
              "#46039f"
             ],
             [
              0.2222222222222222,
              "#7201a8"
             ],
             [
              0.3333333333333333,
              "#9c179e"
             ],
             [
              0.4444444444444444,
              "#bd3786"
             ],
             [
              0.5555555555555556,
              "#d8576b"
             ],
             [
              0.6666666666666666,
              "#ed7953"
             ],
             [
              0.7777777777777778,
              "#fb9f3a"
             ],
             [
              0.8888888888888888,
              "#fdca26"
             ],
             [
              1,
              "#f0f921"
             ]
            ],
            "type": "histogram2d"
           }
          ],
          "histogram2dcontour": [
           {
            "colorbar": {
             "outlinewidth": 0,
             "ticks": ""
            },
            "colorscale": [
             [
              0,
              "#0d0887"
             ],
             [
              0.1111111111111111,
              "#46039f"
             ],
             [
              0.2222222222222222,
              "#7201a8"
             ],
             [
              0.3333333333333333,
              "#9c179e"
             ],
             [
              0.4444444444444444,
              "#bd3786"
             ],
             [
              0.5555555555555556,
              "#d8576b"
             ],
             [
              0.6666666666666666,
              "#ed7953"
             ],
             [
              0.7777777777777778,
              "#fb9f3a"
             ],
             [
              0.8888888888888888,
              "#fdca26"
             ],
             [
              1,
              "#f0f921"
             ]
            ],
            "type": "histogram2dcontour"
           }
          ],
          "mesh3d": [
           {
            "colorbar": {
             "outlinewidth": 0,
             "ticks": ""
            },
            "type": "mesh3d"
           }
          ],
          "parcoords": [
           {
            "line": {
             "colorbar": {
              "outlinewidth": 0,
              "ticks": ""
             }
            },
            "type": "parcoords"
           }
          ],
          "pie": [
           {
            "automargin": true,
            "type": "pie"
           }
          ],
          "scatter": [
           {
            "fillpattern": {
             "fillmode": "overlay",
             "size": 10,
             "solidity": 0.2
            },
            "type": "scatter"
           }
          ],
          "scatter3d": [
           {
            "line": {
             "colorbar": {
              "outlinewidth": 0,
              "ticks": ""
             }
            },
            "marker": {
             "colorbar": {
              "outlinewidth": 0,
              "ticks": ""
             }
            },
            "type": "scatter3d"
           }
          ],
          "scattercarpet": [
           {
            "marker": {
             "colorbar": {
              "outlinewidth": 0,
              "ticks": ""
             }
            },
            "type": "scattercarpet"
           }
          ],
          "scattergeo": [
           {
            "marker": {
             "colorbar": {
              "outlinewidth": 0,
              "ticks": ""
             }
            },
            "type": "scattergeo"
           }
          ],
          "scattergl": [
           {
            "marker": {
             "colorbar": {
              "outlinewidth": 0,
              "ticks": ""
             }
            },
            "type": "scattergl"
           }
          ],
          "scattermapbox": [
           {
            "marker": {
             "colorbar": {
              "outlinewidth": 0,
              "ticks": ""
             }
            },
            "type": "scattermapbox"
           }
          ],
          "scatterpolar": [
           {
            "marker": {
             "colorbar": {
              "outlinewidth": 0,
              "ticks": ""
             }
            },
            "type": "scatterpolar"
           }
          ],
          "scatterpolargl": [
           {
            "marker": {
             "colorbar": {
              "outlinewidth": 0,
              "ticks": ""
             }
            },
            "type": "scatterpolargl"
           }
          ],
          "scatterternary": [
           {
            "marker": {
             "colorbar": {
              "outlinewidth": 0,
              "ticks": ""
             }
            },
            "type": "scatterternary"
           }
          ],
          "surface": [
           {
            "colorbar": {
             "outlinewidth": 0,
             "ticks": ""
            },
            "colorscale": [
             [
              0,
              "#0d0887"
             ],
             [
              0.1111111111111111,
              "#46039f"
             ],
             [
              0.2222222222222222,
              "#7201a8"
             ],
             [
              0.3333333333333333,
              "#9c179e"
             ],
             [
              0.4444444444444444,
              "#bd3786"
             ],
             [
              0.5555555555555556,
              "#d8576b"
             ],
             [
              0.6666666666666666,
              "#ed7953"
             ],
             [
              0.7777777777777778,
              "#fb9f3a"
             ],
             [
              0.8888888888888888,
              "#fdca26"
             ],
             [
              1,
              "#f0f921"
             ]
            ],
            "type": "surface"
           }
          ],
          "table": [
           {
            "cells": {
             "fill": {
              "color": "#EBF0F8"
             },
             "line": {
              "color": "white"
             }
            },
            "header": {
             "fill": {
              "color": "#C8D4E3"
             },
             "line": {
              "color": "white"
             }
            },
            "type": "table"
           }
          ]
         },
         "layout": {
          "annotationdefaults": {
           "arrowcolor": "#2a3f5f",
           "arrowhead": 0,
           "arrowwidth": 1
          },
          "autotypenumbers": "strict",
          "coloraxis": {
           "colorbar": {
            "outlinewidth": 0,
            "ticks": ""
           }
          },
          "colorscale": {
           "diverging": [
            [
             0,
             "#8e0152"
            ],
            [
             0.1,
             "#c51b7d"
            ],
            [
             0.2,
             "#de77ae"
            ],
            [
             0.3,
             "#f1b6da"
            ],
            [
             0.4,
             "#fde0ef"
            ],
            [
             0.5,
             "#f7f7f7"
            ],
            [
             0.6,
             "#e6f5d0"
            ],
            [
             0.7,
             "#b8e186"
            ],
            [
             0.8,
             "#7fbc41"
            ],
            [
             0.9,
             "#4d9221"
            ],
            [
             1,
             "#276419"
            ]
           ],
           "sequential": [
            [
             0,
             "#0d0887"
            ],
            [
             0.1111111111111111,
             "#46039f"
            ],
            [
             0.2222222222222222,
             "#7201a8"
            ],
            [
             0.3333333333333333,
             "#9c179e"
            ],
            [
             0.4444444444444444,
             "#bd3786"
            ],
            [
             0.5555555555555556,
             "#d8576b"
            ],
            [
             0.6666666666666666,
             "#ed7953"
            ],
            [
             0.7777777777777778,
             "#fb9f3a"
            ],
            [
             0.8888888888888888,
             "#fdca26"
            ],
            [
             1,
             "#f0f921"
            ]
           ],
           "sequentialminus": [
            [
             0,
             "#0d0887"
            ],
            [
             0.1111111111111111,
             "#46039f"
            ],
            [
             0.2222222222222222,
             "#7201a8"
            ],
            [
             0.3333333333333333,
             "#9c179e"
            ],
            [
             0.4444444444444444,
             "#bd3786"
            ],
            [
             0.5555555555555556,
             "#d8576b"
            ],
            [
             0.6666666666666666,
             "#ed7953"
            ],
            [
             0.7777777777777778,
             "#fb9f3a"
            ],
            [
             0.8888888888888888,
             "#fdca26"
            ],
            [
             1,
             "#f0f921"
            ]
           ]
          },
          "colorway": [
           "#636efa",
           "#EF553B",
           "#00cc96",
           "#ab63fa",
           "#FFA15A",
           "#19d3f3",
           "#FF6692",
           "#B6E880",
           "#FF97FF",
           "#FECB52"
          ],
          "font": {
           "color": "#2a3f5f"
          },
          "geo": {
           "bgcolor": "white",
           "lakecolor": "white",
           "landcolor": "#E5ECF6",
           "showlakes": true,
           "showland": true,
           "subunitcolor": "white"
          },
          "hoverlabel": {
           "align": "left"
          },
          "hovermode": "closest",
          "mapbox": {
           "style": "light"
          },
          "paper_bgcolor": "white",
          "plot_bgcolor": "#E5ECF6",
          "polar": {
           "angularaxis": {
            "gridcolor": "white",
            "linecolor": "white",
            "ticks": ""
           },
           "bgcolor": "#E5ECF6",
           "radialaxis": {
            "gridcolor": "white",
            "linecolor": "white",
            "ticks": ""
           }
          },
          "scene": {
           "xaxis": {
            "backgroundcolor": "#E5ECF6",
            "gridcolor": "white",
            "gridwidth": 2,
            "linecolor": "white",
            "showbackground": true,
            "ticks": "",
            "zerolinecolor": "white"
           },
           "yaxis": {
            "backgroundcolor": "#E5ECF6",
            "gridcolor": "white",
            "gridwidth": 2,
            "linecolor": "white",
            "showbackground": true,
            "ticks": "",
            "zerolinecolor": "white"
           },
           "zaxis": {
            "backgroundcolor": "#E5ECF6",
            "gridcolor": "white",
            "gridwidth": 2,
            "linecolor": "white",
            "showbackground": true,
            "ticks": "",
            "zerolinecolor": "white"
           }
          },
          "shapedefaults": {
           "line": {
            "color": "#2a3f5f"
           }
          },
          "ternary": {
           "aaxis": {
            "gridcolor": "white",
            "linecolor": "white",
            "ticks": ""
           },
           "baxis": {
            "gridcolor": "white",
            "linecolor": "white",
            "ticks": ""
           },
           "bgcolor": "#E5ECF6",
           "caxis": {
            "gridcolor": "white",
            "linecolor": "white",
            "ticks": ""
           }
          },
          "title": {
           "x": 0.05
          },
          "xaxis": {
           "automargin": true,
           "gridcolor": "white",
           "linecolor": "white",
           "ticks": "",
           "title": {
            "standoff": 15
           },
           "zerolinecolor": "white",
           "zerolinewidth": 2
          },
          "yaxis": {
           "automargin": true,
           "gridcolor": "white",
           "linecolor": "white",
           "ticks": "",
           "title": {
            "standoff": 15
           },
           "zerolinecolor": "white",
           "zerolinewidth": 2
          }
         }
        },
        "xaxis": {
         "anchor": "y",
         "domain": [
          0,
          1
         ],
         "title": {
          "text": "Team"
         }
        },
        "yaxis": {
         "anchor": "x",
         "domain": [
          0,
          1
         ],
         "title": {
          "text": "sum of W"
         }
        }
       }
      },
      "text/html": [
       "<div>                            <div id=\"e71d2a8a-fdd5-46f5-8b06-295e9e7b5072\" class=\"plotly-graph-div\" style=\"height:525px; width:100%;\"></div>            <script type=\"text/javascript\">                require([\"plotly\"], function(Plotly) {                    window.PLOTLYENV=window.PLOTLYENV || {};                                    if (document.getElementById(\"e71d2a8a-fdd5-46f5-8b06-295e9e7b5072\")) {                    Plotly.newPlot(                        \"e71d2a8a-fdd5-46f5-8b06-295e9e7b5072\",                        [{\"alignmentgroup\":\"True\",\"bingroup\":\"x\",\"histfunc\":\"sum\",\"hovertemplate\":\"Team=%{x}<br>sum of W=%{y}<extra></extra>\",\"legendgroup\":\"\",\"marker\":{\"color\":\"#636efa\",\"pattern\":{\"shape\":\"\"}},\"name\":\"\",\"nbinsx\":20,\"offsetgroup\":\"\",\"orientation\":\"v\",\"showlegend\":false,\"x\":[\"Manchester United\",\"Arsenal\",\"Liverpool\",\"Leeds United\",\"Ipswich Town\",\"Chelsea\",\"Sunderland\",\"Aston Villa\",\"Charlton Athletic\",\"Southampton\",\"Newcastle United\",\"Tottenham Hotspur\",\"Leicester City\",\"Middlesbrough\",\"West Ham United\",\"Everton\",\"Derby County\",\"Manchester City\",\"Coventry City\",\"Bradford City\",\"Arsenal\",\"Liverpool\",\"Manchester United\",\"Newcastle United\",\"Leeds United\",\"Chelsea\",\"West Ham United\",\"Aston Villa\",\"Tottenham Hotspur\",\"Blackburn Rovers\",\"Southampton\",\"Middlesbrough\",\"Fulham\",\"Charlton Athletic\",\"Everton\",\"Bolton Wanderers\",\"Sunderland\",\"Ipswich Town\",\"Derby County\",\"Leicester City\",\"Manchester United\",\"Arsenal\",\"Newcastle United\",\"Chelsea\",\"Liverpool\",\"Blackburn Rovers\",\"Everton\",\"Southampton\",\"Manchester City\",\"Tottenham Hotspur\",\"Middlesbrough\",\"Charlton Athletic\",\"Birmingham City\",\"Fulham\",\"Leeds United\",\"Aston Villa\",\"Bolton Wanderers\",\"West Ham United\",\"West Bromwich Albion\",\"Sunderland\",\"Arsenal\",\"Chelsea\",\"Manchester United\",\"Liverpool\",\"Newcastle United\",\"Aston Villa\",\"Charlton Athletic\",\"Bolton Wanderers\",\"Fulham\",\"Birmingham City\",\"Middlesbrough\",\"Southampton\",\"Portsmouth\",\"Tottenham Hotspur\",\"Blackburn Rovers\",\"Manchester City\",\"Everton\",\"Leicester City\",\"Leeds United\",\"Wolverhampton Wanderers\",\"Chelsea\",\"Arsenal\",\"Manchester United\",\"Everton\",\"Liverpool\",\"Bolton Wanderers\",\"Middlesbrough\",\"Manchester City\",\"Tottenham Hotspur\",\"Aston Villa\",\"Charlton Athletic\",\"Birmingham City\",\"Fulham\",\"Newcastle United\",\"Blackburn Rovers\",\"Portsmouth\",\"West Bromwich Albion\",\"Crystal Palace\",\"Norwich City\",\"Southampton\",\"Chelsea\",\"Manchester United\",\"Liverpool\",\"Arsenal\",\"Tottenham Hotspur\",\"Blackburn Rovers\",\"Newcastle United\",\"Bolton Wanderers\",\"West Ham United\",\"Wigan Athletic\",\"Everton\",\"Fulham\",\"Charlton Athletic\",\"Middlesbrough\",\"Manchester City\",\"Aston Villa\",\"Portsmouth\",\"Birmingham City\",\"West Bromwich Albion\",\"Sunderland\",\"Manchester United\",\"Chelsea\",\"Liverpool\",\"Arsenal\",\"Tottenham Hotspur\",\"Everton\",\"Bolton Wanderers\",\"Reading\",\"Portsmouth\",\"Blackburn Rovers\",\"Aston Villa\",\"Middlesbrough\",\"Newcastle United\",\"Manchester City\",\"West Ham United\",\"Fulham\",\"Wigan Athletic\",\"Sheffield United\",\"Charlton Athletic\",\"Watford\",\"Manchester United\",\"Chelsea\",\"Arsenal\",\"Liverpool\",\"Everton\",\"Aston Villa\",\"Blackburn Rovers\",\"Portsmouth\",\"Manchester City\",\"West Ham United\",\"Tottenham Hotspur\",\"Newcastle United\",\"Middlesbrough\",\"Wigan Athletic\",\"Sunderland\",\"Bolton Wanderers\",\"Fulham\",\"Reading\",\"Birmingham City\",\"Derby County\",\"Manchester United\",\"Liverpool\",\"Chelsea\",\"Arsenal\",\"Everton\",\"Aston Villa\",\"Fulham\",\"Tottenham Hotspur\",\"West Ham United\",\"Manchester City\",\"Wigan Athletic\",\"Stoke City\",\"Bolton Wanderers\",\"Portsmouth\",\"Blackburn Rovers\",\"Sunderland\",\"Hull City\",\"Newcastle United\",\"Middlesbrough\",\"West Bromwich Albion\",\"Chelsea\",\"Manchester United\",\"Arsenal\",\"Tottenham Hotspur\",\"Manchester City\",\"Aston Villa\",\"Liverpool\",\"Everton\",\"Birmingham City\",\"Blackburn Rovers\",\"Stoke City\",\"Fulham\",\"Sunderland\",\"Bolton Wanderers\",\"Wolverhampton Wanderers\",\"Wigan Athletic\",\"West Ham United\",\"Burnley\",\"Hull City\",\"Portsmouth\",\"Manchester United\",\"Chelsea\",\"Manchester City\",\"Arsenal\",\"Tottenham Hotspur\",\"Liverpool\",\"Everton\",\"Fulham\",\"Aston Villa\",\"Sunderland\",\"West Bromwich Albion\",\"Newcastle United\",\"Stoke City\",\"Bolton Wanderers\",\"Blackburn Rovers\",\"Wigan Athletic\",\"Wolverhampton Wanderers\",\"Birmingham City\",\"Blackpool\",\"West Ham United\",\"Manchester City\",\"Manchester United\",\"Arsenal\",\"Tottenham Hotspur\",\"Newcastle United\",\"Chelsea\",\"Everton\",\"Liverpool\",\"Fulham\",\"West Bromwich Albion\",\"Swansea City\",\"Norwich City\",\"Sunderland\",\"Stoke City\",\"Wigan Athletic\",\"Aston Villa\",\"Queens Park Rangers\",\"Bolton Wanderers\",\"Blackburn Rovers\",\"Wolverhampton Wanderers\",\"Manchester United\",\"Manchester City\",\"Chelsea\",\"Arsenal\",\"Tottenham Hotspur\",\"Everton\",\"Liverpool\",\"West Bromwich Albion\",\"Swansea City\",\"West Ham United\",\"Norwich City\",\"Fulham\",\"Stoke City\",\"Southampton\",\"Aston Villa\",\"Newcastle United\",\"Sunderland\",\"Wigan Athletic\",\"Reading\",\"Queens Park Rangers\",\"Manchester City\",\"Liverpool\",\"Chelsea\",\"Arsenal\",\"Everton\",\"Tottenham Hotspur\",\"Manchester United\",\"Southampton\",\"Stoke City\",\"Newcastle United\",\"Crystal Palace\",\"Swansea City\",\"West Ham United\",\"Sunderland\",\"Aston Villa\",\"Hull City\",\"West Bromwich Albion\",\"Norwich City\",\"Fulham\",\"Cardiff City\",\"Chelsea\",\"Manchester City\",\"Arsenal\",\"Manchester United\",\"Tottenham Hotspur\",\"Liverpool\",\"Southampton\",\"Swansea City\",\"Stoke City\",\"Crystal Palace\",\"Everton\",\"West Ham United\",\"West Bromwich Albion\",\"Leicester City\",\"Newcastle United\",\"Sunderland\",\"Aston Villa\",\"Hull City\",\"Burnley\",\"Queens Park Rangers\",\"Leicester City\",\"Arsenal\",\"Tottenham Hotspur\",\"Manchester City\",\"Manchester United\",\"Southampton\",\"West Ham United\",\"Liverpool\",\"Stoke City\",\"Chelsea\",\"Everton\",\"Swansea City\",\"Watford\",\"West Bromwich Albion\",\"Crystal Palace\",\"Bournemouth\",\"Sunderland\",\"Newcastle United\",\"Norwich City\",\"Aston Villa\",\"Chelsea\",\"Tottenham Hotspur\",\"Manchester City\",\"Liverpool\",\"Arsenal\",\"Manchester United\",\"Everton\",\"Southampton\",\"Bournemouth\",\"West Bromwich Albion\",\"West Ham United\",\"Leicester City\",\"Stoke City\",\"Crystal Palace\",\"Swansea City\",\"Burnley\",\"Watford\",\"Hull City\",\"Middlesbrough\",\"Sunderland\",\"Manchester City\",\"Manchester United\",\"Tottenham Hotspur\",\"Liverpool\",\"Chelsea\",\"Arsenal\",\"Burnley\",\"Everton\",\"Leicester City\",\"Newcastle United\",\"Crystal Palace\",\"Bournemouth\",\"West Ham United\",\"Watford\",\"Brighton & Hove Albion\",\"Huddersfield Town\",\"Southampton\",\"Swansea City\",\"Stoke City\",\"West Bromwich Albion\",\"Manchester City\",\"Liverpool\",\"Chelsea\",\"Tottenham Hotspur\",\"Arsenal\",\"Manchester United\",\"Wolverhampton Wanderers\",\"Everton\",\"Leicester City\",\"West Ham United\",\"Watford\",\"Crystal Palace\",\"Newcastle United\",\"Bournemouth\",\"Burnley\",\"Southampton\",\"Brighton & Hove Albion\",\"Cardiff City\",\"Fulham\",\"Huddersfield Town\",\"Liverpool\",\"Manchester City\",\"Manchester United\",\"Chelsea\",\"Leicester City\",\"Tottenham Hotspur\",\"Wolverhampton Wanderers\",\"Arsenal\",\"Sheffield United\",\"Burnley\",\"Southampton\",\"Everton\",\"Newcastle United\",\"Crystal Palace\",\"Brighton & Hove Albion\",\"West Ham United\",\"Aston Villa\",\"Bournemouth\",\"Watford\",\"Norwich City\",\"Manchester City\",\"Manchester United\",\"Liverpool\",\"Chelsea\",\"Leicester City\",\"West Ham United\",\"Tottenham Hotspur\",\"Arsenal\",\"Leeds United\",\"Everton\",\"Aston Villa\",\"Newcastle United\",\"Wolverhampton Wanderers\",\"Crystal Palace\",\"Southampton\",\"Brighton & Hove Albion\",\"Burnley\",\"Fulham\",\"West Bromwich Albion\",\"Sheffield United\",\"Manchester City\",\"Liverpool\",\"Chelsea\",\"Tottenham Hotspur\",\"Arsenal\",\"Manchester United\",\"West Ham United\",\"Leicester City\",\"Brighton & Hove Albion\",\"Wolverhampton Wanderers\",\"Newcastle United\",\"Crystal Palace\",\"Brentford\",\"Aston Villa\",\"Southampton\",\"Everton\",\"Leeds United\",\"Burnley\",\"Watford\",\"Norwich City\"],\"xaxis\":\"x\",\"y\":[24,20,20,20,20,17,15,13,14,14,14,13,14,9,10,11,10,8,8,5,26,24,24,21,18,17,15,12,14,12,12,12,10,10,11,9,10,9,8,5,25,23,21,19,18,16,17,13,15,14,13,14,13,13,14,12,10,10,6,4,26,24,23,16,13,15,14,14,14,12,13,12,12,13,12,9,9,6,8,7,29,25,22,18,17,16,14,13,14,12,12,11,12,10,9,10,6,7,7,6,29,25,25,20,18,19,17,15,16,15,14,14,13,12,13,10,10,8,7,3,28,24,20,19,17,15,16,16,14,15,11,12,11,11,12,8,10,10,8,5,27,25,24,21,19,16,15,16,15,13,11,11,10,10,11,9,8,10,8,1,28,25,25,20,17,17,14,14,14,15,12,12,11,10,10,9,8,7,7,8,27,27,23,21,18,17,18,16,13,13,11,12,11,10,9,9,8,8,6,7,23,21,21,19,16,17,13,11,12,12,12,11,13,12,11,9,11,8,10,7,28,28,21,20,19,18,15,14,14,13,12,12,11,11,11,7,10,10,8,5,28,23,22,21,21,16,16,14,11,12,10,11,9,9,10,11,9,9,6,4,27,26,25,24,21,21,19,15,13,15,13,11,11,10,10,10,7,8,9,7,26,24,22,20,19,18,18,16,15,13,12,12,11,11,10,7,10,8,7,8,23,20,19,19,19,18,16,16,14,12,11,12,12,10,11,11,9,9,9,3,30,26,23,22,23,18,17,12,12,12,12,12,11,12,12,11,11,9,5,6,32,25,23,21,21,19,14,13,12,12,11,11,10,11,9,9,7,8,7,6,32,30,21,23,21,19,16,15,15,15,14,14,12,13,11,9,9,10,7,3,32,26,18,20,18,16,15,14,14,15,15,13,11,11,9,10,9,9,8,5,27,21,20,19,20,19,18,18,18,17,16,12,12,12,12,9,10,5,5,7,29,28,21,22,22,16,16,14,12,15,13,11,13,13,9,11,9,7,6,5],\"yaxis\":\"y\",\"type\":\"histogram\"}],                        {\"template\":{\"data\":{\"histogram2dcontour\":[{\"type\":\"histogram2dcontour\",\"colorbar\":{\"outlinewidth\":0,\"ticks\":\"\"},\"colorscale\":[[0.0,\"#0d0887\"],[0.1111111111111111,\"#46039f\"],[0.2222222222222222,\"#7201a8\"],[0.3333333333333333,\"#9c179e\"],[0.4444444444444444,\"#bd3786\"],[0.5555555555555556,\"#d8576b\"],[0.6666666666666666,\"#ed7953\"],[0.7777777777777778,\"#fb9f3a\"],[0.8888888888888888,\"#fdca26\"],[1.0,\"#f0f921\"]]}],\"choropleth\":[{\"type\":\"choropleth\",\"colorbar\":{\"outlinewidth\":0,\"ticks\":\"\"}}],\"histogram2d\":[{\"type\":\"histogram2d\",\"colorbar\":{\"outlinewidth\":0,\"ticks\":\"\"},\"colorscale\":[[0.0,\"#0d0887\"],[0.1111111111111111,\"#46039f\"],[0.2222222222222222,\"#7201a8\"],[0.3333333333333333,\"#9c179e\"],[0.4444444444444444,\"#bd3786\"],[0.5555555555555556,\"#d8576b\"],[0.6666666666666666,\"#ed7953\"],[0.7777777777777778,\"#fb9f3a\"],[0.8888888888888888,\"#fdca26\"],[1.0,\"#f0f921\"]]}],\"heatmap\":[{\"type\":\"heatmap\",\"colorbar\":{\"outlinewidth\":0,\"ticks\":\"\"},\"colorscale\":[[0.0,\"#0d0887\"],[0.1111111111111111,\"#46039f\"],[0.2222222222222222,\"#7201a8\"],[0.3333333333333333,\"#9c179e\"],[0.4444444444444444,\"#bd3786\"],[0.5555555555555556,\"#d8576b\"],[0.6666666666666666,\"#ed7953\"],[0.7777777777777778,\"#fb9f3a\"],[0.8888888888888888,\"#fdca26\"],[1.0,\"#f0f921\"]]}],\"heatmapgl\":[{\"type\":\"heatmapgl\",\"colorbar\":{\"outlinewidth\":0,\"ticks\":\"\"},\"colorscale\":[[0.0,\"#0d0887\"],[0.1111111111111111,\"#46039f\"],[0.2222222222222222,\"#7201a8\"],[0.3333333333333333,\"#9c179e\"],[0.4444444444444444,\"#bd3786\"],[0.5555555555555556,\"#d8576b\"],[0.6666666666666666,\"#ed7953\"],[0.7777777777777778,\"#fb9f3a\"],[0.8888888888888888,\"#fdca26\"],[1.0,\"#f0f921\"]]}],\"contourcarpet\":[{\"type\":\"contourcarpet\",\"colorbar\":{\"outlinewidth\":0,\"ticks\":\"\"}}],\"contour\":[{\"type\":\"contour\",\"colorbar\":{\"outlinewidth\":0,\"ticks\":\"\"},\"colorscale\":[[0.0,\"#0d0887\"],[0.1111111111111111,\"#46039f\"],[0.2222222222222222,\"#7201a8\"],[0.3333333333333333,\"#9c179e\"],[0.4444444444444444,\"#bd3786\"],[0.5555555555555556,\"#d8576b\"],[0.6666666666666666,\"#ed7953\"],[0.7777777777777778,\"#fb9f3a\"],[0.8888888888888888,\"#fdca26\"],[1.0,\"#f0f921\"]]}],\"surface\":[{\"type\":\"surface\",\"colorbar\":{\"outlinewidth\":0,\"ticks\":\"\"},\"colorscale\":[[0.0,\"#0d0887\"],[0.1111111111111111,\"#46039f\"],[0.2222222222222222,\"#7201a8\"],[0.3333333333333333,\"#9c179e\"],[0.4444444444444444,\"#bd3786\"],[0.5555555555555556,\"#d8576b\"],[0.6666666666666666,\"#ed7953\"],[0.7777777777777778,\"#fb9f3a\"],[0.8888888888888888,\"#fdca26\"],[1.0,\"#f0f921\"]]}],\"mesh3d\":[{\"type\":\"mesh3d\",\"colorbar\":{\"outlinewidth\":0,\"ticks\":\"\"}}],\"scatter\":[{\"fillpattern\":{\"fillmode\":\"overlay\",\"size\":10,\"solidity\":0.2},\"type\":\"scatter\"}],\"parcoords\":[{\"type\":\"parcoords\",\"line\":{\"colorbar\":{\"outlinewidth\":0,\"ticks\":\"\"}}}],\"scatterpolargl\":[{\"type\":\"scatterpolargl\",\"marker\":{\"colorbar\":{\"outlinewidth\":0,\"ticks\":\"\"}}}],\"bar\":[{\"error_x\":{\"color\":\"#2a3f5f\"},\"error_y\":{\"color\":\"#2a3f5f\"},\"marker\":{\"line\":{\"color\":\"#E5ECF6\",\"width\":0.5},\"pattern\":{\"fillmode\":\"overlay\",\"size\":10,\"solidity\":0.2}},\"type\":\"bar\"}],\"scattergeo\":[{\"type\":\"scattergeo\",\"marker\":{\"colorbar\":{\"outlinewidth\":0,\"ticks\":\"\"}}}],\"scatterpolar\":[{\"type\":\"scatterpolar\",\"marker\":{\"colorbar\":{\"outlinewidth\":0,\"ticks\":\"\"}}}],\"histogram\":[{\"marker\":{\"pattern\":{\"fillmode\":\"overlay\",\"size\":10,\"solidity\":0.2}},\"type\":\"histogram\"}],\"scattergl\":[{\"type\":\"scattergl\",\"marker\":{\"colorbar\":{\"outlinewidth\":0,\"ticks\":\"\"}}}],\"scatter3d\":[{\"type\":\"scatter3d\",\"line\":{\"colorbar\":{\"outlinewidth\":0,\"ticks\":\"\"}},\"marker\":{\"colorbar\":{\"outlinewidth\":0,\"ticks\":\"\"}}}],\"scattermapbox\":[{\"type\":\"scattermapbox\",\"marker\":{\"colorbar\":{\"outlinewidth\":0,\"ticks\":\"\"}}}],\"scatterternary\":[{\"type\":\"scatterternary\",\"marker\":{\"colorbar\":{\"outlinewidth\":0,\"ticks\":\"\"}}}],\"scattercarpet\":[{\"type\":\"scattercarpet\",\"marker\":{\"colorbar\":{\"outlinewidth\":0,\"ticks\":\"\"}}}],\"carpet\":[{\"aaxis\":{\"endlinecolor\":\"#2a3f5f\",\"gridcolor\":\"white\",\"linecolor\":\"white\",\"minorgridcolor\":\"white\",\"startlinecolor\":\"#2a3f5f\"},\"baxis\":{\"endlinecolor\":\"#2a3f5f\",\"gridcolor\":\"white\",\"linecolor\":\"white\",\"minorgridcolor\":\"white\",\"startlinecolor\":\"#2a3f5f\"},\"type\":\"carpet\"}],\"table\":[{\"cells\":{\"fill\":{\"color\":\"#EBF0F8\"},\"line\":{\"color\":\"white\"}},\"header\":{\"fill\":{\"color\":\"#C8D4E3\"},\"line\":{\"color\":\"white\"}},\"type\":\"table\"}],\"barpolar\":[{\"marker\":{\"line\":{\"color\":\"#E5ECF6\",\"width\":0.5},\"pattern\":{\"fillmode\":\"overlay\",\"size\":10,\"solidity\":0.2}},\"type\":\"barpolar\"}],\"pie\":[{\"automargin\":true,\"type\":\"pie\"}]},\"layout\":{\"autotypenumbers\":\"strict\",\"colorway\":[\"#636efa\",\"#EF553B\",\"#00cc96\",\"#ab63fa\",\"#FFA15A\",\"#19d3f3\",\"#FF6692\",\"#B6E880\",\"#FF97FF\",\"#FECB52\"],\"font\":{\"color\":\"#2a3f5f\"},\"hovermode\":\"closest\",\"hoverlabel\":{\"align\":\"left\"},\"paper_bgcolor\":\"white\",\"plot_bgcolor\":\"#E5ECF6\",\"polar\":{\"bgcolor\":\"#E5ECF6\",\"angularaxis\":{\"gridcolor\":\"white\",\"linecolor\":\"white\",\"ticks\":\"\"},\"radialaxis\":{\"gridcolor\":\"white\",\"linecolor\":\"white\",\"ticks\":\"\"}},\"ternary\":{\"bgcolor\":\"#E5ECF6\",\"aaxis\":{\"gridcolor\":\"white\",\"linecolor\":\"white\",\"ticks\":\"\"},\"baxis\":{\"gridcolor\":\"white\",\"linecolor\":\"white\",\"ticks\":\"\"},\"caxis\":{\"gridcolor\":\"white\",\"linecolor\":\"white\",\"ticks\":\"\"}},\"coloraxis\":{\"colorbar\":{\"outlinewidth\":0,\"ticks\":\"\"}},\"colorscale\":{\"sequential\":[[0.0,\"#0d0887\"],[0.1111111111111111,\"#46039f\"],[0.2222222222222222,\"#7201a8\"],[0.3333333333333333,\"#9c179e\"],[0.4444444444444444,\"#bd3786\"],[0.5555555555555556,\"#d8576b\"],[0.6666666666666666,\"#ed7953\"],[0.7777777777777778,\"#fb9f3a\"],[0.8888888888888888,\"#fdca26\"],[1.0,\"#f0f921\"]],\"sequentialminus\":[[0.0,\"#0d0887\"],[0.1111111111111111,\"#46039f\"],[0.2222222222222222,\"#7201a8\"],[0.3333333333333333,\"#9c179e\"],[0.4444444444444444,\"#bd3786\"],[0.5555555555555556,\"#d8576b\"],[0.6666666666666666,\"#ed7953\"],[0.7777777777777778,\"#fb9f3a\"],[0.8888888888888888,\"#fdca26\"],[1.0,\"#f0f921\"]],\"diverging\":[[0,\"#8e0152\"],[0.1,\"#c51b7d\"],[0.2,\"#de77ae\"],[0.3,\"#f1b6da\"],[0.4,\"#fde0ef\"],[0.5,\"#f7f7f7\"],[0.6,\"#e6f5d0\"],[0.7,\"#b8e186\"],[0.8,\"#7fbc41\"],[0.9,\"#4d9221\"],[1,\"#276419\"]]},\"xaxis\":{\"gridcolor\":\"white\",\"linecolor\":\"white\",\"ticks\":\"\",\"title\":{\"standoff\":15},\"zerolinecolor\":\"white\",\"automargin\":true,\"zerolinewidth\":2},\"yaxis\":{\"gridcolor\":\"white\",\"linecolor\":\"white\",\"ticks\":\"\",\"title\":{\"standoff\":15},\"zerolinecolor\":\"white\",\"automargin\":true,\"zerolinewidth\":2},\"scene\":{\"xaxis\":{\"backgroundcolor\":\"#E5ECF6\",\"gridcolor\":\"white\",\"linecolor\":\"white\",\"showbackground\":true,\"ticks\":\"\",\"zerolinecolor\":\"white\",\"gridwidth\":2},\"yaxis\":{\"backgroundcolor\":\"#E5ECF6\",\"gridcolor\":\"white\",\"linecolor\":\"white\",\"showbackground\":true,\"ticks\":\"\",\"zerolinecolor\":\"white\",\"gridwidth\":2},\"zaxis\":{\"backgroundcolor\":\"#E5ECF6\",\"gridcolor\":\"white\",\"linecolor\":\"white\",\"showbackground\":true,\"ticks\":\"\",\"zerolinecolor\":\"white\",\"gridwidth\":2}},\"shapedefaults\":{\"line\":{\"color\":\"#2a3f5f\"}},\"annotationdefaults\":{\"arrowcolor\":\"#2a3f5f\",\"arrowhead\":0,\"arrowwidth\":1},\"geo\":{\"bgcolor\":\"white\",\"landcolor\":\"#E5ECF6\",\"subunitcolor\":\"white\",\"showland\":true,\"showlakes\":true,\"lakecolor\":\"white\"},\"title\":{\"x\":0.05},\"mapbox\":{\"style\":\"light\"}}},\"xaxis\":{\"anchor\":\"y\",\"domain\":[0.0,1.0],\"title\":{\"text\":\"Team\"}},\"yaxis\":{\"anchor\":\"x\",\"domain\":[0.0,1.0],\"title\":{\"text\":\"sum of W\"}},\"legend\":{\"tracegroupgap\":0},\"margin\":{\"t\":60},\"barmode\":\"relative\"},                        {\"responsive\": true}                    ).then(function(){\n",
       "                            \n",
       "var gd = document.getElementById('e71d2a8a-fdd5-46f5-8b06-295e9e7b5072');\n",
       "var x = new MutationObserver(function (mutations, observer) {{\n",
       "        var display = window.getComputedStyle(gd).display;\n",
       "        if (!display || display === 'none') {{\n",
       "            console.log([gd, 'removed!']);\n",
       "            Plotly.purge(gd);\n",
       "            observer.disconnect();\n",
       "        }}\n",
       "}});\n",
       "\n",
       "// Listen for the removal of the full notebook cells\n",
       "var notebookContainer = gd.closest('#notebook-container');\n",
       "if (notebookContainer) {{\n",
       "    x.observe(notebookContainer, {childList: true});\n",
       "}}\n",
       "\n",
       "// Listen for the clearing of the current output cell\n",
       "var outputEl = gd.closest('.output');\n",
       "if (outputEl) {{\n",
       "    x.observe(outputEl, {childList: true});\n",
       "}}\n",
       "\n",
       "                        })                };                });            </script>        </div>"
      ]
     },
     "metadata": {},
     "output_type": "display_data"
    }
   ],
   "source": [
    "import plotly.express as px\n",
    "df = PL_Seasons\n",
    "fig = px.histogram(df, x=\"Team\",y=\"W\")\n",
    "fig.show()"
   ]
  },
  {
   "cell_type": "code",
   "execution_count": 219,
   "id": "6b73f108",
   "metadata": {},
   "outputs": [
    {
     "data": {
      "application/vnd.plotly.v1+json": {
       "config": {
        "plotlyServerURL": "https://plot.ly"
       },
       "data": [
        {
         "alignmentgroup": "True",
         "bingroup": "x",
         "histfunc": "sum",
         "hovertemplate": "Team=%{x}<br>sum of W=%{y}<extra></extra>",
         "legendgroup": "",
         "marker": {
          "color": "#636efa",
          "pattern": {
           "shape": ""
          }
         },
         "name": "",
         "offsetgroup": "",
         "orientation": "v",
         "showlegend": false,
         "type": "histogram",
         "x": [
          "Manchester United",
          "Arsenal",
          "Liverpool",
          "Leeds United",
          "Ipswich Town",
          "Chelsea",
          "Sunderland",
          "Aston Villa",
          "Charlton Athletic",
          "Southampton",
          "Newcastle United",
          "Tottenham Hotspur",
          "Leicester City",
          "Middlesbrough",
          "West Ham United",
          "Everton",
          "Derby County",
          "Manchester City",
          "Coventry City",
          "Bradford City",
          "Arsenal",
          "Liverpool",
          "Manchester United",
          "Newcastle United",
          "Leeds United",
          "Chelsea",
          "West Ham United",
          "Aston Villa",
          "Tottenham Hotspur",
          "Blackburn Rovers",
          "Southampton",
          "Middlesbrough",
          "Fulham",
          "Charlton Athletic",
          "Everton",
          "Bolton Wanderers",
          "Sunderland",
          "Ipswich Town",
          "Derby County",
          "Leicester City",
          "Manchester United",
          "Arsenal",
          "Newcastle United",
          "Chelsea",
          "Liverpool",
          "Blackburn Rovers",
          "Everton",
          "Southampton",
          "Manchester City",
          "Tottenham Hotspur",
          "Middlesbrough",
          "Charlton Athletic",
          "Birmingham City",
          "Fulham",
          "Leeds United",
          "Aston Villa",
          "Bolton Wanderers",
          "West Ham United",
          "West Bromwich Albion",
          "Sunderland",
          "Arsenal",
          "Chelsea",
          "Manchester United",
          "Liverpool",
          "Newcastle United",
          "Aston Villa",
          "Charlton Athletic",
          "Bolton Wanderers",
          "Fulham",
          "Birmingham City",
          "Middlesbrough",
          "Southampton",
          "Portsmouth",
          "Tottenham Hotspur",
          "Blackburn Rovers",
          "Manchester City",
          "Everton",
          "Leicester City",
          "Leeds United",
          "Wolverhampton Wanderers",
          "Chelsea",
          "Arsenal",
          "Manchester United",
          "Everton",
          "Liverpool",
          "Bolton Wanderers",
          "Middlesbrough",
          "Manchester City",
          "Tottenham Hotspur",
          "Aston Villa",
          "Charlton Athletic",
          "Birmingham City",
          "Fulham",
          "Newcastle United",
          "Blackburn Rovers",
          "Portsmouth",
          "West Bromwich Albion",
          "Crystal Palace",
          "Norwich City",
          "Southampton",
          "Chelsea",
          "Manchester United",
          "Liverpool",
          "Arsenal",
          "Tottenham Hotspur",
          "Blackburn Rovers",
          "Newcastle United",
          "Bolton Wanderers",
          "West Ham United",
          "Wigan Athletic",
          "Everton",
          "Fulham",
          "Charlton Athletic",
          "Middlesbrough",
          "Manchester City",
          "Aston Villa",
          "Portsmouth",
          "Birmingham City",
          "West Bromwich Albion",
          "Sunderland",
          "Manchester United",
          "Chelsea",
          "Liverpool",
          "Arsenal",
          "Tottenham Hotspur",
          "Everton",
          "Bolton Wanderers",
          "Reading",
          "Portsmouth",
          "Blackburn Rovers",
          "Aston Villa",
          "Middlesbrough",
          "Newcastle United",
          "Manchester City",
          "West Ham United",
          "Fulham",
          "Wigan Athletic",
          "Sheffield United",
          "Charlton Athletic",
          "Watford",
          "Manchester United",
          "Chelsea",
          "Arsenal",
          "Liverpool",
          "Everton",
          "Aston Villa",
          "Blackburn Rovers",
          "Portsmouth",
          "Manchester City",
          "West Ham United",
          "Tottenham Hotspur",
          "Newcastle United",
          "Middlesbrough",
          "Wigan Athletic",
          "Sunderland",
          "Bolton Wanderers",
          "Fulham",
          "Reading",
          "Birmingham City",
          "Derby County",
          "Manchester United",
          "Liverpool",
          "Chelsea",
          "Arsenal",
          "Everton",
          "Aston Villa",
          "Fulham",
          "Tottenham Hotspur",
          "West Ham United",
          "Manchester City",
          "Wigan Athletic",
          "Stoke City",
          "Bolton Wanderers",
          "Portsmouth",
          "Blackburn Rovers",
          "Sunderland",
          "Hull City",
          "Newcastle United",
          "Middlesbrough",
          "West Bromwich Albion",
          "Chelsea",
          "Manchester United",
          "Arsenal",
          "Tottenham Hotspur",
          "Manchester City",
          "Aston Villa",
          "Liverpool",
          "Everton",
          "Birmingham City",
          "Blackburn Rovers",
          "Stoke City",
          "Fulham",
          "Sunderland",
          "Bolton Wanderers",
          "Wolverhampton Wanderers",
          "Wigan Athletic",
          "West Ham United",
          "Burnley",
          "Hull City",
          "Portsmouth",
          "Manchester United",
          "Chelsea",
          "Manchester City",
          "Arsenal",
          "Tottenham Hotspur",
          "Liverpool",
          "Everton",
          "Fulham",
          "Aston Villa",
          "Sunderland",
          "West Bromwich Albion",
          "Newcastle United",
          "Stoke City",
          "Bolton Wanderers",
          "Blackburn Rovers",
          "Wigan Athletic",
          "Wolverhampton Wanderers",
          "Birmingham City",
          "Blackpool",
          "West Ham United",
          "Manchester City",
          "Manchester United",
          "Arsenal",
          "Tottenham Hotspur",
          "Newcastle United",
          "Chelsea",
          "Everton",
          "Liverpool",
          "Fulham",
          "West Bromwich Albion",
          "Swansea City",
          "Norwich City",
          "Sunderland",
          "Stoke City",
          "Wigan Athletic",
          "Aston Villa",
          "Queens Park Rangers",
          "Bolton Wanderers",
          "Blackburn Rovers",
          "Wolverhampton Wanderers",
          "Manchester United",
          "Manchester City",
          "Chelsea",
          "Arsenal",
          "Tottenham Hotspur",
          "Everton",
          "Liverpool",
          "West Bromwich Albion",
          "Swansea City",
          "West Ham United",
          "Norwich City",
          "Fulham",
          "Stoke City",
          "Southampton",
          "Aston Villa",
          "Newcastle United",
          "Sunderland",
          "Wigan Athletic",
          "Reading",
          "Queens Park Rangers",
          "Manchester City",
          "Liverpool",
          "Chelsea",
          "Arsenal",
          "Everton",
          "Tottenham Hotspur",
          "Manchester United",
          "Southampton",
          "Stoke City",
          "Newcastle United",
          "Crystal Palace",
          "Swansea City",
          "West Ham United",
          "Sunderland",
          "Aston Villa",
          "Hull City",
          "West Bromwich Albion",
          "Norwich City",
          "Fulham",
          "Cardiff City",
          "Chelsea",
          "Manchester City",
          "Arsenal",
          "Manchester United",
          "Tottenham Hotspur",
          "Liverpool",
          "Southampton",
          "Swansea City",
          "Stoke City",
          "Crystal Palace",
          "Everton",
          "West Ham United",
          "West Bromwich Albion",
          "Leicester City",
          "Newcastle United",
          "Sunderland",
          "Aston Villa",
          "Hull City",
          "Burnley",
          "Queens Park Rangers",
          "Leicester City",
          "Arsenal",
          "Tottenham Hotspur",
          "Manchester City",
          "Manchester United",
          "Southampton",
          "West Ham United",
          "Liverpool",
          "Stoke City",
          "Chelsea",
          "Everton",
          "Swansea City",
          "Watford",
          "West Bromwich Albion",
          "Crystal Palace",
          "Bournemouth",
          "Sunderland",
          "Newcastle United",
          "Norwich City",
          "Aston Villa",
          "Chelsea",
          "Tottenham Hotspur",
          "Manchester City",
          "Liverpool",
          "Arsenal",
          "Manchester United",
          "Everton",
          "Southampton",
          "Bournemouth",
          "West Bromwich Albion",
          "West Ham United",
          "Leicester City",
          "Stoke City",
          "Crystal Palace",
          "Swansea City",
          "Burnley",
          "Watford",
          "Hull City",
          "Middlesbrough",
          "Sunderland",
          "Manchester City",
          "Manchester United",
          "Tottenham Hotspur",
          "Liverpool",
          "Chelsea",
          "Arsenal",
          "Burnley",
          "Everton",
          "Leicester City",
          "Newcastle United",
          "Crystal Palace",
          "Bournemouth",
          "West Ham United",
          "Watford",
          "Brighton & Hove Albion",
          "Huddersfield Town",
          "Southampton",
          "Swansea City",
          "Stoke City",
          "West Bromwich Albion",
          "Manchester City",
          "Liverpool",
          "Chelsea",
          "Tottenham Hotspur",
          "Arsenal",
          "Manchester United",
          "Wolverhampton Wanderers",
          "Everton",
          "Leicester City",
          "West Ham United",
          "Watford",
          "Crystal Palace",
          "Newcastle United",
          "Bournemouth",
          "Burnley",
          "Southampton",
          "Brighton & Hove Albion",
          "Cardiff City",
          "Fulham",
          "Huddersfield Town",
          "Liverpool",
          "Manchester City",
          "Manchester United",
          "Chelsea",
          "Leicester City",
          "Tottenham Hotspur",
          "Wolverhampton Wanderers",
          "Arsenal",
          "Sheffield United",
          "Burnley",
          "Southampton",
          "Everton",
          "Newcastle United",
          "Crystal Palace",
          "Brighton & Hove Albion",
          "West Ham United",
          "Aston Villa",
          "Bournemouth",
          "Watford",
          "Norwich City",
          "Manchester City",
          "Manchester United",
          "Liverpool",
          "Chelsea",
          "Leicester City",
          "West Ham United",
          "Tottenham Hotspur",
          "Arsenal",
          "Leeds United",
          "Everton",
          "Aston Villa",
          "Newcastle United",
          "Wolverhampton Wanderers",
          "Crystal Palace",
          "Southampton",
          "Brighton & Hove Albion",
          "Burnley",
          "Fulham",
          "West Bromwich Albion",
          "Sheffield United",
          "Manchester City",
          "Liverpool",
          "Chelsea",
          "Tottenham Hotspur",
          "Arsenal",
          "Manchester United",
          "West Ham United",
          "Leicester City",
          "Brighton & Hove Albion",
          "Wolverhampton Wanderers",
          "Newcastle United",
          "Crystal Palace",
          "Brentford",
          "Aston Villa",
          "Southampton",
          "Everton",
          "Leeds United",
          "Burnley",
          "Watford",
          "Norwich City"
         ],
         "xaxis": "x",
         "y": [
          24,
          20,
          20,
          20,
          20,
          17,
          15,
          13,
          14,
          14,
          14,
          13,
          14,
          9,
          10,
          11,
          10,
          8,
          8,
          5,
          26,
          24,
          24,
          21,
          18,
          17,
          15,
          12,
          14,
          12,
          12,
          12,
          10,
          10,
          11,
          9,
          10,
          9,
          8,
          5,
          25,
          23,
          21,
          19,
          18,
          16,
          17,
          13,
          15,
          14,
          13,
          14,
          13,
          13,
          14,
          12,
          10,
          10,
          6,
          4,
          26,
          24,
          23,
          16,
          13,
          15,
          14,
          14,
          14,
          12,
          13,
          12,
          12,
          13,
          12,
          9,
          9,
          6,
          8,
          7,
          29,
          25,
          22,
          18,
          17,
          16,
          14,
          13,
          14,
          12,
          12,
          11,
          12,
          10,
          9,
          10,
          6,
          7,
          7,
          6,
          29,
          25,
          25,
          20,
          18,
          19,
          17,
          15,
          16,
          15,
          14,
          14,
          13,
          12,
          13,
          10,
          10,
          8,
          7,
          3,
          28,
          24,
          20,
          19,
          17,
          15,
          16,
          16,
          14,
          15,
          11,
          12,
          11,
          11,
          12,
          8,
          10,
          10,
          8,
          5,
          27,
          25,
          24,
          21,
          19,
          16,
          15,
          16,
          15,
          13,
          11,
          11,
          10,
          10,
          11,
          9,
          8,
          10,
          8,
          1,
          28,
          25,
          25,
          20,
          17,
          17,
          14,
          14,
          14,
          15,
          12,
          12,
          11,
          10,
          10,
          9,
          8,
          7,
          7,
          8,
          27,
          27,
          23,
          21,
          18,
          17,
          18,
          16,
          13,
          13,
          11,
          12,
          11,
          10,
          9,
          9,
          8,
          8,
          6,
          7,
          23,
          21,
          21,
          19,
          16,
          17,
          13,
          11,
          12,
          12,
          12,
          11,
          13,
          12,
          11,
          9,
          11,
          8,
          10,
          7,
          28,
          28,
          21,
          20,
          19,
          18,
          15,
          14,
          14,
          13,
          12,
          12,
          11,
          11,
          11,
          7,
          10,
          10,
          8,
          5,
          28,
          23,
          22,
          21,
          21,
          16,
          16,
          14,
          11,
          12,
          10,
          11,
          9,
          9,
          10,
          11,
          9,
          9,
          6,
          4,
          27,
          26,
          25,
          24,
          21,
          21,
          19,
          15,
          13,
          15,
          13,
          11,
          11,
          10,
          10,
          10,
          7,
          8,
          9,
          7,
          26,
          24,
          22,
          20,
          19,
          18,
          18,
          16,
          15,
          13,
          12,
          12,
          11,
          11,
          10,
          7,
          10,
          8,
          7,
          8,
          23,
          20,
          19,
          19,
          19,
          18,
          16,
          16,
          14,
          12,
          11,
          12,
          12,
          10,
          11,
          11,
          9,
          9,
          9,
          3,
          30,
          26,
          23,
          22,
          23,
          18,
          17,
          12,
          12,
          12,
          12,
          12,
          11,
          12,
          12,
          11,
          11,
          9,
          5,
          6,
          32,
          25,
          23,
          21,
          21,
          19,
          14,
          13,
          12,
          12,
          11,
          11,
          10,
          11,
          9,
          9,
          7,
          8,
          7,
          6,
          32,
          30,
          21,
          23,
          21,
          19,
          16,
          15,
          15,
          15,
          14,
          14,
          12,
          13,
          11,
          9,
          9,
          10,
          7,
          3,
          32,
          26,
          18,
          20,
          18,
          16,
          15,
          14,
          14,
          15,
          15,
          13,
          11,
          11,
          9,
          10,
          9,
          9,
          8,
          5,
          27,
          21,
          20,
          19,
          20,
          19,
          18,
          18,
          18,
          17,
          16,
          12,
          12,
          12,
          12,
          9,
          10,
          5,
          5,
          7,
          29,
          28,
          21,
          22,
          22,
          16,
          16,
          14,
          12,
          15,
          13,
          11,
          13,
          13,
          9,
          11,
          9,
          7,
          6,
          5
         ],
         "yaxis": "y"
        }
       ],
       "layout": {
        "barmode": "relative",
        "legend": {
         "tracegroupgap": 0
        },
        "template": {
         "data": {
          "bar": [
           {
            "error_x": {
             "color": "#2a3f5f"
            },
            "error_y": {
             "color": "#2a3f5f"
            },
            "marker": {
             "line": {
              "color": "#E5ECF6",
              "width": 0.5
             },
             "pattern": {
              "fillmode": "overlay",
              "size": 10,
              "solidity": 0.2
             }
            },
            "type": "bar"
           }
          ],
          "barpolar": [
           {
            "marker": {
             "line": {
              "color": "#E5ECF6",
              "width": 0.5
             },
             "pattern": {
              "fillmode": "overlay",
              "size": 10,
              "solidity": 0.2
             }
            },
            "type": "barpolar"
           }
          ],
          "carpet": [
           {
            "aaxis": {
             "endlinecolor": "#2a3f5f",
             "gridcolor": "white",
             "linecolor": "white",
             "minorgridcolor": "white",
             "startlinecolor": "#2a3f5f"
            },
            "baxis": {
             "endlinecolor": "#2a3f5f",
             "gridcolor": "white",
             "linecolor": "white",
             "minorgridcolor": "white",
             "startlinecolor": "#2a3f5f"
            },
            "type": "carpet"
           }
          ],
          "choropleth": [
           {
            "colorbar": {
             "outlinewidth": 0,
             "ticks": ""
            },
            "type": "choropleth"
           }
          ],
          "contour": [
           {
            "colorbar": {
             "outlinewidth": 0,
             "ticks": ""
            },
            "colorscale": [
             [
              0,
              "#0d0887"
             ],
             [
              0.1111111111111111,
              "#46039f"
             ],
             [
              0.2222222222222222,
              "#7201a8"
             ],
             [
              0.3333333333333333,
              "#9c179e"
             ],
             [
              0.4444444444444444,
              "#bd3786"
             ],
             [
              0.5555555555555556,
              "#d8576b"
             ],
             [
              0.6666666666666666,
              "#ed7953"
             ],
             [
              0.7777777777777778,
              "#fb9f3a"
             ],
             [
              0.8888888888888888,
              "#fdca26"
             ],
             [
              1,
              "#f0f921"
             ]
            ],
            "type": "contour"
           }
          ],
          "contourcarpet": [
           {
            "colorbar": {
             "outlinewidth": 0,
             "ticks": ""
            },
            "type": "contourcarpet"
           }
          ],
          "heatmap": [
           {
            "colorbar": {
             "outlinewidth": 0,
             "ticks": ""
            },
            "colorscale": [
             [
              0,
              "#0d0887"
             ],
             [
              0.1111111111111111,
              "#46039f"
             ],
             [
              0.2222222222222222,
              "#7201a8"
             ],
             [
              0.3333333333333333,
              "#9c179e"
             ],
             [
              0.4444444444444444,
              "#bd3786"
             ],
             [
              0.5555555555555556,
              "#d8576b"
             ],
             [
              0.6666666666666666,
              "#ed7953"
             ],
             [
              0.7777777777777778,
              "#fb9f3a"
             ],
             [
              0.8888888888888888,
              "#fdca26"
             ],
             [
              1,
              "#f0f921"
             ]
            ],
            "type": "heatmap"
           }
          ],
          "heatmapgl": [
           {
            "colorbar": {
             "outlinewidth": 0,
             "ticks": ""
            },
            "colorscale": [
             [
              0,
              "#0d0887"
             ],
             [
              0.1111111111111111,
              "#46039f"
             ],
             [
              0.2222222222222222,
              "#7201a8"
             ],
             [
              0.3333333333333333,
              "#9c179e"
             ],
             [
              0.4444444444444444,
              "#bd3786"
             ],
             [
              0.5555555555555556,
              "#d8576b"
             ],
             [
              0.6666666666666666,
              "#ed7953"
             ],
             [
              0.7777777777777778,
              "#fb9f3a"
             ],
             [
              0.8888888888888888,
              "#fdca26"
             ],
             [
              1,
              "#f0f921"
             ]
            ],
            "type": "heatmapgl"
           }
          ],
          "histogram": [
           {
            "marker": {
             "pattern": {
              "fillmode": "overlay",
              "size": 10,
              "solidity": 0.2
             }
            },
            "type": "histogram"
           }
          ],
          "histogram2d": [
           {
            "colorbar": {
             "outlinewidth": 0,
             "ticks": ""
            },
            "colorscale": [
             [
              0,
              "#0d0887"
             ],
             [
              0.1111111111111111,
              "#46039f"
             ],
             [
              0.2222222222222222,
              "#7201a8"
             ],
             [
              0.3333333333333333,
              "#9c179e"
             ],
             [
              0.4444444444444444,
              "#bd3786"
             ],
             [
              0.5555555555555556,
              "#d8576b"
             ],
             [
              0.6666666666666666,
              "#ed7953"
             ],
             [
              0.7777777777777778,
              "#fb9f3a"
             ],
             [
              0.8888888888888888,
              "#fdca26"
             ],
             [
              1,
              "#f0f921"
             ]
            ],
            "type": "histogram2d"
           }
          ],
          "histogram2dcontour": [
           {
            "colorbar": {
             "outlinewidth": 0,
             "ticks": ""
            },
            "colorscale": [
             [
              0,
              "#0d0887"
             ],
             [
              0.1111111111111111,
              "#46039f"
             ],
             [
              0.2222222222222222,
              "#7201a8"
             ],
             [
              0.3333333333333333,
              "#9c179e"
             ],
             [
              0.4444444444444444,
              "#bd3786"
             ],
             [
              0.5555555555555556,
              "#d8576b"
             ],
             [
              0.6666666666666666,
              "#ed7953"
             ],
             [
              0.7777777777777778,
              "#fb9f3a"
             ],
             [
              0.8888888888888888,
              "#fdca26"
             ],
             [
              1,
              "#f0f921"
             ]
            ],
            "type": "histogram2dcontour"
           }
          ],
          "mesh3d": [
           {
            "colorbar": {
             "outlinewidth": 0,
             "ticks": ""
            },
            "type": "mesh3d"
           }
          ],
          "parcoords": [
           {
            "line": {
             "colorbar": {
              "outlinewidth": 0,
              "ticks": ""
             }
            },
            "type": "parcoords"
           }
          ],
          "pie": [
           {
            "automargin": true,
            "type": "pie"
           }
          ],
          "scatter": [
           {
            "fillpattern": {
             "fillmode": "overlay",
             "size": 10,
             "solidity": 0.2
            },
            "type": "scatter"
           }
          ],
          "scatter3d": [
           {
            "line": {
             "colorbar": {
              "outlinewidth": 0,
              "ticks": ""
             }
            },
            "marker": {
             "colorbar": {
              "outlinewidth": 0,
              "ticks": ""
             }
            },
            "type": "scatter3d"
           }
          ],
          "scattercarpet": [
           {
            "marker": {
             "colorbar": {
              "outlinewidth": 0,
              "ticks": ""
             }
            },
            "type": "scattercarpet"
           }
          ],
          "scattergeo": [
           {
            "marker": {
             "colorbar": {
              "outlinewidth": 0,
              "ticks": ""
             }
            },
            "type": "scattergeo"
           }
          ],
          "scattergl": [
           {
            "marker": {
             "colorbar": {
              "outlinewidth": 0,
              "ticks": ""
             }
            },
            "type": "scattergl"
           }
          ],
          "scattermapbox": [
           {
            "marker": {
             "colorbar": {
              "outlinewidth": 0,
              "ticks": ""
             }
            },
            "type": "scattermapbox"
           }
          ],
          "scatterpolar": [
           {
            "marker": {
             "colorbar": {
              "outlinewidth": 0,
              "ticks": ""
             }
            },
            "type": "scatterpolar"
           }
          ],
          "scatterpolargl": [
           {
            "marker": {
             "colorbar": {
              "outlinewidth": 0,
              "ticks": ""
             }
            },
            "type": "scatterpolargl"
           }
          ],
          "scatterternary": [
           {
            "marker": {
             "colorbar": {
              "outlinewidth": 0,
              "ticks": ""
             }
            },
            "type": "scatterternary"
           }
          ],
          "surface": [
           {
            "colorbar": {
             "outlinewidth": 0,
             "ticks": ""
            },
            "colorscale": [
             [
              0,
              "#0d0887"
             ],
             [
              0.1111111111111111,
              "#46039f"
             ],
             [
              0.2222222222222222,
              "#7201a8"
             ],
             [
              0.3333333333333333,
              "#9c179e"
             ],
             [
              0.4444444444444444,
              "#bd3786"
             ],
             [
              0.5555555555555556,
              "#d8576b"
             ],
             [
              0.6666666666666666,
              "#ed7953"
             ],
             [
              0.7777777777777778,
              "#fb9f3a"
             ],
             [
              0.8888888888888888,
              "#fdca26"
             ],
             [
              1,
              "#f0f921"
             ]
            ],
            "type": "surface"
           }
          ],
          "table": [
           {
            "cells": {
             "fill": {
              "color": "#EBF0F8"
             },
             "line": {
              "color": "white"
             }
            },
            "header": {
             "fill": {
              "color": "#C8D4E3"
             },
             "line": {
              "color": "white"
             }
            },
            "type": "table"
           }
          ]
         },
         "layout": {
          "annotationdefaults": {
           "arrowcolor": "#2a3f5f",
           "arrowhead": 0,
           "arrowwidth": 1
          },
          "autotypenumbers": "strict",
          "coloraxis": {
           "colorbar": {
            "outlinewidth": 0,
            "ticks": ""
           }
          },
          "colorscale": {
           "diverging": [
            [
             0,
             "#8e0152"
            ],
            [
             0.1,
             "#c51b7d"
            ],
            [
             0.2,
             "#de77ae"
            ],
            [
             0.3,
             "#f1b6da"
            ],
            [
             0.4,
             "#fde0ef"
            ],
            [
             0.5,
             "#f7f7f7"
            ],
            [
             0.6,
             "#e6f5d0"
            ],
            [
             0.7,
             "#b8e186"
            ],
            [
             0.8,
             "#7fbc41"
            ],
            [
             0.9,
             "#4d9221"
            ],
            [
             1,
             "#276419"
            ]
           ],
           "sequential": [
            [
             0,
             "#0d0887"
            ],
            [
             0.1111111111111111,
             "#46039f"
            ],
            [
             0.2222222222222222,
             "#7201a8"
            ],
            [
             0.3333333333333333,
             "#9c179e"
            ],
            [
             0.4444444444444444,
             "#bd3786"
            ],
            [
             0.5555555555555556,
             "#d8576b"
            ],
            [
             0.6666666666666666,
             "#ed7953"
            ],
            [
             0.7777777777777778,
             "#fb9f3a"
            ],
            [
             0.8888888888888888,
             "#fdca26"
            ],
            [
             1,
             "#f0f921"
            ]
           ],
           "sequentialminus": [
            [
             0,
             "#0d0887"
            ],
            [
             0.1111111111111111,
             "#46039f"
            ],
            [
             0.2222222222222222,
             "#7201a8"
            ],
            [
             0.3333333333333333,
             "#9c179e"
            ],
            [
             0.4444444444444444,
             "#bd3786"
            ],
            [
             0.5555555555555556,
             "#d8576b"
            ],
            [
             0.6666666666666666,
             "#ed7953"
            ],
            [
             0.7777777777777778,
             "#fb9f3a"
            ],
            [
             0.8888888888888888,
             "#fdca26"
            ],
            [
             1,
             "#f0f921"
            ]
           ]
          },
          "colorway": [
           "#636efa",
           "#EF553B",
           "#00cc96",
           "#ab63fa",
           "#FFA15A",
           "#19d3f3",
           "#FF6692",
           "#B6E880",
           "#FF97FF",
           "#FECB52"
          ],
          "font": {
           "color": "#2a3f5f"
          },
          "geo": {
           "bgcolor": "white",
           "lakecolor": "white",
           "landcolor": "#E5ECF6",
           "showlakes": true,
           "showland": true,
           "subunitcolor": "white"
          },
          "hoverlabel": {
           "align": "left"
          },
          "hovermode": "closest",
          "mapbox": {
           "style": "light"
          },
          "paper_bgcolor": "white",
          "plot_bgcolor": "#E5ECF6",
          "polar": {
           "angularaxis": {
            "gridcolor": "white",
            "linecolor": "white",
            "ticks": ""
           },
           "bgcolor": "#E5ECF6",
           "radialaxis": {
            "gridcolor": "white",
            "linecolor": "white",
            "ticks": ""
           }
          },
          "scene": {
           "xaxis": {
            "backgroundcolor": "#E5ECF6",
            "gridcolor": "white",
            "gridwidth": 2,
            "linecolor": "white",
            "showbackground": true,
            "ticks": "",
            "zerolinecolor": "white"
           },
           "yaxis": {
            "backgroundcolor": "#E5ECF6",
            "gridcolor": "white",
            "gridwidth": 2,
            "linecolor": "white",
            "showbackground": true,
            "ticks": "",
            "zerolinecolor": "white"
           },
           "zaxis": {
            "backgroundcolor": "#E5ECF6",
            "gridcolor": "white",
            "gridwidth": 2,
            "linecolor": "white",
            "showbackground": true,
            "ticks": "",
            "zerolinecolor": "white"
           }
          },
          "shapedefaults": {
           "line": {
            "color": "#2a3f5f"
           }
          },
          "ternary": {
           "aaxis": {
            "gridcolor": "white",
            "linecolor": "white",
            "ticks": ""
           },
           "baxis": {
            "gridcolor": "white",
            "linecolor": "white",
            "ticks": ""
           },
           "bgcolor": "#E5ECF6",
           "caxis": {
            "gridcolor": "white",
            "linecolor": "white",
            "ticks": ""
           }
          },
          "title": {
           "x": 0.05
          },
          "xaxis": {
           "automargin": true,
           "gridcolor": "white",
           "linecolor": "white",
           "ticks": "",
           "title": {
            "standoff": 15
           },
           "zerolinecolor": "white",
           "zerolinewidth": 2
          },
          "yaxis": {
           "automargin": true,
           "gridcolor": "white",
           "linecolor": "white",
           "ticks": "",
           "title": {
            "standoff": 15
           },
           "zerolinecolor": "white",
           "zerolinewidth": 2
          }
         }
        },
        "title": {
         "text": "Total Wins"
        },
        "xaxis": {
         "anchor": "y",
         "domain": [
          0,
          1
         ],
         "title": {
          "text": "Team"
         }
        },
        "yaxis": {
         "anchor": "x",
         "domain": [
          0,
          1
         ],
         "title": {
          "text": "sum of W"
         }
        }
       }
      },
      "text/html": [
       "<div>                            <div id=\"69a55248-8e35-4485-823e-84dd03993fb0\" class=\"plotly-graph-div\" style=\"height:525px; width:100%;\"></div>            <script type=\"text/javascript\">                require([\"plotly\"], function(Plotly) {                    window.PLOTLYENV=window.PLOTLYENV || {};                                    if (document.getElementById(\"69a55248-8e35-4485-823e-84dd03993fb0\")) {                    Plotly.newPlot(                        \"69a55248-8e35-4485-823e-84dd03993fb0\",                        [{\"alignmentgroup\":\"True\",\"bingroup\":\"x\",\"histfunc\":\"sum\",\"hovertemplate\":\"Team=%{x}<br>sum of W=%{y}<extra></extra>\",\"legendgroup\":\"\",\"marker\":{\"color\":\"#636efa\",\"pattern\":{\"shape\":\"\"}},\"name\":\"\",\"offsetgroup\":\"\",\"orientation\":\"v\",\"showlegend\":false,\"x\":[\"Manchester United\",\"Arsenal\",\"Liverpool\",\"Leeds United\",\"Ipswich Town\",\"Chelsea\",\"Sunderland\",\"Aston Villa\",\"Charlton Athletic\",\"Southampton\",\"Newcastle United\",\"Tottenham Hotspur\",\"Leicester City\",\"Middlesbrough\",\"West Ham United\",\"Everton\",\"Derby County\",\"Manchester City\",\"Coventry City\",\"Bradford City\",\"Arsenal\",\"Liverpool\",\"Manchester United\",\"Newcastle United\",\"Leeds United\",\"Chelsea\",\"West Ham United\",\"Aston Villa\",\"Tottenham Hotspur\",\"Blackburn Rovers\",\"Southampton\",\"Middlesbrough\",\"Fulham\",\"Charlton Athletic\",\"Everton\",\"Bolton Wanderers\",\"Sunderland\",\"Ipswich Town\",\"Derby County\",\"Leicester City\",\"Manchester United\",\"Arsenal\",\"Newcastle United\",\"Chelsea\",\"Liverpool\",\"Blackburn Rovers\",\"Everton\",\"Southampton\",\"Manchester City\",\"Tottenham Hotspur\",\"Middlesbrough\",\"Charlton Athletic\",\"Birmingham City\",\"Fulham\",\"Leeds United\",\"Aston Villa\",\"Bolton Wanderers\",\"West Ham United\",\"West Bromwich Albion\",\"Sunderland\",\"Arsenal\",\"Chelsea\",\"Manchester United\",\"Liverpool\",\"Newcastle United\",\"Aston Villa\",\"Charlton Athletic\",\"Bolton Wanderers\",\"Fulham\",\"Birmingham City\",\"Middlesbrough\",\"Southampton\",\"Portsmouth\",\"Tottenham Hotspur\",\"Blackburn Rovers\",\"Manchester City\",\"Everton\",\"Leicester City\",\"Leeds United\",\"Wolverhampton Wanderers\",\"Chelsea\",\"Arsenal\",\"Manchester United\",\"Everton\",\"Liverpool\",\"Bolton Wanderers\",\"Middlesbrough\",\"Manchester City\",\"Tottenham Hotspur\",\"Aston Villa\",\"Charlton Athletic\",\"Birmingham City\",\"Fulham\",\"Newcastle United\",\"Blackburn Rovers\",\"Portsmouth\",\"West Bromwich Albion\",\"Crystal Palace\",\"Norwich City\",\"Southampton\",\"Chelsea\",\"Manchester United\",\"Liverpool\",\"Arsenal\",\"Tottenham Hotspur\",\"Blackburn Rovers\",\"Newcastle United\",\"Bolton Wanderers\",\"West Ham United\",\"Wigan Athletic\",\"Everton\",\"Fulham\",\"Charlton Athletic\",\"Middlesbrough\",\"Manchester City\",\"Aston Villa\",\"Portsmouth\",\"Birmingham City\",\"West Bromwich Albion\",\"Sunderland\",\"Manchester United\",\"Chelsea\",\"Liverpool\",\"Arsenal\",\"Tottenham Hotspur\",\"Everton\",\"Bolton Wanderers\",\"Reading\",\"Portsmouth\",\"Blackburn Rovers\",\"Aston Villa\",\"Middlesbrough\",\"Newcastle United\",\"Manchester City\",\"West Ham United\",\"Fulham\",\"Wigan Athletic\",\"Sheffield United\",\"Charlton Athletic\",\"Watford\",\"Manchester United\",\"Chelsea\",\"Arsenal\",\"Liverpool\",\"Everton\",\"Aston Villa\",\"Blackburn Rovers\",\"Portsmouth\",\"Manchester City\",\"West Ham United\",\"Tottenham Hotspur\",\"Newcastle United\",\"Middlesbrough\",\"Wigan Athletic\",\"Sunderland\",\"Bolton Wanderers\",\"Fulham\",\"Reading\",\"Birmingham City\",\"Derby County\",\"Manchester United\",\"Liverpool\",\"Chelsea\",\"Arsenal\",\"Everton\",\"Aston Villa\",\"Fulham\",\"Tottenham Hotspur\",\"West Ham United\",\"Manchester City\",\"Wigan Athletic\",\"Stoke City\",\"Bolton Wanderers\",\"Portsmouth\",\"Blackburn Rovers\",\"Sunderland\",\"Hull City\",\"Newcastle United\",\"Middlesbrough\",\"West Bromwich Albion\",\"Chelsea\",\"Manchester United\",\"Arsenal\",\"Tottenham Hotspur\",\"Manchester City\",\"Aston Villa\",\"Liverpool\",\"Everton\",\"Birmingham City\",\"Blackburn Rovers\",\"Stoke City\",\"Fulham\",\"Sunderland\",\"Bolton Wanderers\",\"Wolverhampton Wanderers\",\"Wigan Athletic\",\"West Ham United\",\"Burnley\",\"Hull City\",\"Portsmouth\",\"Manchester United\",\"Chelsea\",\"Manchester City\",\"Arsenal\",\"Tottenham Hotspur\",\"Liverpool\",\"Everton\",\"Fulham\",\"Aston Villa\",\"Sunderland\",\"West Bromwich Albion\",\"Newcastle United\",\"Stoke City\",\"Bolton Wanderers\",\"Blackburn Rovers\",\"Wigan Athletic\",\"Wolverhampton Wanderers\",\"Birmingham City\",\"Blackpool\",\"West Ham United\",\"Manchester City\",\"Manchester United\",\"Arsenal\",\"Tottenham Hotspur\",\"Newcastle United\",\"Chelsea\",\"Everton\",\"Liverpool\",\"Fulham\",\"West Bromwich Albion\",\"Swansea City\",\"Norwich City\",\"Sunderland\",\"Stoke City\",\"Wigan Athletic\",\"Aston Villa\",\"Queens Park Rangers\",\"Bolton Wanderers\",\"Blackburn Rovers\",\"Wolverhampton Wanderers\",\"Manchester United\",\"Manchester City\",\"Chelsea\",\"Arsenal\",\"Tottenham Hotspur\",\"Everton\",\"Liverpool\",\"West Bromwich Albion\",\"Swansea City\",\"West Ham United\",\"Norwich City\",\"Fulham\",\"Stoke City\",\"Southampton\",\"Aston Villa\",\"Newcastle United\",\"Sunderland\",\"Wigan Athletic\",\"Reading\",\"Queens Park Rangers\",\"Manchester City\",\"Liverpool\",\"Chelsea\",\"Arsenal\",\"Everton\",\"Tottenham Hotspur\",\"Manchester United\",\"Southampton\",\"Stoke City\",\"Newcastle United\",\"Crystal Palace\",\"Swansea City\",\"West Ham United\",\"Sunderland\",\"Aston Villa\",\"Hull City\",\"West Bromwich Albion\",\"Norwich City\",\"Fulham\",\"Cardiff City\",\"Chelsea\",\"Manchester City\",\"Arsenal\",\"Manchester United\",\"Tottenham Hotspur\",\"Liverpool\",\"Southampton\",\"Swansea City\",\"Stoke City\",\"Crystal Palace\",\"Everton\",\"West Ham United\",\"West Bromwich Albion\",\"Leicester City\",\"Newcastle United\",\"Sunderland\",\"Aston Villa\",\"Hull City\",\"Burnley\",\"Queens Park Rangers\",\"Leicester City\",\"Arsenal\",\"Tottenham Hotspur\",\"Manchester City\",\"Manchester United\",\"Southampton\",\"West Ham United\",\"Liverpool\",\"Stoke City\",\"Chelsea\",\"Everton\",\"Swansea City\",\"Watford\",\"West Bromwich Albion\",\"Crystal Palace\",\"Bournemouth\",\"Sunderland\",\"Newcastle United\",\"Norwich City\",\"Aston Villa\",\"Chelsea\",\"Tottenham Hotspur\",\"Manchester City\",\"Liverpool\",\"Arsenal\",\"Manchester United\",\"Everton\",\"Southampton\",\"Bournemouth\",\"West Bromwich Albion\",\"West Ham United\",\"Leicester City\",\"Stoke City\",\"Crystal Palace\",\"Swansea City\",\"Burnley\",\"Watford\",\"Hull City\",\"Middlesbrough\",\"Sunderland\",\"Manchester City\",\"Manchester United\",\"Tottenham Hotspur\",\"Liverpool\",\"Chelsea\",\"Arsenal\",\"Burnley\",\"Everton\",\"Leicester City\",\"Newcastle United\",\"Crystal Palace\",\"Bournemouth\",\"West Ham United\",\"Watford\",\"Brighton & Hove Albion\",\"Huddersfield Town\",\"Southampton\",\"Swansea City\",\"Stoke City\",\"West Bromwich Albion\",\"Manchester City\",\"Liverpool\",\"Chelsea\",\"Tottenham Hotspur\",\"Arsenal\",\"Manchester United\",\"Wolverhampton Wanderers\",\"Everton\",\"Leicester City\",\"West Ham United\",\"Watford\",\"Crystal Palace\",\"Newcastle United\",\"Bournemouth\",\"Burnley\",\"Southampton\",\"Brighton & Hove Albion\",\"Cardiff City\",\"Fulham\",\"Huddersfield Town\",\"Liverpool\",\"Manchester City\",\"Manchester United\",\"Chelsea\",\"Leicester City\",\"Tottenham Hotspur\",\"Wolverhampton Wanderers\",\"Arsenal\",\"Sheffield United\",\"Burnley\",\"Southampton\",\"Everton\",\"Newcastle United\",\"Crystal Palace\",\"Brighton & Hove Albion\",\"West Ham United\",\"Aston Villa\",\"Bournemouth\",\"Watford\",\"Norwich City\",\"Manchester City\",\"Manchester United\",\"Liverpool\",\"Chelsea\",\"Leicester City\",\"West Ham United\",\"Tottenham Hotspur\",\"Arsenal\",\"Leeds United\",\"Everton\",\"Aston Villa\",\"Newcastle United\",\"Wolverhampton Wanderers\",\"Crystal Palace\",\"Southampton\",\"Brighton & Hove Albion\",\"Burnley\",\"Fulham\",\"West Bromwich Albion\",\"Sheffield United\",\"Manchester City\",\"Liverpool\",\"Chelsea\",\"Tottenham Hotspur\",\"Arsenal\",\"Manchester United\",\"West Ham United\",\"Leicester City\",\"Brighton & Hove Albion\",\"Wolverhampton Wanderers\",\"Newcastle United\",\"Crystal Palace\",\"Brentford\",\"Aston Villa\",\"Southampton\",\"Everton\",\"Leeds United\",\"Burnley\",\"Watford\",\"Norwich City\"],\"xaxis\":\"x\",\"y\":[24,20,20,20,20,17,15,13,14,14,14,13,14,9,10,11,10,8,8,5,26,24,24,21,18,17,15,12,14,12,12,12,10,10,11,9,10,9,8,5,25,23,21,19,18,16,17,13,15,14,13,14,13,13,14,12,10,10,6,4,26,24,23,16,13,15,14,14,14,12,13,12,12,13,12,9,9,6,8,7,29,25,22,18,17,16,14,13,14,12,12,11,12,10,9,10,6,7,7,6,29,25,25,20,18,19,17,15,16,15,14,14,13,12,13,10,10,8,7,3,28,24,20,19,17,15,16,16,14,15,11,12,11,11,12,8,10,10,8,5,27,25,24,21,19,16,15,16,15,13,11,11,10,10,11,9,8,10,8,1,28,25,25,20,17,17,14,14,14,15,12,12,11,10,10,9,8,7,7,8,27,27,23,21,18,17,18,16,13,13,11,12,11,10,9,9,8,8,6,7,23,21,21,19,16,17,13,11,12,12,12,11,13,12,11,9,11,8,10,7,28,28,21,20,19,18,15,14,14,13,12,12,11,11,11,7,10,10,8,5,28,23,22,21,21,16,16,14,11,12,10,11,9,9,10,11,9,9,6,4,27,26,25,24,21,21,19,15,13,15,13,11,11,10,10,10,7,8,9,7,26,24,22,20,19,18,18,16,15,13,12,12,11,11,10,7,10,8,7,8,23,20,19,19,19,18,16,16,14,12,11,12,12,10,11,11,9,9,9,3,30,26,23,22,23,18,17,12,12,12,12,12,11,12,12,11,11,9,5,6,32,25,23,21,21,19,14,13,12,12,11,11,10,11,9,9,7,8,7,6,32,30,21,23,21,19,16,15,15,15,14,14,12,13,11,9,9,10,7,3,32,26,18,20,18,16,15,14,14,15,15,13,11,11,9,10,9,9,8,5,27,21,20,19,20,19,18,18,18,17,16,12,12,12,12,9,10,5,5,7,29,28,21,22,22,16,16,14,12,15,13,11,13,13,9,11,9,7,6,5],\"yaxis\":\"y\",\"type\":\"histogram\"}],                        {\"template\":{\"data\":{\"histogram2dcontour\":[{\"type\":\"histogram2dcontour\",\"colorbar\":{\"outlinewidth\":0,\"ticks\":\"\"},\"colorscale\":[[0.0,\"#0d0887\"],[0.1111111111111111,\"#46039f\"],[0.2222222222222222,\"#7201a8\"],[0.3333333333333333,\"#9c179e\"],[0.4444444444444444,\"#bd3786\"],[0.5555555555555556,\"#d8576b\"],[0.6666666666666666,\"#ed7953\"],[0.7777777777777778,\"#fb9f3a\"],[0.8888888888888888,\"#fdca26\"],[1.0,\"#f0f921\"]]}],\"choropleth\":[{\"type\":\"choropleth\",\"colorbar\":{\"outlinewidth\":0,\"ticks\":\"\"}}],\"histogram2d\":[{\"type\":\"histogram2d\",\"colorbar\":{\"outlinewidth\":0,\"ticks\":\"\"},\"colorscale\":[[0.0,\"#0d0887\"],[0.1111111111111111,\"#46039f\"],[0.2222222222222222,\"#7201a8\"],[0.3333333333333333,\"#9c179e\"],[0.4444444444444444,\"#bd3786\"],[0.5555555555555556,\"#d8576b\"],[0.6666666666666666,\"#ed7953\"],[0.7777777777777778,\"#fb9f3a\"],[0.8888888888888888,\"#fdca26\"],[1.0,\"#f0f921\"]]}],\"heatmap\":[{\"type\":\"heatmap\",\"colorbar\":{\"outlinewidth\":0,\"ticks\":\"\"},\"colorscale\":[[0.0,\"#0d0887\"],[0.1111111111111111,\"#46039f\"],[0.2222222222222222,\"#7201a8\"],[0.3333333333333333,\"#9c179e\"],[0.4444444444444444,\"#bd3786\"],[0.5555555555555556,\"#d8576b\"],[0.6666666666666666,\"#ed7953\"],[0.7777777777777778,\"#fb9f3a\"],[0.8888888888888888,\"#fdca26\"],[1.0,\"#f0f921\"]]}],\"heatmapgl\":[{\"type\":\"heatmapgl\",\"colorbar\":{\"outlinewidth\":0,\"ticks\":\"\"},\"colorscale\":[[0.0,\"#0d0887\"],[0.1111111111111111,\"#46039f\"],[0.2222222222222222,\"#7201a8\"],[0.3333333333333333,\"#9c179e\"],[0.4444444444444444,\"#bd3786\"],[0.5555555555555556,\"#d8576b\"],[0.6666666666666666,\"#ed7953\"],[0.7777777777777778,\"#fb9f3a\"],[0.8888888888888888,\"#fdca26\"],[1.0,\"#f0f921\"]]}],\"contourcarpet\":[{\"type\":\"contourcarpet\",\"colorbar\":{\"outlinewidth\":0,\"ticks\":\"\"}}],\"contour\":[{\"type\":\"contour\",\"colorbar\":{\"outlinewidth\":0,\"ticks\":\"\"},\"colorscale\":[[0.0,\"#0d0887\"],[0.1111111111111111,\"#46039f\"],[0.2222222222222222,\"#7201a8\"],[0.3333333333333333,\"#9c179e\"],[0.4444444444444444,\"#bd3786\"],[0.5555555555555556,\"#d8576b\"],[0.6666666666666666,\"#ed7953\"],[0.7777777777777778,\"#fb9f3a\"],[0.8888888888888888,\"#fdca26\"],[1.0,\"#f0f921\"]]}],\"surface\":[{\"type\":\"surface\",\"colorbar\":{\"outlinewidth\":0,\"ticks\":\"\"},\"colorscale\":[[0.0,\"#0d0887\"],[0.1111111111111111,\"#46039f\"],[0.2222222222222222,\"#7201a8\"],[0.3333333333333333,\"#9c179e\"],[0.4444444444444444,\"#bd3786\"],[0.5555555555555556,\"#d8576b\"],[0.6666666666666666,\"#ed7953\"],[0.7777777777777778,\"#fb9f3a\"],[0.8888888888888888,\"#fdca26\"],[1.0,\"#f0f921\"]]}],\"mesh3d\":[{\"type\":\"mesh3d\",\"colorbar\":{\"outlinewidth\":0,\"ticks\":\"\"}}],\"scatter\":[{\"fillpattern\":{\"fillmode\":\"overlay\",\"size\":10,\"solidity\":0.2},\"type\":\"scatter\"}],\"parcoords\":[{\"type\":\"parcoords\",\"line\":{\"colorbar\":{\"outlinewidth\":0,\"ticks\":\"\"}}}],\"scatterpolargl\":[{\"type\":\"scatterpolargl\",\"marker\":{\"colorbar\":{\"outlinewidth\":0,\"ticks\":\"\"}}}],\"bar\":[{\"error_x\":{\"color\":\"#2a3f5f\"},\"error_y\":{\"color\":\"#2a3f5f\"},\"marker\":{\"line\":{\"color\":\"#E5ECF6\",\"width\":0.5},\"pattern\":{\"fillmode\":\"overlay\",\"size\":10,\"solidity\":0.2}},\"type\":\"bar\"}],\"scattergeo\":[{\"type\":\"scattergeo\",\"marker\":{\"colorbar\":{\"outlinewidth\":0,\"ticks\":\"\"}}}],\"scatterpolar\":[{\"type\":\"scatterpolar\",\"marker\":{\"colorbar\":{\"outlinewidth\":0,\"ticks\":\"\"}}}],\"histogram\":[{\"marker\":{\"pattern\":{\"fillmode\":\"overlay\",\"size\":10,\"solidity\":0.2}},\"type\":\"histogram\"}],\"scattergl\":[{\"type\":\"scattergl\",\"marker\":{\"colorbar\":{\"outlinewidth\":0,\"ticks\":\"\"}}}],\"scatter3d\":[{\"type\":\"scatter3d\",\"line\":{\"colorbar\":{\"outlinewidth\":0,\"ticks\":\"\"}},\"marker\":{\"colorbar\":{\"outlinewidth\":0,\"ticks\":\"\"}}}],\"scattermapbox\":[{\"type\":\"scattermapbox\",\"marker\":{\"colorbar\":{\"outlinewidth\":0,\"ticks\":\"\"}}}],\"scatterternary\":[{\"type\":\"scatterternary\",\"marker\":{\"colorbar\":{\"outlinewidth\":0,\"ticks\":\"\"}}}],\"scattercarpet\":[{\"type\":\"scattercarpet\",\"marker\":{\"colorbar\":{\"outlinewidth\":0,\"ticks\":\"\"}}}],\"carpet\":[{\"aaxis\":{\"endlinecolor\":\"#2a3f5f\",\"gridcolor\":\"white\",\"linecolor\":\"white\",\"minorgridcolor\":\"white\",\"startlinecolor\":\"#2a3f5f\"},\"baxis\":{\"endlinecolor\":\"#2a3f5f\",\"gridcolor\":\"white\",\"linecolor\":\"white\",\"minorgridcolor\":\"white\",\"startlinecolor\":\"#2a3f5f\"},\"type\":\"carpet\"}],\"table\":[{\"cells\":{\"fill\":{\"color\":\"#EBF0F8\"},\"line\":{\"color\":\"white\"}},\"header\":{\"fill\":{\"color\":\"#C8D4E3\"},\"line\":{\"color\":\"white\"}},\"type\":\"table\"}],\"barpolar\":[{\"marker\":{\"line\":{\"color\":\"#E5ECF6\",\"width\":0.5},\"pattern\":{\"fillmode\":\"overlay\",\"size\":10,\"solidity\":0.2}},\"type\":\"barpolar\"}],\"pie\":[{\"automargin\":true,\"type\":\"pie\"}]},\"layout\":{\"autotypenumbers\":\"strict\",\"colorway\":[\"#636efa\",\"#EF553B\",\"#00cc96\",\"#ab63fa\",\"#FFA15A\",\"#19d3f3\",\"#FF6692\",\"#B6E880\",\"#FF97FF\",\"#FECB52\"],\"font\":{\"color\":\"#2a3f5f\"},\"hovermode\":\"closest\",\"hoverlabel\":{\"align\":\"left\"},\"paper_bgcolor\":\"white\",\"plot_bgcolor\":\"#E5ECF6\",\"polar\":{\"bgcolor\":\"#E5ECF6\",\"angularaxis\":{\"gridcolor\":\"white\",\"linecolor\":\"white\",\"ticks\":\"\"},\"radialaxis\":{\"gridcolor\":\"white\",\"linecolor\":\"white\",\"ticks\":\"\"}},\"ternary\":{\"bgcolor\":\"#E5ECF6\",\"aaxis\":{\"gridcolor\":\"white\",\"linecolor\":\"white\",\"ticks\":\"\"},\"baxis\":{\"gridcolor\":\"white\",\"linecolor\":\"white\",\"ticks\":\"\"},\"caxis\":{\"gridcolor\":\"white\",\"linecolor\":\"white\",\"ticks\":\"\"}},\"coloraxis\":{\"colorbar\":{\"outlinewidth\":0,\"ticks\":\"\"}},\"colorscale\":{\"sequential\":[[0.0,\"#0d0887\"],[0.1111111111111111,\"#46039f\"],[0.2222222222222222,\"#7201a8\"],[0.3333333333333333,\"#9c179e\"],[0.4444444444444444,\"#bd3786\"],[0.5555555555555556,\"#d8576b\"],[0.6666666666666666,\"#ed7953\"],[0.7777777777777778,\"#fb9f3a\"],[0.8888888888888888,\"#fdca26\"],[1.0,\"#f0f921\"]],\"sequentialminus\":[[0.0,\"#0d0887\"],[0.1111111111111111,\"#46039f\"],[0.2222222222222222,\"#7201a8\"],[0.3333333333333333,\"#9c179e\"],[0.4444444444444444,\"#bd3786\"],[0.5555555555555556,\"#d8576b\"],[0.6666666666666666,\"#ed7953\"],[0.7777777777777778,\"#fb9f3a\"],[0.8888888888888888,\"#fdca26\"],[1.0,\"#f0f921\"]],\"diverging\":[[0,\"#8e0152\"],[0.1,\"#c51b7d\"],[0.2,\"#de77ae\"],[0.3,\"#f1b6da\"],[0.4,\"#fde0ef\"],[0.5,\"#f7f7f7\"],[0.6,\"#e6f5d0\"],[0.7,\"#b8e186\"],[0.8,\"#7fbc41\"],[0.9,\"#4d9221\"],[1,\"#276419\"]]},\"xaxis\":{\"gridcolor\":\"white\",\"linecolor\":\"white\",\"ticks\":\"\",\"title\":{\"standoff\":15},\"zerolinecolor\":\"white\",\"automargin\":true,\"zerolinewidth\":2},\"yaxis\":{\"gridcolor\":\"white\",\"linecolor\":\"white\",\"ticks\":\"\",\"title\":{\"standoff\":15},\"zerolinecolor\":\"white\",\"automargin\":true,\"zerolinewidth\":2},\"scene\":{\"xaxis\":{\"backgroundcolor\":\"#E5ECF6\",\"gridcolor\":\"white\",\"linecolor\":\"white\",\"showbackground\":true,\"ticks\":\"\",\"zerolinecolor\":\"white\",\"gridwidth\":2},\"yaxis\":{\"backgroundcolor\":\"#E5ECF6\",\"gridcolor\":\"white\",\"linecolor\":\"white\",\"showbackground\":true,\"ticks\":\"\",\"zerolinecolor\":\"white\",\"gridwidth\":2},\"zaxis\":{\"backgroundcolor\":\"#E5ECF6\",\"gridcolor\":\"white\",\"linecolor\":\"white\",\"showbackground\":true,\"ticks\":\"\",\"zerolinecolor\":\"white\",\"gridwidth\":2}},\"shapedefaults\":{\"line\":{\"color\":\"#2a3f5f\"}},\"annotationdefaults\":{\"arrowcolor\":\"#2a3f5f\",\"arrowhead\":0,\"arrowwidth\":1},\"geo\":{\"bgcolor\":\"white\",\"landcolor\":\"#E5ECF6\",\"subunitcolor\":\"white\",\"showland\":true,\"showlakes\":true,\"lakecolor\":\"white\"},\"title\":{\"x\":0.05},\"mapbox\":{\"style\":\"light\"}}},\"xaxis\":{\"anchor\":\"y\",\"domain\":[0.0,1.0],\"title\":{\"text\":\"Team\"}},\"yaxis\":{\"anchor\":\"x\",\"domain\":[0.0,1.0],\"title\":{\"text\":\"sum of W\"}},\"legend\":{\"tracegroupgap\":0},\"title\":{\"text\":\"Total Wins\"},\"barmode\":\"relative\"},                        {\"responsive\": true}                    ).then(function(){\n",
       "                            \n",
       "var gd = document.getElementById('69a55248-8e35-4485-823e-84dd03993fb0');\n",
       "var x = new MutationObserver(function (mutations, observer) {{\n",
       "        var display = window.getComputedStyle(gd).display;\n",
       "        if (!display || display === 'none') {{\n",
       "            console.log([gd, 'removed!']);\n",
       "            Plotly.purge(gd);\n",
       "            observer.disconnect();\n",
       "        }}\n",
       "}});\n",
       "\n",
       "// Listen for the removal of the full notebook cells\n",
       "var notebookContainer = gd.closest('#notebook-container');\n",
       "if (notebookContainer) {{\n",
       "    x.observe(notebookContainer, {childList: true});\n",
       "}}\n",
       "\n",
       "// Listen for the clearing of the current output cell\n",
       "var outputEl = gd.closest('.output');\n",
       "if (outputEl) {{\n",
       "    x.observe(outputEl, {childList: true});\n",
       "}}\n",
       "\n",
       "                        })                };                });            </script>        </div>"
      ]
     },
     "metadata": {},
     "output_type": "display_data"
    }
   ],
   "source": [
    "#Using Plotly we can visualise the dataframe in a multitude of different ways\n",
    "#Firstly below is a histogram chart of the total wins by each team thats participated in the premier league.\n",
    "#By simply hovering over each bin the user can get a view of how much wins each team exactly had\n",
    "\n",
    "import plotly.express as px\n",
    "df = PL\n",
    "fig = px.histogram(df, x=\"Team\",y=\"W\", title=\"Total Wins\")\n",
    "fig.show()"
   ]
  },
  {
   "cell_type": "code",
   "execution_count": 232,
   "id": "45c25555",
   "metadata": {},
   "outputs": [
    {
     "data": {
      "application/vnd.plotly.v1+json": {
       "config": {
        "plotlyServerURL": "https://plot.ly"
       },
       "data": [
        {
         "alignmentgroup": "True",
         "customdata": [
          [
           2000,
           1,
           8,
           6,
           80
          ],
          [
           2000,
           2,
           10,
           8,
           70
          ],
          [
           2000,
           3,
           9,
           9,
           69
          ],
          [
           2000,
           4,
           8,
           10,
           68
          ],
          [
           2000,
           5,
           6,
           12,
           66
          ],
          [
           2000,
           6,
           10,
           11,
           61
          ],
          [
           2000,
           7,
           12,
           11,
           57
          ],
          [
           2000,
           8,
           15,
           10,
           54
          ],
          [
           2000,
           9,
           10,
           14,
           52
          ],
          [
           2000,
           10,
           10,
           14,
           52
          ],
          [
           2000,
           11,
           9,
           15,
           51
          ],
          [
           2000,
           12,
           10,
           15,
           49
          ],
          [
           2000,
           13,
           6,
           18,
           48
          ],
          [
           2000,
           14,
           15,
           14,
           42
          ],
          [
           2000,
           15,
           12,
           16,
           42
          ],
          [
           2000,
           16,
           9,
           18,
           42
          ],
          [
           2000,
           17,
           12,
           16,
           42
          ],
          [
           2000,
           18,
           10,
           20,
           34
          ],
          [
           2000,
           19,
           10,
           20,
           34
          ],
          [
           2000,
           20,
           11,
           22,
           26
          ],
          [
           2001,
           1,
           9,
           3,
           87
          ],
          [
           2001,
           2,
           8,
           6,
           80
          ],
          [
           2001,
           3,
           5,
           9,
           77
          ],
          [
           2001,
           4,
           8,
           9,
           71
          ],
          [
           2001,
           5,
           12,
           8,
           66
          ],
          [
           2001,
           6,
           13,
           8,
           64
          ],
          [
           2001,
           7,
           8,
           15,
           53
          ],
          [
           2001,
           8,
           14,
           12,
           50
          ],
          [
           2001,
           9,
           8,
           16,
           50
          ],
          [
           2001,
           10,
           10,
           16,
           46
          ],
          [
           2001,
           11,
           9,
           17,
           45
          ],
          [
           2001,
           12,
           9,
           17,
           45
          ],
          [
           2001,
           13,
           14,
           14,
           44
          ],
          [
           2001,
           14,
           14,
           14,
           44
          ],
          [
           2001,
           15,
           10,
           17,
           43
          ],
          [
           2001,
           16,
           13,
           16,
           40
          ],
          [
           2001,
           17,
           10,
           18,
           40
          ],
          [
           2001,
           18,
           9,
           20,
           36
          ],
          [
           2001,
           19,
           6,
           24,
           30
          ],
          [
           2001,
           20,
           13,
           20,
           28
          ],
          [
           2002,
           1,
           8,
           5,
           83
          ],
          [
           2002,
           2,
           9,
           6,
           78
          ],
          [
           2002,
           3,
           6,
           11,
           69
          ],
          [
           2002,
           4,
           10,
           9,
           67
          ],
          [
           2002,
           5,
           10,
           10,
           64
          ],
          [
           2002,
           6,
           12,
           10,
           60
          ],
          [
           2002,
           7,
           8,
           13,
           59
          ],
          [
           2002,
           8,
           13,
           12,
           52
          ],
          [
           2002,
           9,
           6,
           17,
           51
          ],
          [
           2002,
           10,
           8,
           16,
           50
          ],
          [
           2002,
           11,
           10,
           15,
           49
          ],
          [
           2002,
           12,
           7,
           17,
           49
          ],
          [
           2002,
           13,
           9,
           16,
           48
          ],
          [
           2002,
           14,
           9,
           16,
           48
          ],
          [
           2002,
           15,
           5,
           19,
           47
          ],
          [
           2002,
           16,
           9,
           17,
           45
          ],
          [
           2002,
           17,
           14,
           14,
           44
          ],
          [
           2002,
           18,
           12,
           16,
           42
          ],
          [
           2002,
           19,
           8,
           24,
           26
          ],
          [
           2002,
           20,
           7,
           27,
           19
          ],
          [
           2003,
           1,
           12,
           0,
           90
          ],
          [
           2003,
           2,
           7,
           7,
           79
          ],
          [
           2003,
           3,
           6,
           9,
           75
          ],
          [
           2003,
           4,
           12,
           10,
           60
          ],
          [
           2003,
           5,
           17,
           8,
           56
          ],
          [
           2003,
           6,
           11,
           12,
           56
          ],
          [
           2003,
           7,
           11,
           13,
           53
          ],
          [
           2003,
           8,
           11,
           13,
           53
          ],
          [
           2003,
           9,
           10,
           14,
           52
          ],
          [
           2003,
           10,
           14,
           12,
           50
          ],
          [
           2003,
           11,
           9,
           16,
           48
          ],
          [
           2003,
           12,
           11,
           15,
           47
          ],
          [
           2003,
           13,
           9,
           17,
           45
          ],
          [
           2003,
           14,
           6,
           19,
           45
          ],
          [
           2003,
           15,
           8,
           18,
           44
          ],
          [
           2003,
           16,
           14,
           15,
           41
          ],
          [
           2003,
           17,
           12,
           17,
           39
          ],
          [
           2003,
           18,
           15,
           17,
           33
          ],
          [
           2003,
           19,
           9,
           21,
           33
          ],
          [
           2003,
           20,
           12,
           19,
           33
          ],
          [
           2004,
           1,
           8,
           1,
           95
          ],
          [
           2004,
           2,
           8,
           5,
           83
          ],
          [
           2004,
           3,
           11,
           5,
           77
          ],
          [
           2004,
           4,
           7,
           13,
           61
          ],
          [
           2004,
           5,
           7,
           14,
           58
          ],
          [
           2004,
           6,
           10,
           12,
           58
          ],
          [
           2004,
           7,
           13,
           11,
           55
          ],
          [
           2004,
           8,
           13,
           12,
           52
          ],
          [
           2004,
           9,
           10,
           14,
           52
          ],
          [
           2004,
           10,
           11,
           15,
           47
          ],
          [
           2004,
           11,
           10,
           16,
           46
          ],
          [
           2004,
           12,
           12,
           15,
           45
          ],
          [
           2004,
           13,
           8,
           18,
           44
          ],
          [
           2004,
           14,
           14,
           14,
           44
          ],
          [
           2004,
           15,
           15,
           14,
           42
          ],
          [
           2004,
           16,
           9,
           19,
           39
          ],
          [
           2004,
           17,
           16,
           16,
           34
          ],
          [
           2004,
           18,
           12,
           19,
           33
          ],
          [
           2004,
           19,
           12,
           19,
           33
          ],
          [
           2004,
           20,
           14,
           18,
           32
          ],
          [
           2005,
           1,
           4,
           5,
           91
          ],
          [
           2005,
           2,
           8,
           5,
           83
          ],
          [
           2005,
           3,
           7,
           6,
           82
          ],
          [
           2005,
           4,
           7,
           11,
           67
          ],
          [
           2005,
           5,
           11,
           9,
           65
          ],
          [
           2005,
           6,
           6,
           13,
           63
          ],
          [
           2005,
           7,
           7,
           14,
           58
          ],
          [
           2005,
           8,
           11,
           12,
           56
          ],
          [
           2005,
           9,
           7,
           15,
           55
          ],
          [
           2005,
           10,
           6,
           17,
           51
          ],
          [
           2005,
           11,
           8,
           16,
           50
          ],
          [
           2005,
           12,
           6,
           18,
           48
          ],
          [
           2005,
           13,
           8,
           17,
           47
          ],
          [
           2005,
           14,
           9,
           17,
           45
          ],
          [
           2005,
           15,
           4,
           21,
           43
          ],
          [
           2005,
           16,
           12,
           16,
           42
          ],
          [
           2005,
           17,
           8,
           20,
           38
          ],
          [
           2005,
           18,
           10,
           20,
           34
          ],
          [
           2005,
           19,
           9,
           22,
           30
          ],
          [
           2005,
           20,
           6,
           29,
           15
          ],
          [
           2006,
           1,
           5,
           5,
           89
          ],
          [
           2006,
           2,
           11,
           3,
           83
          ],
          [
           2006,
           3,
           8,
           10,
           68
          ],
          [
           2006,
           4,
           11,
           8,
           68
          ],
          [
           2006,
           5,
           9,
           12,
           60
          ],
          [
           2006,
           6,
           13,
           10,
           58
          ],
          [
           2006,
           7,
           8,
           14,
           56
          ],
          [
           2006,
           8,
           7,
           15,
           55
          ],
          [
           2006,
           9,
           12,
           12,
           54
          ],
          [
           2006,
           10,
           7,
           16,
           52
          ],
          [
           2006,
           11,
           17,
           10,
           50
          ],
          [
           2006,
           12,
           10,
           16,
           46
          ],
          [
           2006,
           13,
           10,
           17,
           43
          ],
          [
           2006,
           14,
           9,
           18,
           42
          ],
          [
           2006,
           15,
           5,
           21,
           41
          ],
          [
           2006,
           16,
           15,
           15,
           39
          ],
          [
           2006,
           17,
           8,
           20,
           38
          ],
          [
           2006,
           18,
           8,
           20,
           38
          ],
          [
           2006,
           19,
           10,
           20,
           34
          ],
          [
           2006,
           20,
           13,
           20,
           28
          ],
          [
           2007,
           1,
           6,
           5,
           87
          ],
          [
           2007,
           2,
           10,
           3,
           85
          ],
          [
           2007,
           3,
           11,
           3,
           83
          ],
          [
           2007,
           4,
           13,
           4,
           76
          ],
          [
           2007,
           5,
           8,
           11,
           65
          ],
          [
           2007,
           6,
           12,
           10,
           60
          ],
          [
           2007,
           7,
           13,
           10,
           58
          ],
          [
           2007,
           8,
           9,
           13,
           57
          ],
          [
           2007,
           9,
           10,
           13,
           55
          ],
          [
           2007,
           10,
           10,
           15,
           49
          ],
          [
           2007,
           11,
           13,
           14,
           46
          ],
          [
           2007,
           12,
           10,
           17,
           43
          ],
          [
           2007,
           13,
           12,
           16,
           42
          ],
          [
           2007,
           14,
           10,
           18,
           40
          ],
          [
           2007,
           15,
           6,
           21,
           39
          ],
          [
           2007,
           16,
           10,
           19,
           37
          ],
          [
           2007,
           17,
           12,
           18,
           36
          ],
          [
           2007,
           18,
           6,
           22,
           36
          ],
          [
           2007,
           19,
           11,
           19,
           35
          ],
          [
           2007,
           20,
           8,
           29,
           11
          ],
          [
           2008,
           1,
           6,
           4,
           90
          ],
          [
           2008,
           2,
           11,
           2,
           86
          ],
          [
           2008,
           3,
           8,
           5,
           83
          ],
          [
           2008,
           4,
           12,
           6,
           72
          ],
          [
           2008,
           5,
           12,
           9,
           63
          ],
          [
           2008,
           6,
           11,
           10,
           62
          ],
          [
           2008,
           7,
           11,
           13,
           53
          ],
          [
           2008,
           8,
           9,
           15,
           51
          ],
          [
           2008,
           9,
           9,
           15,
           51
          ],
          [
           2008,
           10,
           5,
           18,
           50
          ],
          [
           2008,
           11,
           9,
           17,
           45
          ],
          [
           2008,
           12,
           9,
           17,
           45
          ],
          [
           2008,
           13,
           8,
           19,
           41
          ],
          [
           2008,
           14,
           11,
           17,
           41
          ],
          [
           2008,
           15,
           11,
           17,
           41
          ],
          [
           2008,
           16,
           9,
           20,
           36
          ],
          [
           2008,
           17,
           11,
           19,
           35
          ],
          [
           2008,
           18,
           13,
           18,
           34
          ],
          [
           2008,
           19,
           11,
           20,
           32
          ],
          [
           2008,
           20,
           8,
           22,
           32
          ],
          [
           2009,
           1,
           5,
           6,
           86
          ],
          [
           2009,
           2,
           4,
           7,
           85
          ],
          [
           2009,
           3,
           6,
           9,
           75
          ],
          [
           2009,
           4,
           7,
           10,
           70
          ],
          [
           2009,
           5,
           13,
           7,
           67
          ],
          [
           2009,
           6,
           13,
           8,
           64
          ],
          [
           2009,
           7,
           9,
           11,
           63
          ],
          [
           2009,
           8,
           13,
           9,
           61
          ],
          [
           2009,
           9,
           11,
           14,
           50
          ],
          [
           2009,
           10,
           11,
           14,
           50
          ],
          [
           2009,
           11,
           14,
           13,
           47
          ],
          [
           2009,
           12,
           10,
           16,
           46
          ],
          [
           2009,
           13,
           11,
           16,
           44
          ],
          [
           2009,
           14,
           9,
           19,
           39
          ],
          [
           2009,
           15,
           11,
           18,
           38
          ],
          [
           2009,
           16,
           9,
           20,
           36
          ],
          [
           2009,
           17,
           11,
           19,
           35
          ],
          [
           2009,
           18,
           6,
           24,
           30
          ],
          [
           2009,
           19,
           12,
           20,
           30
          ],
          [
           2009,
           20,
           7,
           24,
           19
          ],
          [
           2010,
           1,
           11,
           4,
           80
          ],
          [
           2010,
           2,
           8,
           9,
           71
          ],
          [
           2010,
           3,
           8,
           9,
           71
          ],
          [
           2010,
           4,
           11,
           8,
           68
          ],
          [
           2010,
           5,
           14,
           8,
           62
          ],
          [
           2010,
           6,
           7,
           14,
           58
          ],
          [
           2010,
           7,
           15,
           10,
           54
          ],
          [
           2010,
           8,
           16,
           11,
           49
          ],
          [
           2010,
           9,
           12,
           14,
           48
          ],
          [
           2010,
           10,
           11,
           15,
           47
          ],
          [
           2010,
           11,
           11,
           15,
           47
          ],
          [
           2010,
           12,
           13,
           14,
           46
          ],
          [
           2010,
           13,
           7,
           18,
           46
          ],
          [
           2010,
           14,
           10,
           16,
           46
          ],
          [
           2010,
           15,
           10,
           17,
           43
          ],
          [
           2010,
           16,
           15,
           14,
           42
          ],
          [
           2010,
           17,
           7,
           20,
           40
          ],
          [
           2010,
           18,
           15,
           15,
           39
          ],
          [
           2010,
           19,
           9,
           19,
           39
          ],
          [
           2010,
           20,
           12,
           19,
           33
          ],
          [
           2011,
           1,
           5,
           5,
           89
          ],
          [
           2011,
           2,
           5,
           5,
           89
          ],
          [
           2011,
           3,
           7,
           10,
           70
          ],
          [
           2011,
           4,
           9,
           9,
           69
          ],
          [
           2011,
           5,
           8,
           11,
           65
          ],
          [
           2011,
           6,
           10,
           10,
           64
          ],
          [
           2011,
           7,
           11,
           12,
           56
          ],
          [
           2011,
           8,
           10,
           14,
           52
          ],
          [
           2011,
           9,
           10,
           14,
           52
          ],
          [
           2011,
           10,
           8,
           17,
           47
          ],
          [
           2011,
           11,
           11,
           15,
           47
          ],
          [
           2011,
           12,
           11,
           15,
           47
          ],
          [
           2011,
           13,
           12,
           15,
           45
          ],
          [
           2011,
           14,
           12,
           15,
           45
          ],
          [
           2011,
           15,
           10,
           17,
           43
          ],
          [
           2011,
           16,
           17,
           14,
           38
          ],
          [
           2011,
           17,
           7,
           21,
           37
          ],
          [
           2011,
           18,
           6,
           22,
           36
          ],
          [
           2011,
           19,
           7,
           23,
           31
          ],
          [
           2011,
           20,
           10,
           23,
           25
          ],
          [
           2012,
           1,
           5,
           5,
           89
          ],
          [
           2012,
           2,
           9,
           6,
           78
          ],
          [
           2012,
           3,
           9,
           7,
           75
          ],
          [
           2012,
           4,
           10,
           7,
           73
          ],
          [
           2012,
           5,
           9,
           8,
           72
          ],
          [
           2012,
           6,
           15,
           7,
           63
          ],
          [
           2012,
           7,
           13,
           9,
           61
          ],
          [
           2012,
           8,
           7,
           17,
           49
          ],
          [
           2012,
           9,
           13,
           14,
           46
          ],
          [
           2012,
           10,
           10,
           16,
           46
          ],
          [
           2012,
           11,
           14,
           14,
           44
          ],
          [
           2012,
           12,
           10,
           17,
           43
          ],
          [
           2012,
           13,
           15,
           14,
           42
          ],
          [
           2012,
           14,
           14,
           15,
           41
          ],
          [
           2012,
           15,
           11,
           17,
           41
          ],
          [
           2012,
           16,
           8,
           19,
           41
          ],
          [
           2012,
           17,
           12,
           17,
           39
          ],
          [
           2012,
           18,
           9,
           20,
           36
          ],
          [
           2012,
           19,
           10,
           22,
           28
          ],
          [
           2012,
           20,
           13,
           21,
           25
          ],
          [
           2013,
           1,
           5,
           6,
           86
          ],
          [
           2013,
           2,
           6,
           6,
           84
          ],
          [
           2013,
           3,
           7,
           6,
           82
          ],
          [
           2013,
           4,
           7,
           7,
           79
          ],
          [
           2013,
           5,
           9,
           8,
           72
          ],
          [
           2013,
           6,
           6,
           11,
           69
          ],
          [
           2013,
           7,
           7,
           12,
           64
          ],
          [
           2013,
           8,
           11,
           12,
           56
          ],
          [
           2013,
           9,
           11,
           14,
           50
          ],
          [
           2013,
           10,
           4,
           19,
           49
          ],
          [
           2013,
           11,
           6,
           19,
           45
          ],
          [
           2013,
           12,
           9,
           18,
           42
          ],
          [
           2013,
           13,
           7,
           20,
           40
          ],
          [
           2013,
           14,
           8,
           20,
           38
          ],
          [
           2013,
           15,
           8,
           20,
           38
          ],
          [
           2013,
           16,
           7,
           21,
           37
          ],
          [
           2013,
           17,
           15,
           16,
           36
          ],
          [
           2013,
           18,
           9,
           21,
           33
          ],
          [
           2013,
           19,
           5,
           24,
           32
          ],
          [
           2013,
           20,
           9,
           22,
           30
          ],
          [
           2014,
           1,
           9,
           3,
           87
          ],
          [
           2014,
           2,
           7,
           7,
           79
          ],
          [
           2014,
           3,
           9,
           7,
           75
          ],
          [
           2014,
           4,
           10,
           8,
           70
          ],
          [
           2014,
           5,
           7,
           12,
           64
          ],
          [
           2014,
           6,
           8,
           12,
           62
          ],
          [
           2014,
           7,
           6,
           14,
           60
          ],
          [
           2014,
           8,
           8,
           14,
           56
          ],
          [
           2014,
           9,
           9,
           14,
           54
          ],
          [
           2014,
           10,
           9,
           16,
           48
          ],
          [
           2014,
           11,
           11,
           15,
           47
          ],
          [
           2014,
           12,
           11,
           15,
           47
          ],
          [
           2014,
           13,
           11,
           16,
           44
          ],
          [
           2014,
           14,
           8,
           19,
           41
          ],
          [
           2014,
           15,
           9,
           19,
           39
          ],
          [
           2014,
           16,
           17,
           14,
           38
          ],
          [
           2014,
           17,
           8,
           20,
           38
          ],
          [
           2014,
           18,
           11,
           19,
           35
          ],
          [
           2014,
           19,
           12,
           19,
           33
          ],
          [
           2014,
           20,
           6,
           24,
           30
          ],
          [
           2015,
           1,
           12,
           3,
           81
          ],
          [
           2015,
           2,
           11,
           7,
           71
          ],
          [
           2015,
           3,
           13,
           6,
           70
          ],
          [
           2015,
           4,
           9,
           10,
           66
          ],
          [
           2015,
           5,
           9,
           10,
           66
          ],
          [
           2015,
           6,
           9,
           11,
           63
          ],
          [
           2015,
           7,
           14,
           8,
           62
          ],
          [
           2015,
           8,
           12,
           10,
           60
          ],
          [
           2015,
           9,
           9,
           15,
           51
          ],
          [
           2015,
           10,
           14,
           12,
           50
          ],
          [
           2015,
           11,
           14,
           13,
           47
          ],
          [
           2015,
           12,
           11,
           15,
           47
          ],
          [
           2015,
           13,
           9,
           17,
           45
          ],
          [
           2015,
           14,
           13,
           15,
           43
          ],
          [
           2015,
           15,
           9,
           18,
           42
          ],
          [
           2015,
           16,
           9,
           18,
           42
          ],
          [
           2015,
           17,
           12,
           17,
           39
          ],
          [
           2015,
           18,
           10,
           19,
           37
          ],
          [
           2015,
           19,
           7,
           22,
           34
          ],
          [
           2015,
           20,
           8,
           27,
           17
          ],
          [
           2016,
           1,
           3,
           5,
           93
          ],
          [
           2016,
           2,
           8,
           4,
           86
          ],
          [
           2016,
           3,
           9,
           6,
           78
          ],
          [
           2016,
           4,
           10,
           6,
           76
          ],
          [
           2016,
           5,
           6,
           9,
           75
          ],
          [
           2016,
           6,
           15,
           5,
           69
          ],
          [
           2016,
           7,
           10,
           11,
           61
          ],
          [
           2016,
           8,
           10,
           16,
           46
          ],
          [
           2016,
           9,
           10,
           16,
           46
          ],
          [
           2016,
           10,
           9,
           17,
           45
          ],
          [
           2016,
           11,
           9,
           17,
           45
          ],
          [
           2016,
           12,
           8,
           18,
           44
          ],
          [
           2016,
           13,
           11,
           16,
           44
          ],
          [
           2016,
           14,
           5,
           21,
           41
          ],
          [
           2016,
           15,
           5,
           21,
           41
          ],
          [
           2016,
           16,
           7,
           20,
           40
          ],
          [
           2016,
           17,
           7,
           20,
           40
          ],
          [
           2016,
           18,
           7,
           22,
           34
          ],
          [
           2016,
           19,
           13,
           20,
           28
          ],
          [
           2016,
           20,
           6,
           26,
           24
          ],
          [
           2017,
           1,
           4,
           2,
           100
          ],
          [
           2017,
           2,
           6,
           7,
           81
          ],
          [
           2017,
           3,
           8,
           7,
           77
          ],
          [
           2017,
           4,
           12,
           5,
           75
          ],
          [
           2017,
           5,
           7,
           10,
           70
          ],
          [
           2017,
           6,
           6,
           13,
           63
          ],
          [
           2017,
           7,
           12,
           12,
           54
          ],
          [
           2017,
           8,
           10,
           15,
           49
          ],
          [
           2017,
           9,
           11,
           15,
           47
          ],
          [
           2017,
           10,
           8,
           18,
           44
          ],
          [
           2017,
           11,
           11,
           16,
           44
          ],
          [
           2017,
           12,
           11,
           16,
           44
          ],
          [
           2017,
           13,
           12,
           16,
           42
          ],
          [
           2017,
           14,
           8,
           19,
           41
          ],
          [
           2017,
           15,
           13,
           16,
           40
          ],
          [
           2017,
           16,
           10,
           19,
           37
          ],
          [
           2017,
           17,
           15,
           16,
           36
          ],
          [
           2017,
           18,
           9,
           21,
           33
          ],
          [
           2017,
           19,
           12,
           19,
           33
          ],
          [
           2017,
           20,
           13,
           19,
           31
          ],
          [
           2018,
           1,
           2,
           4,
           98
          ],
          [
           2018,
           2,
           7,
           1,
           97
          ],
          [
           2018,
           3,
           9,
           8,
           72
          ],
          [
           2018,
           4,
           2,
           13,
           71
          ],
          [
           2018,
           5,
           7,
           10,
           70
          ],
          [
           2018,
           6,
           9,
           10,
           66
          ],
          [
           2018,
           7,
           9,
           13,
           57
          ],
          [
           2018,
           8,
           9,
           14,
           54
          ],
          [
           2018,
           9,
           7,
           16,
           52
          ],
          [
           2018,
           10,
           7,
           16,
           52
          ],
          [
           2018,
           11,
           8,
           16,
           50
          ],
          [
           2018,
           12,
           7,
           17,
           49
          ],
          [
           2018,
           13,
           9,
           17,
           45
          ],
          [
           2018,
           14,
           6,
           19,
           45
          ],
          [
           2018,
           15,
           7,
           20,
           40
          ],
          [
           2018,
           16,
           12,
           17,
           39
          ],
          [
           2018,
           17,
           9,
           20,
           36
          ],
          [
           2018,
           18,
           4,
           24,
           34
          ],
          [
           2018,
           19,
           5,
           26,
           26
          ],
          [
           2018,
           20,
           7,
           28,
           16
          ],
          [
           2019,
           1,
           3,
           3,
           99
          ],
          [
           2019,
           2,
           3,
           9,
           81
          ],
          [
           2019,
           3,
           12,
           8,
           66
          ],
          [
           2019,
           4,
           6,
           12,
           66
          ],
          [
           2019,
           5,
           8,
           12,
           62
          ],
          [
           2019,
           6,
           11,
           11,
           59
          ],
          [
           2019,
           7,
           14,
           9,
           59
          ],
          [
           2019,
           8,
           14,
           10,
           56
          ],
          [
           2019,
           9,
           12,
           12,
           54
          ],
          [
           2019,
           10,
           9,
           14,
           54
          ],
          [
           2019,
           11,
           7,
           16,
           52
          ],
          [
           2019,
           12,
           10,
           15,
           49
          ],
          [
           2019,
           13,
           11,
           16,
           44
          ],
          [
           2019,
           14,
           10,
           17,
           43
          ],
          [
           2019,
           15,
           14,
           15,
           41
          ],
          [
           2019,
           16,
           9,
           19,
           39
          ],
          [
           2019,
           17,
           8,
           21,
           35
          ],
          [
           2019,
           18,
           7,
           22,
           34
          ],
          [
           2019,
           19,
           10,
           20,
           34
          ],
          [
           2019,
           20,
           6,
           27,
           21
          ],
          [
           2020,
           1,
           5,
           6,
           86
          ],
          [
           2020,
           2,
           11,
           6,
           74
          ],
          [
           2020,
           3,
           9,
           9,
           69
          ],
          [
           2020,
           4,
           10,
           9,
           67
          ],
          [
           2020,
           5,
           6,
           12,
           66
          ],
          [
           2020,
           6,
           8,
           11,
           65
          ],
          [
           2020,
           7,
           8,
           12,
           62
          ],
          [
           2020,
           8,
           7,
           13,
           61
          ],
          [
           2020,
           9,
           5,
           15,
           59
          ],
          [
           2020,
           10,
           8,
           13,
           59
          ],
          [
           2020,
           11,
           7,
           15,
           55
          ],
          [
           2020,
           12,
           9,
           17,
           45
          ],
          [
           2020,
           13,
           9,
           17,
           45
          ],
          [
           2020,
           14,
           8,
           18,
           44
          ],
          [
           2020,
           15,
           7,
           19,
           43
          ],
          [
           2020,
           16,
           14,
           15,
           41
          ],
          [
           2020,
           17,
           9,
           19,
           39
          ],
          [
           2020,
           18,
           13,
           20,
           28
          ],
          [
           2020,
           19,
           11,
           22,
           26
          ],
          [
           2020,
           20,
           2,
           29,
           23
          ],
          [
           2021,
           1,
           6,
           3,
           93
          ],
          [
           2021,
           2,
           8,
           2,
           92
          ],
          [
           2021,
           3,
           11,
           6,
           74
          ],
          [
           2021,
           4,
           5,
           11,
           71
          ],
          [
           2021,
           5,
           3,
           13,
           69
          ],
          [
           2021,
           6,
           10,
           12,
           58
          ],
          [
           2021,
           7,
           8,
           14,
           56
          ],
          [
           2021,
           8,
           10,
           14,
           52
          ],
          [
           2021,
           9,
           15,
           11,
           51
          ],
          [
           2021,
           10,
           6,
           17,
           51
          ],
          [
           2021,
           11,
           10,
           15,
           49
          ],
          [
           2021,
           12,
           15,
           12,
           48
          ],
          [
           2021,
           13,
           7,
           18,
           46
          ],
          [
           2021,
           14,
           6,
           19,
           45
          ],
          [
           2021,
           15,
           13,
           16,
           40
          ],
          [
           2021,
           16,
           6,
           21,
           39
          ],
          [
           2021,
           17,
           11,
           18,
           38
          ],
          [
           2021,
           18,
           14,
           17,
           35
          ],
          [
           2021,
           19,
           5,
           27,
           23
          ],
          [
           2021,
           20,
           7,
           26,
           22
          ]
         ],
         "hovertemplate": "Team=%{x}<br>W=%{y}<br>Season=%{customdata[0]}<br>Pos=%{customdata[1]}<br>D=%{customdata[2]}<br>L=%{customdata[3]}<br>Pts=%{marker.color}<extra></extra>",
         "legendgroup": "",
         "marker": {
          "color": [
           80,
           70,
           69,
           68,
           66,
           61,
           57,
           54,
           52,
           52,
           51,
           49,
           48,
           42,
           42,
           42,
           42,
           34,
           34,
           26,
           87,
           80,
           77,
           71,
           66,
           64,
           53,
           50,
           50,
           46,
           45,
           45,
           44,
           44,
           43,
           40,
           40,
           36,
           30,
           28,
           83,
           78,
           69,
           67,
           64,
           60,
           59,
           52,
           51,
           50,
           49,
           49,
           48,
           48,
           47,
           45,
           44,
           42,
           26,
           19,
           90,
           79,
           75,
           60,
           56,
           56,
           53,
           53,
           52,
           50,
           48,
           47,
           45,
           45,
           44,
           41,
           39,
           33,
           33,
           33,
           95,
           83,
           77,
           61,
           58,
           58,
           55,
           52,
           52,
           47,
           46,
           45,
           44,
           44,
           42,
           39,
           34,
           33,
           33,
           32,
           91,
           83,
           82,
           67,
           65,
           63,
           58,
           56,
           55,
           51,
           50,
           48,
           47,
           45,
           43,
           42,
           38,
           34,
           30,
           15,
           89,
           83,
           68,
           68,
           60,
           58,
           56,
           55,
           54,
           52,
           50,
           46,
           43,
           42,
           41,
           39,
           38,
           38,
           34,
           28,
           87,
           85,
           83,
           76,
           65,
           60,
           58,
           57,
           55,
           49,
           46,
           43,
           42,
           40,
           39,
           37,
           36,
           36,
           35,
           11,
           90,
           86,
           83,
           72,
           63,
           62,
           53,
           51,
           51,
           50,
           45,
           45,
           41,
           41,
           41,
           36,
           35,
           34,
           32,
           32,
           86,
           85,
           75,
           70,
           67,
           64,
           63,
           61,
           50,
           50,
           47,
           46,
           44,
           39,
           38,
           36,
           35,
           30,
           30,
           19,
           80,
           71,
           71,
           68,
           62,
           58,
           54,
           49,
           48,
           47,
           47,
           46,
           46,
           46,
           43,
           42,
           40,
           39,
           39,
           33,
           89,
           89,
           70,
           69,
           65,
           64,
           56,
           52,
           52,
           47,
           47,
           47,
           45,
           45,
           43,
           38,
           37,
           36,
           31,
           25,
           89,
           78,
           75,
           73,
           72,
           63,
           61,
           49,
           46,
           46,
           44,
           43,
           42,
           41,
           41,
           41,
           39,
           36,
           28,
           25,
           86,
           84,
           82,
           79,
           72,
           69,
           64,
           56,
           50,
           49,
           45,
           42,
           40,
           38,
           38,
           37,
           36,
           33,
           32,
           30,
           87,
           79,
           75,
           70,
           64,
           62,
           60,
           56,
           54,
           48,
           47,
           47,
           44,
           41,
           39,
           38,
           38,
           35,
           33,
           30,
           81,
           71,
           70,
           66,
           66,
           63,
           62,
           60,
           51,
           50,
           47,
           47,
           45,
           43,
           42,
           42,
           39,
           37,
           34,
           17,
           93,
           86,
           78,
           76,
           75,
           69,
           61,
           46,
           46,
           45,
           45,
           44,
           44,
           41,
           41,
           40,
           40,
           34,
           28,
           24,
           100,
           81,
           77,
           75,
           70,
           63,
           54,
           49,
           47,
           44,
           44,
           44,
           42,
           41,
           40,
           37,
           36,
           33,
           33,
           31,
           98,
           97,
           72,
           71,
           70,
           66,
           57,
           54,
           52,
           52,
           50,
           49,
           45,
           45,
           40,
           39,
           36,
           34,
           26,
           16,
           99,
           81,
           66,
           66,
           62,
           59,
           59,
           56,
           54,
           54,
           52,
           49,
           44,
           43,
           41,
           39,
           35,
           34,
           34,
           21,
           86,
           74,
           69,
           67,
           66,
           65,
           62,
           61,
           59,
           59,
           55,
           45,
           45,
           44,
           43,
           41,
           39,
           28,
           26,
           23,
           93,
           92,
           74,
           71,
           69,
           58,
           56,
           52,
           51,
           51,
           49,
           48,
           46,
           45,
           40,
           39,
           38,
           35,
           23,
           22
          ],
          "coloraxis": "coloraxis",
          "pattern": {
           "shape": ""
          }
         },
         "name": "",
         "offsetgroup": "",
         "orientation": "v",
         "showlegend": false,
         "textposition": "auto",
         "type": "bar",
         "x": [
          "Manchester United",
          "Arsenal",
          "Liverpool",
          "Leeds United",
          "Ipswich Town",
          "Chelsea",
          "Sunderland",
          "Aston Villa",
          "Charlton Athletic",
          "Southampton",
          "Newcastle United",
          "Tottenham Hotspur",
          "Leicester City",
          "Middlesbrough",
          "West Ham United",
          "Everton",
          "Derby County",
          "Manchester City",
          "Coventry City",
          "Bradford City",
          "Arsenal",
          "Liverpool",
          "Manchester United",
          "Newcastle United",
          "Leeds United",
          "Chelsea",
          "West Ham United",
          "Aston Villa",
          "Tottenham Hotspur",
          "Blackburn Rovers",
          "Southampton",
          "Middlesbrough",
          "Fulham",
          "Charlton Athletic",
          "Everton",
          "Bolton Wanderers",
          "Sunderland",
          "Ipswich Town",
          "Derby County",
          "Leicester City",
          "Manchester United",
          "Arsenal",
          "Newcastle United",
          "Chelsea",
          "Liverpool",
          "Blackburn Rovers",
          "Everton",
          "Southampton",
          "Manchester City",
          "Tottenham Hotspur",
          "Middlesbrough",
          "Charlton Athletic",
          "Birmingham City",
          "Fulham",
          "Leeds United",
          "Aston Villa",
          "Bolton Wanderers",
          "West Ham United",
          "West Bromwich Albion",
          "Sunderland",
          "Arsenal",
          "Chelsea",
          "Manchester United",
          "Liverpool",
          "Newcastle United",
          "Aston Villa",
          "Charlton Athletic",
          "Bolton Wanderers",
          "Fulham",
          "Birmingham City",
          "Middlesbrough",
          "Southampton",
          "Portsmouth",
          "Tottenham Hotspur",
          "Blackburn Rovers",
          "Manchester City",
          "Everton",
          "Leicester City",
          "Leeds United",
          "Wolverhampton Wanderers",
          "Chelsea",
          "Arsenal",
          "Manchester United",
          "Everton",
          "Liverpool",
          "Bolton Wanderers",
          "Middlesbrough",
          "Manchester City",
          "Tottenham Hotspur",
          "Aston Villa",
          "Charlton Athletic",
          "Birmingham City",
          "Fulham",
          "Newcastle United",
          "Blackburn Rovers",
          "Portsmouth",
          "West Bromwich Albion",
          "Crystal Palace",
          "Norwich City",
          "Southampton",
          "Chelsea",
          "Manchester United",
          "Liverpool",
          "Arsenal",
          "Tottenham Hotspur",
          "Blackburn Rovers",
          "Newcastle United",
          "Bolton Wanderers",
          "West Ham United",
          "Wigan Athletic",
          "Everton",
          "Fulham",
          "Charlton Athletic",
          "Middlesbrough",
          "Manchester City",
          "Aston Villa",
          "Portsmouth",
          "Birmingham City",
          "West Bromwich Albion",
          "Sunderland",
          "Manchester United",
          "Chelsea",
          "Liverpool",
          "Arsenal",
          "Tottenham Hotspur",
          "Everton",
          "Bolton Wanderers",
          "Reading",
          "Portsmouth",
          "Blackburn Rovers",
          "Aston Villa",
          "Middlesbrough",
          "Newcastle United",
          "Manchester City",
          "West Ham United",
          "Fulham",
          "Wigan Athletic",
          "Sheffield United",
          "Charlton Athletic",
          "Watford",
          "Manchester United",
          "Chelsea",
          "Arsenal",
          "Liverpool",
          "Everton",
          "Aston Villa",
          "Blackburn Rovers",
          "Portsmouth",
          "Manchester City",
          "West Ham United",
          "Tottenham Hotspur",
          "Newcastle United",
          "Middlesbrough",
          "Wigan Athletic",
          "Sunderland",
          "Bolton Wanderers",
          "Fulham",
          "Reading",
          "Birmingham City",
          "Derby County",
          "Manchester United",
          "Liverpool",
          "Chelsea",
          "Arsenal",
          "Everton",
          "Aston Villa",
          "Fulham",
          "Tottenham Hotspur",
          "West Ham United",
          "Manchester City",
          "Wigan Athletic",
          "Stoke City",
          "Bolton Wanderers",
          "Portsmouth",
          "Blackburn Rovers",
          "Sunderland",
          "Hull City",
          "Newcastle United",
          "Middlesbrough",
          "West Bromwich Albion",
          "Chelsea",
          "Manchester United",
          "Arsenal",
          "Tottenham Hotspur",
          "Manchester City",
          "Aston Villa",
          "Liverpool",
          "Everton",
          "Birmingham City",
          "Blackburn Rovers",
          "Stoke City",
          "Fulham",
          "Sunderland",
          "Bolton Wanderers",
          "Wolverhampton Wanderers",
          "Wigan Athletic",
          "West Ham United",
          "Burnley",
          "Hull City",
          "Portsmouth",
          "Manchester United",
          "Chelsea",
          "Manchester City",
          "Arsenal",
          "Tottenham Hotspur",
          "Liverpool",
          "Everton",
          "Fulham",
          "Aston Villa",
          "Sunderland",
          "West Bromwich Albion",
          "Newcastle United",
          "Stoke City",
          "Bolton Wanderers",
          "Blackburn Rovers",
          "Wigan Athletic",
          "Wolverhampton Wanderers",
          "Birmingham City",
          "Blackpool",
          "West Ham United",
          "Manchester City",
          "Manchester United",
          "Arsenal",
          "Tottenham Hotspur",
          "Newcastle United",
          "Chelsea",
          "Everton",
          "Liverpool",
          "Fulham",
          "West Bromwich Albion",
          "Swansea City",
          "Norwich City",
          "Sunderland",
          "Stoke City",
          "Wigan Athletic",
          "Aston Villa",
          "Queens Park Rangers",
          "Bolton Wanderers",
          "Blackburn Rovers",
          "Wolverhampton Wanderers",
          "Manchester United",
          "Manchester City",
          "Chelsea",
          "Arsenal",
          "Tottenham Hotspur",
          "Everton",
          "Liverpool",
          "West Bromwich Albion",
          "Swansea City",
          "West Ham United",
          "Norwich City",
          "Fulham",
          "Stoke City",
          "Southampton",
          "Aston Villa",
          "Newcastle United",
          "Sunderland",
          "Wigan Athletic",
          "Reading",
          "Queens Park Rangers",
          "Manchester City",
          "Liverpool",
          "Chelsea",
          "Arsenal",
          "Everton",
          "Tottenham Hotspur",
          "Manchester United",
          "Southampton",
          "Stoke City",
          "Newcastle United",
          "Crystal Palace",
          "Swansea City",
          "West Ham United",
          "Sunderland",
          "Aston Villa",
          "Hull City",
          "West Bromwich Albion",
          "Norwich City",
          "Fulham",
          "Cardiff City",
          "Chelsea",
          "Manchester City",
          "Arsenal",
          "Manchester United",
          "Tottenham Hotspur",
          "Liverpool",
          "Southampton",
          "Swansea City",
          "Stoke City",
          "Crystal Palace",
          "Everton",
          "West Ham United",
          "West Bromwich Albion",
          "Leicester City",
          "Newcastle United",
          "Sunderland",
          "Aston Villa",
          "Hull City",
          "Burnley",
          "Queens Park Rangers",
          "Leicester City",
          "Arsenal",
          "Tottenham Hotspur",
          "Manchester City",
          "Manchester United",
          "Southampton",
          "West Ham United",
          "Liverpool",
          "Stoke City",
          "Chelsea",
          "Everton",
          "Swansea City",
          "Watford",
          "West Bromwich Albion",
          "Crystal Palace",
          "Bournemouth",
          "Sunderland",
          "Newcastle United",
          "Norwich City",
          "Aston Villa",
          "Chelsea",
          "Tottenham Hotspur",
          "Manchester City",
          "Liverpool",
          "Arsenal",
          "Manchester United",
          "Everton",
          "Southampton",
          "Bournemouth",
          "West Bromwich Albion",
          "West Ham United",
          "Leicester City",
          "Stoke City",
          "Crystal Palace",
          "Swansea City",
          "Burnley",
          "Watford",
          "Hull City",
          "Middlesbrough",
          "Sunderland",
          "Manchester City",
          "Manchester United",
          "Tottenham Hotspur",
          "Liverpool",
          "Chelsea",
          "Arsenal",
          "Burnley",
          "Everton",
          "Leicester City",
          "Newcastle United",
          "Crystal Palace",
          "Bournemouth",
          "West Ham United",
          "Watford",
          "Brighton & Hove Albion",
          "Huddersfield Town",
          "Southampton",
          "Swansea City",
          "Stoke City",
          "West Bromwich Albion",
          "Manchester City",
          "Liverpool",
          "Chelsea",
          "Tottenham Hotspur",
          "Arsenal",
          "Manchester United",
          "Wolverhampton Wanderers",
          "Everton",
          "Leicester City",
          "West Ham United",
          "Watford",
          "Crystal Palace",
          "Newcastle United",
          "Bournemouth",
          "Burnley",
          "Southampton",
          "Brighton & Hove Albion",
          "Cardiff City",
          "Fulham",
          "Huddersfield Town",
          "Liverpool",
          "Manchester City",
          "Manchester United",
          "Chelsea",
          "Leicester City",
          "Tottenham Hotspur",
          "Wolverhampton Wanderers",
          "Arsenal",
          "Sheffield United",
          "Burnley",
          "Southampton",
          "Everton",
          "Newcastle United",
          "Crystal Palace",
          "Brighton & Hove Albion",
          "West Ham United",
          "Aston Villa",
          "Bournemouth",
          "Watford",
          "Norwich City",
          "Manchester City",
          "Manchester United",
          "Liverpool",
          "Chelsea",
          "Leicester City",
          "West Ham United",
          "Tottenham Hotspur",
          "Arsenal",
          "Leeds United",
          "Everton",
          "Aston Villa",
          "Newcastle United",
          "Wolverhampton Wanderers",
          "Crystal Palace",
          "Southampton",
          "Brighton & Hove Albion",
          "Burnley",
          "Fulham",
          "West Bromwich Albion",
          "Sheffield United",
          "Manchester City",
          "Liverpool",
          "Chelsea",
          "Tottenham Hotspur",
          "Arsenal",
          "Manchester United",
          "West Ham United",
          "Leicester City",
          "Brighton & Hove Albion",
          "Wolverhampton Wanderers",
          "Newcastle United",
          "Crystal Palace",
          "Brentford",
          "Aston Villa",
          "Southampton",
          "Everton",
          "Leeds United",
          "Burnley",
          "Watford",
          "Norwich City"
         ],
         "xaxis": "x",
         "y": [
          24,
          20,
          20,
          20,
          20,
          17,
          15,
          13,
          14,
          14,
          14,
          13,
          14,
          9,
          10,
          11,
          10,
          8,
          8,
          5,
          26,
          24,
          24,
          21,
          18,
          17,
          15,
          12,
          14,
          12,
          12,
          12,
          10,
          10,
          11,
          9,
          10,
          9,
          8,
          5,
          25,
          23,
          21,
          19,
          18,
          16,
          17,
          13,
          15,
          14,
          13,
          14,
          13,
          13,
          14,
          12,
          10,
          10,
          6,
          4,
          26,
          24,
          23,
          16,
          13,
          15,
          14,
          14,
          14,
          12,
          13,
          12,
          12,
          13,
          12,
          9,
          9,
          6,
          8,
          7,
          29,
          25,
          22,
          18,
          17,
          16,
          14,
          13,
          14,
          12,
          12,
          11,
          12,
          10,
          9,
          10,
          6,
          7,
          7,
          6,
          29,
          25,
          25,
          20,
          18,
          19,
          17,
          15,
          16,
          15,
          14,
          14,
          13,
          12,
          13,
          10,
          10,
          8,
          7,
          3,
          28,
          24,
          20,
          19,
          17,
          15,
          16,
          16,
          14,
          15,
          11,
          12,
          11,
          11,
          12,
          8,
          10,
          10,
          8,
          5,
          27,
          25,
          24,
          21,
          19,
          16,
          15,
          16,
          15,
          13,
          11,
          11,
          10,
          10,
          11,
          9,
          8,
          10,
          8,
          1,
          28,
          25,
          25,
          20,
          17,
          17,
          14,
          14,
          14,
          15,
          12,
          12,
          11,
          10,
          10,
          9,
          8,
          7,
          7,
          8,
          27,
          27,
          23,
          21,
          18,
          17,
          18,
          16,
          13,
          13,
          11,
          12,
          11,
          10,
          9,
          9,
          8,
          8,
          6,
          7,
          23,
          21,
          21,
          19,
          16,
          17,
          13,
          11,
          12,
          12,
          12,
          11,
          13,
          12,
          11,
          9,
          11,
          8,
          10,
          7,
          28,
          28,
          21,
          20,
          19,
          18,
          15,
          14,
          14,
          13,
          12,
          12,
          11,
          11,
          11,
          7,
          10,
          10,
          8,
          5,
          28,
          23,
          22,
          21,
          21,
          16,
          16,
          14,
          11,
          12,
          10,
          11,
          9,
          9,
          10,
          11,
          9,
          9,
          6,
          4,
          27,
          26,
          25,
          24,
          21,
          21,
          19,
          15,
          13,
          15,
          13,
          11,
          11,
          10,
          10,
          10,
          7,
          8,
          9,
          7,
          26,
          24,
          22,
          20,
          19,
          18,
          18,
          16,
          15,
          13,
          12,
          12,
          11,
          11,
          10,
          7,
          10,
          8,
          7,
          8,
          23,
          20,
          19,
          19,
          19,
          18,
          16,
          16,
          14,
          12,
          11,
          12,
          12,
          10,
          11,
          11,
          9,
          9,
          9,
          3,
          30,
          26,
          23,
          22,
          23,
          18,
          17,
          12,
          12,
          12,
          12,
          12,
          11,
          12,
          12,
          11,
          11,
          9,
          5,
          6,
          32,
          25,
          23,
          21,
          21,
          19,
          14,
          13,
          12,
          12,
          11,
          11,
          10,
          11,
          9,
          9,
          7,
          8,
          7,
          6,
          32,
          30,
          21,
          23,
          21,
          19,
          16,
          15,
          15,
          15,
          14,
          14,
          12,
          13,
          11,
          9,
          9,
          10,
          7,
          3,
          32,
          26,
          18,
          20,
          18,
          16,
          15,
          14,
          14,
          15,
          15,
          13,
          11,
          11,
          9,
          10,
          9,
          9,
          8,
          5,
          27,
          21,
          20,
          19,
          20,
          19,
          18,
          18,
          18,
          17,
          16,
          12,
          12,
          12,
          12,
          9,
          10,
          5,
          5,
          7,
          29,
          28,
          21,
          22,
          22,
          16,
          16,
          14,
          12,
          15,
          13,
          11,
          13,
          13,
          9,
          11,
          9,
          7,
          6,
          5
         ],
         "yaxis": "y"
        }
       ],
       "layout": {
        "barmode": "relative",
        "coloraxis": {
         "colorbar": {
          "title": {
           "text": "Pts"
          }
         },
         "colorscale": [
          [
           0,
           "#0d0887"
          ],
          [
           0.1111111111111111,
           "#46039f"
          ],
          [
           0.2222222222222222,
           "#7201a8"
          ],
          [
           0.3333333333333333,
           "#9c179e"
          ],
          [
           0.4444444444444444,
           "#bd3786"
          ],
          [
           0.5555555555555556,
           "#d8576b"
          ],
          [
           0.6666666666666666,
           "#ed7953"
          ],
          [
           0.7777777777777778,
           "#fb9f3a"
          ],
          [
           0.8888888888888888,
           "#fdca26"
          ],
          [
           1,
           "#f0f921"
          ]
         ]
        },
        "legend": {
         "tracegroupgap": 0
        },
        "template": {
         "data": {
          "bar": [
           {
            "error_x": {
             "color": "#2a3f5f"
            },
            "error_y": {
             "color": "#2a3f5f"
            },
            "marker": {
             "line": {
              "color": "#E5ECF6",
              "width": 0.5
             },
             "pattern": {
              "fillmode": "overlay",
              "size": 10,
              "solidity": 0.2
             }
            },
            "type": "bar"
           }
          ],
          "barpolar": [
           {
            "marker": {
             "line": {
              "color": "#E5ECF6",
              "width": 0.5
             },
             "pattern": {
              "fillmode": "overlay",
              "size": 10,
              "solidity": 0.2
             }
            },
            "type": "barpolar"
           }
          ],
          "carpet": [
           {
            "aaxis": {
             "endlinecolor": "#2a3f5f",
             "gridcolor": "white",
             "linecolor": "white",
             "minorgridcolor": "white",
             "startlinecolor": "#2a3f5f"
            },
            "baxis": {
             "endlinecolor": "#2a3f5f",
             "gridcolor": "white",
             "linecolor": "white",
             "minorgridcolor": "white",
             "startlinecolor": "#2a3f5f"
            },
            "type": "carpet"
           }
          ],
          "choropleth": [
           {
            "colorbar": {
             "outlinewidth": 0,
             "ticks": ""
            },
            "type": "choropleth"
           }
          ],
          "contour": [
           {
            "colorbar": {
             "outlinewidth": 0,
             "ticks": ""
            },
            "colorscale": [
             [
              0,
              "#0d0887"
             ],
             [
              0.1111111111111111,
              "#46039f"
             ],
             [
              0.2222222222222222,
              "#7201a8"
             ],
             [
              0.3333333333333333,
              "#9c179e"
             ],
             [
              0.4444444444444444,
              "#bd3786"
             ],
             [
              0.5555555555555556,
              "#d8576b"
             ],
             [
              0.6666666666666666,
              "#ed7953"
             ],
             [
              0.7777777777777778,
              "#fb9f3a"
             ],
             [
              0.8888888888888888,
              "#fdca26"
             ],
             [
              1,
              "#f0f921"
             ]
            ],
            "type": "contour"
           }
          ],
          "contourcarpet": [
           {
            "colorbar": {
             "outlinewidth": 0,
             "ticks": ""
            },
            "type": "contourcarpet"
           }
          ],
          "heatmap": [
           {
            "colorbar": {
             "outlinewidth": 0,
             "ticks": ""
            },
            "colorscale": [
             [
              0,
              "#0d0887"
             ],
             [
              0.1111111111111111,
              "#46039f"
             ],
             [
              0.2222222222222222,
              "#7201a8"
             ],
             [
              0.3333333333333333,
              "#9c179e"
             ],
             [
              0.4444444444444444,
              "#bd3786"
             ],
             [
              0.5555555555555556,
              "#d8576b"
             ],
             [
              0.6666666666666666,
              "#ed7953"
             ],
             [
              0.7777777777777778,
              "#fb9f3a"
             ],
             [
              0.8888888888888888,
              "#fdca26"
             ],
             [
              1,
              "#f0f921"
             ]
            ],
            "type": "heatmap"
           }
          ],
          "heatmapgl": [
           {
            "colorbar": {
             "outlinewidth": 0,
             "ticks": ""
            },
            "colorscale": [
             [
              0,
              "#0d0887"
             ],
             [
              0.1111111111111111,
              "#46039f"
             ],
             [
              0.2222222222222222,
              "#7201a8"
             ],
             [
              0.3333333333333333,
              "#9c179e"
             ],
             [
              0.4444444444444444,
              "#bd3786"
             ],
             [
              0.5555555555555556,
              "#d8576b"
             ],
             [
              0.6666666666666666,
              "#ed7953"
             ],
             [
              0.7777777777777778,
              "#fb9f3a"
             ],
             [
              0.8888888888888888,
              "#fdca26"
             ],
             [
              1,
              "#f0f921"
             ]
            ],
            "type": "heatmapgl"
           }
          ],
          "histogram": [
           {
            "marker": {
             "pattern": {
              "fillmode": "overlay",
              "size": 10,
              "solidity": 0.2
             }
            },
            "type": "histogram"
           }
          ],
          "histogram2d": [
           {
            "colorbar": {
             "outlinewidth": 0,
             "ticks": ""
            },
            "colorscale": [
             [
              0,
              "#0d0887"
             ],
             [
              0.1111111111111111,
              "#46039f"
             ],
             [
              0.2222222222222222,
              "#7201a8"
             ],
             [
              0.3333333333333333,
              "#9c179e"
             ],
             [
              0.4444444444444444,
              "#bd3786"
             ],
             [
              0.5555555555555556,
              "#d8576b"
             ],
             [
              0.6666666666666666,
              "#ed7953"
             ],
             [
              0.7777777777777778,
              "#fb9f3a"
             ],
             [
              0.8888888888888888,
              "#fdca26"
             ],
             [
              1,
              "#f0f921"
             ]
            ],
            "type": "histogram2d"
           }
          ],
          "histogram2dcontour": [
           {
            "colorbar": {
             "outlinewidth": 0,
             "ticks": ""
            },
            "colorscale": [
             [
              0,
              "#0d0887"
             ],
             [
              0.1111111111111111,
              "#46039f"
             ],
             [
              0.2222222222222222,
              "#7201a8"
             ],
             [
              0.3333333333333333,
              "#9c179e"
             ],
             [
              0.4444444444444444,
              "#bd3786"
             ],
             [
              0.5555555555555556,
              "#d8576b"
             ],
             [
              0.6666666666666666,
              "#ed7953"
             ],
             [
              0.7777777777777778,
              "#fb9f3a"
             ],
             [
              0.8888888888888888,
              "#fdca26"
             ],
             [
              1,
              "#f0f921"
             ]
            ],
            "type": "histogram2dcontour"
           }
          ],
          "mesh3d": [
           {
            "colorbar": {
             "outlinewidth": 0,
             "ticks": ""
            },
            "type": "mesh3d"
           }
          ],
          "parcoords": [
           {
            "line": {
             "colorbar": {
              "outlinewidth": 0,
              "ticks": ""
             }
            },
            "type": "parcoords"
           }
          ],
          "pie": [
           {
            "automargin": true,
            "type": "pie"
           }
          ],
          "scatter": [
           {
            "fillpattern": {
             "fillmode": "overlay",
             "size": 10,
             "solidity": 0.2
            },
            "type": "scatter"
           }
          ],
          "scatter3d": [
           {
            "line": {
             "colorbar": {
              "outlinewidth": 0,
              "ticks": ""
             }
            },
            "marker": {
             "colorbar": {
              "outlinewidth": 0,
              "ticks": ""
             }
            },
            "type": "scatter3d"
           }
          ],
          "scattercarpet": [
           {
            "marker": {
             "colorbar": {
              "outlinewidth": 0,
              "ticks": ""
             }
            },
            "type": "scattercarpet"
           }
          ],
          "scattergeo": [
           {
            "marker": {
             "colorbar": {
              "outlinewidth": 0,
              "ticks": ""
             }
            },
            "type": "scattergeo"
           }
          ],
          "scattergl": [
           {
            "marker": {
             "colorbar": {
              "outlinewidth": 0,
              "ticks": ""
             }
            },
            "type": "scattergl"
           }
          ],
          "scattermapbox": [
           {
            "marker": {
             "colorbar": {
              "outlinewidth": 0,
              "ticks": ""
             }
            },
            "type": "scattermapbox"
           }
          ],
          "scatterpolar": [
           {
            "marker": {
             "colorbar": {
              "outlinewidth": 0,
              "ticks": ""
             }
            },
            "type": "scatterpolar"
           }
          ],
          "scatterpolargl": [
           {
            "marker": {
             "colorbar": {
              "outlinewidth": 0,
              "ticks": ""
             }
            },
            "type": "scatterpolargl"
           }
          ],
          "scatterternary": [
           {
            "marker": {
             "colorbar": {
              "outlinewidth": 0,
              "ticks": ""
             }
            },
            "type": "scatterternary"
           }
          ],
          "surface": [
           {
            "colorbar": {
             "outlinewidth": 0,
             "ticks": ""
            },
            "colorscale": [
             [
              0,
              "#0d0887"
             ],
             [
              0.1111111111111111,
              "#46039f"
             ],
             [
              0.2222222222222222,
              "#7201a8"
             ],
             [
              0.3333333333333333,
              "#9c179e"
             ],
             [
              0.4444444444444444,
              "#bd3786"
             ],
             [
              0.5555555555555556,
              "#d8576b"
             ],
             [
              0.6666666666666666,
              "#ed7953"
             ],
             [
              0.7777777777777778,
              "#fb9f3a"
             ],
             [
              0.8888888888888888,
              "#fdca26"
             ],
             [
              1,
              "#f0f921"
             ]
            ],
            "type": "surface"
           }
          ],
          "table": [
           {
            "cells": {
             "fill": {
              "color": "#EBF0F8"
             },
             "line": {
              "color": "white"
             }
            },
            "header": {
             "fill": {
              "color": "#C8D4E3"
             },
             "line": {
              "color": "white"
             }
            },
            "type": "table"
           }
          ]
         },
         "layout": {
          "annotationdefaults": {
           "arrowcolor": "#2a3f5f",
           "arrowhead": 0,
           "arrowwidth": 1
          },
          "autotypenumbers": "strict",
          "coloraxis": {
           "colorbar": {
            "outlinewidth": 0,
            "ticks": ""
           }
          },
          "colorscale": {
           "diverging": [
            [
             0,
             "#8e0152"
            ],
            [
             0.1,
             "#c51b7d"
            ],
            [
             0.2,
             "#de77ae"
            ],
            [
             0.3,
             "#f1b6da"
            ],
            [
             0.4,
             "#fde0ef"
            ],
            [
             0.5,
             "#f7f7f7"
            ],
            [
             0.6,
             "#e6f5d0"
            ],
            [
             0.7,
             "#b8e186"
            ],
            [
             0.8,
             "#7fbc41"
            ],
            [
             0.9,
             "#4d9221"
            ],
            [
             1,
             "#276419"
            ]
           ],
           "sequential": [
            [
             0,
             "#0d0887"
            ],
            [
             0.1111111111111111,
             "#46039f"
            ],
            [
             0.2222222222222222,
             "#7201a8"
            ],
            [
             0.3333333333333333,
             "#9c179e"
            ],
            [
             0.4444444444444444,
             "#bd3786"
            ],
            [
             0.5555555555555556,
             "#d8576b"
            ],
            [
             0.6666666666666666,
             "#ed7953"
            ],
            [
             0.7777777777777778,
             "#fb9f3a"
            ],
            [
             0.8888888888888888,
             "#fdca26"
            ],
            [
             1,
             "#f0f921"
            ]
           ],
           "sequentialminus": [
            [
             0,
             "#0d0887"
            ],
            [
             0.1111111111111111,
             "#46039f"
            ],
            [
             0.2222222222222222,
             "#7201a8"
            ],
            [
             0.3333333333333333,
             "#9c179e"
            ],
            [
             0.4444444444444444,
             "#bd3786"
            ],
            [
             0.5555555555555556,
             "#d8576b"
            ],
            [
             0.6666666666666666,
             "#ed7953"
            ],
            [
             0.7777777777777778,
             "#fb9f3a"
            ],
            [
             0.8888888888888888,
             "#fdca26"
            ],
            [
             1,
             "#f0f921"
            ]
           ]
          },
          "colorway": [
           "#636efa",
           "#EF553B",
           "#00cc96",
           "#ab63fa",
           "#FFA15A",
           "#19d3f3",
           "#FF6692",
           "#B6E880",
           "#FF97FF",
           "#FECB52"
          ],
          "font": {
           "color": "#2a3f5f"
          },
          "geo": {
           "bgcolor": "white",
           "lakecolor": "white",
           "landcolor": "#E5ECF6",
           "showlakes": true,
           "showland": true,
           "subunitcolor": "white"
          },
          "hoverlabel": {
           "align": "left"
          },
          "hovermode": "closest",
          "mapbox": {
           "style": "light"
          },
          "paper_bgcolor": "white",
          "plot_bgcolor": "#E5ECF6",
          "polar": {
           "angularaxis": {
            "gridcolor": "white",
            "linecolor": "white",
            "ticks": ""
           },
           "bgcolor": "#E5ECF6",
           "radialaxis": {
            "gridcolor": "white",
            "linecolor": "white",
            "ticks": ""
           }
          },
          "scene": {
           "xaxis": {
            "backgroundcolor": "#E5ECF6",
            "gridcolor": "white",
            "gridwidth": 2,
            "linecolor": "white",
            "showbackground": true,
            "ticks": "",
            "zerolinecolor": "white"
           },
           "yaxis": {
            "backgroundcolor": "#E5ECF6",
            "gridcolor": "white",
            "gridwidth": 2,
            "linecolor": "white",
            "showbackground": true,
            "ticks": "",
            "zerolinecolor": "white"
           },
           "zaxis": {
            "backgroundcolor": "#E5ECF6",
            "gridcolor": "white",
            "gridwidth": 2,
            "linecolor": "white",
            "showbackground": true,
            "ticks": "",
            "zerolinecolor": "white"
           }
          },
          "shapedefaults": {
           "line": {
            "color": "#2a3f5f"
           }
          },
          "ternary": {
           "aaxis": {
            "gridcolor": "white",
            "linecolor": "white",
            "ticks": ""
           },
           "baxis": {
            "gridcolor": "white",
            "linecolor": "white",
            "ticks": ""
           },
           "bgcolor": "#E5ECF6",
           "caxis": {
            "gridcolor": "white",
            "linecolor": "white",
            "ticks": ""
           }
          },
          "title": {
           "x": 0.05
          },
          "xaxis": {
           "automargin": true,
           "gridcolor": "white",
           "linecolor": "white",
           "ticks": "",
           "title": {
            "standoff": 15
           },
           "zerolinecolor": "white",
           "zerolinewidth": 2
          },
          "yaxis": {
           "automargin": true,
           "gridcolor": "white",
           "linecolor": "white",
           "ticks": "",
           "title": {
            "standoff": 15
           },
           "zerolinecolor": "white",
           "zerolinewidth": 2
          }
         }
        },
        "title": {
         "text": "Breakdown of Total Wins by Season"
        },
        "xaxis": {
         "anchor": "y",
         "domain": [
          0,
          1
         ],
         "title": {
          "text": "Team"
         }
        },
        "yaxis": {
         "anchor": "x",
         "domain": [
          0,
          1
         ],
         "title": {
          "text": "W"
         }
        }
       }
      },
      "text/html": [
       "<div>                            <div id=\"a0012bd7-d19d-4e0a-bf45-29645996c01b\" class=\"plotly-graph-div\" style=\"height:525px; width:100%;\"></div>            <script type=\"text/javascript\">                require([\"plotly\"], function(Plotly) {                    window.PLOTLYENV=window.PLOTLYENV || {};                                    if (document.getElementById(\"a0012bd7-d19d-4e0a-bf45-29645996c01b\")) {                    Plotly.newPlot(                        \"a0012bd7-d19d-4e0a-bf45-29645996c01b\",                        [{\"alignmentgroup\":\"True\",\"customdata\":[[2000,1,8,6,80],[2000,2,10,8,70],[2000,3,9,9,69],[2000,4,8,10,68],[2000,5,6,12,66],[2000,6,10,11,61],[2000,7,12,11,57],[2000,8,15,10,54],[2000,9,10,14,52],[2000,10,10,14,52],[2000,11,9,15,51],[2000,12,10,15,49],[2000,13,6,18,48],[2000,14,15,14,42],[2000,15,12,16,42],[2000,16,9,18,42],[2000,17,12,16,42],[2000,18,10,20,34],[2000,19,10,20,34],[2000,20,11,22,26],[2001,1,9,3,87],[2001,2,8,6,80],[2001,3,5,9,77],[2001,4,8,9,71],[2001,5,12,8,66],[2001,6,13,8,64],[2001,7,8,15,53],[2001,8,14,12,50],[2001,9,8,16,50],[2001,10,10,16,46],[2001,11,9,17,45],[2001,12,9,17,45],[2001,13,14,14,44],[2001,14,14,14,44],[2001,15,10,17,43],[2001,16,13,16,40],[2001,17,10,18,40],[2001,18,9,20,36],[2001,19,6,24,30],[2001,20,13,20,28],[2002,1,8,5,83],[2002,2,9,6,78],[2002,3,6,11,69],[2002,4,10,9,67],[2002,5,10,10,64],[2002,6,12,10,60],[2002,7,8,13,59],[2002,8,13,12,52],[2002,9,6,17,51],[2002,10,8,16,50],[2002,11,10,15,49],[2002,12,7,17,49],[2002,13,9,16,48],[2002,14,9,16,48],[2002,15,5,19,47],[2002,16,9,17,45],[2002,17,14,14,44],[2002,18,12,16,42],[2002,19,8,24,26],[2002,20,7,27,19],[2003,1,12,0,90],[2003,2,7,7,79],[2003,3,6,9,75],[2003,4,12,10,60],[2003,5,17,8,56],[2003,6,11,12,56],[2003,7,11,13,53],[2003,8,11,13,53],[2003,9,10,14,52],[2003,10,14,12,50],[2003,11,9,16,48],[2003,12,11,15,47],[2003,13,9,17,45],[2003,14,6,19,45],[2003,15,8,18,44],[2003,16,14,15,41],[2003,17,12,17,39],[2003,18,15,17,33],[2003,19,9,21,33],[2003,20,12,19,33],[2004,1,8,1,95],[2004,2,8,5,83],[2004,3,11,5,77],[2004,4,7,13,61],[2004,5,7,14,58],[2004,6,10,12,58],[2004,7,13,11,55],[2004,8,13,12,52],[2004,9,10,14,52],[2004,10,11,15,47],[2004,11,10,16,46],[2004,12,12,15,45],[2004,13,8,18,44],[2004,14,14,14,44],[2004,15,15,14,42],[2004,16,9,19,39],[2004,17,16,16,34],[2004,18,12,19,33],[2004,19,12,19,33],[2004,20,14,18,32],[2005,1,4,5,91],[2005,2,8,5,83],[2005,3,7,6,82],[2005,4,7,11,67],[2005,5,11,9,65],[2005,6,6,13,63],[2005,7,7,14,58],[2005,8,11,12,56],[2005,9,7,15,55],[2005,10,6,17,51],[2005,11,8,16,50],[2005,12,6,18,48],[2005,13,8,17,47],[2005,14,9,17,45],[2005,15,4,21,43],[2005,16,12,16,42],[2005,17,8,20,38],[2005,18,10,20,34],[2005,19,9,22,30],[2005,20,6,29,15],[2006,1,5,5,89],[2006,2,11,3,83],[2006,3,8,10,68],[2006,4,11,8,68],[2006,5,9,12,60],[2006,6,13,10,58],[2006,7,8,14,56],[2006,8,7,15,55],[2006,9,12,12,54],[2006,10,7,16,52],[2006,11,17,10,50],[2006,12,10,16,46],[2006,13,10,17,43],[2006,14,9,18,42],[2006,15,5,21,41],[2006,16,15,15,39],[2006,17,8,20,38],[2006,18,8,20,38],[2006,19,10,20,34],[2006,20,13,20,28],[2007,1,6,5,87],[2007,2,10,3,85],[2007,3,11,3,83],[2007,4,13,4,76],[2007,5,8,11,65],[2007,6,12,10,60],[2007,7,13,10,58],[2007,8,9,13,57],[2007,9,10,13,55],[2007,10,10,15,49],[2007,11,13,14,46],[2007,12,10,17,43],[2007,13,12,16,42],[2007,14,10,18,40],[2007,15,6,21,39],[2007,16,10,19,37],[2007,17,12,18,36],[2007,18,6,22,36],[2007,19,11,19,35],[2007,20,8,29,11],[2008,1,6,4,90],[2008,2,11,2,86],[2008,3,8,5,83],[2008,4,12,6,72],[2008,5,12,9,63],[2008,6,11,10,62],[2008,7,11,13,53],[2008,8,9,15,51],[2008,9,9,15,51],[2008,10,5,18,50],[2008,11,9,17,45],[2008,12,9,17,45],[2008,13,8,19,41],[2008,14,11,17,41],[2008,15,11,17,41],[2008,16,9,20,36],[2008,17,11,19,35],[2008,18,13,18,34],[2008,19,11,20,32],[2008,20,8,22,32],[2009,1,5,6,86],[2009,2,4,7,85],[2009,3,6,9,75],[2009,4,7,10,70],[2009,5,13,7,67],[2009,6,13,8,64],[2009,7,9,11,63],[2009,8,13,9,61],[2009,9,11,14,50],[2009,10,11,14,50],[2009,11,14,13,47],[2009,12,10,16,46],[2009,13,11,16,44],[2009,14,9,19,39],[2009,15,11,18,38],[2009,16,9,20,36],[2009,17,11,19,35],[2009,18,6,24,30],[2009,19,12,20,30],[2009,20,7,24,19],[2010,1,11,4,80],[2010,2,8,9,71],[2010,3,8,9,71],[2010,4,11,8,68],[2010,5,14,8,62],[2010,6,7,14,58],[2010,7,15,10,54],[2010,8,16,11,49],[2010,9,12,14,48],[2010,10,11,15,47],[2010,11,11,15,47],[2010,12,13,14,46],[2010,13,7,18,46],[2010,14,10,16,46],[2010,15,10,17,43],[2010,16,15,14,42],[2010,17,7,20,40],[2010,18,15,15,39],[2010,19,9,19,39],[2010,20,12,19,33],[2011,1,5,5,89],[2011,2,5,5,89],[2011,3,7,10,70],[2011,4,9,9,69],[2011,5,8,11,65],[2011,6,10,10,64],[2011,7,11,12,56],[2011,8,10,14,52],[2011,9,10,14,52],[2011,10,8,17,47],[2011,11,11,15,47],[2011,12,11,15,47],[2011,13,12,15,45],[2011,14,12,15,45],[2011,15,10,17,43],[2011,16,17,14,38],[2011,17,7,21,37],[2011,18,6,22,36],[2011,19,7,23,31],[2011,20,10,23,25],[2012,1,5,5,89],[2012,2,9,6,78],[2012,3,9,7,75],[2012,4,10,7,73],[2012,5,9,8,72],[2012,6,15,7,63],[2012,7,13,9,61],[2012,8,7,17,49],[2012,9,13,14,46],[2012,10,10,16,46],[2012,11,14,14,44],[2012,12,10,17,43],[2012,13,15,14,42],[2012,14,14,15,41],[2012,15,11,17,41],[2012,16,8,19,41],[2012,17,12,17,39],[2012,18,9,20,36],[2012,19,10,22,28],[2012,20,13,21,25],[2013,1,5,6,86],[2013,2,6,6,84],[2013,3,7,6,82],[2013,4,7,7,79],[2013,5,9,8,72],[2013,6,6,11,69],[2013,7,7,12,64],[2013,8,11,12,56],[2013,9,11,14,50],[2013,10,4,19,49],[2013,11,6,19,45],[2013,12,9,18,42],[2013,13,7,20,40],[2013,14,8,20,38],[2013,15,8,20,38],[2013,16,7,21,37],[2013,17,15,16,36],[2013,18,9,21,33],[2013,19,5,24,32],[2013,20,9,22,30],[2014,1,9,3,87],[2014,2,7,7,79],[2014,3,9,7,75],[2014,4,10,8,70],[2014,5,7,12,64],[2014,6,8,12,62],[2014,7,6,14,60],[2014,8,8,14,56],[2014,9,9,14,54],[2014,10,9,16,48],[2014,11,11,15,47],[2014,12,11,15,47],[2014,13,11,16,44],[2014,14,8,19,41],[2014,15,9,19,39],[2014,16,17,14,38],[2014,17,8,20,38],[2014,18,11,19,35],[2014,19,12,19,33],[2014,20,6,24,30],[2015,1,12,3,81],[2015,2,11,7,71],[2015,3,13,6,70],[2015,4,9,10,66],[2015,5,9,10,66],[2015,6,9,11,63],[2015,7,14,8,62],[2015,8,12,10,60],[2015,9,9,15,51],[2015,10,14,12,50],[2015,11,14,13,47],[2015,12,11,15,47],[2015,13,9,17,45],[2015,14,13,15,43],[2015,15,9,18,42],[2015,16,9,18,42],[2015,17,12,17,39],[2015,18,10,19,37],[2015,19,7,22,34],[2015,20,8,27,17],[2016,1,3,5,93],[2016,2,8,4,86],[2016,3,9,6,78],[2016,4,10,6,76],[2016,5,6,9,75],[2016,6,15,5,69],[2016,7,10,11,61],[2016,8,10,16,46],[2016,9,10,16,46],[2016,10,9,17,45],[2016,11,9,17,45],[2016,12,8,18,44],[2016,13,11,16,44],[2016,14,5,21,41],[2016,15,5,21,41],[2016,16,7,20,40],[2016,17,7,20,40],[2016,18,7,22,34],[2016,19,13,20,28],[2016,20,6,26,24],[2017,1,4,2,100],[2017,2,6,7,81],[2017,3,8,7,77],[2017,4,12,5,75],[2017,5,7,10,70],[2017,6,6,13,63],[2017,7,12,12,54],[2017,8,10,15,49],[2017,9,11,15,47],[2017,10,8,18,44],[2017,11,11,16,44],[2017,12,11,16,44],[2017,13,12,16,42],[2017,14,8,19,41],[2017,15,13,16,40],[2017,16,10,19,37],[2017,17,15,16,36],[2017,18,9,21,33],[2017,19,12,19,33],[2017,20,13,19,31],[2018,1,2,4,98],[2018,2,7,1,97],[2018,3,9,8,72],[2018,4,2,13,71],[2018,5,7,10,70],[2018,6,9,10,66],[2018,7,9,13,57],[2018,8,9,14,54],[2018,9,7,16,52],[2018,10,7,16,52],[2018,11,8,16,50],[2018,12,7,17,49],[2018,13,9,17,45],[2018,14,6,19,45],[2018,15,7,20,40],[2018,16,12,17,39],[2018,17,9,20,36],[2018,18,4,24,34],[2018,19,5,26,26],[2018,20,7,28,16],[2019,1,3,3,99],[2019,2,3,9,81],[2019,3,12,8,66],[2019,4,6,12,66],[2019,5,8,12,62],[2019,6,11,11,59],[2019,7,14,9,59],[2019,8,14,10,56],[2019,9,12,12,54],[2019,10,9,14,54],[2019,11,7,16,52],[2019,12,10,15,49],[2019,13,11,16,44],[2019,14,10,17,43],[2019,15,14,15,41],[2019,16,9,19,39],[2019,17,8,21,35],[2019,18,7,22,34],[2019,19,10,20,34],[2019,20,6,27,21],[2020,1,5,6,86],[2020,2,11,6,74],[2020,3,9,9,69],[2020,4,10,9,67],[2020,5,6,12,66],[2020,6,8,11,65],[2020,7,8,12,62],[2020,8,7,13,61],[2020,9,5,15,59],[2020,10,8,13,59],[2020,11,7,15,55],[2020,12,9,17,45],[2020,13,9,17,45],[2020,14,8,18,44],[2020,15,7,19,43],[2020,16,14,15,41],[2020,17,9,19,39],[2020,18,13,20,28],[2020,19,11,22,26],[2020,20,2,29,23],[2021,1,6,3,93],[2021,2,8,2,92],[2021,3,11,6,74],[2021,4,5,11,71],[2021,5,3,13,69],[2021,6,10,12,58],[2021,7,8,14,56],[2021,8,10,14,52],[2021,9,15,11,51],[2021,10,6,17,51],[2021,11,10,15,49],[2021,12,15,12,48],[2021,13,7,18,46],[2021,14,6,19,45],[2021,15,13,16,40],[2021,16,6,21,39],[2021,17,11,18,38],[2021,18,14,17,35],[2021,19,5,27,23],[2021,20,7,26,22]],\"hovertemplate\":\"Team=%{x}<br>W=%{y}<br>Season=%{customdata[0]}<br>Pos=%{customdata[1]}<br>D=%{customdata[2]}<br>L=%{customdata[3]}<br>Pts=%{marker.color}<extra></extra>\",\"legendgroup\":\"\",\"marker\":{\"color\":[80,70,69,68,66,61,57,54,52,52,51,49,48,42,42,42,42,34,34,26,87,80,77,71,66,64,53,50,50,46,45,45,44,44,43,40,40,36,30,28,83,78,69,67,64,60,59,52,51,50,49,49,48,48,47,45,44,42,26,19,90,79,75,60,56,56,53,53,52,50,48,47,45,45,44,41,39,33,33,33,95,83,77,61,58,58,55,52,52,47,46,45,44,44,42,39,34,33,33,32,91,83,82,67,65,63,58,56,55,51,50,48,47,45,43,42,38,34,30,15,89,83,68,68,60,58,56,55,54,52,50,46,43,42,41,39,38,38,34,28,87,85,83,76,65,60,58,57,55,49,46,43,42,40,39,37,36,36,35,11,90,86,83,72,63,62,53,51,51,50,45,45,41,41,41,36,35,34,32,32,86,85,75,70,67,64,63,61,50,50,47,46,44,39,38,36,35,30,30,19,80,71,71,68,62,58,54,49,48,47,47,46,46,46,43,42,40,39,39,33,89,89,70,69,65,64,56,52,52,47,47,47,45,45,43,38,37,36,31,25,89,78,75,73,72,63,61,49,46,46,44,43,42,41,41,41,39,36,28,25,86,84,82,79,72,69,64,56,50,49,45,42,40,38,38,37,36,33,32,30,87,79,75,70,64,62,60,56,54,48,47,47,44,41,39,38,38,35,33,30,81,71,70,66,66,63,62,60,51,50,47,47,45,43,42,42,39,37,34,17,93,86,78,76,75,69,61,46,46,45,45,44,44,41,41,40,40,34,28,24,100,81,77,75,70,63,54,49,47,44,44,44,42,41,40,37,36,33,33,31,98,97,72,71,70,66,57,54,52,52,50,49,45,45,40,39,36,34,26,16,99,81,66,66,62,59,59,56,54,54,52,49,44,43,41,39,35,34,34,21,86,74,69,67,66,65,62,61,59,59,55,45,45,44,43,41,39,28,26,23,93,92,74,71,69,58,56,52,51,51,49,48,46,45,40,39,38,35,23,22],\"coloraxis\":\"coloraxis\",\"pattern\":{\"shape\":\"\"}},\"name\":\"\",\"offsetgroup\":\"\",\"orientation\":\"v\",\"showlegend\":false,\"textposition\":\"auto\",\"x\":[\"Manchester United\",\"Arsenal\",\"Liverpool\",\"Leeds United\",\"Ipswich Town\",\"Chelsea\",\"Sunderland\",\"Aston Villa\",\"Charlton Athletic\",\"Southampton\",\"Newcastle United\",\"Tottenham Hotspur\",\"Leicester City\",\"Middlesbrough\",\"West Ham United\",\"Everton\",\"Derby County\",\"Manchester City\",\"Coventry City\",\"Bradford City\",\"Arsenal\",\"Liverpool\",\"Manchester United\",\"Newcastle United\",\"Leeds United\",\"Chelsea\",\"West Ham United\",\"Aston Villa\",\"Tottenham Hotspur\",\"Blackburn Rovers\",\"Southampton\",\"Middlesbrough\",\"Fulham\",\"Charlton Athletic\",\"Everton\",\"Bolton Wanderers\",\"Sunderland\",\"Ipswich Town\",\"Derby County\",\"Leicester City\",\"Manchester United\",\"Arsenal\",\"Newcastle United\",\"Chelsea\",\"Liverpool\",\"Blackburn Rovers\",\"Everton\",\"Southampton\",\"Manchester City\",\"Tottenham Hotspur\",\"Middlesbrough\",\"Charlton Athletic\",\"Birmingham City\",\"Fulham\",\"Leeds United\",\"Aston Villa\",\"Bolton Wanderers\",\"West Ham United\",\"West Bromwich Albion\",\"Sunderland\",\"Arsenal\",\"Chelsea\",\"Manchester United\",\"Liverpool\",\"Newcastle United\",\"Aston Villa\",\"Charlton Athletic\",\"Bolton Wanderers\",\"Fulham\",\"Birmingham City\",\"Middlesbrough\",\"Southampton\",\"Portsmouth\",\"Tottenham Hotspur\",\"Blackburn Rovers\",\"Manchester City\",\"Everton\",\"Leicester City\",\"Leeds United\",\"Wolverhampton Wanderers\",\"Chelsea\",\"Arsenal\",\"Manchester United\",\"Everton\",\"Liverpool\",\"Bolton Wanderers\",\"Middlesbrough\",\"Manchester City\",\"Tottenham Hotspur\",\"Aston Villa\",\"Charlton Athletic\",\"Birmingham City\",\"Fulham\",\"Newcastle United\",\"Blackburn Rovers\",\"Portsmouth\",\"West Bromwich Albion\",\"Crystal Palace\",\"Norwich City\",\"Southampton\",\"Chelsea\",\"Manchester United\",\"Liverpool\",\"Arsenal\",\"Tottenham Hotspur\",\"Blackburn Rovers\",\"Newcastle United\",\"Bolton Wanderers\",\"West Ham United\",\"Wigan Athletic\",\"Everton\",\"Fulham\",\"Charlton Athletic\",\"Middlesbrough\",\"Manchester City\",\"Aston Villa\",\"Portsmouth\",\"Birmingham City\",\"West Bromwich Albion\",\"Sunderland\",\"Manchester United\",\"Chelsea\",\"Liverpool\",\"Arsenal\",\"Tottenham Hotspur\",\"Everton\",\"Bolton Wanderers\",\"Reading\",\"Portsmouth\",\"Blackburn Rovers\",\"Aston Villa\",\"Middlesbrough\",\"Newcastle United\",\"Manchester City\",\"West Ham United\",\"Fulham\",\"Wigan Athletic\",\"Sheffield United\",\"Charlton Athletic\",\"Watford\",\"Manchester United\",\"Chelsea\",\"Arsenal\",\"Liverpool\",\"Everton\",\"Aston Villa\",\"Blackburn Rovers\",\"Portsmouth\",\"Manchester City\",\"West Ham United\",\"Tottenham Hotspur\",\"Newcastle United\",\"Middlesbrough\",\"Wigan Athletic\",\"Sunderland\",\"Bolton Wanderers\",\"Fulham\",\"Reading\",\"Birmingham City\",\"Derby County\",\"Manchester United\",\"Liverpool\",\"Chelsea\",\"Arsenal\",\"Everton\",\"Aston Villa\",\"Fulham\",\"Tottenham Hotspur\",\"West Ham United\",\"Manchester City\",\"Wigan Athletic\",\"Stoke City\",\"Bolton Wanderers\",\"Portsmouth\",\"Blackburn Rovers\",\"Sunderland\",\"Hull City\",\"Newcastle United\",\"Middlesbrough\",\"West Bromwich Albion\",\"Chelsea\",\"Manchester United\",\"Arsenal\",\"Tottenham Hotspur\",\"Manchester City\",\"Aston Villa\",\"Liverpool\",\"Everton\",\"Birmingham City\",\"Blackburn Rovers\",\"Stoke City\",\"Fulham\",\"Sunderland\",\"Bolton Wanderers\",\"Wolverhampton Wanderers\",\"Wigan Athletic\",\"West Ham United\",\"Burnley\",\"Hull City\",\"Portsmouth\",\"Manchester United\",\"Chelsea\",\"Manchester City\",\"Arsenal\",\"Tottenham Hotspur\",\"Liverpool\",\"Everton\",\"Fulham\",\"Aston Villa\",\"Sunderland\",\"West Bromwich Albion\",\"Newcastle United\",\"Stoke City\",\"Bolton Wanderers\",\"Blackburn Rovers\",\"Wigan Athletic\",\"Wolverhampton Wanderers\",\"Birmingham City\",\"Blackpool\",\"West Ham United\",\"Manchester City\",\"Manchester United\",\"Arsenal\",\"Tottenham Hotspur\",\"Newcastle United\",\"Chelsea\",\"Everton\",\"Liverpool\",\"Fulham\",\"West Bromwich Albion\",\"Swansea City\",\"Norwich City\",\"Sunderland\",\"Stoke City\",\"Wigan Athletic\",\"Aston Villa\",\"Queens Park Rangers\",\"Bolton Wanderers\",\"Blackburn Rovers\",\"Wolverhampton Wanderers\",\"Manchester United\",\"Manchester City\",\"Chelsea\",\"Arsenal\",\"Tottenham Hotspur\",\"Everton\",\"Liverpool\",\"West Bromwich Albion\",\"Swansea City\",\"West Ham United\",\"Norwich City\",\"Fulham\",\"Stoke City\",\"Southampton\",\"Aston Villa\",\"Newcastle United\",\"Sunderland\",\"Wigan Athletic\",\"Reading\",\"Queens Park Rangers\",\"Manchester City\",\"Liverpool\",\"Chelsea\",\"Arsenal\",\"Everton\",\"Tottenham Hotspur\",\"Manchester United\",\"Southampton\",\"Stoke City\",\"Newcastle United\",\"Crystal Palace\",\"Swansea City\",\"West Ham United\",\"Sunderland\",\"Aston Villa\",\"Hull City\",\"West Bromwich Albion\",\"Norwich City\",\"Fulham\",\"Cardiff City\",\"Chelsea\",\"Manchester City\",\"Arsenal\",\"Manchester United\",\"Tottenham Hotspur\",\"Liverpool\",\"Southampton\",\"Swansea City\",\"Stoke City\",\"Crystal Palace\",\"Everton\",\"West Ham United\",\"West Bromwich Albion\",\"Leicester City\",\"Newcastle United\",\"Sunderland\",\"Aston Villa\",\"Hull City\",\"Burnley\",\"Queens Park Rangers\",\"Leicester City\",\"Arsenal\",\"Tottenham Hotspur\",\"Manchester City\",\"Manchester United\",\"Southampton\",\"West Ham United\",\"Liverpool\",\"Stoke City\",\"Chelsea\",\"Everton\",\"Swansea City\",\"Watford\",\"West Bromwich Albion\",\"Crystal Palace\",\"Bournemouth\",\"Sunderland\",\"Newcastle United\",\"Norwich City\",\"Aston Villa\",\"Chelsea\",\"Tottenham Hotspur\",\"Manchester City\",\"Liverpool\",\"Arsenal\",\"Manchester United\",\"Everton\",\"Southampton\",\"Bournemouth\",\"West Bromwich Albion\",\"West Ham United\",\"Leicester City\",\"Stoke City\",\"Crystal Palace\",\"Swansea City\",\"Burnley\",\"Watford\",\"Hull City\",\"Middlesbrough\",\"Sunderland\",\"Manchester City\",\"Manchester United\",\"Tottenham Hotspur\",\"Liverpool\",\"Chelsea\",\"Arsenal\",\"Burnley\",\"Everton\",\"Leicester City\",\"Newcastle United\",\"Crystal Palace\",\"Bournemouth\",\"West Ham United\",\"Watford\",\"Brighton & Hove Albion\",\"Huddersfield Town\",\"Southampton\",\"Swansea City\",\"Stoke City\",\"West Bromwich Albion\",\"Manchester City\",\"Liverpool\",\"Chelsea\",\"Tottenham Hotspur\",\"Arsenal\",\"Manchester United\",\"Wolverhampton Wanderers\",\"Everton\",\"Leicester City\",\"West Ham United\",\"Watford\",\"Crystal Palace\",\"Newcastle United\",\"Bournemouth\",\"Burnley\",\"Southampton\",\"Brighton & Hove Albion\",\"Cardiff City\",\"Fulham\",\"Huddersfield Town\",\"Liverpool\",\"Manchester City\",\"Manchester United\",\"Chelsea\",\"Leicester City\",\"Tottenham Hotspur\",\"Wolverhampton Wanderers\",\"Arsenal\",\"Sheffield United\",\"Burnley\",\"Southampton\",\"Everton\",\"Newcastle United\",\"Crystal Palace\",\"Brighton & Hove Albion\",\"West Ham United\",\"Aston Villa\",\"Bournemouth\",\"Watford\",\"Norwich City\",\"Manchester City\",\"Manchester United\",\"Liverpool\",\"Chelsea\",\"Leicester City\",\"West Ham United\",\"Tottenham Hotspur\",\"Arsenal\",\"Leeds United\",\"Everton\",\"Aston Villa\",\"Newcastle United\",\"Wolverhampton Wanderers\",\"Crystal Palace\",\"Southampton\",\"Brighton & Hove Albion\",\"Burnley\",\"Fulham\",\"West Bromwich Albion\",\"Sheffield United\",\"Manchester City\",\"Liverpool\",\"Chelsea\",\"Tottenham Hotspur\",\"Arsenal\",\"Manchester United\",\"West Ham United\",\"Leicester City\",\"Brighton & Hove Albion\",\"Wolverhampton Wanderers\",\"Newcastle United\",\"Crystal Palace\",\"Brentford\",\"Aston Villa\",\"Southampton\",\"Everton\",\"Leeds United\",\"Burnley\",\"Watford\",\"Norwich City\"],\"xaxis\":\"x\",\"y\":[24,20,20,20,20,17,15,13,14,14,14,13,14,9,10,11,10,8,8,5,26,24,24,21,18,17,15,12,14,12,12,12,10,10,11,9,10,9,8,5,25,23,21,19,18,16,17,13,15,14,13,14,13,13,14,12,10,10,6,4,26,24,23,16,13,15,14,14,14,12,13,12,12,13,12,9,9,6,8,7,29,25,22,18,17,16,14,13,14,12,12,11,12,10,9,10,6,7,7,6,29,25,25,20,18,19,17,15,16,15,14,14,13,12,13,10,10,8,7,3,28,24,20,19,17,15,16,16,14,15,11,12,11,11,12,8,10,10,8,5,27,25,24,21,19,16,15,16,15,13,11,11,10,10,11,9,8,10,8,1,28,25,25,20,17,17,14,14,14,15,12,12,11,10,10,9,8,7,7,8,27,27,23,21,18,17,18,16,13,13,11,12,11,10,9,9,8,8,6,7,23,21,21,19,16,17,13,11,12,12,12,11,13,12,11,9,11,8,10,7,28,28,21,20,19,18,15,14,14,13,12,12,11,11,11,7,10,10,8,5,28,23,22,21,21,16,16,14,11,12,10,11,9,9,10,11,9,9,6,4,27,26,25,24,21,21,19,15,13,15,13,11,11,10,10,10,7,8,9,7,26,24,22,20,19,18,18,16,15,13,12,12,11,11,10,7,10,8,7,8,23,20,19,19,19,18,16,16,14,12,11,12,12,10,11,11,9,9,9,3,30,26,23,22,23,18,17,12,12,12,12,12,11,12,12,11,11,9,5,6,32,25,23,21,21,19,14,13,12,12,11,11,10,11,9,9,7,8,7,6,32,30,21,23,21,19,16,15,15,15,14,14,12,13,11,9,9,10,7,3,32,26,18,20,18,16,15,14,14,15,15,13,11,11,9,10,9,9,8,5,27,21,20,19,20,19,18,18,18,17,16,12,12,12,12,9,10,5,5,7,29,28,21,22,22,16,16,14,12,15,13,11,13,13,9,11,9,7,6,5],\"yaxis\":\"y\",\"type\":\"bar\"}],                        {\"template\":{\"data\":{\"histogram2dcontour\":[{\"type\":\"histogram2dcontour\",\"colorbar\":{\"outlinewidth\":0,\"ticks\":\"\"},\"colorscale\":[[0.0,\"#0d0887\"],[0.1111111111111111,\"#46039f\"],[0.2222222222222222,\"#7201a8\"],[0.3333333333333333,\"#9c179e\"],[0.4444444444444444,\"#bd3786\"],[0.5555555555555556,\"#d8576b\"],[0.6666666666666666,\"#ed7953\"],[0.7777777777777778,\"#fb9f3a\"],[0.8888888888888888,\"#fdca26\"],[1.0,\"#f0f921\"]]}],\"choropleth\":[{\"type\":\"choropleth\",\"colorbar\":{\"outlinewidth\":0,\"ticks\":\"\"}}],\"histogram2d\":[{\"type\":\"histogram2d\",\"colorbar\":{\"outlinewidth\":0,\"ticks\":\"\"},\"colorscale\":[[0.0,\"#0d0887\"],[0.1111111111111111,\"#46039f\"],[0.2222222222222222,\"#7201a8\"],[0.3333333333333333,\"#9c179e\"],[0.4444444444444444,\"#bd3786\"],[0.5555555555555556,\"#d8576b\"],[0.6666666666666666,\"#ed7953\"],[0.7777777777777778,\"#fb9f3a\"],[0.8888888888888888,\"#fdca26\"],[1.0,\"#f0f921\"]]}],\"heatmap\":[{\"type\":\"heatmap\",\"colorbar\":{\"outlinewidth\":0,\"ticks\":\"\"},\"colorscale\":[[0.0,\"#0d0887\"],[0.1111111111111111,\"#46039f\"],[0.2222222222222222,\"#7201a8\"],[0.3333333333333333,\"#9c179e\"],[0.4444444444444444,\"#bd3786\"],[0.5555555555555556,\"#d8576b\"],[0.6666666666666666,\"#ed7953\"],[0.7777777777777778,\"#fb9f3a\"],[0.8888888888888888,\"#fdca26\"],[1.0,\"#f0f921\"]]}],\"heatmapgl\":[{\"type\":\"heatmapgl\",\"colorbar\":{\"outlinewidth\":0,\"ticks\":\"\"},\"colorscale\":[[0.0,\"#0d0887\"],[0.1111111111111111,\"#46039f\"],[0.2222222222222222,\"#7201a8\"],[0.3333333333333333,\"#9c179e\"],[0.4444444444444444,\"#bd3786\"],[0.5555555555555556,\"#d8576b\"],[0.6666666666666666,\"#ed7953\"],[0.7777777777777778,\"#fb9f3a\"],[0.8888888888888888,\"#fdca26\"],[1.0,\"#f0f921\"]]}],\"contourcarpet\":[{\"type\":\"contourcarpet\",\"colorbar\":{\"outlinewidth\":0,\"ticks\":\"\"}}],\"contour\":[{\"type\":\"contour\",\"colorbar\":{\"outlinewidth\":0,\"ticks\":\"\"},\"colorscale\":[[0.0,\"#0d0887\"],[0.1111111111111111,\"#46039f\"],[0.2222222222222222,\"#7201a8\"],[0.3333333333333333,\"#9c179e\"],[0.4444444444444444,\"#bd3786\"],[0.5555555555555556,\"#d8576b\"],[0.6666666666666666,\"#ed7953\"],[0.7777777777777778,\"#fb9f3a\"],[0.8888888888888888,\"#fdca26\"],[1.0,\"#f0f921\"]]}],\"surface\":[{\"type\":\"surface\",\"colorbar\":{\"outlinewidth\":0,\"ticks\":\"\"},\"colorscale\":[[0.0,\"#0d0887\"],[0.1111111111111111,\"#46039f\"],[0.2222222222222222,\"#7201a8\"],[0.3333333333333333,\"#9c179e\"],[0.4444444444444444,\"#bd3786\"],[0.5555555555555556,\"#d8576b\"],[0.6666666666666666,\"#ed7953\"],[0.7777777777777778,\"#fb9f3a\"],[0.8888888888888888,\"#fdca26\"],[1.0,\"#f0f921\"]]}],\"mesh3d\":[{\"type\":\"mesh3d\",\"colorbar\":{\"outlinewidth\":0,\"ticks\":\"\"}}],\"scatter\":[{\"fillpattern\":{\"fillmode\":\"overlay\",\"size\":10,\"solidity\":0.2},\"type\":\"scatter\"}],\"parcoords\":[{\"type\":\"parcoords\",\"line\":{\"colorbar\":{\"outlinewidth\":0,\"ticks\":\"\"}}}],\"scatterpolargl\":[{\"type\":\"scatterpolargl\",\"marker\":{\"colorbar\":{\"outlinewidth\":0,\"ticks\":\"\"}}}],\"bar\":[{\"error_x\":{\"color\":\"#2a3f5f\"},\"error_y\":{\"color\":\"#2a3f5f\"},\"marker\":{\"line\":{\"color\":\"#E5ECF6\",\"width\":0.5},\"pattern\":{\"fillmode\":\"overlay\",\"size\":10,\"solidity\":0.2}},\"type\":\"bar\"}],\"scattergeo\":[{\"type\":\"scattergeo\",\"marker\":{\"colorbar\":{\"outlinewidth\":0,\"ticks\":\"\"}}}],\"scatterpolar\":[{\"type\":\"scatterpolar\",\"marker\":{\"colorbar\":{\"outlinewidth\":0,\"ticks\":\"\"}}}],\"histogram\":[{\"marker\":{\"pattern\":{\"fillmode\":\"overlay\",\"size\":10,\"solidity\":0.2}},\"type\":\"histogram\"}],\"scattergl\":[{\"type\":\"scattergl\",\"marker\":{\"colorbar\":{\"outlinewidth\":0,\"ticks\":\"\"}}}],\"scatter3d\":[{\"type\":\"scatter3d\",\"line\":{\"colorbar\":{\"outlinewidth\":0,\"ticks\":\"\"}},\"marker\":{\"colorbar\":{\"outlinewidth\":0,\"ticks\":\"\"}}}],\"scattermapbox\":[{\"type\":\"scattermapbox\",\"marker\":{\"colorbar\":{\"outlinewidth\":0,\"ticks\":\"\"}}}],\"scatterternary\":[{\"type\":\"scatterternary\",\"marker\":{\"colorbar\":{\"outlinewidth\":0,\"ticks\":\"\"}}}],\"scattercarpet\":[{\"type\":\"scattercarpet\",\"marker\":{\"colorbar\":{\"outlinewidth\":0,\"ticks\":\"\"}}}],\"carpet\":[{\"aaxis\":{\"endlinecolor\":\"#2a3f5f\",\"gridcolor\":\"white\",\"linecolor\":\"white\",\"minorgridcolor\":\"white\",\"startlinecolor\":\"#2a3f5f\"},\"baxis\":{\"endlinecolor\":\"#2a3f5f\",\"gridcolor\":\"white\",\"linecolor\":\"white\",\"minorgridcolor\":\"white\",\"startlinecolor\":\"#2a3f5f\"},\"type\":\"carpet\"}],\"table\":[{\"cells\":{\"fill\":{\"color\":\"#EBF0F8\"},\"line\":{\"color\":\"white\"}},\"header\":{\"fill\":{\"color\":\"#C8D4E3\"},\"line\":{\"color\":\"white\"}},\"type\":\"table\"}],\"barpolar\":[{\"marker\":{\"line\":{\"color\":\"#E5ECF6\",\"width\":0.5},\"pattern\":{\"fillmode\":\"overlay\",\"size\":10,\"solidity\":0.2}},\"type\":\"barpolar\"}],\"pie\":[{\"automargin\":true,\"type\":\"pie\"}]},\"layout\":{\"autotypenumbers\":\"strict\",\"colorway\":[\"#636efa\",\"#EF553B\",\"#00cc96\",\"#ab63fa\",\"#FFA15A\",\"#19d3f3\",\"#FF6692\",\"#B6E880\",\"#FF97FF\",\"#FECB52\"],\"font\":{\"color\":\"#2a3f5f\"},\"hovermode\":\"closest\",\"hoverlabel\":{\"align\":\"left\"},\"paper_bgcolor\":\"white\",\"plot_bgcolor\":\"#E5ECF6\",\"polar\":{\"bgcolor\":\"#E5ECF6\",\"angularaxis\":{\"gridcolor\":\"white\",\"linecolor\":\"white\",\"ticks\":\"\"},\"radialaxis\":{\"gridcolor\":\"white\",\"linecolor\":\"white\",\"ticks\":\"\"}},\"ternary\":{\"bgcolor\":\"#E5ECF6\",\"aaxis\":{\"gridcolor\":\"white\",\"linecolor\":\"white\",\"ticks\":\"\"},\"baxis\":{\"gridcolor\":\"white\",\"linecolor\":\"white\",\"ticks\":\"\"},\"caxis\":{\"gridcolor\":\"white\",\"linecolor\":\"white\",\"ticks\":\"\"}},\"coloraxis\":{\"colorbar\":{\"outlinewidth\":0,\"ticks\":\"\"}},\"colorscale\":{\"sequential\":[[0.0,\"#0d0887\"],[0.1111111111111111,\"#46039f\"],[0.2222222222222222,\"#7201a8\"],[0.3333333333333333,\"#9c179e\"],[0.4444444444444444,\"#bd3786\"],[0.5555555555555556,\"#d8576b\"],[0.6666666666666666,\"#ed7953\"],[0.7777777777777778,\"#fb9f3a\"],[0.8888888888888888,\"#fdca26\"],[1.0,\"#f0f921\"]],\"sequentialminus\":[[0.0,\"#0d0887\"],[0.1111111111111111,\"#46039f\"],[0.2222222222222222,\"#7201a8\"],[0.3333333333333333,\"#9c179e\"],[0.4444444444444444,\"#bd3786\"],[0.5555555555555556,\"#d8576b\"],[0.6666666666666666,\"#ed7953\"],[0.7777777777777778,\"#fb9f3a\"],[0.8888888888888888,\"#fdca26\"],[1.0,\"#f0f921\"]],\"diverging\":[[0,\"#8e0152\"],[0.1,\"#c51b7d\"],[0.2,\"#de77ae\"],[0.3,\"#f1b6da\"],[0.4,\"#fde0ef\"],[0.5,\"#f7f7f7\"],[0.6,\"#e6f5d0\"],[0.7,\"#b8e186\"],[0.8,\"#7fbc41\"],[0.9,\"#4d9221\"],[1,\"#276419\"]]},\"xaxis\":{\"gridcolor\":\"white\",\"linecolor\":\"white\",\"ticks\":\"\",\"title\":{\"standoff\":15},\"zerolinecolor\":\"white\",\"automargin\":true,\"zerolinewidth\":2},\"yaxis\":{\"gridcolor\":\"white\",\"linecolor\":\"white\",\"ticks\":\"\",\"title\":{\"standoff\":15},\"zerolinecolor\":\"white\",\"automargin\":true,\"zerolinewidth\":2},\"scene\":{\"xaxis\":{\"backgroundcolor\":\"#E5ECF6\",\"gridcolor\":\"white\",\"linecolor\":\"white\",\"showbackground\":true,\"ticks\":\"\",\"zerolinecolor\":\"white\",\"gridwidth\":2},\"yaxis\":{\"backgroundcolor\":\"#E5ECF6\",\"gridcolor\":\"white\",\"linecolor\":\"white\",\"showbackground\":true,\"ticks\":\"\",\"zerolinecolor\":\"white\",\"gridwidth\":2},\"zaxis\":{\"backgroundcolor\":\"#E5ECF6\",\"gridcolor\":\"white\",\"linecolor\":\"white\",\"showbackground\":true,\"ticks\":\"\",\"zerolinecolor\":\"white\",\"gridwidth\":2}},\"shapedefaults\":{\"line\":{\"color\":\"#2a3f5f\"}},\"annotationdefaults\":{\"arrowcolor\":\"#2a3f5f\",\"arrowhead\":0,\"arrowwidth\":1},\"geo\":{\"bgcolor\":\"white\",\"landcolor\":\"#E5ECF6\",\"subunitcolor\":\"white\",\"showland\":true,\"showlakes\":true,\"lakecolor\":\"white\"},\"title\":{\"x\":0.05},\"mapbox\":{\"style\":\"light\"}}},\"xaxis\":{\"anchor\":\"y\",\"domain\":[0.0,1.0],\"title\":{\"text\":\"Team\"}},\"yaxis\":{\"anchor\":\"x\",\"domain\":[0.0,1.0],\"title\":{\"text\":\"W\"}},\"coloraxis\":{\"colorbar\":{\"title\":{\"text\":\"Pts\"}},\"colorscale\":[[0.0,\"#0d0887\"],[0.1111111111111111,\"#46039f\"],[0.2222222222222222,\"#7201a8\"],[0.3333333333333333,\"#9c179e\"],[0.4444444444444444,\"#bd3786\"],[0.5555555555555556,\"#d8576b\"],[0.6666666666666666,\"#ed7953\"],[0.7777777777777778,\"#fb9f3a\"],[0.8888888888888888,\"#fdca26\"],[1.0,\"#f0f921\"]]},\"legend\":{\"tracegroupgap\":0},\"title\":{\"text\":\"Breakdown of Total Wins by Season\"},\"barmode\":\"relative\"},                        {\"responsive\": true}                    ).then(function(){\n",
       "                            \n",
       "var gd = document.getElementById('a0012bd7-d19d-4e0a-bf45-29645996c01b');\n",
       "var x = new MutationObserver(function (mutations, observer) {{\n",
       "        var display = window.getComputedStyle(gd).display;\n",
       "        if (!display || display === 'none') {{\n",
       "            console.log([gd, 'removed!']);\n",
       "            Plotly.purge(gd);\n",
       "            observer.disconnect();\n",
       "        }}\n",
       "}});\n",
       "\n",
       "// Listen for the removal of the full notebook cells\n",
       "var notebookContainer = gd.closest('#notebook-container');\n",
       "if (notebookContainer) {{\n",
       "    x.observe(notebookContainer, {childList: true});\n",
       "}}\n",
       "\n",
       "// Listen for the clearing of the current output cell\n",
       "var outputEl = gd.closest('.output');\n",
       "if (outputEl) {{\n",
       "    x.observe(outputEl, {childList: true});\n",
       "}}\n",
       "\n",
       "                        })                };                });            </script>        </div>"
      ]
     },
     "metadata": {},
     "output_type": "display_data"
    }
   ],
   "source": [
    "#Secondly below is a bar chart of the total wins by each team thats participated in the premier league.\n",
    "#By simply hovering over each bin the user can get a view of how much wins each team exactly per season, starting with\n",
    "#the earliest season they participated in at the bottom.\n",
    "#Using the color attribute on points, we can also visually see how each teams points tally was in each season.\n",
    "#The legend to the right of the graph shows that the higher the points tally the brighter the season will display.\n",
    "#By defining Hover_data we can expand on the information providing giving users the full W/L/D/Points data for each season\n",
    "\n",
    "fig = px.bar(PL_Seasons, x='Team', y='W', hover_data=['Team','Season','Pos', 'W', 'D', 'L', 'Pts'],\n",
    "             title=\"Breakdown of Total Wins by Season\", color = \"Pts\")\n",
    "fig.show()"
   ]
  },
  {
   "cell_type": "code",
   "execution_count": 240,
   "id": "842d56df",
   "metadata": {},
   "outputs": [
    {
     "data": {
      "application/vnd.plotly.v1+json": {
       "config": {
        "plotlyServerURL": "https://plot.ly"
       },
       "data": [
        {
         "customdata": [
          [
           "Manchester United",
           2000,
           31,
           79,
           80,
           1
          ],
          [
           "Arsenal",
           2000,
           38,
           63,
           70,
           2
          ],
          [
           "Liverpool",
           2000,
           39,
           71,
           69,
           3
          ],
          [
           "Leeds United",
           2000,
           43,
           64,
           68,
           4
          ],
          [
           "Ipswich Town",
           2000,
           42,
           57,
           66,
           5
          ],
          [
           "Chelsea",
           2000,
           45,
           68,
           61,
           6
          ],
          [
           "Sunderland",
           2000,
           41,
           46,
           57,
           7
          ],
          [
           "Aston Villa",
           2000,
           43,
           46,
           54,
           8
          ],
          [
           "Charlton Athletic",
           2000,
           57,
           50,
           52,
           9
          ],
          [
           "Southampton",
           2000,
           48,
           40,
           52,
           10
          ],
          [
           "Newcastle United",
           2000,
           50,
           44,
           51,
           11
          ],
          [
           "Tottenham Hotspur",
           2000,
           54,
           47,
           49,
           12
          ],
          [
           "Leicester City",
           2000,
           51,
           39,
           48,
           13
          ],
          [
           "Middlesbrough",
           2000,
           44,
           44,
           42,
           14
          ],
          [
           "West Ham United",
           2000,
           50,
           45,
           42,
           15
          ],
          [
           "Everton",
           2000,
           59,
           45,
           42,
           16
          ],
          [
           "Derby County",
           2000,
           59,
           37,
           42,
           17
          ],
          [
           "Manchester City",
           2000,
           65,
           41,
           34,
           18
          ],
          [
           "Coventry City",
           2000,
           63,
           36,
           34,
           19
          ],
          [
           "Bradford City",
           2000,
           70,
           30,
           26,
           20
          ],
          [
           "Arsenal",
           2001,
           36,
           79,
           87,
           1
          ],
          [
           "Liverpool",
           2001,
           30,
           67,
           80,
           2
          ],
          [
           "Manchester United",
           2001,
           45,
           87,
           77,
           3
          ],
          [
           "Newcastle United",
           2001,
           52,
           74,
           71,
           4
          ],
          [
           "Leeds United",
           2001,
           37,
           53,
           66,
           5
          ],
          [
           "Chelsea",
           2001,
           38,
           66,
           64,
           6
          ],
          [
           "West Ham United",
           2001,
           57,
           48,
           53,
           7
          ],
          [
           "Aston Villa",
           2001,
           47,
           46,
           50,
           8
          ],
          [
           "Tottenham Hotspur",
           2001,
           53,
           49,
           50,
           9
          ],
          [
           "Blackburn Rovers",
           2001,
           51,
           55,
           46,
           10
          ],
          [
           "Southampton",
           2001,
           54,
           46,
           45,
           11
          ],
          [
           "Middlesbrough",
           2001,
           47,
           35,
           45,
           12
          ],
          [
           "Fulham",
           2001,
           44,
           36,
           44,
           13
          ],
          [
           "Charlton Athletic",
           2001,
           49,
           38,
           44,
           14
          ],
          [
           "Everton",
           2001,
           57,
           45,
           43,
           15
          ],
          [
           "Bolton Wanderers",
           2001,
           62,
           44,
           40,
           16
          ],
          [
           "Sunderland",
           2001,
           51,
           29,
           40,
           17
          ],
          [
           "Ipswich Town",
           2001,
           64,
           41,
           36,
           18
          ],
          [
           "Derby County",
           2001,
           63,
           33,
           30,
           19
          ],
          [
           "Leicester City",
           2001,
           64,
           30,
           28,
           20
          ],
          [
           "Manchester United",
           2002,
           34,
           74,
           83,
           1
          ],
          [
           "Arsenal",
           2002,
           42,
           85,
           78,
           2
          ],
          [
           "Newcastle United",
           2002,
           48,
           63,
           69,
           3
          ],
          [
           "Chelsea",
           2002,
           38,
           68,
           67,
           4
          ],
          [
           "Liverpool",
           2002,
           41,
           61,
           64,
           5
          ],
          [
           "Blackburn Rovers",
           2002,
           43,
           52,
           60,
           6
          ],
          [
           "Everton",
           2002,
           49,
           48,
           59,
           7
          ],
          [
           "Southampton",
           2002,
           46,
           43,
           52,
           8
          ],
          [
           "Manchester City",
           2002,
           54,
           47,
           51,
           9
          ],
          [
           "Tottenham Hotspur",
           2002,
           62,
           51,
           50,
           10
          ],
          [
           "Middlesbrough",
           2002,
           44,
           48,
           49,
           11
          ],
          [
           "Charlton Athletic",
           2002,
           56,
           45,
           49,
           12
          ],
          [
           "Birmingham City",
           2002,
           49,
           41,
           48,
           13
          ],
          [
           "Fulham",
           2002,
           50,
           41,
           48,
           14
          ],
          [
           "Leeds United",
           2002,
           57,
           58,
           47,
           15
          ],
          [
           "Aston Villa",
           2002,
           47,
           42,
           45,
           16
          ],
          [
           "Bolton Wanderers",
           2002,
           51,
           41,
           44,
           17
          ],
          [
           "West Ham United",
           2002,
           59,
           42,
           42,
           18
          ],
          [
           "West Bromwich Albion",
           2002,
           65,
           29,
           26,
           19
          ],
          [
           "Sunderland",
           2002,
           65,
           21,
           19,
           20
          ],
          [
           "Arsenal",
           2003,
           26,
           73,
           90,
           1
          ],
          [
           "Chelsea",
           2003,
           30,
           67,
           79,
           2
          ],
          [
           "Manchester United",
           2003,
           35,
           64,
           75,
           3
          ],
          [
           "Liverpool",
           2003,
           37,
           55,
           60,
           4
          ],
          [
           "Newcastle United",
           2003,
           40,
           52,
           56,
           5
          ],
          [
           "Aston Villa",
           2003,
           44,
           48,
           56,
           6
          ],
          [
           "Charlton Athletic",
           2003,
           51,
           51,
           53,
           7
          ],
          [
           "Bolton Wanderers",
           2003,
           56,
           48,
           53,
           8
          ],
          [
           "Fulham",
           2003,
           46,
           52,
           52,
           9
          ],
          [
           "Birmingham City",
           2003,
           48,
           43,
           50,
           10
          ],
          [
           "Middlesbrough",
           2003,
           52,
           44,
           48,
           11
          ],
          [
           "Southampton",
           2003,
           45,
           44,
           47,
           12
          ],
          [
           "Portsmouth",
           2003,
           54,
           47,
           45,
           13
          ],
          [
           "Tottenham Hotspur",
           2003,
           57,
           47,
           45,
           14
          ],
          [
           "Blackburn Rovers",
           2003,
           59,
           51,
           44,
           15
          ],
          [
           "Manchester City",
           2003,
           54,
           55,
           41,
           16
          ],
          [
           "Everton",
           2003,
           57,
           45,
           39,
           17
          ],
          [
           "Leicester City",
           2003,
           65,
           48,
           33,
           18
          ],
          [
           "Leeds United",
           2003,
           79,
           40,
           33,
           19
          ],
          [
           "Wolverhampton Wanderers",
           2003,
           77,
           38,
           33,
           20
          ],
          [
           "Chelsea",
           2004,
           15,
           72,
           95,
           1
          ],
          [
           "Arsenal",
           2004,
           36,
           87,
           83,
           2
          ],
          [
           "Manchester United",
           2004,
           26,
           58,
           77,
           3
          ],
          [
           "Everton",
           2004,
           46,
           45,
           61,
           4
          ],
          [
           "Liverpool",
           2004,
           41,
           52,
           58,
           5
          ],
          [
           "Bolton Wanderers",
           2004,
           44,
           49,
           58,
           6
          ],
          [
           "Middlesbrough",
           2004,
           46,
           53,
           55,
           7
          ],
          [
           "Manchester City",
           2004,
           39,
           47,
           52,
           8
          ],
          [
           "Tottenham Hotspur",
           2004,
           41,
           47,
           52,
           9
          ],
          [
           "Aston Villa",
           2004,
           52,
           45,
           47,
           10
          ],
          [
           "Charlton Athletic",
           2004,
           58,
           42,
           46,
           11
          ],
          [
           "Birmingham City",
           2004,
           46,
           40,
           45,
           12
          ],
          [
           "Fulham",
           2004,
           60,
           52,
           44,
           13
          ],
          [
           "Newcastle United",
           2004,
           57,
           47,
           44,
           14
          ],
          [
           "Blackburn Rovers",
           2004,
           43,
           32,
           42,
           15
          ],
          [
           "Portsmouth",
           2004,
           59,
           43,
           39,
           16
          ],
          [
           "West Bromwich Albion",
           2004,
           61,
           36,
           34,
           17
          ],
          [
           "Crystal Palace",
           2004,
           62,
           41,
           33,
           18
          ],
          [
           "Norwich City",
           2004,
           77,
           42,
           33,
           19
          ],
          [
           "Southampton",
           2004,
           66,
           45,
           32,
           20
          ],
          [
           "Chelsea",
           2005,
           22,
           72,
           91,
           1
          ],
          [
           "Manchester United",
           2005,
           34,
           72,
           83,
           2
          ],
          [
           "Liverpool",
           2005,
           25,
           57,
           82,
           3
          ],
          [
           "Arsenal",
           2005,
           31,
           68,
           67,
           4
          ],
          [
           "Tottenham Hotspur",
           2005,
           38,
           53,
           65,
           5
          ],
          [
           "Blackburn Rovers",
           2005,
           42,
           51,
           63,
           6
          ],
          [
           "Newcastle United",
           2005,
           42,
           47,
           58,
           7
          ],
          [
           "Bolton Wanderers",
           2005,
           41,
           49,
           56,
           8
          ],
          [
           "West Ham United",
           2005,
           55,
           52,
           55,
           9
          ],
          [
           "Wigan Athletic",
           2005,
           52,
           45,
           51,
           10
          ],
          [
           "Everton",
           2005,
           49,
           34,
           50,
           11
          ],
          [
           "Fulham",
           2005,
           58,
           48,
           48,
           12
          ],
          [
           "Charlton Athletic",
           2005,
           55,
           41,
           47,
           13
          ],
          [
           "Middlesbrough",
           2005,
           58,
           48,
           45,
           14
          ],
          [
           "Manchester City",
           2005,
           48,
           43,
           43,
           15
          ],
          [
           "Aston Villa",
           2005,
           55,
           42,
           42,
           16
          ],
          [
           "Portsmouth",
           2005,
           62,
           37,
           38,
           17
          ],
          [
           "Birmingham City",
           2005,
           50,
           28,
           34,
           18
          ],
          [
           "West Bromwich Albion",
           2005,
           58,
           31,
           30,
           19
          ],
          [
           "Sunderland",
           2005,
           69,
           26,
           15,
           20
          ],
          [
           "Manchester United",
           2006,
           27,
           83,
           89,
           1
          ],
          [
           "Chelsea",
           2006,
           24,
           64,
           83,
           2
          ],
          [
           "Liverpool",
           2006,
           27,
           57,
           68,
           3
          ],
          [
           "Arsenal",
           2006,
           35,
           63,
           68,
           4
          ],
          [
           "Tottenham Hotspur",
           2006,
           54,
           57,
           60,
           5
          ],
          [
           "Everton",
           2006,
           36,
           52,
           58,
           6
          ],
          [
           "Bolton Wanderers",
           2006,
           52,
           47,
           56,
           7
          ],
          [
           "Reading",
           2006,
           47,
           52,
           55,
           8
          ],
          [
           "Portsmouth",
           2006,
           42,
           45,
           54,
           9
          ],
          [
           "Blackburn Rovers",
           2006,
           54,
           52,
           52,
           10
          ],
          [
           "Aston Villa",
           2006,
           41,
           43,
           50,
           11
          ],
          [
           "Middlesbrough",
           2006,
           49,
           44,
           46,
           12
          ],
          [
           "Newcastle United",
           2006,
           47,
           38,
           43,
           13
          ],
          [
           "Manchester City",
           2006,
           44,
           29,
           42,
           14
          ],
          [
           "West Ham United",
           2006,
           59,
           35,
           41,
           15
          ],
          [
           "Fulham",
           2006,
           60,
           38,
           39,
           16
          ],
          [
           "Wigan Athletic",
           2006,
           59,
           37,
           38,
           17
          ],
          [
           "Sheffield United",
           2006,
           55,
           32,
           38,
           18
          ],
          [
           "Charlton Athletic",
           2006,
           60,
           34,
           34,
           19
          ],
          [
           "Watford",
           2006,
           59,
           29,
           28,
           20
          ],
          [
           "Manchester United",
           2007,
           22,
           80,
           87,
           1
          ],
          [
           "Chelsea",
           2007,
           26,
           65,
           85,
           2
          ],
          [
           "Arsenal",
           2007,
           31,
           74,
           83,
           3
          ],
          [
           "Liverpool",
           2007,
           28,
           67,
           76,
           4
          ],
          [
           "Everton",
           2007,
           33,
           55,
           65,
           5
          ],
          [
           "Aston Villa",
           2007,
           51,
           71,
           60,
           6
          ],
          [
           "Blackburn Rovers",
           2007,
           48,
           50,
           58,
           7
          ],
          [
           "Portsmouth",
           2007,
           40,
           48,
           57,
           8
          ],
          [
           "Manchester City",
           2007,
           53,
           45,
           55,
           9
          ],
          [
           "West Ham United",
           2007,
           50,
           42,
           49,
           10
          ],
          [
           "Tottenham Hotspur",
           2007,
           61,
           66,
           46,
           11
          ],
          [
           "Newcastle United",
           2007,
           65,
           45,
           43,
           12
          ],
          [
           "Middlesbrough",
           2007,
           53,
           43,
           42,
           13
          ],
          [
           "Wigan Athletic",
           2007,
           51,
           34,
           40,
           14
          ],
          [
           "Sunderland",
           2007,
           59,
           36,
           39,
           15
          ],
          [
           "Bolton Wanderers",
           2007,
           54,
           36,
           37,
           16
          ],
          [
           "Fulham",
           2007,
           60,
           38,
           36,
           17
          ],
          [
           "Reading",
           2007,
           66,
           41,
           36,
           18
          ],
          [
           "Birmingham City",
           2007,
           62,
           46,
           35,
           19
          ],
          [
           "Derby County",
           2007,
           89,
           20,
           11,
           20
          ],
          [
           "Manchester United",
           2008,
           24,
           68,
           90,
           1
          ],
          [
           "Liverpool",
           2008,
           27,
           77,
           86,
           2
          ],
          [
           "Chelsea",
           2008,
           24,
           68,
           83,
           3
          ],
          [
           "Arsenal",
           2008,
           37,
           68,
           72,
           4
          ],
          [
           "Everton",
           2008,
           37,
           55,
           63,
           5
          ],
          [
           "Aston Villa",
           2008,
           48,
           54,
           62,
           6
          ],
          [
           "Fulham",
           2008,
           34,
           39,
           53,
           7
          ],
          [
           "Tottenham Hotspur",
           2008,
           45,
           45,
           51,
           8
          ],
          [
           "West Ham United",
           2008,
           45,
           42,
           51,
           9
          ],
          [
           "Manchester City",
           2008,
           50,
           58,
           50,
           10
          ],
          [
           "Wigan Athletic",
           2008,
           45,
           34,
           45,
           11
          ],
          [
           "Stoke City",
           2008,
           55,
           38,
           45,
           12
          ],
          [
           "Bolton Wanderers",
           2008,
           53,
           41,
           41,
           13
          ],
          [
           "Portsmouth",
           2008,
           57,
           38,
           41,
           14
          ],
          [
           "Blackburn Rovers",
           2008,
           60,
           40,
           41,
           15
          ],
          [
           "Sunderland",
           2008,
           54,
           34,
           36,
           16
          ],
          [
           "Hull City",
           2008,
           64,
           39,
           35,
           17
          ],
          [
           "Newcastle United",
           2008,
           59,
           40,
           34,
           18
          ],
          [
           "Middlesbrough",
           2008,
           57,
           28,
           32,
           19
          ],
          [
           "West Bromwich Albion",
           2008,
           67,
           36,
           32,
           20
          ],
          [
           "Chelsea",
           2009,
           32,
           103,
           86,
           1
          ],
          [
           "Manchester United",
           2009,
           28,
           86,
           85,
           2
          ],
          [
           "Arsenal",
           2009,
           41,
           83,
           75,
           3
          ],
          [
           "Tottenham Hotspur",
           2009,
           41,
           67,
           70,
           4
          ],
          [
           "Manchester City",
           2009,
           45,
           73,
           67,
           5
          ],
          [
           "Aston Villa",
           2009,
           39,
           52,
           64,
           6
          ],
          [
           "Liverpool",
           2009,
           35,
           61,
           63,
           7
          ],
          [
           "Everton",
           2009,
           49,
           60,
           61,
           8
          ],
          [
           "Birmingham City",
           2009,
           47,
           38,
           50,
           9
          ],
          [
           "Blackburn Rovers",
           2009,
           55,
           41,
           50,
           10
          ],
          [
           "Stoke City",
           2009,
           48,
           34,
           47,
           11
          ],
          [
           "Fulham",
           2009,
           46,
           39,
           46,
           12
          ],
          [
           "Sunderland",
           2009,
           56,
           48,
           44,
           13
          ],
          [
           "Bolton Wanderers",
           2009,
           67,
           42,
           39,
           14
          ],
          [
           "Wolverhampton Wanderers",
           2009,
           56,
           32,
           38,
           15
          ],
          [
           "Wigan Athletic",
           2009,
           79,
           37,
           36,
           16
          ],
          [
           "West Ham United",
           2009,
           66,
           47,
           35,
           17
          ],
          [
           "Burnley",
           2009,
           82,
           42,
           30,
           18
          ],
          [
           "Hull City",
           2009,
           75,
           34,
           30,
           19
          ],
          [
           "Portsmouth",
           2009,
           66,
           34,
           19,
           20
          ],
          [
           "Manchester United",
           2010,
           37,
           78,
           80,
           1
          ],
          [
           "Chelsea",
           2010,
           33,
           69,
           71,
           2
          ],
          [
           "Manchester City",
           2010,
           33,
           60,
           71,
           3
          ],
          [
           "Arsenal",
           2010,
           43,
           72,
           68,
           4
          ],
          [
           "Tottenham Hotspur",
           2010,
           46,
           55,
           62,
           5
          ],
          [
           "Liverpool",
           2010,
           44,
           59,
           58,
           6
          ],
          [
           "Everton",
           2010,
           45,
           51,
           54,
           7
          ],
          [
           "Fulham",
           2010,
           43,
           49,
           49,
           8
          ],
          [
           "Aston Villa",
           2010,
           59,
           48,
           48,
           9
          ],
          [
           "Sunderland",
           2010,
           56,
           45,
           47,
           10
          ],
          [
           "West Bromwich Albion",
           2010,
           71,
           56,
           47,
           11
          ],
          [
           "Newcastle United",
           2010,
           57,
           56,
           46,
           12
          ],
          [
           "Stoke City",
           2010,
           48,
           46,
           46,
           13
          ],
          [
           "Bolton Wanderers",
           2010,
           56,
           52,
           46,
           14
          ],
          [
           "Blackburn Rovers",
           2010,
           59,
           46,
           43,
           15
          ],
          [
           "Wigan Athletic",
           2010,
           61,
           40,
           42,
           16
          ],
          [
           "Wolverhampton Wanderers",
           2010,
           66,
           46,
           40,
           17
          ],
          [
           "Birmingham City",
           2010,
           58,
           37,
           39,
           18
          ],
          [
           "Blackpool",
           2010,
           78,
           55,
           39,
           19
          ],
          [
           "West Ham United",
           2010,
           70,
           43,
           33,
           20
          ],
          [
           "Manchester City",
           2011,
           29,
           93,
           89,
           1
          ],
          [
           "Manchester United",
           2011,
           33,
           89,
           89,
           2
          ],
          [
           "Arsenal",
           2011,
           49,
           74,
           70,
           3
          ],
          [
           "Tottenham Hotspur",
           2011,
           41,
           66,
           69,
           4
          ],
          [
           "Newcastle United",
           2011,
           51,
           56,
           65,
           5
          ],
          [
           "Chelsea",
           2011,
           46,
           65,
           64,
           6
          ],
          [
           "Everton",
           2011,
           40,
           50,
           56,
           7
          ],
          [
           "Liverpool",
           2011,
           40,
           47,
           52,
           8
          ],
          [
           "Fulham",
           2011,
           51,
           48,
           52,
           9
          ],
          [
           "West Bromwich Albion",
           2011,
           52,
           45,
           47,
           10
          ],
          [
           "Swansea City",
           2011,
           51,
           44,
           47,
           11
          ],
          [
           "Norwich City",
           2011,
           66,
           52,
           47,
           12
          ],
          [
           "Sunderland",
           2011,
           46,
           45,
           45,
           13
          ],
          [
           "Stoke City",
           2011,
           53,
           36,
           45,
           14
          ],
          [
           "Wigan Athletic",
           2011,
           62,
           42,
           43,
           15
          ],
          [
           "Aston Villa",
           2011,
           53,
           37,
           38,
           16
          ],
          [
           "Queens Park Rangers",
           2011,
           66,
           43,
           37,
           17
          ],
          [
           "Bolton Wanderers",
           2011,
           77,
           46,
           36,
           18
          ],
          [
           "Blackburn Rovers",
           2011,
           78,
           48,
           31,
           19
          ],
          [
           "Wolverhampton Wanderers",
           2011,
           82,
           40,
           25,
           20
          ],
          [
           "Manchester United",
           2012,
           43,
           86,
           89,
           1
          ],
          [
           "Manchester City",
           2012,
           34,
           66,
           78,
           2
          ],
          [
           "Chelsea",
           2012,
           39,
           75,
           75,
           3
          ],
          [
           "Arsenal",
           2012,
           37,
           72,
           73,
           4
          ],
          [
           "Tottenham Hotspur",
           2012,
           46,
           66,
           72,
           5
          ],
          [
           "Everton",
           2012,
           40,
           55,
           63,
           6
          ],
          [
           "Liverpool",
           2012,
           43,
           71,
           61,
           7
          ],
          [
           "West Bromwich Albion",
           2012,
           57,
           53,
           49,
           8
          ],
          [
           "Swansea City",
           2012,
           51,
           47,
           46,
           9
          ],
          [
           "West Ham United",
           2012,
           53,
           45,
           46,
           10
          ],
          [
           "Norwich City",
           2012,
           58,
           41,
           44,
           11
          ],
          [
           "Fulham",
           2012,
           60,
           50,
           43,
           12
          ],
          [
           "Stoke City",
           2012,
           45,
           34,
           42,
           13
          ],
          [
           "Southampton",
           2012,
           60,
           49,
           41,
           14
          ],
          [
           "Aston Villa",
           2012,
           69,
           47,
           41,
           15
          ],
          [
           "Newcastle United",
           2012,
           68,
           45,
           41,
           16
          ],
          [
           "Sunderland",
           2012,
           54,
           41,
           39,
           17
          ],
          [
           "Wigan Athletic",
           2012,
           73,
           47,
           36,
           18
          ],
          [
           "Reading",
           2012,
           73,
           43,
           28,
           19
          ],
          [
           "Queens Park Rangers",
           2012,
           60,
           30,
           25,
           20
          ],
          [
           "Manchester City",
           2013,
           37,
           102,
           86,
           1
          ],
          [
           "Liverpool",
           2013,
           50,
           101,
           84,
           2
          ],
          [
           "Chelsea",
           2013,
           27,
           71,
           82,
           3
          ],
          [
           "Arsenal",
           2013,
           41,
           68,
           79,
           4
          ],
          [
           "Everton",
           2013,
           39,
           61,
           72,
           5
          ],
          [
           "Tottenham Hotspur",
           2013,
           51,
           55,
           69,
           6
          ],
          [
           "Manchester United",
           2013,
           43,
           64,
           64,
           7
          ],
          [
           "Southampton",
           2013,
           46,
           54,
           56,
           8
          ],
          [
           "Stoke City",
           2013,
           52,
           45,
           50,
           9
          ],
          [
           "Newcastle United",
           2013,
           59,
           43,
           49,
           10
          ],
          [
           "Crystal Palace",
           2013,
           48,
           33,
           45,
           11
          ],
          [
           "Swansea City",
           2013,
           54,
           54,
           42,
           12
          ],
          [
           "West Ham United",
           2013,
           51,
           40,
           40,
           13
          ],
          [
           "Sunderland",
           2013,
           60,
           41,
           38,
           14
          ],
          [
           "Aston Villa",
           2013,
           61,
           39,
           38,
           15
          ],
          [
           "Hull City",
           2013,
           53,
           38,
           37,
           16
          ],
          [
           "West Bromwich Albion",
           2013,
           59,
           43,
           36,
           17
          ],
          [
           "Norwich City",
           2013,
           62,
           28,
           33,
           18
          ],
          [
           "Fulham",
           2013,
           85,
           40,
           32,
           19
          ],
          [
           "Cardiff City",
           2013,
           74,
           32,
           30,
           20
          ],
          [
           "Chelsea",
           2014,
           32,
           73,
           87,
           1
          ],
          [
           "Manchester City",
           2014,
           38,
           83,
           79,
           2
          ],
          [
           "Arsenal",
           2014,
           36,
           71,
           75,
           3
          ],
          [
           "Manchester United",
           2014,
           37,
           62,
           70,
           4
          ],
          [
           "Tottenham Hotspur",
           2014,
           53,
           58,
           64,
           5
          ],
          [
           "Liverpool",
           2014,
           48,
           52,
           62,
           6
          ],
          [
           "Southampton",
           2014,
           33,
           54,
           60,
           7
          ],
          [
           "Swansea City",
           2014,
           49,
           46,
           56,
           8
          ],
          [
           "Stoke City",
           2014,
           45,
           48,
           54,
           9
          ],
          [
           "Crystal Palace",
           2014,
           51,
           47,
           48,
           10
          ],
          [
           "Everton",
           2014,
           50,
           48,
           47,
           11
          ],
          [
           "West Ham United",
           2014,
           47,
           44,
           47,
           12
          ],
          [
           "West Bromwich Albion",
           2014,
           51,
           38,
           44,
           13
          ],
          [
           "Leicester City",
           2014,
           55,
           46,
           41,
           14
          ],
          [
           "Newcastle United",
           2014,
           63,
           40,
           39,
           15
          ],
          [
           "Sunderland",
           2014,
           53,
           31,
           38,
           16
          ],
          [
           "Aston Villa",
           2014,
           57,
           31,
           38,
           17
          ],
          [
           "Hull City",
           2014,
           51,
           33,
           35,
           18
          ],
          [
           "Burnley",
           2014,
           53,
           28,
           33,
           19
          ],
          [
           "Queens Park Rangers",
           2014,
           73,
           42,
           30,
           20
          ],
          [
           "Leicester City",
           2015,
           36,
           68,
           81,
           1
          ],
          [
           "Arsenal",
           2015,
           36,
           65,
           71,
           2
          ],
          [
           "Tottenham Hotspur",
           2015,
           35,
           69,
           70,
           3
          ],
          [
           "Manchester City",
           2015,
           41,
           71,
           66,
           4
          ],
          [
           "Manchester United",
           2015,
           35,
           49,
           66,
           5
          ],
          [
           "Southampton",
           2015,
           41,
           59,
           63,
           6
          ],
          [
           "West Ham United",
           2015,
           51,
           65,
           62,
           7
          ],
          [
           "Liverpool",
           2015,
           50,
           63,
           60,
           8
          ],
          [
           "Stoke City",
           2015,
           55,
           41,
           51,
           9
          ],
          [
           "Chelsea",
           2015,
           53,
           59,
           50,
           10
          ],
          [
           "Everton",
           2015,
           55,
           59,
           47,
           11
          ],
          [
           "Swansea City",
           2015,
           52,
           42,
           47,
           12
          ],
          [
           "Watford",
           2015,
           50,
           40,
           45,
           13
          ],
          [
           "West Bromwich Albion",
           2015,
           48,
           34,
           43,
           14
          ],
          [
           "Crystal Palace",
           2015,
           51,
           39,
           42,
           15
          ],
          [
           "Bournemouth",
           2015,
           67,
           45,
           42,
           16
          ],
          [
           "Sunderland",
           2015,
           62,
           48,
           39,
           17
          ],
          [
           "Newcastle United",
           2015,
           65,
           44,
           37,
           18
          ],
          [
           "Norwich City",
           2015,
           67,
           39,
           34,
           19
          ],
          [
           "Aston Villa",
           2015,
           76,
           27,
           17,
           20
          ],
          [
           "Chelsea",
           2016,
           33,
           85,
           93,
           1
          ],
          [
           "Tottenham Hotspur",
           2016,
           26,
           86,
           86,
           2
          ],
          [
           "Manchester City",
           2016,
           39,
           80,
           78,
           3
          ],
          [
           "Liverpool",
           2016,
           42,
           78,
           76,
           4
          ],
          [
           "Arsenal",
           2016,
           44,
           77,
           75,
           5
          ],
          [
           "Manchester United",
           2016,
           29,
           54,
           69,
           6
          ],
          [
           "Everton",
           2016,
           44,
           62,
           61,
           7
          ],
          [
           "Southampton",
           2016,
           48,
           41,
           46,
           8
          ],
          [
           "Bournemouth",
           2016,
           67,
           55,
           46,
           9
          ],
          [
           "West Bromwich Albion",
           2016,
           51,
           43,
           45,
           10
          ],
          [
           "West Ham United",
           2016,
           64,
           47,
           45,
           11
          ],
          [
           "Leicester City",
           2016,
           63,
           48,
           44,
           12
          ],
          [
           "Stoke City",
           2016,
           56,
           41,
           44,
           13
          ],
          [
           "Crystal Palace",
           2016,
           63,
           50,
           41,
           14
          ],
          [
           "Swansea City",
           2016,
           70,
           45,
           41,
           15
          ],
          [
           "Burnley",
           2016,
           55,
           39,
           40,
           16
          ],
          [
           "Watford",
           2016,
           68,
           40,
           40,
           17
          ],
          [
           "Hull City",
           2016,
           80,
           37,
           34,
           18
          ],
          [
           "Middlesbrough",
           2016,
           53,
           27,
           28,
           19
          ],
          [
           "Sunderland",
           2016,
           69,
           29,
           24,
           20
          ],
          [
           "Manchester City",
           2017,
           27,
           106,
           100,
           1
          ],
          [
           "Manchester United",
           2017,
           28,
           68,
           81,
           2
          ],
          [
           "Tottenham Hotspur",
           2017,
           36,
           74,
           77,
           3
          ],
          [
           "Liverpool",
           2017,
           38,
           84,
           75,
           4
          ],
          [
           "Chelsea",
           2017,
           38,
           62,
           70,
           5
          ],
          [
           "Arsenal",
           2017,
           51,
           74,
           63,
           6
          ],
          [
           "Burnley",
           2017,
           39,
           36,
           54,
           7
          ],
          [
           "Everton",
           2017,
           58,
           44,
           49,
           8
          ],
          [
           "Leicester City",
           2017,
           60,
           56,
           47,
           9
          ],
          [
           "Newcastle United",
           2017,
           47,
           39,
           44,
           10
          ],
          [
           "Crystal Palace",
           2017,
           55,
           45,
           44,
           11
          ],
          [
           "Bournemouth",
           2017,
           61,
           45,
           44,
           12
          ],
          [
           "West Ham United",
           2017,
           68,
           48,
           42,
           13
          ],
          [
           "Watford",
           2017,
           64,
           44,
           41,
           14
          ],
          [
           "Brighton & Hove Albion",
           2017,
           54,
           34,
           40,
           15
          ],
          [
           "Huddersfield Town",
           2017,
           58,
           28,
           37,
           16
          ],
          [
           "Southampton",
           2017,
           56,
           37,
           36,
           17
          ],
          [
           "Swansea City",
           2017,
           56,
           28,
           33,
           18
          ],
          [
           "Stoke City",
           2017,
           68,
           35,
           33,
           19
          ],
          [
           "West Bromwich Albion",
           2017,
           56,
           31,
           31,
           20
          ],
          [
           "Manchester City",
           2018,
           23,
           95,
           98,
           1
          ],
          [
           "Liverpool",
           2018,
           22,
           89,
           97,
           2
          ],
          [
           "Chelsea",
           2018,
           39,
           63,
           72,
           3
          ],
          [
           "Tottenham Hotspur",
           2018,
           39,
           67,
           71,
           4
          ],
          [
           "Arsenal",
           2018,
           51,
           73,
           70,
           5
          ],
          [
           "Manchester United",
           2018,
           54,
           65,
           66,
           6
          ],
          [
           "Wolverhampton Wanderers",
           2018,
           46,
           47,
           57,
           7
          ],
          [
           "Everton",
           2018,
           46,
           54,
           54,
           8
          ],
          [
           "Leicester City",
           2018,
           48,
           51,
           52,
           9
          ],
          [
           "West Ham United",
           2018,
           55,
           52,
           52,
           10
          ],
          [
           "Watford",
           2018,
           59,
           52,
           50,
           11
          ],
          [
           "Crystal Palace",
           2018,
           53,
           51,
           49,
           12
          ],
          [
           "Newcastle United",
           2018,
           48,
           42,
           45,
           13
          ],
          [
           "Bournemouth",
           2018,
           70,
           56,
           45,
           14
          ],
          [
           "Burnley",
           2018,
           68,
           45,
           40,
           15
          ],
          [
           "Southampton",
           2018,
           65,
           45,
           39,
           16
          ],
          [
           "Brighton & Hove Albion",
           2018,
           60,
           35,
           36,
           17
          ],
          [
           "Cardiff City",
           2018,
           69,
           34,
           34,
           18
          ],
          [
           "Fulham",
           2018,
           81,
           34,
           26,
           19
          ],
          [
           "Huddersfield Town",
           2018,
           76,
           22,
           16,
           20
          ],
          [
           "Liverpool",
           2019,
           33,
           85,
           99,
           1
          ],
          [
           "Manchester City",
           2019,
           35,
           102,
           81,
           2
          ],
          [
           "Manchester United",
           2019,
           36,
           66,
           66,
           3
          ],
          [
           "Chelsea",
           2019,
           54,
           69,
           66,
           4
          ],
          [
           "Leicester City",
           2019,
           41,
           67,
           62,
           5
          ],
          [
           "Tottenham Hotspur",
           2019,
           47,
           61,
           59,
           6
          ],
          [
           "Wolverhampton Wanderers",
           2019,
           40,
           51,
           59,
           7
          ],
          [
           "Arsenal",
           2019,
           48,
           56,
           56,
           8
          ],
          [
           "Sheffield United",
           2019,
           39,
           39,
           54,
           9
          ],
          [
           "Burnley",
           2019,
           50,
           43,
           54,
           10
          ],
          [
           "Southampton",
           2019,
           60,
           51,
           52,
           11
          ],
          [
           "Everton",
           2019,
           56,
           44,
           49,
           12
          ],
          [
           "Newcastle United",
           2019,
           58,
           38,
           44,
           13
          ],
          [
           "Crystal Palace",
           2019,
           50,
           31,
           43,
           14
          ],
          [
           "Brighton & Hove Albion",
           2019,
           54,
           39,
           41,
           15
          ],
          [
           "West Ham United",
           2019,
           62,
           49,
           39,
           16
          ],
          [
           "Aston Villa",
           2019,
           67,
           41,
           35,
           17
          ],
          [
           "Bournemouth",
           2019,
           65,
           40,
           34,
           18
          ],
          [
           "Watford",
           2019,
           64,
           36,
           34,
           19
          ],
          [
           "Norwich City",
           2019,
           75,
           26,
           21,
           20
          ],
          [
           "Manchester City",
           2020,
           32,
           83,
           86,
           1
          ],
          [
           "Manchester United",
           2020,
           44,
           73,
           74,
           2
          ],
          [
           "Liverpool",
           2020,
           42,
           68,
           69,
           3
          ],
          [
           "Chelsea",
           2020,
           36,
           58,
           67,
           4
          ],
          [
           "Leicester City",
           2020,
           50,
           68,
           66,
           5
          ],
          [
           "West Ham United",
           2020,
           47,
           62,
           65,
           6
          ],
          [
           "Tottenham Hotspur",
           2020,
           45,
           68,
           62,
           7
          ],
          [
           "Arsenal",
           2020,
           39,
           55,
           61,
           8
          ],
          [
           "Leeds United",
           2020,
           54,
           62,
           59,
           9
          ],
          [
           "Everton",
           2020,
           48,
           47,
           59,
           10
          ],
          [
           "Aston Villa",
           2020,
           46,
           55,
           55,
           11
          ],
          [
           "Newcastle United",
           2020,
           62,
           46,
           45,
           12
          ],
          [
           "Wolverhampton Wanderers",
           2020,
           52,
           36,
           45,
           13
          ],
          [
           "Crystal Palace",
           2020,
           66,
           41,
           44,
           14
          ],
          [
           "Southampton",
           2020,
           68,
           47,
           43,
           15
          ],
          [
           "Brighton & Hove Albion",
           2020,
           46,
           40,
           41,
           16
          ],
          [
           "Burnley",
           2020,
           55,
           33,
           39,
           17
          ],
          [
           "Fulham",
           2020,
           53,
           27,
           28,
           18
          ],
          [
           "West Bromwich Albion",
           2020,
           76,
           35,
           26,
           19
          ],
          [
           "Sheffield United",
           2020,
           63,
           20,
           23,
           20
          ],
          [
           "Manchester City",
           2021,
           26,
           99,
           93,
           1
          ],
          [
           "Liverpool",
           2021,
           26,
           94,
           92,
           2
          ],
          [
           "Chelsea",
           2021,
           33,
           76,
           74,
           3
          ],
          [
           "Tottenham Hotspur",
           2021,
           40,
           69,
           71,
           4
          ],
          [
           "Arsenal",
           2021,
           48,
           61,
           69,
           5
          ],
          [
           "Manchester United",
           2021,
           57,
           57,
           58,
           6
          ],
          [
           "West Ham United",
           2021,
           51,
           60,
           56,
           7
          ],
          [
           "Leicester City",
           2021,
           59,
           62,
           52,
           8
          ],
          [
           "Brighton & Hove Albion",
           2021,
           44,
           42,
           51,
           9
          ],
          [
           "Wolverhampton Wanderers",
           2021,
           43,
           38,
           51,
           10
          ],
          [
           "Newcastle United",
           2021,
           62,
           44,
           49,
           11
          ],
          [
           "Crystal Palace",
           2021,
           46,
           50,
           48,
           12
          ],
          [
           "Brentford",
           2021,
           56,
           48,
           46,
           13
          ],
          [
           "Aston Villa",
           2021,
           54,
           52,
           45,
           14
          ],
          [
           "Southampton",
           2021,
           67,
           43,
           40,
           15
          ],
          [
           "Everton",
           2021,
           66,
           43,
           39,
           16
          ],
          [
           "Leeds United",
           2021,
           79,
           42,
           38,
           17
          ],
          [
           "Burnley",
           2021,
           53,
           34,
           35,
           18
          ],
          [
           "Watford",
           2021,
           77,
           34,
           23,
           19
          ],
          [
           "Norwich City",
           2021,
           84,
           23,
           22,
           20
          ]
         ],
         "dimensions": [
          {
           "axis": {
            "matches": true
           },
           "label": "Pos",
           "values": [
            1,
            2,
            3,
            4,
            5,
            6,
            7,
            8,
            9,
            10,
            11,
            12,
            13,
            14,
            15,
            16,
            17,
            18,
            19,
            20,
            1,
            2,
            3,
            4,
            5,
            6,
            7,
            8,
            9,
            10,
            11,
            12,
            13,
            14,
            15,
            16,
            17,
            18,
            19,
            20,
            1,
            2,
            3,
            4,
            5,
            6,
            7,
            8,
            9,
            10,
            11,
            12,
            13,
            14,
            15,
            16,
            17,
            18,
            19,
            20,
            1,
            2,
            3,
            4,
            5,
            6,
            7,
            8,
            9,
            10,
            11,
            12,
            13,
            14,
            15,
            16,
            17,
            18,
            19,
            20,
            1,
            2,
            3,
            4,
            5,
            6,
            7,
            8,
            9,
            10,
            11,
            12,
            13,
            14,
            15,
            16,
            17,
            18,
            19,
            20,
            1,
            2,
            3,
            4,
            5,
            6,
            7,
            8,
            9,
            10,
            11,
            12,
            13,
            14,
            15,
            16,
            17,
            18,
            19,
            20,
            1,
            2,
            3,
            4,
            5,
            6,
            7,
            8,
            9,
            10,
            11,
            12,
            13,
            14,
            15,
            16,
            17,
            18,
            19,
            20,
            1,
            2,
            3,
            4,
            5,
            6,
            7,
            8,
            9,
            10,
            11,
            12,
            13,
            14,
            15,
            16,
            17,
            18,
            19,
            20,
            1,
            2,
            3,
            4,
            5,
            6,
            7,
            8,
            9,
            10,
            11,
            12,
            13,
            14,
            15,
            16,
            17,
            18,
            19,
            20,
            1,
            2,
            3,
            4,
            5,
            6,
            7,
            8,
            9,
            10,
            11,
            12,
            13,
            14,
            15,
            16,
            17,
            18,
            19,
            20,
            1,
            2,
            3,
            4,
            5,
            6,
            7,
            8,
            9,
            10,
            11,
            12,
            13,
            14,
            15,
            16,
            17,
            18,
            19,
            20,
            1,
            2,
            3,
            4,
            5,
            6,
            7,
            8,
            9,
            10,
            11,
            12,
            13,
            14,
            15,
            16,
            17,
            18,
            19,
            20,
            1,
            2,
            3,
            4,
            5,
            6,
            7,
            8,
            9,
            10,
            11,
            12,
            13,
            14,
            15,
            16,
            17,
            18,
            19,
            20,
            1,
            2,
            3,
            4,
            5,
            6,
            7,
            8,
            9,
            10,
            11,
            12,
            13,
            14,
            15,
            16,
            17,
            18,
            19,
            20,
            1,
            2,
            3,
            4,
            5,
            6,
            7,
            8,
            9,
            10,
            11,
            12,
            13,
            14,
            15,
            16,
            17,
            18,
            19,
            20,
            1,
            2,
            3,
            4,
            5,
            6,
            7,
            8,
            9,
            10,
            11,
            12,
            13,
            14,
            15,
            16,
            17,
            18,
            19,
            20,
            1,
            2,
            3,
            4,
            5,
            6,
            7,
            8,
            9,
            10,
            11,
            12,
            13,
            14,
            15,
            16,
            17,
            18,
            19,
            20,
            1,
            2,
            3,
            4,
            5,
            6,
            7,
            8,
            9,
            10,
            11,
            12,
            13,
            14,
            15,
            16,
            17,
            18,
            19,
            20,
            1,
            2,
            3,
            4,
            5,
            6,
            7,
            8,
            9,
            10,
            11,
            12,
            13,
            14,
            15,
            16,
            17,
            18,
            19,
            20,
            1,
            2,
            3,
            4,
            5,
            6,
            7,
            8,
            9,
            10,
            11,
            12,
            13,
            14,
            15,
            16,
            17,
            18,
            19,
            20,
            1,
            2,
            3,
            4,
            5,
            6,
            7,
            8,
            9,
            10,
            11,
            12,
            13,
            14,
            15,
            16,
            17,
            18,
            19,
            20,
            1,
            2,
            3,
            4,
            5,
            6,
            7,
            8,
            9,
            10,
            11,
            12,
            13,
            14,
            15,
            16,
            17,
            18,
            19,
            20
           ]
          },
          {
           "axis": {
            "matches": true
           },
           "label": "GD",
           "values": [
            48,
            25,
            32,
            21,
            15,
            23,
            5,
            3,
            -7,
            -8,
            -6,
            -7,
            -12,
            0,
            -5,
            -14,
            -22,
            -24,
            -27,
            -40,
            43,
            37,
            42,
            22,
            16,
            28,
            -9,
            -1,
            -4,
            4,
            -8,
            -12,
            -8,
            -11,
            -12,
            -18,
            -22,
            -23,
            -30,
            -34,
            40,
            43,
            15,
            30,
            20,
            9,
            -1,
            -3,
            -7,
            -11,
            4,
            -11,
            -8,
            -9,
            1,
            -5,
            -10,
            -17,
            -36,
            -44,
            47,
            37,
            29,
            18,
            12,
            4,
            0,
            -8,
            6,
            -5,
            -8,
            -1,
            -7,
            -10,
            -8,
            1,
            -12,
            -17,
            -39,
            -39,
            57,
            51,
            32,
            -1,
            11,
            5,
            7,
            8,
            6,
            -7,
            -16,
            -6,
            -8,
            -10,
            -11,
            -16,
            -25,
            -21,
            -35,
            -21,
            50,
            38,
            32,
            37,
            15,
            9,
            5,
            8,
            -3,
            -7,
            -15,
            -10,
            -14,
            -10,
            -5,
            -13,
            -25,
            -22,
            -27,
            -43,
            56,
            40,
            30,
            28,
            3,
            16,
            -5,
            5,
            3,
            -2,
            2,
            -5,
            -9,
            -15,
            -24,
            -22,
            -22,
            -23,
            -26,
            -30,
            58,
            39,
            43,
            39,
            22,
            20,
            2,
            8,
            -8,
            -8,
            5,
            -20,
            -10,
            -17,
            -23,
            -18,
            -22,
            -25,
            -16,
            -69,
            44,
            50,
            44,
            31,
            18,
            6,
            5,
            0,
            -3,
            8,
            -11,
            -17,
            -12,
            -19,
            -20,
            -20,
            -25,
            -19,
            -29,
            -31,
            71,
            58,
            42,
            26,
            28,
            13,
            26,
            11,
            -9,
            -14,
            -14,
            -7,
            -8,
            -25,
            -24,
            -42,
            -19,
            -40,
            -41,
            -32,
            41,
            36,
            27,
            29,
            9,
            15,
            6,
            6,
            -11,
            -11,
            -15,
            -1,
            -2,
            -4,
            -13,
            -21,
            -20,
            -21,
            -23,
            -27,
            64,
            56,
            25,
            25,
            5,
            19,
            10,
            7,
            -3,
            -7,
            -7,
            -14,
            -1,
            -17,
            -20,
            -16,
            -23,
            -31,
            -30,
            -42,
            43,
            32,
            36,
            35,
            20,
            15,
            28,
            -4,
            -4,
            -8,
            -17,
            -10,
            -11,
            -11,
            -22,
            -23,
            -13,
            -26,
            -30,
            -30,
            65,
            51,
            44,
            27,
            22,
            4,
            21,
            8,
            -7,
            -16,
            -15,
            0,
            -11,
            -19,
            -22,
            -15,
            -16,
            -34,
            -45,
            -42,
            41,
            45,
            35,
            25,
            5,
            4,
            21,
            -3,
            3,
            -4,
            -2,
            -3,
            -13,
            -9,
            -23,
            -22,
            -26,
            -18,
            -25,
            -31,
            32,
            29,
            34,
            30,
            14,
            18,
            14,
            13,
            -14,
            6,
            4,
            -10,
            -10,
            -14,
            -12,
            -22,
            -14,
            -21,
            -28,
            -49,
            52,
            60,
            41,
            36,
            33,
            25,
            18,
            -7,
            -12,
            -8,
            -17,
            -15,
            -15,
            -13,
            -25,
            -16,
            -28,
            -43,
            -26,
            -40,
            79,
            40,
            38,
            46,
            24,
            23,
            -3,
            -14,
            -4,
            -8,
            -10,
            -16,
            -20,
            -20,
            -20,
            -30,
            -19,
            -28,
            -33,
            -25,
            72,
            67,
            24,
            28,
            22,
            11,
            1,
            8,
            3,
            -3,
            -7,
            -2,
            -6,
            -14,
            -23,
            -20,
            -25,
            -35,
            -47,
            -54,
            52,
            67,
            30,
            15,
            26,
            14,
            11,
            8,
            0,
            -7,
            -9,
            -12,
            -20,
            -19,
            -15,
            -13,
            -26,
            -25,
            -28,
            -49,
            51,
            29,
            26,
            22,
            18,
            15,
            23,
            16,
            8,
            -1,
            9,
            -16,
            -16,
            -25,
            -21,
            -6,
            -22,
            -26,
            -41,
            -43,
            73,
            68,
            43,
            29,
            13,
            0,
            9,
            3,
            -2,
            -5,
            -18,
            4,
            -8,
            -2,
            -24,
            -23,
            -37,
            -19,
            -43,
            -61
           ]
          },
          {
           "axis": {
            "matches": true
           },
           "label": "GA",
           "values": [
            31,
            38,
            39,
            43,
            42,
            45,
            41,
            43,
            57,
            48,
            50,
            54,
            51,
            44,
            50,
            59,
            59,
            65,
            63,
            70,
            36,
            30,
            45,
            52,
            37,
            38,
            57,
            47,
            53,
            51,
            54,
            47,
            44,
            49,
            57,
            62,
            51,
            64,
            63,
            64,
            34,
            42,
            48,
            38,
            41,
            43,
            49,
            46,
            54,
            62,
            44,
            56,
            49,
            50,
            57,
            47,
            51,
            59,
            65,
            65,
            26,
            30,
            35,
            37,
            40,
            44,
            51,
            56,
            46,
            48,
            52,
            45,
            54,
            57,
            59,
            54,
            57,
            65,
            79,
            77,
            15,
            36,
            26,
            46,
            41,
            44,
            46,
            39,
            41,
            52,
            58,
            46,
            60,
            57,
            43,
            59,
            61,
            62,
            77,
            66,
            22,
            34,
            25,
            31,
            38,
            42,
            42,
            41,
            55,
            52,
            49,
            58,
            55,
            58,
            48,
            55,
            62,
            50,
            58,
            69,
            27,
            24,
            27,
            35,
            54,
            36,
            52,
            47,
            42,
            54,
            41,
            49,
            47,
            44,
            59,
            60,
            59,
            55,
            60,
            59,
            22,
            26,
            31,
            28,
            33,
            51,
            48,
            40,
            53,
            50,
            61,
            65,
            53,
            51,
            59,
            54,
            60,
            66,
            62,
            89,
            24,
            27,
            24,
            37,
            37,
            48,
            34,
            45,
            45,
            50,
            45,
            55,
            53,
            57,
            60,
            54,
            64,
            59,
            57,
            67,
            32,
            28,
            41,
            41,
            45,
            39,
            35,
            49,
            47,
            55,
            48,
            46,
            56,
            67,
            56,
            79,
            66,
            82,
            75,
            66,
            37,
            33,
            33,
            43,
            46,
            44,
            45,
            43,
            59,
            56,
            71,
            57,
            48,
            56,
            59,
            61,
            66,
            58,
            78,
            70,
            29,
            33,
            49,
            41,
            51,
            46,
            40,
            40,
            51,
            52,
            51,
            66,
            46,
            53,
            62,
            53,
            66,
            77,
            78,
            82,
            43,
            34,
            39,
            37,
            46,
            40,
            43,
            57,
            51,
            53,
            58,
            60,
            45,
            60,
            69,
            68,
            54,
            73,
            73,
            60,
            37,
            50,
            27,
            41,
            39,
            51,
            43,
            46,
            52,
            59,
            48,
            54,
            51,
            60,
            61,
            53,
            59,
            62,
            85,
            74,
            32,
            38,
            36,
            37,
            53,
            48,
            33,
            49,
            45,
            51,
            50,
            47,
            51,
            55,
            63,
            53,
            57,
            51,
            53,
            73,
            36,
            36,
            35,
            41,
            35,
            41,
            51,
            50,
            55,
            53,
            55,
            52,
            50,
            48,
            51,
            67,
            62,
            65,
            67,
            76,
            33,
            26,
            39,
            42,
            44,
            29,
            44,
            48,
            67,
            51,
            64,
            63,
            56,
            63,
            70,
            55,
            68,
            80,
            53,
            69,
            27,
            28,
            36,
            38,
            38,
            51,
            39,
            58,
            60,
            47,
            55,
            61,
            68,
            64,
            54,
            58,
            56,
            56,
            68,
            56,
            23,
            22,
            39,
            39,
            51,
            54,
            46,
            46,
            48,
            55,
            59,
            53,
            48,
            70,
            68,
            65,
            60,
            69,
            81,
            76,
            33,
            35,
            36,
            54,
            41,
            47,
            40,
            48,
            39,
            50,
            60,
            56,
            58,
            50,
            54,
            62,
            67,
            65,
            64,
            75,
            32,
            44,
            42,
            36,
            50,
            47,
            45,
            39,
            54,
            48,
            46,
            62,
            52,
            66,
            68,
            46,
            55,
            53,
            76,
            63,
            26,
            26,
            33,
            40,
            48,
            57,
            51,
            59,
            44,
            43,
            62,
            46,
            56,
            54,
            67,
            66,
            79,
            53,
            77,
            84
           ]
          },
          {
           "axis": {
            "matches": true
           },
           "label": "GF",
           "values": [
            79,
            63,
            71,
            64,
            57,
            68,
            46,
            46,
            50,
            40,
            44,
            47,
            39,
            44,
            45,
            45,
            37,
            41,
            36,
            30,
            79,
            67,
            87,
            74,
            53,
            66,
            48,
            46,
            49,
            55,
            46,
            35,
            36,
            38,
            45,
            44,
            29,
            41,
            33,
            30,
            74,
            85,
            63,
            68,
            61,
            52,
            48,
            43,
            47,
            51,
            48,
            45,
            41,
            41,
            58,
            42,
            41,
            42,
            29,
            21,
            73,
            67,
            64,
            55,
            52,
            48,
            51,
            48,
            52,
            43,
            44,
            44,
            47,
            47,
            51,
            55,
            45,
            48,
            40,
            38,
            72,
            87,
            58,
            45,
            52,
            49,
            53,
            47,
            47,
            45,
            42,
            40,
            52,
            47,
            32,
            43,
            36,
            41,
            42,
            45,
            72,
            72,
            57,
            68,
            53,
            51,
            47,
            49,
            52,
            45,
            34,
            48,
            41,
            48,
            43,
            42,
            37,
            28,
            31,
            26,
            83,
            64,
            57,
            63,
            57,
            52,
            47,
            52,
            45,
            52,
            43,
            44,
            38,
            29,
            35,
            38,
            37,
            32,
            34,
            29,
            80,
            65,
            74,
            67,
            55,
            71,
            50,
            48,
            45,
            42,
            66,
            45,
            43,
            34,
            36,
            36,
            38,
            41,
            46,
            20,
            68,
            77,
            68,
            68,
            55,
            54,
            39,
            45,
            42,
            58,
            34,
            38,
            41,
            38,
            40,
            34,
            39,
            40,
            28,
            36,
            103,
            86,
            83,
            67,
            73,
            52,
            61,
            60,
            38,
            41,
            34,
            39,
            48,
            42,
            32,
            37,
            47,
            42,
            34,
            34,
            78,
            69,
            60,
            72,
            55,
            59,
            51,
            49,
            48,
            45,
            56,
            56,
            46,
            52,
            46,
            40,
            46,
            37,
            55,
            43,
            93,
            89,
            74,
            66,
            56,
            65,
            50,
            47,
            48,
            45,
            44,
            52,
            45,
            36,
            42,
            37,
            43,
            46,
            48,
            40,
            86,
            66,
            75,
            72,
            66,
            55,
            71,
            53,
            47,
            45,
            41,
            50,
            34,
            49,
            47,
            45,
            41,
            47,
            43,
            30,
            102,
            101,
            71,
            68,
            61,
            55,
            64,
            54,
            45,
            43,
            33,
            54,
            40,
            41,
            39,
            38,
            43,
            28,
            40,
            32,
            73,
            83,
            71,
            62,
            58,
            52,
            54,
            46,
            48,
            47,
            48,
            44,
            38,
            46,
            40,
            31,
            31,
            33,
            28,
            42,
            68,
            65,
            69,
            71,
            49,
            59,
            65,
            63,
            41,
            59,
            59,
            42,
            40,
            34,
            39,
            45,
            48,
            44,
            39,
            27,
            85,
            86,
            80,
            78,
            77,
            54,
            62,
            41,
            55,
            43,
            47,
            48,
            41,
            50,
            45,
            39,
            40,
            37,
            27,
            29,
            106,
            68,
            74,
            84,
            62,
            74,
            36,
            44,
            56,
            39,
            45,
            45,
            48,
            44,
            34,
            28,
            37,
            28,
            35,
            31,
            95,
            89,
            63,
            67,
            73,
            65,
            47,
            54,
            51,
            52,
            52,
            51,
            42,
            56,
            45,
            45,
            35,
            34,
            34,
            22,
            85,
            102,
            66,
            69,
            67,
            61,
            51,
            56,
            39,
            43,
            51,
            44,
            38,
            31,
            39,
            49,
            41,
            40,
            36,
            26,
            83,
            73,
            68,
            58,
            68,
            62,
            68,
            55,
            62,
            47,
            55,
            46,
            36,
            41,
            47,
            40,
            33,
            27,
            35,
            20,
            99,
            94,
            76,
            69,
            61,
            57,
            60,
            62,
            42,
            38,
            44,
            50,
            48,
            52,
            43,
            43,
            42,
            34,
            34,
            23
           ]
          }
         ],
         "hovertemplate": "%{xaxis.title.text}=%{x}<br>%{yaxis.title.text}=%{y}<br>Team=%{customdata[0]}<br>Season=%{customdata[1]}<br>GA=%{customdata[2]}<br>GF=%{customdata[3]}<br>Pts=%{marker.color}<br>Pos=%{customdata[5]}<extra></extra>",
         "legendgroup": "",
         "marker": {
          "color": [
           80,
           70,
           69,
           68,
           66,
           61,
           57,
           54,
           52,
           52,
           51,
           49,
           48,
           42,
           42,
           42,
           42,
           34,
           34,
           26,
           87,
           80,
           77,
           71,
           66,
           64,
           53,
           50,
           50,
           46,
           45,
           45,
           44,
           44,
           43,
           40,
           40,
           36,
           30,
           28,
           83,
           78,
           69,
           67,
           64,
           60,
           59,
           52,
           51,
           50,
           49,
           49,
           48,
           48,
           47,
           45,
           44,
           42,
           26,
           19,
           90,
           79,
           75,
           60,
           56,
           56,
           53,
           53,
           52,
           50,
           48,
           47,
           45,
           45,
           44,
           41,
           39,
           33,
           33,
           33,
           95,
           83,
           77,
           61,
           58,
           58,
           55,
           52,
           52,
           47,
           46,
           45,
           44,
           44,
           42,
           39,
           34,
           33,
           33,
           32,
           91,
           83,
           82,
           67,
           65,
           63,
           58,
           56,
           55,
           51,
           50,
           48,
           47,
           45,
           43,
           42,
           38,
           34,
           30,
           15,
           89,
           83,
           68,
           68,
           60,
           58,
           56,
           55,
           54,
           52,
           50,
           46,
           43,
           42,
           41,
           39,
           38,
           38,
           34,
           28,
           87,
           85,
           83,
           76,
           65,
           60,
           58,
           57,
           55,
           49,
           46,
           43,
           42,
           40,
           39,
           37,
           36,
           36,
           35,
           11,
           90,
           86,
           83,
           72,
           63,
           62,
           53,
           51,
           51,
           50,
           45,
           45,
           41,
           41,
           41,
           36,
           35,
           34,
           32,
           32,
           86,
           85,
           75,
           70,
           67,
           64,
           63,
           61,
           50,
           50,
           47,
           46,
           44,
           39,
           38,
           36,
           35,
           30,
           30,
           19,
           80,
           71,
           71,
           68,
           62,
           58,
           54,
           49,
           48,
           47,
           47,
           46,
           46,
           46,
           43,
           42,
           40,
           39,
           39,
           33,
           89,
           89,
           70,
           69,
           65,
           64,
           56,
           52,
           52,
           47,
           47,
           47,
           45,
           45,
           43,
           38,
           37,
           36,
           31,
           25,
           89,
           78,
           75,
           73,
           72,
           63,
           61,
           49,
           46,
           46,
           44,
           43,
           42,
           41,
           41,
           41,
           39,
           36,
           28,
           25,
           86,
           84,
           82,
           79,
           72,
           69,
           64,
           56,
           50,
           49,
           45,
           42,
           40,
           38,
           38,
           37,
           36,
           33,
           32,
           30,
           87,
           79,
           75,
           70,
           64,
           62,
           60,
           56,
           54,
           48,
           47,
           47,
           44,
           41,
           39,
           38,
           38,
           35,
           33,
           30,
           81,
           71,
           70,
           66,
           66,
           63,
           62,
           60,
           51,
           50,
           47,
           47,
           45,
           43,
           42,
           42,
           39,
           37,
           34,
           17,
           93,
           86,
           78,
           76,
           75,
           69,
           61,
           46,
           46,
           45,
           45,
           44,
           44,
           41,
           41,
           40,
           40,
           34,
           28,
           24,
           100,
           81,
           77,
           75,
           70,
           63,
           54,
           49,
           47,
           44,
           44,
           44,
           42,
           41,
           40,
           37,
           36,
           33,
           33,
           31,
           98,
           97,
           72,
           71,
           70,
           66,
           57,
           54,
           52,
           52,
           50,
           49,
           45,
           45,
           40,
           39,
           36,
           34,
           26,
           16,
           99,
           81,
           66,
           66,
           62,
           59,
           59,
           56,
           54,
           54,
           52,
           49,
           44,
           43,
           41,
           39,
           35,
           34,
           34,
           21,
           86,
           74,
           69,
           67,
           66,
           65,
           62,
           61,
           59,
           59,
           55,
           45,
           45,
           44,
           43,
           41,
           39,
           28,
           26,
           23,
           93,
           92,
           74,
           71,
           69,
           58,
           56,
           52,
           51,
           51,
           49,
           48,
           46,
           45,
           40,
           39,
           38,
           35,
           23,
           22
          ],
          "coloraxis": "coloraxis",
          "symbol": "circle"
         },
         "name": "",
         "showlegend": false,
         "type": "splom"
        }
       ],
       "layout": {
        "coloraxis": {
         "colorbar": {
          "title": {
           "text": "Pts"
          }
         },
         "colorscale": [
          [
           0,
           "#0d0887"
          ],
          [
           0.1111111111111111,
           "#46039f"
          ],
          [
           0.2222222222222222,
           "#7201a8"
          ],
          [
           0.3333333333333333,
           "#9c179e"
          ],
          [
           0.4444444444444444,
           "#bd3786"
          ],
          [
           0.5555555555555556,
           "#d8576b"
          ],
          [
           0.6666666666666666,
           "#ed7953"
          ],
          [
           0.7777777777777778,
           "#fb9f3a"
          ],
          [
           0.8888888888888888,
           "#fdca26"
          ],
          [
           1,
           "#f0f921"
          ]
         ]
        },
        "dragmode": "select",
        "legend": {
         "tracegroupgap": 0
        },
        "margin": {
         "t": 60
        },
        "template": {
         "data": {
          "bar": [
           {
            "error_x": {
             "color": "#2a3f5f"
            },
            "error_y": {
             "color": "#2a3f5f"
            },
            "marker": {
             "line": {
              "color": "#E5ECF6",
              "width": 0.5
             },
             "pattern": {
              "fillmode": "overlay",
              "size": 10,
              "solidity": 0.2
             }
            },
            "type": "bar"
           }
          ],
          "barpolar": [
           {
            "marker": {
             "line": {
              "color": "#E5ECF6",
              "width": 0.5
             },
             "pattern": {
              "fillmode": "overlay",
              "size": 10,
              "solidity": 0.2
             }
            },
            "type": "barpolar"
           }
          ],
          "carpet": [
           {
            "aaxis": {
             "endlinecolor": "#2a3f5f",
             "gridcolor": "white",
             "linecolor": "white",
             "minorgridcolor": "white",
             "startlinecolor": "#2a3f5f"
            },
            "baxis": {
             "endlinecolor": "#2a3f5f",
             "gridcolor": "white",
             "linecolor": "white",
             "minorgridcolor": "white",
             "startlinecolor": "#2a3f5f"
            },
            "type": "carpet"
           }
          ],
          "choropleth": [
           {
            "colorbar": {
             "outlinewidth": 0,
             "ticks": ""
            },
            "type": "choropleth"
           }
          ],
          "contour": [
           {
            "colorbar": {
             "outlinewidth": 0,
             "ticks": ""
            },
            "colorscale": [
             [
              0,
              "#0d0887"
             ],
             [
              0.1111111111111111,
              "#46039f"
             ],
             [
              0.2222222222222222,
              "#7201a8"
             ],
             [
              0.3333333333333333,
              "#9c179e"
             ],
             [
              0.4444444444444444,
              "#bd3786"
             ],
             [
              0.5555555555555556,
              "#d8576b"
             ],
             [
              0.6666666666666666,
              "#ed7953"
             ],
             [
              0.7777777777777778,
              "#fb9f3a"
             ],
             [
              0.8888888888888888,
              "#fdca26"
             ],
             [
              1,
              "#f0f921"
             ]
            ],
            "type": "contour"
           }
          ],
          "contourcarpet": [
           {
            "colorbar": {
             "outlinewidth": 0,
             "ticks": ""
            },
            "type": "contourcarpet"
           }
          ],
          "heatmap": [
           {
            "colorbar": {
             "outlinewidth": 0,
             "ticks": ""
            },
            "colorscale": [
             [
              0,
              "#0d0887"
             ],
             [
              0.1111111111111111,
              "#46039f"
             ],
             [
              0.2222222222222222,
              "#7201a8"
             ],
             [
              0.3333333333333333,
              "#9c179e"
             ],
             [
              0.4444444444444444,
              "#bd3786"
             ],
             [
              0.5555555555555556,
              "#d8576b"
             ],
             [
              0.6666666666666666,
              "#ed7953"
             ],
             [
              0.7777777777777778,
              "#fb9f3a"
             ],
             [
              0.8888888888888888,
              "#fdca26"
             ],
             [
              1,
              "#f0f921"
             ]
            ],
            "type": "heatmap"
           }
          ],
          "heatmapgl": [
           {
            "colorbar": {
             "outlinewidth": 0,
             "ticks": ""
            },
            "colorscale": [
             [
              0,
              "#0d0887"
             ],
             [
              0.1111111111111111,
              "#46039f"
             ],
             [
              0.2222222222222222,
              "#7201a8"
             ],
             [
              0.3333333333333333,
              "#9c179e"
             ],
             [
              0.4444444444444444,
              "#bd3786"
             ],
             [
              0.5555555555555556,
              "#d8576b"
             ],
             [
              0.6666666666666666,
              "#ed7953"
             ],
             [
              0.7777777777777778,
              "#fb9f3a"
             ],
             [
              0.8888888888888888,
              "#fdca26"
             ],
             [
              1,
              "#f0f921"
             ]
            ],
            "type": "heatmapgl"
           }
          ],
          "histogram": [
           {
            "marker": {
             "pattern": {
              "fillmode": "overlay",
              "size": 10,
              "solidity": 0.2
             }
            },
            "type": "histogram"
           }
          ],
          "histogram2d": [
           {
            "colorbar": {
             "outlinewidth": 0,
             "ticks": ""
            },
            "colorscale": [
             [
              0,
              "#0d0887"
             ],
             [
              0.1111111111111111,
              "#46039f"
             ],
             [
              0.2222222222222222,
              "#7201a8"
             ],
             [
              0.3333333333333333,
              "#9c179e"
             ],
             [
              0.4444444444444444,
              "#bd3786"
             ],
             [
              0.5555555555555556,
              "#d8576b"
             ],
             [
              0.6666666666666666,
              "#ed7953"
             ],
             [
              0.7777777777777778,
              "#fb9f3a"
             ],
             [
              0.8888888888888888,
              "#fdca26"
             ],
             [
              1,
              "#f0f921"
             ]
            ],
            "type": "histogram2d"
           }
          ],
          "histogram2dcontour": [
           {
            "colorbar": {
             "outlinewidth": 0,
             "ticks": ""
            },
            "colorscale": [
             [
              0,
              "#0d0887"
             ],
             [
              0.1111111111111111,
              "#46039f"
             ],
             [
              0.2222222222222222,
              "#7201a8"
             ],
             [
              0.3333333333333333,
              "#9c179e"
             ],
             [
              0.4444444444444444,
              "#bd3786"
             ],
             [
              0.5555555555555556,
              "#d8576b"
             ],
             [
              0.6666666666666666,
              "#ed7953"
             ],
             [
              0.7777777777777778,
              "#fb9f3a"
             ],
             [
              0.8888888888888888,
              "#fdca26"
             ],
             [
              1,
              "#f0f921"
             ]
            ],
            "type": "histogram2dcontour"
           }
          ],
          "mesh3d": [
           {
            "colorbar": {
             "outlinewidth": 0,
             "ticks": ""
            },
            "type": "mesh3d"
           }
          ],
          "parcoords": [
           {
            "line": {
             "colorbar": {
              "outlinewidth": 0,
              "ticks": ""
             }
            },
            "type": "parcoords"
           }
          ],
          "pie": [
           {
            "automargin": true,
            "type": "pie"
           }
          ],
          "scatter": [
           {
            "fillpattern": {
             "fillmode": "overlay",
             "size": 10,
             "solidity": 0.2
            },
            "type": "scatter"
           }
          ],
          "scatter3d": [
           {
            "line": {
             "colorbar": {
              "outlinewidth": 0,
              "ticks": ""
             }
            },
            "marker": {
             "colorbar": {
              "outlinewidth": 0,
              "ticks": ""
             }
            },
            "type": "scatter3d"
           }
          ],
          "scattercarpet": [
           {
            "marker": {
             "colorbar": {
              "outlinewidth": 0,
              "ticks": ""
             }
            },
            "type": "scattercarpet"
           }
          ],
          "scattergeo": [
           {
            "marker": {
             "colorbar": {
              "outlinewidth": 0,
              "ticks": ""
             }
            },
            "type": "scattergeo"
           }
          ],
          "scattergl": [
           {
            "marker": {
             "colorbar": {
              "outlinewidth": 0,
              "ticks": ""
             }
            },
            "type": "scattergl"
           }
          ],
          "scattermapbox": [
           {
            "marker": {
             "colorbar": {
              "outlinewidth": 0,
              "ticks": ""
             }
            },
            "type": "scattermapbox"
           }
          ],
          "scatterpolar": [
           {
            "marker": {
             "colorbar": {
              "outlinewidth": 0,
              "ticks": ""
             }
            },
            "type": "scatterpolar"
           }
          ],
          "scatterpolargl": [
           {
            "marker": {
             "colorbar": {
              "outlinewidth": 0,
              "ticks": ""
             }
            },
            "type": "scatterpolargl"
           }
          ],
          "scatterternary": [
           {
            "marker": {
             "colorbar": {
              "outlinewidth": 0,
              "ticks": ""
             }
            },
            "type": "scatterternary"
           }
          ],
          "surface": [
           {
            "colorbar": {
             "outlinewidth": 0,
             "ticks": ""
            },
            "colorscale": [
             [
              0,
              "#0d0887"
             ],
             [
              0.1111111111111111,
              "#46039f"
             ],
             [
              0.2222222222222222,
              "#7201a8"
             ],
             [
              0.3333333333333333,
              "#9c179e"
             ],
             [
              0.4444444444444444,
              "#bd3786"
             ],
             [
              0.5555555555555556,
              "#d8576b"
             ],
             [
              0.6666666666666666,
              "#ed7953"
             ],
             [
              0.7777777777777778,
              "#fb9f3a"
             ],
             [
              0.8888888888888888,
              "#fdca26"
             ],
             [
              1,
              "#f0f921"
             ]
            ],
            "type": "surface"
           }
          ],
          "table": [
           {
            "cells": {
             "fill": {
              "color": "#EBF0F8"
             },
             "line": {
              "color": "white"
             }
            },
            "header": {
             "fill": {
              "color": "#C8D4E3"
             },
             "line": {
              "color": "white"
             }
            },
            "type": "table"
           }
          ]
         },
         "layout": {
          "annotationdefaults": {
           "arrowcolor": "#2a3f5f",
           "arrowhead": 0,
           "arrowwidth": 1
          },
          "autotypenumbers": "strict",
          "coloraxis": {
           "colorbar": {
            "outlinewidth": 0,
            "ticks": ""
           }
          },
          "colorscale": {
           "diverging": [
            [
             0,
             "#8e0152"
            ],
            [
             0.1,
             "#c51b7d"
            ],
            [
             0.2,
             "#de77ae"
            ],
            [
             0.3,
             "#f1b6da"
            ],
            [
             0.4,
             "#fde0ef"
            ],
            [
             0.5,
             "#f7f7f7"
            ],
            [
             0.6,
             "#e6f5d0"
            ],
            [
             0.7,
             "#b8e186"
            ],
            [
             0.8,
             "#7fbc41"
            ],
            [
             0.9,
             "#4d9221"
            ],
            [
             1,
             "#276419"
            ]
           ],
           "sequential": [
            [
             0,
             "#0d0887"
            ],
            [
             0.1111111111111111,
             "#46039f"
            ],
            [
             0.2222222222222222,
             "#7201a8"
            ],
            [
             0.3333333333333333,
             "#9c179e"
            ],
            [
             0.4444444444444444,
             "#bd3786"
            ],
            [
             0.5555555555555556,
             "#d8576b"
            ],
            [
             0.6666666666666666,
             "#ed7953"
            ],
            [
             0.7777777777777778,
             "#fb9f3a"
            ],
            [
             0.8888888888888888,
             "#fdca26"
            ],
            [
             1,
             "#f0f921"
            ]
           ],
           "sequentialminus": [
            [
             0,
             "#0d0887"
            ],
            [
             0.1111111111111111,
             "#46039f"
            ],
            [
             0.2222222222222222,
             "#7201a8"
            ],
            [
             0.3333333333333333,
             "#9c179e"
            ],
            [
             0.4444444444444444,
             "#bd3786"
            ],
            [
             0.5555555555555556,
             "#d8576b"
            ],
            [
             0.6666666666666666,
             "#ed7953"
            ],
            [
             0.7777777777777778,
             "#fb9f3a"
            ],
            [
             0.8888888888888888,
             "#fdca26"
            ],
            [
             1,
             "#f0f921"
            ]
           ]
          },
          "colorway": [
           "#636efa",
           "#EF553B",
           "#00cc96",
           "#ab63fa",
           "#FFA15A",
           "#19d3f3",
           "#FF6692",
           "#B6E880",
           "#FF97FF",
           "#FECB52"
          ],
          "font": {
           "color": "#2a3f5f"
          },
          "geo": {
           "bgcolor": "white",
           "lakecolor": "white",
           "landcolor": "#E5ECF6",
           "showlakes": true,
           "showland": true,
           "subunitcolor": "white"
          },
          "hoverlabel": {
           "align": "left"
          },
          "hovermode": "closest",
          "mapbox": {
           "style": "light"
          },
          "paper_bgcolor": "white",
          "plot_bgcolor": "#E5ECF6",
          "polar": {
           "angularaxis": {
            "gridcolor": "white",
            "linecolor": "white",
            "ticks": ""
           },
           "bgcolor": "#E5ECF6",
           "radialaxis": {
            "gridcolor": "white",
            "linecolor": "white",
            "ticks": ""
           }
          },
          "scene": {
           "xaxis": {
            "backgroundcolor": "#E5ECF6",
            "gridcolor": "white",
            "gridwidth": 2,
            "linecolor": "white",
            "showbackground": true,
            "ticks": "",
            "zerolinecolor": "white"
           },
           "yaxis": {
            "backgroundcolor": "#E5ECF6",
            "gridcolor": "white",
            "gridwidth": 2,
            "linecolor": "white",
            "showbackground": true,
            "ticks": "",
            "zerolinecolor": "white"
           },
           "zaxis": {
            "backgroundcolor": "#E5ECF6",
            "gridcolor": "white",
            "gridwidth": 2,
            "linecolor": "white",
            "showbackground": true,
            "ticks": "",
            "zerolinecolor": "white"
           }
          },
          "shapedefaults": {
           "line": {
            "color": "#2a3f5f"
           }
          },
          "ternary": {
           "aaxis": {
            "gridcolor": "white",
            "linecolor": "white",
            "ticks": ""
           },
           "baxis": {
            "gridcolor": "white",
            "linecolor": "white",
            "ticks": ""
           },
           "bgcolor": "#E5ECF6",
           "caxis": {
            "gridcolor": "white",
            "linecolor": "white",
            "ticks": ""
           }
          },
          "title": {
           "x": 0.05
          },
          "xaxis": {
           "automargin": true,
           "gridcolor": "white",
           "linecolor": "white",
           "ticks": "",
           "title": {
            "standoff": 15
           },
           "zerolinecolor": "white",
           "zerolinewidth": 2
          },
          "yaxis": {
           "automargin": true,
           "gridcolor": "white",
           "linecolor": "white",
           "ticks": "",
           "title": {
            "standoff": 15
           },
           "zerolinecolor": "white",
           "zerolinewidth": 2
          }
         }
        }
       }
      },
      "text/html": [
       "<div>                            <div id=\"f1e9946d-8bbc-49b7-a882-2be602976ea0\" class=\"plotly-graph-div\" style=\"height:525px; width:100%;\"></div>            <script type=\"text/javascript\">                require([\"plotly\"], function(Plotly) {                    window.PLOTLYENV=window.PLOTLYENV || {};                                    if (document.getElementById(\"f1e9946d-8bbc-49b7-a882-2be602976ea0\")) {                    Plotly.newPlot(                        \"f1e9946d-8bbc-49b7-a882-2be602976ea0\",                        [{\"customdata\":[[\"Manchester United\",2000,31,79,80,1],[\"Arsenal\",2000,38,63,70,2],[\"Liverpool\",2000,39,71,69,3],[\"Leeds United\",2000,43,64,68,4],[\"Ipswich Town\",2000,42,57,66,5],[\"Chelsea\",2000,45,68,61,6],[\"Sunderland\",2000,41,46,57,7],[\"Aston Villa\",2000,43,46,54,8],[\"Charlton Athletic\",2000,57,50,52,9],[\"Southampton\",2000,48,40,52,10],[\"Newcastle United\",2000,50,44,51,11],[\"Tottenham Hotspur\",2000,54,47,49,12],[\"Leicester City\",2000,51,39,48,13],[\"Middlesbrough\",2000,44,44,42,14],[\"West Ham United\",2000,50,45,42,15],[\"Everton\",2000,59,45,42,16],[\"Derby County\",2000,59,37,42,17],[\"Manchester City\",2000,65,41,34,18],[\"Coventry City\",2000,63,36,34,19],[\"Bradford City\",2000,70,30,26,20],[\"Arsenal\",2001,36,79,87,1],[\"Liverpool\",2001,30,67,80,2],[\"Manchester United\",2001,45,87,77,3],[\"Newcastle United\",2001,52,74,71,4],[\"Leeds United\",2001,37,53,66,5],[\"Chelsea\",2001,38,66,64,6],[\"West Ham United\",2001,57,48,53,7],[\"Aston Villa\",2001,47,46,50,8],[\"Tottenham Hotspur\",2001,53,49,50,9],[\"Blackburn Rovers\",2001,51,55,46,10],[\"Southampton\",2001,54,46,45,11],[\"Middlesbrough\",2001,47,35,45,12],[\"Fulham\",2001,44,36,44,13],[\"Charlton Athletic\",2001,49,38,44,14],[\"Everton\",2001,57,45,43,15],[\"Bolton Wanderers\",2001,62,44,40,16],[\"Sunderland\",2001,51,29,40,17],[\"Ipswich Town\",2001,64,41,36,18],[\"Derby County\",2001,63,33,30,19],[\"Leicester City\",2001,64,30,28,20],[\"Manchester United\",2002,34,74,83,1],[\"Arsenal\",2002,42,85,78,2],[\"Newcastle United\",2002,48,63,69,3],[\"Chelsea\",2002,38,68,67,4],[\"Liverpool\",2002,41,61,64,5],[\"Blackburn Rovers\",2002,43,52,60,6],[\"Everton\",2002,49,48,59,7],[\"Southampton\",2002,46,43,52,8],[\"Manchester City\",2002,54,47,51,9],[\"Tottenham Hotspur\",2002,62,51,50,10],[\"Middlesbrough\",2002,44,48,49,11],[\"Charlton Athletic\",2002,56,45,49,12],[\"Birmingham City\",2002,49,41,48,13],[\"Fulham\",2002,50,41,48,14],[\"Leeds United\",2002,57,58,47,15],[\"Aston Villa\",2002,47,42,45,16],[\"Bolton Wanderers\",2002,51,41,44,17],[\"West Ham United\",2002,59,42,42,18],[\"West Bromwich Albion\",2002,65,29,26,19],[\"Sunderland\",2002,65,21,19,20],[\"Arsenal\",2003,26,73,90,1],[\"Chelsea\",2003,30,67,79,2],[\"Manchester United\",2003,35,64,75,3],[\"Liverpool\",2003,37,55,60,4],[\"Newcastle United\",2003,40,52,56,5],[\"Aston Villa\",2003,44,48,56,6],[\"Charlton Athletic\",2003,51,51,53,7],[\"Bolton Wanderers\",2003,56,48,53,8],[\"Fulham\",2003,46,52,52,9],[\"Birmingham City\",2003,48,43,50,10],[\"Middlesbrough\",2003,52,44,48,11],[\"Southampton\",2003,45,44,47,12],[\"Portsmouth\",2003,54,47,45,13],[\"Tottenham Hotspur\",2003,57,47,45,14],[\"Blackburn Rovers\",2003,59,51,44,15],[\"Manchester City\",2003,54,55,41,16],[\"Everton\",2003,57,45,39,17],[\"Leicester City\",2003,65,48,33,18],[\"Leeds United\",2003,79,40,33,19],[\"Wolverhampton Wanderers\",2003,77,38,33,20],[\"Chelsea\",2004,15,72,95,1],[\"Arsenal\",2004,36,87,83,2],[\"Manchester United\",2004,26,58,77,3],[\"Everton\",2004,46,45,61,4],[\"Liverpool\",2004,41,52,58,5],[\"Bolton Wanderers\",2004,44,49,58,6],[\"Middlesbrough\",2004,46,53,55,7],[\"Manchester City\",2004,39,47,52,8],[\"Tottenham Hotspur\",2004,41,47,52,9],[\"Aston Villa\",2004,52,45,47,10],[\"Charlton Athletic\",2004,58,42,46,11],[\"Birmingham City\",2004,46,40,45,12],[\"Fulham\",2004,60,52,44,13],[\"Newcastle United\",2004,57,47,44,14],[\"Blackburn Rovers\",2004,43,32,42,15],[\"Portsmouth\",2004,59,43,39,16],[\"West Bromwich Albion\",2004,61,36,34,17],[\"Crystal Palace\",2004,62,41,33,18],[\"Norwich City\",2004,77,42,33,19],[\"Southampton\",2004,66,45,32,20],[\"Chelsea\",2005,22,72,91,1],[\"Manchester United\",2005,34,72,83,2],[\"Liverpool\",2005,25,57,82,3],[\"Arsenal\",2005,31,68,67,4],[\"Tottenham Hotspur\",2005,38,53,65,5],[\"Blackburn Rovers\",2005,42,51,63,6],[\"Newcastle United\",2005,42,47,58,7],[\"Bolton Wanderers\",2005,41,49,56,8],[\"West Ham United\",2005,55,52,55,9],[\"Wigan Athletic\",2005,52,45,51,10],[\"Everton\",2005,49,34,50,11],[\"Fulham\",2005,58,48,48,12],[\"Charlton Athletic\",2005,55,41,47,13],[\"Middlesbrough\",2005,58,48,45,14],[\"Manchester City\",2005,48,43,43,15],[\"Aston Villa\",2005,55,42,42,16],[\"Portsmouth\",2005,62,37,38,17],[\"Birmingham City\",2005,50,28,34,18],[\"West Bromwich Albion\",2005,58,31,30,19],[\"Sunderland\",2005,69,26,15,20],[\"Manchester United\",2006,27,83,89,1],[\"Chelsea\",2006,24,64,83,2],[\"Liverpool\",2006,27,57,68,3],[\"Arsenal\",2006,35,63,68,4],[\"Tottenham Hotspur\",2006,54,57,60,5],[\"Everton\",2006,36,52,58,6],[\"Bolton Wanderers\",2006,52,47,56,7],[\"Reading\",2006,47,52,55,8],[\"Portsmouth\",2006,42,45,54,9],[\"Blackburn Rovers\",2006,54,52,52,10],[\"Aston Villa\",2006,41,43,50,11],[\"Middlesbrough\",2006,49,44,46,12],[\"Newcastle United\",2006,47,38,43,13],[\"Manchester City\",2006,44,29,42,14],[\"West Ham United\",2006,59,35,41,15],[\"Fulham\",2006,60,38,39,16],[\"Wigan Athletic\",2006,59,37,38,17],[\"Sheffield United\",2006,55,32,38,18],[\"Charlton Athletic\",2006,60,34,34,19],[\"Watford\",2006,59,29,28,20],[\"Manchester United\",2007,22,80,87,1],[\"Chelsea\",2007,26,65,85,2],[\"Arsenal\",2007,31,74,83,3],[\"Liverpool\",2007,28,67,76,4],[\"Everton\",2007,33,55,65,5],[\"Aston Villa\",2007,51,71,60,6],[\"Blackburn Rovers\",2007,48,50,58,7],[\"Portsmouth\",2007,40,48,57,8],[\"Manchester City\",2007,53,45,55,9],[\"West Ham United\",2007,50,42,49,10],[\"Tottenham Hotspur\",2007,61,66,46,11],[\"Newcastle United\",2007,65,45,43,12],[\"Middlesbrough\",2007,53,43,42,13],[\"Wigan Athletic\",2007,51,34,40,14],[\"Sunderland\",2007,59,36,39,15],[\"Bolton Wanderers\",2007,54,36,37,16],[\"Fulham\",2007,60,38,36,17],[\"Reading\",2007,66,41,36,18],[\"Birmingham City\",2007,62,46,35,19],[\"Derby County\",2007,89,20,11,20],[\"Manchester United\",2008,24,68,90,1],[\"Liverpool\",2008,27,77,86,2],[\"Chelsea\",2008,24,68,83,3],[\"Arsenal\",2008,37,68,72,4],[\"Everton\",2008,37,55,63,5],[\"Aston Villa\",2008,48,54,62,6],[\"Fulham\",2008,34,39,53,7],[\"Tottenham Hotspur\",2008,45,45,51,8],[\"West Ham United\",2008,45,42,51,9],[\"Manchester City\",2008,50,58,50,10],[\"Wigan Athletic\",2008,45,34,45,11],[\"Stoke City\",2008,55,38,45,12],[\"Bolton Wanderers\",2008,53,41,41,13],[\"Portsmouth\",2008,57,38,41,14],[\"Blackburn Rovers\",2008,60,40,41,15],[\"Sunderland\",2008,54,34,36,16],[\"Hull City\",2008,64,39,35,17],[\"Newcastle United\",2008,59,40,34,18],[\"Middlesbrough\",2008,57,28,32,19],[\"West Bromwich Albion\",2008,67,36,32,20],[\"Chelsea\",2009,32,103,86,1],[\"Manchester United\",2009,28,86,85,2],[\"Arsenal\",2009,41,83,75,3],[\"Tottenham Hotspur\",2009,41,67,70,4],[\"Manchester City\",2009,45,73,67,5],[\"Aston Villa\",2009,39,52,64,6],[\"Liverpool\",2009,35,61,63,7],[\"Everton\",2009,49,60,61,8],[\"Birmingham City\",2009,47,38,50,9],[\"Blackburn Rovers\",2009,55,41,50,10],[\"Stoke City\",2009,48,34,47,11],[\"Fulham\",2009,46,39,46,12],[\"Sunderland\",2009,56,48,44,13],[\"Bolton Wanderers\",2009,67,42,39,14],[\"Wolverhampton Wanderers\",2009,56,32,38,15],[\"Wigan Athletic\",2009,79,37,36,16],[\"West Ham United\",2009,66,47,35,17],[\"Burnley\",2009,82,42,30,18],[\"Hull City\",2009,75,34,30,19],[\"Portsmouth\",2009,66,34,19,20],[\"Manchester United\",2010,37,78,80,1],[\"Chelsea\",2010,33,69,71,2],[\"Manchester City\",2010,33,60,71,3],[\"Arsenal\",2010,43,72,68,4],[\"Tottenham Hotspur\",2010,46,55,62,5],[\"Liverpool\",2010,44,59,58,6],[\"Everton\",2010,45,51,54,7],[\"Fulham\",2010,43,49,49,8],[\"Aston Villa\",2010,59,48,48,9],[\"Sunderland\",2010,56,45,47,10],[\"West Bromwich Albion\",2010,71,56,47,11],[\"Newcastle United\",2010,57,56,46,12],[\"Stoke City\",2010,48,46,46,13],[\"Bolton Wanderers\",2010,56,52,46,14],[\"Blackburn Rovers\",2010,59,46,43,15],[\"Wigan Athletic\",2010,61,40,42,16],[\"Wolverhampton Wanderers\",2010,66,46,40,17],[\"Birmingham City\",2010,58,37,39,18],[\"Blackpool\",2010,78,55,39,19],[\"West Ham United\",2010,70,43,33,20],[\"Manchester City\",2011,29,93,89,1],[\"Manchester United\",2011,33,89,89,2],[\"Arsenal\",2011,49,74,70,3],[\"Tottenham Hotspur\",2011,41,66,69,4],[\"Newcastle United\",2011,51,56,65,5],[\"Chelsea\",2011,46,65,64,6],[\"Everton\",2011,40,50,56,7],[\"Liverpool\",2011,40,47,52,8],[\"Fulham\",2011,51,48,52,9],[\"West Bromwich Albion\",2011,52,45,47,10],[\"Swansea City\",2011,51,44,47,11],[\"Norwich City\",2011,66,52,47,12],[\"Sunderland\",2011,46,45,45,13],[\"Stoke City\",2011,53,36,45,14],[\"Wigan Athletic\",2011,62,42,43,15],[\"Aston Villa\",2011,53,37,38,16],[\"Queens Park Rangers\",2011,66,43,37,17],[\"Bolton Wanderers\",2011,77,46,36,18],[\"Blackburn Rovers\",2011,78,48,31,19],[\"Wolverhampton Wanderers\",2011,82,40,25,20],[\"Manchester United\",2012,43,86,89,1],[\"Manchester City\",2012,34,66,78,2],[\"Chelsea\",2012,39,75,75,3],[\"Arsenal\",2012,37,72,73,4],[\"Tottenham Hotspur\",2012,46,66,72,5],[\"Everton\",2012,40,55,63,6],[\"Liverpool\",2012,43,71,61,7],[\"West Bromwich Albion\",2012,57,53,49,8],[\"Swansea City\",2012,51,47,46,9],[\"West Ham United\",2012,53,45,46,10],[\"Norwich City\",2012,58,41,44,11],[\"Fulham\",2012,60,50,43,12],[\"Stoke City\",2012,45,34,42,13],[\"Southampton\",2012,60,49,41,14],[\"Aston Villa\",2012,69,47,41,15],[\"Newcastle United\",2012,68,45,41,16],[\"Sunderland\",2012,54,41,39,17],[\"Wigan Athletic\",2012,73,47,36,18],[\"Reading\",2012,73,43,28,19],[\"Queens Park Rangers\",2012,60,30,25,20],[\"Manchester City\",2013,37,102,86,1],[\"Liverpool\",2013,50,101,84,2],[\"Chelsea\",2013,27,71,82,3],[\"Arsenal\",2013,41,68,79,4],[\"Everton\",2013,39,61,72,5],[\"Tottenham Hotspur\",2013,51,55,69,6],[\"Manchester United\",2013,43,64,64,7],[\"Southampton\",2013,46,54,56,8],[\"Stoke City\",2013,52,45,50,9],[\"Newcastle United\",2013,59,43,49,10],[\"Crystal Palace\",2013,48,33,45,11],[\"Swansea City\",2013,54,54,42,12],[\"West Ham United\",2013,51,40,40,13],[\"Sunderland\",2013,60,41,38,14],[\"Aston Villa\",2013,61,39,38,15],[\"Hull City\",2013,53,38,37,16],[\"West Bromwich Albion\",2013,59,43,36,17],[\"Norwich City\",2013,62,28,33,18],[\"Fulham\",2013,85,40,32,19],[\"Cardiff City\",2013,74,32,30,20],[\"Chelsea\",2014,32,73,87,1],[\"Manchester City\",2014,38,83,79,2],[\"Arsenal\",2014,36,71,75,3],[\"Manchester United\",2014,37,62,70,4],[\"Tottenham Hotspur\",2014,53,58,64,5],[\"Liverpool\",2014,48,52,62,6],[\"Southampton\",2014,33,54,60,7],[\"Swansea City\",2014,49,46,56,8],[\"Stoke City\",2014,45,48,54,9],[\"Crystal Palace\",2014,51,47,48,10],[\"Everton\",2014,50,48,47,11],[\"West Ham United\",2014,47,44,47,12],[\"West Bromwich Albion\",2014,51,38,44,13],[\"Leicester City\",2014,55,46,41,14],[\"Newcastle United\",2014,63,40,39,15],[\"Sunderland\",2014,53,31,38,16],[\"Aston Villa\",2014,57,31,38,17],[\"Hull City\",2014,51,33,35,18],[\"Burnley\",2014,53,28,33,19],[\"Queens Park Rangers\",2014,73,42,30,20],[\"Leicester City\",2015,36,68,81,1],[\"Arsenal\",2015,36,65,71,2],[\"Tottenham Hotspur\",2015,35,69,70,3],[\"Manchester City\",2015,41,71,66,4],[\"Manchester United\",2015,35,49,66,5],[\"Southampton\",2015,41,59,63,6],[\"West Ham United\",2015,51,65,62,7],[\"Liverpool\",2015,50,63,60,8],[\"Stoke City\",2015,55,41,51,9],[\"Chelsea\",2015,53,59,50,10],[\"Everton\",2015,55,59,47,11],[\"Swansea City\",2015,52,42,47,12],[\"Watford\",2015,50,40,45,13],[\"West Bromwich Albion\",2015,48,34,43,14],[\"Crystal Palace\",2015,51,39,42,15],[\"Bournemouth\",2015,67,45,42,16],[\"Sunderland\",2015,62,48,39,17],[\"Newcastle United\",2015,65,44,37,18],[\"Norwich City\",2015,67,39,34,19],[\"Aston Villa\",2015,76,27,17,20],[\"Chelsea\",2016,33,85,93,1],[\"Tottenham Hotspur\",2016,26,86,86,2],[\"Manchester City\",2016,39,80,78,3],[\"Liverpool\",2016,42,78,76,4],[\"Arsenal\",2016,44,77,75,5],[\"Manchester United\",2016,29,54,69,6],[\"Everton\",2016,44,62,61,7],[\"Southampton\",2016,48,41,46,8],[\"Bournemouth\",2016,67,55,46,9],[\"West Bromwich Albion\",2016,51,43,45,10],[\"West Ham United\",2016,64,47,45,11],[\"Leicester City\",2016,63,48,44,12],[\"Stoke City\",2016,56,41,44,13],[\"Crystal Palace\",2016,63,50,41,14],[\"Swansea City\",2016,70,45,41,15],[\"Burnley\",2016,55,39,40,16],[\"Watford\",2016,68,40,40,17],[\"Hull City\",2016,80,37,34,18],[\"Middlesbrough\",2016,53,27,28,19],[\"Sunderland\",2016,69,29,24,20],[\"Manchester City\",2017,27,106,100,1],[\"Manchester United\",2017,28,68,81,2],[\"Tottenham Hotspur\",2017,36,74,77,3],[\"Liverpool\",2017,38,84,75,4],[\"Chelsea\",2017,38,62,70,5],[\"Arsenal\",2017,51,74,63,6],[\"Burnley\",2017,39,36,54,7],[\"Everton\",2017,58,44,49,8],[\"Leicester City\",2017,60,56,47,9],[\"Newcastle United\",2017,47,39,44,10],[\"Crystal Palace\",2017,55,45,44,11],[\"Bournemouth\",2017,61,45,44,12],[\"West Ham United\",2017,68,48,42,13],[\"Watford\",2017,64,44,41,14],[\"Brighton & Hove Albion\",2017,54,34,40,15],[\"Huddersfield Town\",2017,58,28,37,16],[\"Southampton\",2017,56,37,36,17],[\"Swansea City\",2017,56,28,33,18],[\"Stoke City\",2017,68,35,33,19],[\"West Bromwich Albion\",2017,56,31,31,20],[\"Manchester City\",2018,23,95,98,1],[\"Liverpool\",2018,22,89,97,2],[\"Chelsea\",2018,39,63,72,3],[\"Tottenham Hotspur\",2018,39,67,71,4],[\"Arsenal\",2018,51,73,70,5],[\"Manchester United\",2018,54,65,66,6],[\"Wolverhampton Wanderers\",2018,46,47,57,7],[\"Everton\",2018,46,54,54,8],[\"Leicester City\",2018,48,51,52,9],[\"West Ham United\",2018,55,52,52,10],[\"Watford\",2018,59,52,50,11],[\"Crystal Palace\",2018,53,51,49,12],[\"Newcastle United\",2018,48,42,45,13],[\"Bournemouth\",2018,70,56,45,14],[\"Burnley\",2018,68,45,40,15],[\"Southampton\",2018,65,45,39,16],[\"Brighton & Hove Albion\",2018,60,35,36,17],[\"Cardiff City\",2018,69,34,34,18],[\"Fulham\",2018,81,34,26,19],[\"Huddersfield Town\",2018,76,22,16,20],[\"Liverpool\",2019,33,85,99,1],[\"Manchester City\",2019,35,102,81,2],[\"Manchester United\",2019,36,66,66,3],[\"Chelsea\",2019,54,69,66,4],[\"Leicester City\",2019,41,67,62,5],[\"Tottenham Hotspur\",2019,47,61,59,6],[\"Wolverhampton Wanderers\",2019,40,51,59,7],[\"Arsenal\",2019,48,56,56,8],[\"Sheffield United\",2019,39,39,54,9],[\"Burnley\",2019,50,43,54,10],[\"Southampton\",2019,60,51,52,11],[\"Everton\",2019,56,44,49,12],[\"Newcastle United\",2019,58,38,44,13],[\"Crystal Palace\",2019,50,31,43,14],[\"Brighton & Hove Albion\",2019,54,39,41,15],[\"West Ham United\",2019,62,49,39,16],[\"Aston Villa\",2019,67,41,35,17],[\"Bournemouth\",2019,65,40,34,18],[\"Watford\",2019,64,36,34,19],[\"Norwich City\",2019,75,26,21,20],[\"Manchester City\",2020,32,83,86,1],[\"Manchester United\",2020,44,73,74,2],[\"Liverpool\",2020,42,68,69,3],[\"Chelsea\",2020,36,58,67,4],[\"Leicester City\",2020,50,68,66,5],[\"West Ham United\",2020,47,62,65,6],[\"Tottenham Hotspur\",2020,45,68,62,7],[\"Arsenal\",2020,39,55,61,8],[\"Leeds United\",2020,54,62,59,9],[\"Everton\",2020,48,47,59,10],[\"Aston Villa\",2020,46,55,55,11],[\"Newcastle United\",2020,62,46,45,12],[\"Wolverhampton Wanderers\",2020,52,36,45,13],[\"Crystal Palace\",2020,66,41,44,14],[\"Southampton\",2020,68,47,43,15],[\"Brighton & Hove Albion\",2020,46,40,41,16],[\"Burnley\",2020,55,33,39,17],[\"Fulham\",2020,53,27,28,18],[\"West Bromwich Albion\",2020,76,35,26,19],[\"Sheffield United\",2020,63,20,23,20],[\"Manchester City\",2021,26,99,93,1],[\"Liverpool\",2021,26,94,92,2],[\"Chelsea\",2021,33,76,74,3],[\"Tottenham Hotspur\",2021,40,69,71,4],[\"Arsenal\",2021,48,61,69,5],[\"Manchester United\",2021,57,57,58,6],[\"West Ham United\",2021,51,60,56,7],[\"Leicester City\",2021,59,62,52,8],[\"Brighton & Hove Albion\",2021,44,42,51,9],[\"Wolverhampton Wanderers\",2021,43,38,51,10],[\"Newcastle United\",2021,62,44,49,11],[\"Crystal Palace\",2021,46,50,48,12],[\"Brentford\",2021,56,48,46,13],[\"Aston Villa\",2021,54,52,45,14],[\"Southampton\",2021,67,43,40,15],[\"Everton\",2021,66,43,39,16],[\"Leeds United\",2021,79,42,38,17],[\"Burnley\",2021,53,34,35,18],[\"Watford\",2021,77,34,23,19],[\"Norwich City\",2021,84,23,22,20]],\"dimensions\":[{\"axis\":{\"matches\":true},\"label\":\"Pos\",\"values\":[1,2,3,4,5,6,7,8,9,10,11,12,13,14,15,16,17,18,19,20,1,2,3,4,5,6,7,8,9,10,11,12,13,14,15,16,17,18,19,20,1,2,3,4,5,6,7,8,9,10,11,12,13,14,15,16,17,18,19,20,1,2,3,4,5,6,7,8,9,10,11,12,13,14,15,16,17,18,19,20,1,2,3,4,5,6,7,8,9,10,11,12,13,14,15,16,17,18,19,20,1,2,3,4,5,6,7,8,9,10,11,12,13,14,15,16,17,18,19,20,1,2,3,4,5,6,7,8,9,10,11,12,13,14,15,16,17,18,19,20,1,2,3,4,5,6,7,8,9,10,11,12,13,14,15,16,17,18,19,20,1,2,3,4,5,6,7,8,9,10,11,12,13,14,15,16,17,18,19,20,1,2,3,4,5,6,7,8,9,10,11,12,13,14,15,16,17,18,19,20,1,2,3,4,5,6,7,8,9,10,11,12,13,14,15,16,17,18,19,20,1,2,3,4,5,6,7,8,9,10,11,12,13,14,15,16,17,18,19,20,1,2,3,4,5,6,7,8,9,10,11,12,13,14,15,16,17,18,19,20,1,2,3,4,5,6,7,8,9,10,11,12,13,14,15,16,17,18,19,20,1,2,3,4,5,6,7,8,9,10,11,12,13,14,15,16,17,18,19,20,1,2,3,4,5,6,7,8,9,10,11,12,13,14,15,16,17,18,19,20,1,2,3,4,5,6,7,8,9,10,11,12,13,14,15,16,17,18,19,20,1,2,3,4,5,6,7,8,9,10,11,12,13,14,15,16,17,18,19,20,1,2,3,4,5,6,7,8,9,10,11,12,13,14,15,16,17,18,19,20,1,2,3,4,5,6,7,8,9,10,11,12,13,14,15,16,17,18,19,20,1,2,3,4,5,6,7,8,9,10,11,12,13,14,15,16,17,18,19,20,1,2,3,4,5,6,7,8,9,10,11,12,13,14,15,16,17,18,19,20]},{\"axis\":{\"matches\":true},\"label\":\"GD\",\"values\":[48,25,32,21,15,23,5,3,-7,-8,-6,-7,-12,0,-5,-14,-22,-24,-27,-40,43,37,42,22,16,28,-9,-1,-4,4,-8,-12,-8,-11,-12,-18,-22,-23,-30,-34,40,43,15,30,20,9,-1,-3,-7,-11,4,-11,-8,-9,1,-5,-10,-17,-36,-44,47,37,29,18,12,4,0,-8,6,-5,-8,-1,-7,-10,-8,1,-12,-17,-39,-39,57,51,32,-1,11,5,7,8,6,-7,-16,-6,-8,-10,-11,-16,-25,-21,-35,-21,50,38,32,37,15,9,5,8,-3,-7,-15,-10,-14,-10,-5,-13,-25,-22,-27,-43,56,40,30,28,3,16,-5,5,3,-2,2,-5,-9,-15,-24,-22,-22,-23,-26,-30,58,39,43,39,22,20,2,8,-8,-8,5,-20,-10,-17,-23,-18,-22,-25,-16,-69,44,50,44,31,18,6,5,0,-3,8,-11,-17,-12,-19,-20,-20,-25,-19,-29,-31,71,58,42,26,28,13,26,11,-9,-14,-14,-7,-8,-25,-24,-42,-19,-40,-41,-32,41,36,27,29,9,15,6,6,-11,-11,-15,-1,-2,-4,-13,-21,-20,-21,-23,-27,64,56,25,25,5,19,10,7,-3,-7,-7,-14,-1,-17,-20,-16,-23,-31,-30,-42,43,32,36,35,20,15,28,-4,-4,-8,-17,-10,-11,-11,-22,-23,-13,-26,-30,-30,65,51,44,27,22,4,21,8,-7,-16,-15,0,-11,-19,-22,-15,-16,-34,-45,-42,41,45,35,25,5,4,21,-3,3,-4,-2,-3,-13,-9,-23,-22,-26,-18,-25,-31,32,29,34,30,14,18,14,13,-14,6,4,-10,-10,-14,-12,-22,-14,-21,-28,-49,52,60,41,36,33,25,18,-7,-12,-8,-17,-15,-15,-13,-25,-16,-28,-43,-26,-40,79,40,38,46,24,23,-3,-14,-4,-8,-10,-16,-20,-20,-20,-30,-19,-28,-33,-25,72,67,24,28,22,11,1,8,3,-3,-7,-2,-6,-14,-23,-20,-25,-35,-47,-54,52,67,30,15,26,14,11,8,0,-7,-9,-12,-20,-19,-15,-13,-26,-25,-28,-49,51,29,26,22,18,15,23,16,8,-1,9,-16,-16,-25,-21,-6,-22,-26,-41,-43,73,68,43,29,13,0,9,3,-2,-5,-18,4,-8,-2,-24,-23,-37,-19,-43,-61]},{\"axis\":{\"matches\":true},\"label\":\"GA\",\"values\":[31,38,39,43,42,45,41,43,57,48,50,54,51,44,50,59,59,65,63,70,36,30,45,52,37,38,57,47,53,51,54,47,44,49,57,62,51,64,63,64,34,42,48,38,41,43,49,46,54,62,44,56,49,50,57,47,51,59,65,65,26,30,35,37,40,44,51,56,46,48,52,45,54,57,59,54,57,65,79,77,15,36,26,46,41,44,46,39,41,52,58,46,60,57,43,59,61,62,77,66,22,34,25,31,38,42,42,41,55,52,49,58,55,58,48,55,62,50,58,69,27,24,27,35,54,36,52,47,42,54,41,49,47,44,59,60,59,55,60,59,22,26,31,28,33,51,48,40,53,50,61,65,53,51,59,54,60,66,62,89,24,27,24,37,37,48,34,45,45,50,45,55,53,57,60,54,64,59,57,67,32,28,41,41,45,39,35,49,47,55,48,46,56,67,56,79,66,82,75,66,37,33,33,43,46,44,45,43,59,56,71,57,48,56,59,61,66,58,78,70,29,33,49,41,51,46,40,40,51,52,51,66,46,53,62,53,66,77,78,82,43,34,39,37,46,40,43,57,51,53,58,60,45,60,69,68,54,73,73,60,37,50,27,41,39,51,43,46,52,59,48,54,51,60,61,53,59,62,85,74,32,38,36,37,53,48,33,49,45,51,50,47,51,55,63,53,57,51,53,73,36,36,35,41,35,41,51,50,55,53,55,52,50,48,51,67,62,65,67,76,33,26,39,42,44,29,44,48,67,51,64,63,56,63,70,55,68,80,53,69,27,28,36,38,38,51,39,58,60,47,55,61,68,64,54,58,56,56,68,56,23,22,39,39,51,54,46,46,48,55,59,53,48,70,68,65,60,69,81,76,33,35,36,54,41,47,40,48,39,50,60,56,58,50,54,62,67,65,64,75,32,44,42,36,50,47,45,39,54,48,46,62,52,66,68,46,55,53,76,63,26,26,33,40,48,57,51,59,44,43,62,46,56,54,67,66,79,53,77,84]},{\"axis\":{\"matches\":true},\"label\":\"GF\",\"values\":[79,63,71,64,57,68,46,46,50,40,44,47,39,44,45,45,37,41,36,30,79,67,87,74,53,66,48,46,49,55,46,35,36,38,45,44,29,41,33,30,74,85,63,68,61,52,48,43,47,51,48,45,41,41,58,42,41,42,29,21,73,67,64,55,52,48,51,48,52,43,44,44,47,47,51,55,45,48,40,38,72,87,58,45,52,49,53,47,47,45,42,40,52,47,32,43,36,41,42,45,72,72,57,68,53,51,47,49,52,45,34,48,41,48,43,42,37,28,31,26,83,64,57,63,57,52,47,52,45,52,43,44,38,29,35,38,37,32,34,29,80,65,74,67,55,71,50,48,45,42,66,45,43,34,36,36,38,41,46,20,68,77,68,68,55,54,39,45,42,58,34,38,41,38,40,34,39,40,28,36,103,86,83,67,73,52,61,60,38,41,34,39,48,42,32,37,47,42,34,34,78,69,60,72,55,59,51,49,48,45,56,56,46,52,46,40,46,37,55,43,93,89,74,66,56,65,50,47,48,45,44,52,45,36,42,37,43,46,48,40,86,66,75,72,66,55,71,53,47,45,41,50,34,49,47,45,41,47,43,30,102,101,71,68,61,55,64,54,45,43,33,54,40,41,39,38,43,28,40,32,73,83,71,62,58,52,54,46,48,47,48,44,38,46,40,31,31,33,28,42,68,65,69,71,49,59,65,63,41,59,59,42,40,34,39,45,48,44,39,27,85,86,80,78,77,54,62,41,55,43,47,48,41,50,45,39,40,37,27,29,106,68,74,84,62,74,36,44,56,39,45,45,48,44,34,28,37,28,35,31,95,89,63,67,73,65,47,54,51,52,52,51,42,56,45,45,35,34,34,22,85,102,66,69,67,61,51,56,39,43,51,44,38,31,39,49,41,40,36,26,83,73,68,58,68,62,68,55,62,47,55,46,36,41,47,40,33,27,35,20,99,94,76,69,61,57,60,62,42,38,44,50,48,52,43,43,42,34,34,23]}],\"hovertemplate\":\"%{xaxis.title.text}=%{x}<br>%{yaxis.title.text}=%{y}<br>Team=%{customdata[0]}<br>Season=%{customdata[1]}<br>GA=%{customdata[2]}<br>GF=%{customdata[3]}<br>Pts=%{marker.color}<br>Pos=%{customdata[5]}<extra></extra>\",\"legendgroup\":\"\",\"marker\":{\"color\":[80,70,69,68,66,61,57,54,52,52,51,49,48,42,42,42,42,34,34,26,87,80,77,71,66,64,53,50,50,46,45,45,44,44,43,40,40,36,30,28,83,78,69,67,64,60,59,52,51,50,49,49,48,48,47,45,44,42,26,19,90,79,75,60,56,56,53,53,52,50,48,47,45,45,44,41,39,33,33,33,95,83,77,61,58,58,55,52,52,47,46,45,44,44,42,39,34,33,33,32,91,83,82,67,65,63,58,56,55,51,50,48,47,45,43,42,38,34,30,15,89,83,68,68,60,58,56,55,54,52,50,46,43,42,41,39,38,38,34,28,87,85,83,76,65,60,58,57,55,49,46,43,42,40,39,37,36,36,35,11,90,86,83,72,63,62,53,51,51,50,45,45,41,41,41,36,35,34,32,32,86,85,75,70,67,64,63,61,50,50,47,46,44,39,38,36,35,30,30,19,80,71,71,68,62,58,54,49,48,47,47,46,46,46,43,42,40,39,39,33,89,89,70,69,65,64,56,52,52,47,47,47,45,45,43,38,37,36,31,25,89,78,75,73,72,63,61,49,46,46,44,43,42,41,41,41,39,36,28,25,86,84,82,79,72,69,64,56,50,49,45,42,40,38,38,37,36,33,32,30,87,79,75,70,64,62,60,56,54,48,47,47,44,41,39,38,38,35,33,30,81,71,70,66,66,63,62,60,51,50,47,47,45,43,42,42,39,37,34,17,93,86,78,76,75,69,61,46,46,45,45,44,44,41,41,40,40,34,28,24,100,81,77,75,70,63,54,49,47,44,44,44,42,41,40,37,36,33,33,31,98,97,72,71,70,66,57,54,52,52,50,49,45,45,40,39,36,34,26,16,99,81,66,66,62,59,59,56,54,54,52,49,44,43,41,39,35,34,34,21,86,74,69,67,66,65,62,61,59,59,55,45,45,44,43,41,39,28,26,23,93,92,74,71,69,58,56,52,51,51,49,48,46,45,40,39,38,35,23,22],\"coloraxis\":\"coloraxis\",\"symbol\":\"circle\"},\"name\":\"\",\"showlegend\":false,\"type\":\"splom\"}],                        {\"template\":{\"data\":{\"histogram2dcontour\":[{\"type\":\"histogram2dcontour\",\"colorbar\":{\"outlinewidth\":0,\"ticks\":\"\"},\"colorscale\":[[0.0,\"#0d0887\"],[0.1111111111111111,\"#46039f\"],[0.2222222222222222,\"#7201a8\"],[0.3333333333333333,\"#9c179e\"],[0.4444444444444444,\"#bd3786\"],[0.5555555555555556,\"#d8576b\"],[0.6666666666666666,\"#ed7953\"],[0.7777777777777778,\"#fb9f3a\"],[0.8888888888888888,\"#fdca26\"],[1.0,\"#f0f921\"]]}],\"choropleth\":[{\"type\":\"choropleth\",\"colorbar\":{\"outlinewidth\":0,\"ticks\":\"\"}}],\"histogram2d\":[{\"type\":\"histogram2d\",\"colorbar\":{\"outlinewidth\":0,\"ticks\":\"\"},\"colorscale\":[[0.0,\"#0d0887\"],[0.1111111111111111,\"#46039f\"],[0.2222222222222222,\"#7201a8\"],[0.3333333333333333,\"#9c179e\"],[0.4444444444444444,\"#bd3786\"],[0.5555555555555556,\"#d8576b\"],[0.6666666666666666,\"#ed7953\"],[0.7777777777777778,\"#fb9f3a\"],[0.8888888888888888,\"#fdca26\"],[1.0,\"#f0f921\"]]}],\"heatmap\":[{\"type\":\"heatmap\",\"colorbar\":{\"outlinewidth\":0,\"ticks\":\"\"},\"colorscale\":[[0.0,\"#0d0887\"],[0.1111111111111111,\"#46039f\"],[0.2222222222222222,\"#7201a8\"],[0.3333333333333333,\"#9c179e\"],[0.4444444444444444,\"#bd3786\"],[0.5555555555555556,\"#d8576b\"],[0.6666666666666666,\"#ed7953\"],[0.7777777777777778,\"#fb9f3a\"],[0.8888888888888888,\"#fdca26\"],[1.0,\"#f0f921\"]]}],\"heatmapgl\":[{\"type\":\"heatmapgl\",\"colorbar\":{\"outlinewidth\":0,\"ticks\":\"\"},\"colorscale\":[[0.0,\"#0d0887\"],[0.1111111111111111,\"#46039f\"],[0.2222222222222222,\"#7201a8\"],[0.3333333333333333,\"#9c179e\"],[0.4444444444444444,\"#bd3786\"],[0.5555555555555556,\"#d8576b\"],[0.6666666666666666,\"#ed7953\"],[0.7777777777777778,\"#fb9f3a\"],[0.8888888888888888,\"#fdca26\"],[1.0,\"#f0f921\"]]}],\"contourcarpet\":[{\"type\":\"contourcarpet\",\"colorbar\":{\"outlinewidth\":0,\"ticks\":\"\"}}],\"contour\":[{\"type\":\"contour\",\"colorbar\":{\"outlinewidth\":0,\"ticks\":\"\"},\"colorscale\":[[0.0,\"#0d0887\"],[0.1111111111111111,\"#46039f\"],[0.2222222222222222,\"#7201a8\"],[0.3333333333333333,\"#9c179e\"],[0.4444444444444444,\"#bd3786\"],[0.5555555555555556,\"#d8576b\"],[0.6666666666666666,\"#ed7953\"],[0.7777777777777778,\"#fb9f3a\"],[0.8888888888888888,\"#fdca26\"],[1.0,\"#f0f921\"]]}],\"surface\":[{\"type\":\"surface\",\"colorbar\":{\"outlinewidth\":0,\"ticks\":\"\"},\"colorscale\":[[0.0,\"#0d0887\"],[0.1111111111111111,\"#46039f\"],[0.2222222222222222,\"#7201a8\"],[0.3333333333333333,\"#9c179e\"],[0.4444444444444444,\"#bd3786\"],[0.5555555555555556,\"#d8576b\"],[0.6666666666666666,\"#ed7953\"],[0.7777777777777778,\"#fb9f3a\"],[0.8888888888888888,\"#fdca26\"],[1.0,\"#f0f921\"]]}],\"mesh3d\":[{\"type\":\"mesh3d\",\"colorbar\":{\"outlinewidth\":0,\"ticks\":\"\"}}],\"scatter\":[{\"fillpattern\":{\"fillmode\":\"overlay\",\"size\":10,\"solidity\":0.2},\"type\":\"scatter\"}],\"parcoords\":[{\"type\":\"parcoords\",\"line\":{\"colorbar\":{\"outlinewidth\":0,\"ticks\":\"\"}}}],\"scatterpolargl\":[{\"type\":\"scatterpolargl\",\"marker\":{\"colorbar\":{\"outlinewidth\":0,\"ticks\":\"\"}}}],\"bar\":[{\"error_x\":{\"color\":\"#2a3f5f\"},\"error_y\":{\"color\":\"#2a3f5f\"},\"marker\":{\"line\":{\"color\":\"#E5ECF6\",\"width\":0.5},\"pattern\":{\"fillmode\":\"overlay\",\"size\":10,\"solidity\":0.2}},\"type\":\"bar\"}],\"scattergeo\":[{\"type\":\"scattergeo\",\"marker\":{\"colorbar\":{\"outlinewidth\":0,\"ticks\":\"\"}}}],\"scatterpolar\":[{\"type\":\"scatterpolar\",\"marker\":{\"colorbar\":{\"outlinewidth\":0,\"ticks\":\"\"}}}],\"histogram\":[{\"marker\":{\"pattern\":{\"fillmode\":\"overlay\",\"size\":10,\"solidity\":0.2}},\"type\":\"histogram\"}],\"scattergl\":[{\"type\":\"scattergl\",\"marker\":{\"colorbar\":{\"outlinewidth\":0,\"ticks\":\"\"}}}],\"scatter3d\":[{\"type\":\"scatter3d\",\"line\":{\"colorbar\":{\"outlinewidth\":0,\"ticks\":\"\"}},\"marker\":{\"colorbar\":{\"outlinewidth\":0,\"ticks\":\"\"}}}],\"scattermapbox\":[{\"type\":\"scattermapbox\",\"marker\":{\"colorbar\":{\"outlinewidth\":0,\"ticks\":\"\"}}}],\"scatterternary\":[{\"type\":\"scatterternary\",\"marker\":{\"colorbar\":{\"outlinewidth\":0,\"ticks\":\"\"}}}],\"scattercarpet\":[{\"type\":\"scattercarpet\",\"marker\":{\"colorbar\":{\"outlinewidth\":0,\"ticks\":\"\"}}}],\"carpet\":[{\"aaxis\":{\"endlinecolor\":\"#2a3f5f\",\"gridcolor\":\"white\",\"linecolor\":\"white\",\"minorgridcolor\":\"white\",\"startlinecolor\":\"#2a3f5f\"},\"baxis\":{\"endlinecolor\":\"#2a3f5f\",\"gridcolor\":\"white\",\"linecolor\":\"white\",\"minorgridcolor\":\"white\",\"startlinecolor\":\"#2a3f5f\"},\"type\":\"carpet\"}],\"table\":[{\"cells\":{\"fill\":{\"color\":\"#EBF0F8\"},\"line\":{\"color\":\"white\"}},\"header\":{\"fill\":{\"color\":\"#C8D4E3\"},\"line\":{\"color\":\"white\"}},\"type\":\"table\"}],\"barpolar\":[{\"marker\":{\"line\":{\"color\":\"#E5ECF6\",\"width\":0.5},\"pattern\":{\"fillmode\":\"overlay\",\"size\":10,\"solidity\":0.2}},\"type\":\"barpolar\"}],\"pie\":[{\"automargin\":true,\"type\":\"pie\"}]},\"layout\":{\"autotypenumbers\":\"strict\",\"colorway\":[\"#636efa\",\"#EF553B\",\"#00cc96\",\"#ab63fa\",\"#FFA15A\",\"#19d3f3\",\"#FF6692\",\"#B6E880\",\"#FF97FF\",\"#FECB52\"],\"font\":{\"color\":\"#2a3f5f\"},\"hovermode\":\"closest\",\"hoverlabel\":{\"align\":\"left\"},\"paper_bgcolor\":\"white\",\"plot_bgcolor\":\"#E5ECF6\",\"polar\":{\"bgcolor\":\"#E5ECF6\",\"angularaxis\":{\"gridcolor\":\"white\",\"linecolor\":\"white\",\"ticks\":\"\"},\"radialaxis\":{\"gridcolor\":\"white\",\"linecolor\":\"white\",\"ticks\":\"\"}},\"ternary\":{\"bgcolor\":\"#E5ECF6\",\"aaxis\":{\"gridcolor\":\"white\",\"linecolor\":\"white\",\"ticks\":\"\"},\"baxis\":{\"gridcolor\":\"white\",\"linecolor\":\"white\",\"ticks\":\"\"},\"caxis\":{\"gridcolor\":\"white\",\"linecolor\":\"white\",\"ticks\":\"\"}},\"coloraxis\":{\"colorbar\":{\"outlinewidth\":0,\"ticks\":\"\"}},\"colorscale\":{\"sequential\":[[0.0,\"#0d0887\"],[0.1111111111111111,\"#46039f\"],[0.2222222222222222,\"#7201a8\"],[0.3333333333333333,\"#9c179e\"],[0.4444444444444444,\"#bd3786\"],[0.5555555555555556,\"#d8576b\"],[0.6666666666666666,\"#ed7953\"],[0.7777777777777778,\"#fb9f3a\"],[0.8888888888888888,\"#fdca26\"],[1.0,\"#f0f921\"]],\"sequentialminus\":[[0.0,\"#0d0887\"],[0.1111111111111111,\"#46039f\"],[0.2222222222222222,\"#7201a8\"],[0.3333333333333333,\"#9c179e\"],[0.4444444444444444,\"#bd3786\"],[0.5555555555555556,\"#d8576b\"],[0.6666666666666666,\"#ed7953\"],[0.7777777777777778,\"#fb9f3a\"],[0.8888888888888888,\"#fdca26\"],[1.0,\"#f0f921\"]],\"diverging\":[[0,\"#8e0152\"],[0.1,\"#c51b7d\"],[0.2,\"#de77ae\"],[0.3,\"#f1b6da\"],[0.4,\"#fde0ef\"],[0.5,\"#f7f7f7\"],[0.6,\"#e6f5d0\"],[0.7,\"#b8e186\"],[0.8,\"#7fbc41\"],[0.9,\"#4d9221\"],[1,\"#276419\"]]},\"xaxis\":{\"gridcolor\":\"white\",\"linecolor\":\"white\",\"ticks\":\"\",\"title\":{\"standoff\":15},\"zerolinecolor\":\"white\",\"automargin\":true,\"zerolinewidth\":2},\"yaxis\":{\"gridcolor\":\"white\",\"linecolor\":\"white\",\"ticks\":\"\",\"title\":{\"standoff\":15},\"zerolinecolor\":\"white\",\"automargin\":true,\"zerolinewidth\":2},\"scene\":{\"xaxis\":{\"backgroundcolor\":\"#E5ECF6\",\"gridcolor\":\"white\",\"linecolor\":\"white\",\"showbackground\":true,\"ticks\":\"\",\"zerolinecolor\":\"white\",\"gridwidth\":2},\"yaxis\":{\"backgroundcolor\":\"#E5ECF6\",\"gridcolor\":\"white\",\"linecolor\":\"white\",\"showbackground\":true,\"ticks\":\"\",\"zerolinecolor\":\"white\",\"gridwidth\":2},\"zaxis\":{\"backgroundcolor\":\"#E5ECF6\",\"gridcolor\":\"white\",\"linecolor\":\"white\",\"showbackground\":true,\"ticks\":\"\",\"zerolinecolor\":\"white\",\"gridwidth\":2}},\"shapedefaults\":{\"line\":{\"color\":\"#2a3f5f\"}},\"annotationdefaults\":{\"arrowcolor\":\"#2a3f5f\",\"arrowhead\":0,\"arrowwidth\":1},\"geo\":{\"bgcolor\":\"white\",\"landcolor\":\"#E5ECF6\",\"subunitcolor\":\"white\",\"showland\":true,\"showlakes\":true,\"lakecolor\":\"white\"},\"title\":{\"x\":0.05},\"mapbox\":{\"style\":\"light\"}}},\"coloraxis\":{\"colorbar\":{\"title\":{\"text\":\"Pts\"}},\"colorscale\":[[0.0,\"#0d0887\"],[0.1111111111111111,\"#46039f\"],[0.2222222222222222,\"#7201a8\"],[0.3333333333333333,\"#9c179e\"],[0.4444444444444444,\"#bd3786\"],[0.5555555555555556,\"#d8576b\"],[0.6666666666666666,\"#ed7953\"],[0.7777777777777778,\"#fb9f3a\"],[0.8888888888888888,\"#fdca26\"],[1.0,\"#f0f921\"]]},\"legend\":{\"tracegroupgap\":0},\"margin\":{\"t\":60},\"dragmode\":\"select\"},                        {\"responsive\": true}                    ).then(function(){\n",
       "                            \n",
       "var gd = document.getElementById('f1e9946d-8bbc-49b7-a882-2be602976ea0');\n",
       "var x = new MutationObserver(function (mutations, observer) {{\n",
       "        var display = window.getComputedStyle(gd).display;\n",
       "        if (!display || display === 'none') {{\n",
       "            console.log([gd, 'removed!']);\n",
       "            Plotly.purge(gd);\n",
       "            observer.disconnect();\n",
       "        }}\n",
       "}});\n",
       "\n",
       "// Listen for the removal of the full notebook cells\n",
       "var notebookContainer = gd.closest('#notebook-container');\n",
       "if (notebookContainer) {{\n",
       "    x.observe(notebookContainer, {childList: true});\n",
       "}}\n",
       "\n",
       "// Listen for the clearing of the current output cell\n",
       "var outputEl = gd.closest('.output');\n",
       "if (outputEl) {{\n",
       "    x.observe(outputEl, {childList: true});\n",
       "}}\n",
       "\n",
       "                        })                };                });            </script>        </div>"
      ]
     },
     "metadata": {},
     "output_type": "display_data"
    }
   ],
   "source": [
    "#Here we see the visualisation of scatter graphs being used with Goal Difference, Goals Against and Goals For.\n",
    "#The colors correspond with the points gained with the more points resulting in brighter datapoints\n",
    "\n",
    "fig = px.scatter_matrix(PL_Seasons,dimensions=[\"Pos\", \"GD\", \"GA\", \"GF\"],\n",
    "    hover_data=['Team','Season', 'GA', 'GF', 'Pts','Pos'],color=\"Pts\")\n",
    "fig.show()"
   ]
  },
  {
   "cell_type": "code",
   "execution_count": null,
   "id": "782dbb0e",
   "metadata": {},
   "outputs": [],
   "source": []
  }
 ],
 "metadata": {
  "kernelspec": {
   "display_name": "Python 3 (ipykernel)",
   "language": "python",
   "name": "python3"
  },
  "language_info": {
   "codemirror_mode": {
    "name": "ipython",
    "version": 3
   },
   "file_extension": ".py",
   "mimetype": "text/x-python",
   "name": "python",
   "nbconvert_exporter": "python",
   "pygments_lexer": "ipython3",
   "version": "3.9.7"
  }
 },
 "nbformat": 4,
 "nbformat_minor": 5
}
